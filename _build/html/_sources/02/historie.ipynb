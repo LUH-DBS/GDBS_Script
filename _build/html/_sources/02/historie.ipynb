{
 "cells": [
  {
   "cell_type": "markdown",
   "metadata": {},
   "source": [
    "# Historie"
   ]
  },
  {
   "cell_type": "markdown",
   "metadata": {},
   "source": [
    "## Frühe automatisierte Speichertechnologie"
   ]
  },
  {
   "cell_type": "markdown",
   "metadata": {},
   "source": [
    "![](herman_hollerith.jpg)"
   ]
  },
  {
   "cell_type": "markdown",
   "metadata": {},
   "source": [
    "■ Herman Hollerith (1860 – 1929)\n",
    "<br>\n",
    "□ Gründete 1896 die Tabulating Machine Company\n",
    "<br>\n",
    "□ Fusion zur Computing Tabulating Recording Corporation (CTR)\n",
    "<br>\n",
    "□ 1924 umbenannt: International Business Machines Corporation (IBM)\n",
    "<br>\n",
    "<br>\n",
    "Notiz: Wer war Herman Hollerith und was hat er gemacht"
   ]
  },
  {
   "cell_type": "markdown",
   "metadata": {},
   "source": [
    "![title](lochkarte.jpg)"
   ]
  },
  {
   "cell_type": "markdown",
   "metadata": {},
   "source": [
    "□ Hollerith-Lochkartenverfahrens zur Datenverarbeitung\n",
    "<br>\n",
    "□ Z.B. Volkszählung USA 1890 (2 Jahre, 43 Maschinen, 500 Personen)\n",
    "<br>\n",
    "<br>\n",
    "Notiz: Funktionsweise des Verfahrens, bis wann benutzt"
   ]
  },
  {
   "cell_type": "markdown",
   "metadata": {},
   "source": [
    "![title](lochkartenleser.jpg)"
   ]
  },
  {
   "cell_type": "markdown",
   "metadata": {},
   "source": [
    "## 1960er Jahre"
   ]
  },
  {
   "cell_type": "markdown",
   "metadata": {},
   "source": [
    "DBS basierend auf hierarchischem Modell, Netzwerkmodell\n",
    "<br>\n",
    "□ Zeigerstrukturen zwischen Daten\n",
    "<br>\n",
    "□ Schwache Trennung interne / konzeptuelle Ebene\n",
    "<br>\n",
    "□ Navigierende Data Manipulation Language (DML)\n",
    "<br>\n",
    "elementare Dateien\n",
    "<br>\n",
    "□ anwendungsspezifische Datenorganisation (geräteabhängig, redundant, inkonsistent)\n",
    "<br>\n",
    "□ Integrated Data Store (IDS) von General Electric"
   ]
  },
  {
   "cell_type": "markdown",
   "metadata": {},
   "source": [
    "## 1970er bis 1980er Jahre"
   ]
  },
  {
   "cell_type": "markdown",
   "metadata": {},
   "source": [
    "Relationale Datenbanksysteme\n",
    "<br>\n",
    "□ Daten in Tabellenstrukturen\n",
    "<br>\n",
    "□ 3-Ebenen-Konzept\n",
    "<br>\n",
    "□ Deklarative DML\n",
    "<br>\n",
    "<br>\n",
    "70er: Datenbanksysteme (Geräte- und Datenunabhängigkeit, redundanzfrei, konsistent)\n",
    "<br>\n",
    "■ 1970: Ted Codd (IBM)\n",
    "<br>\n",
    "□ Relationenmodell als konzeptionelle Grundlage relationaler DBS\n",
    "<br>\n",
    "■ 1974: System R (IBM)\n",
    "<br>\n",
    "□ erster Prototyp eines RDBMS\n",
    "<br>\n",
    "□ ca. 80.000 LOC (PL/1, PL/S, Assembler), ca. 1,2 MB Codegröße\n",
    "<br>\n",
    "□ Anfragesprache SEQUEL (≠ SQL)\n",
    "<br>\n",
    "□ erste Installation 1977\n",
    "<br>\n",
    "■ 1975: University of California at Berkeley (UCB)\n",
    "<br>\n",
    "□ Ingres\n",
    "<br>\n",
    "□ Anfragesprache QUEL\n",
    "<br>\n",
    "□ Vorgänger von Postgres, Sybase, . . .\n",
    "<br>\n",
    "■ 1979: Oracle Version 2"
   ]
  },
  {
   "cell_type": "markdown",
   "metadata": {},
   "source": [
    "## 1980er bis 1990er Jahre"
   ]
  },
  {
   "cell_type": "markdown",
   "metadata": {},
   "source": [
    "immer größer :\n",
    "<br>\n",
    "□ Gigabyte, Terabyte\n",
    "<br>\n",
    "□ Große, komplexe (Multimedia-) Objekte\n",
    "<br>\n",
    "□ Tertiäre Speicher (Magnetbänder, DVDs)\n",
    "<br>\n",
    "□ Verteilung und Parallelität \n",
    "<br>\n",
    "Immer kleiner : \n",
    "<br>\n",
    "□ DBMS auch auf kleinen Rechnern\n",
    "<br>\n",
    "□ Oft schon teil der Standardinstallation\n",
    "<br>\n",
    "Objektorientierte Datenbanksysteme\n",
    "<br>\n",
    "□ Daten in komplexeren Objektstrukturen (Trennung Objekt und seine Daten)\n",
    "<br>\n",
    "□ Deklarative oder navigierende DML\n",
    "<br>\n",
    "□ Oft integrierte Datenbankprogrammiersprache\n",
    "<br>\n",
    "□ Oft keine vollständige Ebenentrennung"
   ]
  },
  {
   "cell_type": "markdown",
   "metadata": {},
   "source": [
    "## 2000er Jahre"
   ]
  },
  {
   "cell_type": "markdown",
   "metadata": {},
   "source": [
    "□ Spezialisierung auf neue Daten-Arten\n",
    "<br>\n",
    "■ Unterstützung für spezielle Anwendungen\n",
    "<br>\n",
    "□ Multimediadatenbanken\n",
    "<br>\n",
    "– Multimediale Objekte (Bilder, Audio, Video)\n",
    "<br>\n",
    "□ XML-Datenbanken\n",
    "<br>\n",
    "– Semistrukturierte Daten (XML-Dokumente)\n",
    "<br>\n",
    "□ Verteilte Datenbanken\n",
    "<br>\n",
    "– Daten auf verschiedene Rechnerknoten\n",
    "<br>\n",
    "□ Föderierte Datenbanken, Multidatenbanken, Mediatoren\n",
    "<br>\n",
    "– Integration von Daten aus heterogenen Quellen (Datenbanken, Dateien, Web-Quellen)\n",
    "<br>\n",
    "– Informationsintegration\n",
    "<br>\n",
    "□ Mobile Datenbanken\n",
    "<br>\n",
    "– Datenverwaltung auf Kleinstgeräten (PDA, Handy, . . . )\n",
    "<br>\n",
    "□ Search!"
   ]
  },
  {
   "cell_type": "markdown",
   "metadata": {},
   "source": [
    "## 2010er Jahre"
   ]
  },
  {
   "cell_type": "markdown",
   "metadata": {},
   "source": [
    "Systems for ML\n",
    "<br>\n",
    "□ Data lake management\n",
    "<br>\n",
    "■ Web-scale data\n",
    "<br>\n",
    "□ The Web □ Facebook, Google, Twitter & co.\n",
    "<br>\n",
    "■ NoSQL (Not only SQL) \n",
    "<br>\n",
    "□ New, simple DBMS \n",
    "<br>\n",
    "□ Highly distributed \n",
    "<br>\n",
    "■ Specialized DBMS \n",
    "<br>\n",
    "□ One size does not fit all \n",
    "<br>\n",
    "□ Map Reduce for Analytics \n",
    "<br>\n",
    "□ Key-value-stores for transactions \n",
    "<br>\n",
    "■ New Hardware \n",
    "<br>\n",
    "□ FPGA, GPGPU, SSD, Main-Memory"
   ]
  },
  {
   "cell_type": "markdown",
   "metadata": {},
   "source": [
    "## 2020er Jahre"
   ]
  },
  {
   "cell_type": "markdown",
   "metadata": {},
   "source": [
    "Systems for ML\n",
    "<br>\n",
    "■ Data lake management\n",
    "<br>\n",
    "■ Geo-distribution"
   ]
  },
  {
   "cell_type": "markdown",
   "metadata": {},
   "source": [
    "![title](festplatte_1.jpg)"
   ]
  },
  {
   "cell_type": "markdown",
   "metadata": {},
   "source": [
    "![title](lueftung.jpg)"
   ]
  },
  {
   "cell_type": "markdown",
   "metadata": {},
   "source": [
    "![title](festplatte_2.jpg)"
   ]
  }
 ],
 "metadata": {
  "kernelspec": {
   "display_name": "Python 3",
   "language": "python",
   "name": "python3"
  },
  "language_info": {
   "codemirror_mode": {
    "name": "ipython",
    "version": 3
   },
   "file_extension": ".py",
   "mimetype": "text/x-python",
   "name": "python",
   "nbconvert_exporter": "python",
   "pygments_lexer": "ipython3",
   "version": "3.7.3"
  }
 },
 "nbformat": 4,
 "nbformat_minor": 2
}
