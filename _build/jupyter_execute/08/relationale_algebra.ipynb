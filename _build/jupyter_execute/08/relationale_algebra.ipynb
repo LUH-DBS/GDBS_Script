{
 "cells": [
  {
   "cell_type": "markdown",
   "metadata": {},
   "source": [
    "# Relationale Algebra"
   ]
  },
  {
   "cell_type": "markdown",
   "metadata": {},
   "source": [
    "Die Relationale Algebra ist der wohl formalste Teil dieser  Vorlesung. <br>\n",
    "Zuvor wurde über die Modellierung von Daten gesprochen und wie man relationale Datenbanken entwirft. <br>\n",
    "Jetzt geht es darum, die zuvor modellierte relationale Datenbank  mit einer Sprache zu manipulieren bzw. neue Sichten darauf zu erstellen und an diese Anfragen zu stellen. "
   ]
  },
  {
   "cell_type": "markdown",
   "metadata": {},
   "source": [
    "## Einführung"
   ]
  },
  {
   "cell_type": "markdown",
   "metadata": {},
   "source": [
    "In den letzten Kapiteln wurde das Relationsschema mit Basisrelationen, die in der Datenbank gespeichert sind, behandelt. \n",
    "<br>\n",
    "Jetzt geht es um „abgeleitete“ Relationenschemata mit virtuellen Relationen, die aus den Basisrelationen berechnet werden. \n",
    "<br>\n",
    "Die „abgeleiteten“ Relationsschemata werden durch Anfragen definiert. \n",
    "Daher benötigt man eine Anfragesprache. Eine Eigenschaft von ihr ist es, die Basis-Relationen nicht zu verändern, sondern neue Relationen für den Nutzer oder für die Applikation zu generieren.\n",
    "<br>\n",
    "~~~~\n",
    "Eine Anfrage an eine Relation und deren Ergebnisse stellen wieder neue Relationen dar. \n",
    "~~~~\n"
   ]
  },
  {
   "cell_type": "markdown",
   "metadata": {},
   "source": [
    "### Kriterien für Anfragesprachen"
   ]
  },
  {
   "cell_type": "markdown",
   "metadata": {},
   "source": [
    "Für Anfragesprachen gibt es verschiedene Kritieren. Unter Anderem soll eine Ad-Hoc-Formulierung möglich sein. Der Benutzer soll eine Anfrage formulieren können, ohne ein vollständiges Programm schreiben zu müssen. Wenn man ein neues Programm in einer Sprache wie Python schreibt, muss man sich darum kümmern Bibliotheken zu importieren, usw. Dies ist bei einer Anfragensprache eben nicht der Fall. \n",
    "<br>\n",
    "Zudem soll eine Anfragesprache eingeschränkt und keine komplette Programmiersprache sein. Sie soll aus einem Standard und nicht aus zu vielen verschiedenen Vokabularien bestehen. Dennoch besteht der SQL-Standard aus mehr als 1300 Seiten!\n",
    "<br>\n",
    "Eine weiteres Kriterium einer Anfragesprache ist die Deskriptivität bzw. die Deklarativität. \n",
    "Der Benutzer soll formulieren was er haben möchte („Was will ich haben?“) und nicht wie er an das kommt, was er haben möchte („Wie komme ich an das, was ich haben will?“). Das System erstellt die darunterliegenden Programme automatisch zu der gegebenen Anfrage, ohne dass man schreiben muss, wie die Programme genau funktionieren. \n",
    "<br><br>\n",
    "Zusätzlich muss eine Sprache optimierbar sein. Eine Sprache besteht aus wenigen Operationen.\n",
    "Für die Operatormenge gibt es Optimierungsregeln. Die Optimierung ist abhängig von der Nutzung bzw. von den Daten. Bestimmte Operatoren in bestimmten Situationen kosten unterschiedlich viel. \n",
    "<br><br>\n",
    "Eine Anfragesprache muss effizient sein, insbesondere die einzelnen Operationen.\n",
    "Im relationalen Modell hat jede Operation eine Komplexität ≤ O(n²)\n",
    "Wobei n die Anzahl der Tupel einer Relation darstellt. \n",
    "<br><br>\n",
    "Die Abgeschlossenheit ist eine weitere Eigenschaft einer Anfragesprache. Das Ergebnis von Anfragen auf Relationen ist wiederum eine Relation und kann als Eingabe für die nächste Anfrage verwendet werden.\n",
    "<br><br>\n",
    "Eine weitere, aber nicht sehr strenge, Eigenschaft ist die Mengenorientiertheit.\n",
    "Die Operationen sollen auf Mengen von Daten gelten. Dies gilt aber nicht in jedem Fall. \n",
    "Letztendlich möchte man auf Elemente einer Tabelle zugreifen und nicht nur auf einzelne Elemente  („tuple-at-a-time“), die irgendwo herumliegen. \n",
    "<br><br>\n",
    "Adäquatheit ist eine weitere Eigenschaft einer Anfragensprache. \n",
    "Alle Konstrukte des zugrundeliegenden Datenmodells sollen unterstützt werden. \n",
    "Dazu zählen Relationen, Attribute, Schlüssel, usw. \n",
    "<br><br>\n",
    "Die Vollständigkeit einer Anfragesprache bedeutet, dass eine Sprache mindestens die Anfragen einer Standardsprache (z.B. relationale Algebra) ausdrücken kann. Die Relationale Algebra dient hierbei als Vorgabe. \n",
    "<br><br>\n",
    "Zuletzt soll eine Anfragesprache sicher sein. Keine Anfrage, die syntaktisch korrekt ist, darf in eine Endlosschleife geraten oder ein unendliches Ergebnis liefern."
   ]
  },
  {
   "cell_type": "markdown",
   "metadata": {},
   "source": [
    "### Anfragealgebra"
   ]
  },
  {
   "cell_type": "markdown",
   "metadata": {},
   "source": [
    "In der Mathematik ist die Algebra definiert durch einen Wertebereich und auf diesem definierte Operatoren. <br>\n",
    "Ein Operand besteht aus Variablen oder aus Werten, aus denen neue Werte konstruiert werden können (x, 2, 3, ...).<br>\n",
    "Ein Operator besteht aus Symbolen, die Prozeduren repräsentieren, die aus gegebenen Werten neue Werte produzieren (+, -, * , /, ...).\n",
    "<br><br>\n",
    "Für Datenbankanfragen gibt es ebenfalls eine Algebra, die relationale Algebra (RA). Sie ist eine Anfragesprache für das relationale Modell. \n",
    "Die Inhalte der Datenbank (Relationen) sind die Operanden.\n",
    "Die Operatoren definieren gewisse Funktionen zum Berechnen von Anfrageergebnissen.\n",
    "Es sind sehr grundlegenden Dinge, die wir mit Relationen tun wollen.\n"
   ]
  },
  {
   "cell_type": "markdown",
   "metadata": {},
   "source": [
    "### Mengen vs. Multimengen"
   ]
  },
  {
   "cell_type": "markdown",
   "metadata": {},
   "source": [
    "Bei der relationalen Algebra geht es hauptsächlich um Mengen. Bei normalen Mengen darf kein Tupel doppelt auftauchen. Bei Multimengen können identische Tupel mehrmals vorkommen. Es kann nämlich in einer Datenbanktabelle passieren, dass die Schlüssel nicht ordentlich definiert sind. Dann hat man sozusagen ein „Sack voll mit Tupeln“ (engl. „bag“).   \n",
    "<br>\n",
    "Die Operatoren der relationalen Algebra sind auf Mengen definiert, wohingegen die Operatoren auf einem DBMS (SQL-Anfragen) auf Multimengen definiert sind. Dies hat verschiedene Gründe. Zum Einem kann man hiermit die Effizienz beeinflussen bzw. steigern. Dazu kann man sich überlegen wie man eine Vereinigung als Multimenge und eine Vereinigung als Menge implementiert. "
   ]
  },
  {
   "cell_type": "markdown",
   "metadata": {},
   "source": [
    "## Basisoperatoren"
   ]
  },
  {
   "cell_type": "markdown",
   "metadata": {},
   "source": [
    "## Klassifikation der Operatoren"
   ]
  },
  {
   "cell_type": "markdown",
   "metadata": {},
   "source": [
    "Die bereits bekannten Mengenoperatoren \n",
    "<br>\n",
    "□ Vereinigung, Schnittmenge, Differenz \n",
    "<br><br>\n",
    "Entfernende Operatoren werden auf einzelnen Elemente angewandt. \n",
    "<br>\n",
    "□ Selektion, Projektion\n",
    "<br><br>\n",
    "Mit kombinierenden Operatoren kann man mehrere Relationen miteinander verbinden und neue Kombinationen von Tupeln bilden. Im Gegensatz zu den Mengenoperationen bei denen die Ergebnistupel immer gleich aussehen, kann es bei den kombinierenden Operatoren dazu kommen, dass die Ergebnistupel in ihren Attributen unterschiedlich aussehen. \n",
    "<br>\n",
    "□ Kartesisches Produkt, Join, Joinvarianten \n",
    "<br><br>\n",
    "Die Umbenennung ist die einzige Ooeration, die nicht die Tupel verändert, sondern das Schema. \n",
    "<br><br>\n",
    "Ein Ausdruck in der Relationlen Algebra besteht aus einer Kombination von Operatoren und Operanden, auch Anfragen (queries) genannt. "
   ]
  },
  {
   "cell_type": "markdown",
   "metadata": {},
   "source": [
    "## Vereinigung (union, $\\cup$)"
   ]
  },
  {
   "cell_type": "markdown",
   "metadata": {},
   "source": [
    "Die Vereinigung sammelt Elemente (Tupel) zweier Relationen unter einem gemeinsamen Schema auf.\n",
    "- R ∪ S := {t | t $\\in$ R $\\vee$ t $\\in$ S}\n",
    "\n",
    "Um eine Vereinigung anwenden zu können, müssen die Attributmengen beider Relationen identisch sein. Dazu gehören die Namen, Typen und die Reihenfolge. Wenn man beispielsweise die Attribute  in einer Tabelle in einem anderen Format hat als in der Anderen und die Werte vom gleichen Typ sind, kann mam diese Umbenennen und dennoch eine Vereinigung bilden. \n",
    "<br>\n",
    "Ein Element ist nur einmal in der Vereinigung von R und S (R ∪ S) vertreten, auch wenn es jeweils einmal in R und S auftaucht. Es kommt zu einer Duplikatentfernung."
   ]
  },
  {
   "cell_type": "markdown",
   "metadata": {},
   "source": [
    "## Beispiel für Mengenoperatoren"
   ]
  },
  {
   "cell_type": "markdown",
   "metadata": {},
   "source": [
    "Das Beispiel zeigt zwei Tabellen R und S mit jeweils Name, Adresse, Geschlecht und Geburt. \n",
    "Wenn man diese Relationen miteinander vereinigt, erhält man eine neue Relation, in der das Tupel mit \"Carrie Fisher\" nur ein Mal vorkommt. "
   ]
  },
  {
   "cell_type": "markdown",
   "metadata": {},
   "source": [
    "$R$\n",
    "\n",
    "|Name|Adresse|Geschlecht|Geburt|\n",
    "|----|-------|----------|------|\n",
    "|Carrie Fisher|123 Maple St., Hollywood|F|9/9/99|\n",
    "|Mark Hamill|456 Oak. Rd., Brentwood|M|8/8/88|"
   ]
  },
  {
   "cell_type": "markdown",
   "metadata": {},
   "source": [
    "$S$\n",
    "\n",
    "|Name|Adresse|Geschlecht|Geburt|\n",
    "|----|-------|----------|------|\n",
    "|Carrie Fisher|123 Maple St., Hollywood|F|9/9/99|\n",
    "|Harrison Ford|789 Palm Dr., Beverly Hills|M|7/7/77|"
   ]
  },
  {
   "cell_type": "markdown",
   "metadata": {},
   "source": [
    "$R \\cup S$\n",
    "\n",
    "|Name|Adresse|Geschlecht|Geburt|\n",
    "|----|-------|----------|------|\n",
    "|Carrie Fisher|123 Maple St., Hollywood|F|9/9/99|\n",
    "|Mark Hamill|456 Oak. Rd., Brentwood|M|8/8/88|\n",
    "|Harrison Ford|789 Palm Dr., Beverly Hills|M|7/7/77|"
   ]
  },
  {
   "cell_type": "markdown",
   "metadata": {},
   "source": [
    "## Differenz (difference, ―, \\\\)"
   ]
  },
  {
   "cell_type": "markdown",
   "metadata": {},
   "source": [
    "Die Differenz in der Relationalen Algebra ist sehr ähnlich zu der aus der Mathematik. <br> \n",
    "Die Differenz von R und S (R − S) eliminiert die Tupel aus der ersten Relation, die auch in der zweiten Relation vorkommen. Die Schemata beider Relationen müssen für eine Differenz gleich sein. \n",
    "<br>\n",
    "- R − S := {t | t $\\in$ R $\\wedge$ t $\\notin$ S}\n",
    "\n",
    "Die Kommutativität gilt bei der Differenz nicht:\n",
    "- R − S ≠ S − R"
   ]
  },
  {
   "cell_type": "markdown",
   "metadata": {},
   "source": [
    "## Beispiel für Mengenoperatoren"
   ]
  },
  {
   "cell_type": "markdown",
   "metadata": {},
   "source": [
    "Sowohl in der Relation R, als auch in der Relation S, gibt es das gleiche Tupel mit \"Carrie Fisher\". Bei der Differenz (R-S) wird das in beiden vorkommende Tupel eliminiert. "
   ]
  },
  {
   "cell_type": "markdown",
   "metadata": {},
   "source": [
    "$R$\n",
    "\n",
    "|Name|Adresse|Geschlecht|Geburt|\n",
    "|----|-------|----------|------|\n",
    "|Carrie Fisher|123 Maple St., Hollywood|F|9/9/99|\n",
    "|Mark Hamill|456 Oak. Rd., Brentwood|M|8/8/88|"
   ]
  },
  {
   "cell_type": "markdown",
   "metadata": {},
   "source": [
    "$S$\n",
    "\n",
    "|Name|Adresse|Geschlecht|Geburt|\n",
    "|----|-------|----------|------|\n",
    "|Carrie Fisher|123 Maple St., Hollywood|F|9/9/99|\n",
    "|Harrison Ford|789 Palm Dr., Beverly Hills|M|7/7/77|"
   ]
  },
  {
   "cell_type": "markdown",
   "metadata": {},
   "source": [
    "$R-S$\n",
    "\n",
    "|Name|Adresse|Geschlecht|Geburt|\n",
    "|----|-------|----------|------|\n",
    "|Mark Hamill|456 Oak. Rd., Brentwood|M|8/8/88|"
   ]
  },
  {
   "cell_type": "markdown",
   "metadata": {},
   "source": [
    "## Schnittmenge (intersection, $\\cap$)"
   ]
  },
  {
   "cell_type": "markdown",
   "metadata": {},
   "source": [
    "Die Schnittmenge R $\\cap$ S ergibt die Tupel, die in beiden Relationen gemeinsam vorkommen.<br>\n",
    "- R $\\cap$ S := {t | t $\\in$ R $\\wedge$ t $\\in$ S}\n",
    "\n",
    "Die Schnittmenge als Operator kann durch Verinigungen und Differenzen dargestellt werden, daher ist sie prinzipiell „überflüssig“. \n",
    "- R $\\cap$ S = R − (R − S) = S − (S − R)"
   ]
  },
  {
   "cell_type": "markdown",
   "metadata": {},
   "source": [
    "![title](schnittmenge.jpg)"
   ]
  },
  {
   "cell_type": "markdown",
   "metadata": {},
   "source": [
    "## Beispiel für Mengenoperatoren"
   ]
  },
  {
   "cell_type": "markdown",
   "metadata": {},
   "source": [
    "In Relation R sowie in Relation S gibt es ein identisches \"Carrie Fisher\" Tupel. Bildet man die Schnittmenge der beiden Relationen ($R\\cap S$), sind in der Ergebnisrelation alle Tupel, die sowohl in R, als auch in S vorkommen. In diesem Fall wäre es nur das Tupel mit \"Carrie Fisher\". "
   ]
  },
  {
   "cell_type": "markdown",
   "metadata": {},
   "source": [
    "$R$\n",
    "\n",
    "|Name|Adresse|Geschlecht|Geburt|\n",
    "|----|-------|----------|------|\n",
    "|Carrie Fisher|123 Maple St., Hollywood|F|9/9/99|\n",
    "|Mark Hamill|456 Oak. Rd., Brentwood|M|8/8/88|"
   ]
  },
  {
   "cell_type": "markdown",
   "metadata": {},
   "source": [
    "$S$\n",
    "\n",
    "|Name|Adresse|Geschlecht|Geburt|\n",
    "|----|-------|----------|------|\n",
    "|Carrie Fisher|123 Maple St., Hollywood|F|9/9/99|\n",
    "|Harrison Ford|789 Palm Dr., Beverly Hills|M|7/7/77|"
   ]
  },
  {
   "cell_type": "markdown",
   "metadata": {},
   "source": [
    "$R\\cap S$\n",
    "\n",
    "|Name|Adresse|Geschlecht|Geburt|\n",
    "|----|-------|----------|------|\n",
    "|Carrie Fisher|123 Maple St., Hollywood|F|9/9/99|"
   ]
  },
  {
   "cell_type": "markdown",
   "metadata": {},
   "source": [
    "## Projektion (projection, $\\pi$)"
   ]
  },
  {
   "cell_type": "markdown",
   "metadata": {},
   "source": [
    "Die Projektion ist ein unärer Operator. Sie erzeugt eine neue Relation mit einer Teilmenge der ursprünglichen Attribute.<br>\n",
    "Angenommen man projiziert auf eine Relation R mit den Attributen A1 bis Ak: $\\pi_{A1,A2,…,Ak}$(R). Als Ergbnis erhält man eine neue Relation mit einer Teilmenge der ursprünglichen Attribute von R. Die Reihenfolge der Attribute entspricht üblicherweise der aufgelisteten Reihenfolge.<br><br>\n",
    "Durch das Weglassen von Attributen, kann es dazu kommen, dass die übrig gebliebenen Attribute  Duplikate enthalten. Diese werden implizit entfernt. <br>\n",
    "Ein Beispiel hierzu: Man bildet eine Projektion mit den Attributen A und B auf R. Das Ergebnis sind zwei identische Tupel. Das Duplikat wird eliminiert. "
   ]
  },
  {
   "cell_type": "markdown",
   "metadata": {},
   "source": [
    "Relation R\n",
    "\n",
    "|A|B|C|\n",
    "|-|-|-|\n",
    "|1|1|2|\n",
    "|1|1|3|"
   ]
  },
  {
   "cell_type": "markdown",
   "metadata": {},
   "source": [
    "$\\pi_{A,B}$(R)\n",
    "\n",
    "|A|B|\n",
    "|-|-|\n",
    "|1|1|"
   ]
  },
  {
   "cell_type": "markdown",
   "metadata": {},
   "source": [
    "## Projektion – Beispiel"
   ]
  },
  {
   "cell_type": "markdown",
   "metadata": {},
   "source": [
    "Hier sind zwei weitere Beispiele zu Projektionen anhand einer Film-Tabelle dargestellt. <br>\n",
    "Im ersten Beispiel werden bei der Projektion nur die Spalten Titel, Jahr und Länge behalten. Die anderen Spalten werden weggeschnitten. <br>\n",
    "In zweitem Beispiel kommt 'True' doppelt vor und daher werden dessen Duplikate entfernt. "
   ]
  },
  {
   "cell_type": "markdown",
   "metadata": {},
   "source": [
    "Film\n",
    "\n",
    "|Titel|Jahr|Länge|inFarbe|Studio|ProduzentID|\n",
    "|-----|----|-----|-------|------|---------|\n",
    "|Total Recall|1990|113|True|Fox|12345|\n",
    "|Basic Instinct|1992|127|True|Disney|67890|\n",
    "|Dead Man|1995|121|False|Paramount|99999|"
   ]
  },
  {
   "cell_type": "markdown",
   "metadata": {},
   "source": [
    "$\\pi_{Titel,Jahr,Länge}$(Film)\n",
    "\n",
    "|Titel|Jahr|Länge|\n",
    "|-----|----|-----|\n",
    "|Total Recall|1990|113|\n",
    "|Basic Instinct|1992|127|\n",
    "|Dead Man|1995|121|False|"
   ]
  },
  {
   "cell_type": "markdown",
   "metadata": {},
   "source": [
    "$\\pi_{inFarbe}$(Film)\n",
    "\n",
    "|inFarbe|\n",
    "|-------|\n",
    "|True|\n",
    "|False|"
   ]
  },
  {
   "cell_type": "markdown",
   "metadata": {},
   "source": [
    "## Erweiterte Projektion"
   ]
  },
  {
   "cell_type": "markdown",
   "metadata": {},
   "source": [
    "Die Relationale Algebra erlaubt es den Projektionsoperator mehr Fähigkeiten zu geben. Bei der einfachen Projektion zuvor ($\\pi_{L}$(R)) war das L dabei 'nur' eine Attributliste. Die erweiterte Projektion kann neben der Attributliste auch andere Ausdrücke an der Stelle des L's stehen haben. <br>\n",
    "Ein anderer Ausdruck wäre A→B, wobei A ein Attribut in R und B ein neuer Name ist. Dies entspricht einer Umbenennung von Attributen. <br>\n",
    "Eine weitere Möglichkeit für einen neuen Ausdruck ist e→C. e ist ein Ausdruck mit Konstanten, arithmetischen Operatoren, Attributen von R, String-Operationen. C ist der neue Name für den Ausdruck e. Zwei Beispiele hierfür: \n",
    "- A1 + A2 → Summe\n",
    "- Vorname || \\` \\` || Nachname → Name"
   ]
  },
  {
   "cell_type": "markdown",
   "metadata": {},
   "source": [
    "## Selektion (selection, $\\sigma$)"
   ]
  },
  {
   "cell_type": "markdown",
   "metadata": {},
   "source": [
    "Ein weiterer unärer Operator ist die Selektion. Sie erzeugt eine neue Relation mit gleichem Schema, aber einer Teilmenge der Tupel. Einfach ausgedrückt kann man sagen, dass eine Selektion die Anzahl der Tupel reduziert.  <br>\n",
    "Nur Tupel, die der Selektionsbedingung C (condition) entsprechen, werden in die neu erzeugte Relation übernommen. Für jedes Tupel wird somit einmal die Bedingung geprüft. Es handelt sich bei den Selektionsbedingungen um boolesche Selektionsbedingungen wie man sie aus Programmiersprachen kennt. <br>\n",
    "Die Operanden der Selektionsbedingung sind nur Konstanten oder Attribute von R. Diese können mittels Vergleichsoperatoren wie <, >, ≤, $\\ge$, <> und = verglichen werden. const = const ist ein Beispiel dafür wie so etwas aussehen kann. Ist aber eigentlich unnötig, da es sich um Konstanten handelt. Eine typische Selektion ist ein Vergleich zwischen Attribut und Konstante (attr = const). Wenn man zwei Attribute miteinander vergleicht, (attr = attr) kann man mögliche Attribute finden, an denen die zwei Relationen gejoint werden können. Das würde einer Join Bedingung entsprechen. <br>\n",
    "Die einzelnen Selektionsbedingungen können zu einer gesamten Selektionsbedingung durch AND, OR und NOT kombiniert werden.<br>\n",
    "<br>\n",
    "Nicht zu verwechseln sind die Selektion aus der Relationalen Algebra mit dem SELECT aus SQL. Das SELECT entspricht in der Relationalen Algebra einer Projektion. Die Selektion wiederrum entspricht in SQL einer WHERE-Bedingung:\n",
    "- Selektion $\\neq$ SELECT"
   ]
  },
  {
   "cell_type": "markdown",
   "metadata": {},
   "source": [
    "## Selektion – Beispiel"
   ]
  },
  {
   "cell_type": "markdown",
   "metadata": {},
   "source": [
    "Die Beispiele zeigen verschiedene Selektionen auf einer gegebenen Film-Relation. <br>\n",
    "Im ersten Beispiel werden alle Filme selektiert, dessen Länge größer oder gleich 100 Minuten ist. <br>\n",
    "Im zweitem Beispiel kommt noch hinzu, dass diese Filem vom Fox-Studio produziert worden sein müssen. "
   ]
  },
  {
   "cell_type": "markdown",
   "metadata": {},
   "source": [
    "Film\n",
    "\n",
    "|Titel|Jahr|Länge|inFarbe|Studio|ProduzentID|\n",
    "|-----|----|-----|-------|------|---------|\n",
    "|Total Recall|1990|113|True|Fox|12345|\n",
    "|Basic Instinct|1992|127|True|Disney|67890|\n",
    "|Dead Man|1995|90|False|Paramount|99999|"
   ]
  },
  {
   "cell_type": "markdown",
   "metadata": {},
   "source": [
    "$\\sigma_{Länge\\geq100}$(Film)\n",
    "\n",
    "|Titel|Jahr|Länge|inFarbe|Studio|ProduzentID|\n",
    "|-----|----|-----|-------|------|---------|\n",
    "|Total Recall|1990|113|True|Fox|12345|\n",
    "|Basic Instinct|1992|127|True|Disney|67890|"
   ]
  },
  {
   "cell_type": "markdown",
   "metadata": {},
   "source": [
    "$\\sigma_{Länge\\geq100 AND Studio='Fox'}$(Film)\n",
    "\n",
    "|Titel|Jahr|Länge|inFarbe|Studio|ProduzentID|\n",
    "|-----|----|-----|-------|------|---------|\n",
    "|Total Recall|1990|113|True|Fox|12345|"
   ]
  },
  {
   "cell_type": "markdown",
   "metadata": {},
   "source": [
    "## Kartesisches Produkt (Cartesian product, cross product $\\times$)"
   ]
  },
  {
   "cell_type": "markdown",
   "metadata": {},
   "source": [
    "Das Kartesische Produkt ist ein binärer Operator. Benannt worden ist es nach René Descartes. Ein französischer Naturwissenschaftler, Mathematiker und Philosoph. Das Kartesische Produkt ist auch unter anderen Namen wie Kreuzprodukt oder Produkt bekannt. Außerdem gibt es verschiedene Schreibweisen dafür: R * S statt R $\\times$ S\n",
    "<br><br>\n",
    "Das Kreuzprodukt zweier Relationen R und S ist die Menge aller Tupel, die man erhält, wenn man jedes Tupel aus R mit jedem Tupel aus S kombiniert. Das Schema hat ein Attribut für jedes Attribut aus R und S. Bei Namensgleichheit von zwei oder mehreren Attributen wird kein Attribut ausgelassen, stattdessen werden sie eindeutig umbenannt. "
   ]
  },
  {
   "cell_type": "markdown",
   "metadata": {},
   "source": [
    "![title](descartes.jpg)"
   ]
  },
  {
   "cell_type": "markdown",
   "metadata": {},
   "source": [
    "## Kartesisches Produkt – Beispiel"
   ]
  },
  {
   "cell_type": "markdown",
   "metadata": {},
   "source": [
    "Das Beispiel zum Kartesischen Produkt zeigt zwei Relationen R und S, die mittels Kreuzprodukt kombiniert werden. Dazu werden alle möglichen Kombinationen der Tupel gebildet. Die Relationen R und S haben ein Attribut mit dem selben Namen (B). In der neuen Ergbnisrelation wird das Attribut jeweils eindeutig umbenannt. Bei der Umbennenung wird als Präfix der Relationsname vor das Attribut geschrieben: R.B und S.B."
   ]
  },
  {
   "cell_type": "markdown",
   "metadata": {},
   "source": [
    "$R$\n",
    "\n",
    "|A|B|\n",
    "|-|-|\n",
    "|1|2|\n",
    "|3|4|"
   ]
  },
  {
   "cell_type": "markdown",
   "metadata": {},
   "source": [
    "$S$\n",
    "\n",
    "|B|C|D|\n",
    "|-|-|-|\n",
    "|2|5|6|\n",
    "|4|7|8|\n",
    "|9|10|11|"
   ]
  },
  {
   "cell_type": "markdown",
   "metadata": {},
   "source": [
    "$R \\times S$\n",
    "\n",
    "|A|R.B|S.B|C|D|\n",
    "|-|--|--|-|-|\n",
    "|1|2|2|5|6|\n",
    "|1|2|4|7|8|\n",
    "|1|2|9|10|11|\n",
    "|3|4|2|5|6|\n",
    "|3|4|4|7|8|\n",
    "|3|4|9|10|11|"
   ]
  },
  {
   "cell_type": "markdown",
   "metadata": {},
   "source": [
    "## Der Join – Operatorfamilie"
   ]
  },
  {
   "cell_type": "markdown",
   "metadata": {},
   "source": [
    "Die folgenden Joins bilden eine Übersicht über die Joins, die in dieser Veranstaltung genauer betrachtet werden:\n",
    "- Natürlicher Join (natural join)\n",
    "- Theta-Join\n",
    "- Equi-Join\n",
    "- Semi-Join und Anti-Join\n",
    "- Left-outer Join und Right-outer Join\n",
    "- Full-outer Join"
   ]
  },
  {
   "cell_type": "markdown",
   "metadata": {},
   "source": [
    "### Natürlicher Join (natural join, ⋈)"
   ]
  },
  {
   "cell_type": "markdown",
   "metadata": {},
   "source": [
    "Der natürliche Join ist ein binärer Operator. \n",
    "Beim Kreuzprodukt zuvor wurden alle möglichen Tupelpaare gebildet. Im Gegensatz dazu werden beim natürlichen Join Tupelpaare gebildet aus Tupeln, die „irgendwie“ übereinstimmen.\n",
    "Es werden Tupel miteinander verbunden, die eine Übereinstimmung in allen gemeinsamen Attributen besitzen. \n",
    "Somit handelt es sich dabei um einen „Verbund“ von Tupeln miteinander. Gegebenenfalls ist beim „Verbinden“ eine Umbennung der Attribute erforderlich. Zum Beispiel wäre dies erforderlich bei zwei Attributen in unterschiedlichen Relationen, wenn die Attribute das Selbe aussagen, aber unterschiedlich benannt worden sind. \n",
    "<br><br>\n",
    "Der natürliche Join arbeitet nach dem Schema: Vereinigung der beiden Attributmengen. Im Vergleich zum Kreuzprodukt gibt es nicht mehr die gleichen Attribute doppelt und umbenannt. Das Ergebnis ist nun eine Menge aus Attributen, also ohne (umbenannte) Duplikate. <br>\n",
    "Die Grafik zeigt passend dazu den natürlichen Join zwischen zwei Relationen. Die Rechtecke stellen Attribute und der Verbund von Rechtecken Relationen dar. Beide ursprünglichen Relationen bestehen aus zwei Attributen, wobei das orangene Attribut in beiden gleich ist. Die erste Relation (oben) besteht zusätzlich noch aus einem blauen und die zweite Relation (unten) aus einem grünen Attribut. Bei einem natürlichen Join beider Relationen wird über die identischen Attribute beider Relationen gejoint. In diesem Fall ist es das orangefarbene Attribut. Die Ergebnisrelation enthält somit am Ende das blaue, grüne und nur einmal das orangene Attribut. "
   ]
  },
  {
   "cell_type": "markdown",
   "metadata": {},
   "source": [
    "![title](njoin.jpg)"
   ]
  },
  {
   "cell_type": "markdown",
   "metadata": {},
   "source": [
    "Beim natürlichen Join gibt es verschiedene Notationen. <br>\n",
    "r[A] beschreibt eine Projektion des Tupels r auf dem Attribut A. Es gibt somit genau den Wert des Tupels R beim Attribut A an. <br>\n",
    "Gegeben sind nun zwei Relationen R und S. Beide Relationen haben die gemeinsamen Attribute A1, ..., Ak. Dann wird der natürliche Join wie folgt definiert:\n",
    "- R ⋈ S = {r $\\cup$ s | r$\\in$R $\\wedge$ s$\\in$S $\\wedge$ r[A1]=s[A1] $\\wedge$ … $\\wedge$ r[Ak]=s[Ak] }<br>\n",
    "Achtung: Bei der Verinigung von r und s handelt es sich also um Tupelwerte und nicht um Relationen!<br>\n",
    "\n",
    "Eine alternative, üblichere Definition ist eine Selektion auf dem Kreuzprodukt der Relationen R und S. Die Selektion hat dabei als Bedingung, dass die Werte gleicher Spalten, übereinstimmen.\n",
    "Dabei muss noch projiziert und umbenannt werden, um die Vereinigung richtig zu erwirken.\n",
    "- R ⋈ S = s r[A1]=s[A1] $\\wedge$ … $\\wedge$ r[Ak]=s[Ak](R × S)"
   ]
  },
  {
   "cell_type": "markdown",
   "metadata": {},
   "source": [
    "### Natürlicher Join – Beispiele"
   ]
  },
  {
   "cell_type": "markdown",
   "metadata": {},
   "source": [
    "Die ursprünglichen Tabellen sind R und S. Auf diesen beiden wird ein natürlicher Join ausgeführt. Dabei wird nur auf gleichen Attributen gejoint. In diesem Fall ist es das Attribut B. R und S stimmen in B in den Werten 2 und 4 überein. Das übrig gebliebene Tupel mit der 9 in B, muss somit nicht mehr kombiniert werden. <br>\n",
    "<br>\n"
   ]
  },
  {
   "cell_type": "markdown",
   "metadata": {},
   "source": [
    "$R$\n",
    "\n",
    "|A|B|\n",
    "|-|-|\n",
    "|1|2|\n",
    "|3|4|"
   ]
  },
  {
   "cell_type": "markdown",
   "metadata": {},
   "source": [
    "$S$\n",
    "\n",
    "|B|C|D|\n",
    "|-|-|-|\n",
    "|2|5|6|\n",
    "|4|7|8|\n",
    "|9|10|11|"
   ]
  },
  {
   "cell_type": "markdown",
   "metadata": {},
   "source": [
    "$R ⋈ S$\n",
    "\n",
    "|A|B|C|D|\n",
    "|-|-|-|-|\n",
    "|1|2|5|6|\n",
    "|3|4|7|8|"
   ]
  },
  {
   "cell_type": "markdown",
   "metadata": {},
   "source": [
    "Zur Erinnerung ist hier das kartesische Produkt der Relationen R und S dargestellt. Hierauf könnte man die alternative bzw. üblichere Definition des natürlichen Joins anwenden. Man würde wieder die gleichen zwei Tupel nach der Selektion erhalten. Zusätzlich müsste man noch R.B oder S.B wegprojizieren. "
   ]
  },
  {
   "cell_type": "markdown",
   "metadata": {},
   "source": [
    "$R \\times S$\n",
    "\n",
    "|A|R.B|S.B|C|D|\n",
    "|---|---|---|---|---|\n",
    "|1|2|2|5|6|\n",
    "|1|2|4|7|8|\n",
    "|1|2|9|10|11|\n",
    "|3|4|2|5|6|\n",
    "|3|4|4|7|8|\n",
    "|3|4|9|10|11|"
   ]
  },
  {
   "cell_type": "markdown",
   "metadata": {},
   "source": [
    "Bei dem zweiten Beispiel gibt es mehr als ein gemeinsames Attribut. Es stimmen in R und S die zwei Attribute B und C überein. B und C müssen somit gleichzeitig bei jedem Join übereinstimmen. <br>Obwohl der Wert von B (2) im ersten Tupel beider Relationen übereinstimmt, können diese nicht gejoint werden. Der Grund dafür sind unterschiedliche Werte (3 != 5) im Attribut C. <br>\n",
    "Das erste Tupel aus R und das zweite Tupel aus S haben wiederum in B und C die gleichen Werte und können somit gejoint werden. Genauso haben das zweite und dritte Tupel von R die gleichen Werte in B und C wie das dritte Tupel von S. Das dritte Tupel in S wird also mit mehr als einem Partner verknüpft. "
   ]
  },
  {
   "cell_type": "markdown",
   "metadata": {},
   "source": [
    "$R$\n",
    "\n",
    "|A|B|C|\n",
    "|-|-|-|\n",
    "|1|2|3|\n",
    "|6|7|8|\n",
    "|9|7|8|"
   ]
  },
  {
   "cell_type": "markdown",
   "metadata": {},
   "source": [
    "$S$\n",
    "\n",
    "|B|C|D|\n",
    "|-|-|-|\n",
    "|2|5|6|\n",
    "|2|3|5|\n",
    "|7|8|10|"
   ]
  },
  {
   "cell_type": "markdown",
   "metadata": {},
   "source": [
    "$R ⋈ S$\n",
    "\n",
    "|A|B|C|D|\n",
    "|-|-|-|-|\n",
    "|1|2|3|5|\n",
    "|6|7|8|10|\n",
    "|9|7|8|10|"
   ]
  },
  {
   "cell_type": "markdown",
   "metadata": {},
   "source": [
    "### Theta-Join (theta-join, $⋈_\\theta$)"
   ]
  },
  {
   "cell_type": "markdown",
   "metadata": {},
   "source": [
    "Der Theta Join ist die Allgemeinste Form der Joins. Der natürliche Join ist also ein Spezialfall vom Theta-Join.\n",
    "Die Verknüpfungsbedingung kann selbst gestaltet werden. Zuvor war die Bedingung, dass die Attribute auf denen gejoint wird, gleich sind.<br>\n",
    "Das Ergebnis wird ähnlich wie zuvor konstruiert. Zunächst wird ein Kreuzprodukt der beiden Relationen gebildet. Selektiert wird darauf mittels der gegebenen Joinbedingung $\\theta$. Dabei ist A ein Attribut in R und B ein Attribut in S. \n",
    "- R ⋈$A_\\theta$ B S = s $A_\\theta$ B (R $\\times$ S)\n",
    "- $\\theta$ ∈ {=, <, >, ≤, ≥, ≠}\n",
    "\n",
    "Das Schema der Ergebnisrelation eines Theta-Joins sieht wie das Schema vom Kreuzprodukt aus. Wenn die Joinbedingung der Operator „=“ ist, handelt es sich um einen Equi-Join. Dieser ist somit, wie auch der Natural-Join, ein Spezialfall des Theta-Joins. Der Unterschied zum Natural Join ist aber, dass das Schema des Ergebnisses anders aussieht als beim Equi-Join. Gleiche Attribute werden umbenannt und sozusagen zu einem Attribut zusammengefasst.   \n",
    "- R(A,B,C) ⋈ S(B,C,D) <br>\n",
    "= $\\rho_{T(A,B,C,D)}$($\\pi_{A,R.B,R.C,D}$($\\sigma_{(R.B=S.B AND R.C = S.C)}$ ($R \\times S$)))"
   ]
  },
  {
   "cell_type": "markdown",
   "metadata": {},
   "source": [
    "### Theta-Join – Beispiel"
   ]
  },
  {
   "cell_type": "markdown",
   "metadata": {},
   "source": [
    "Im ersten Beispiel sollen R und S gejoint werden, wenn der Wert vom Attribut A kleiner als der von D ist. Zunächst wird das erste Tupel von R mit allen Tupeln von S verglichen. In jedem Fall stimmt die Bedingung und die Tupel können verbunden werden. Analog werden die weiteren Tupel von R mit denen von S verglichen und gegebenenfalls verbunden."
   ]
  },
  {
   "cell_type": "markdown",
   "metadata": {},
   "source": [
    "$R$\n",
    "\n",
    "|A|B|C|\n",
    "|-|-|-|\n",
    "|1|2|3|\n",
    "|6|7|8|\n",
    "|9|7|8|"
   ]
  },
  {
   "cell_type": "markdown",
   "metadata": {},
   "source": [
    "$S$\n",
    "\n",
    "|B|C|D|\n",
    "|-|-|-|\n",
    "|2|5|6|\n",
    "|2|3|5|\n",
    "|7|8|10|"
   ]
  },
  {
   "cell_type": "markdown",
   "metadata": {},
   "source": [
    "$R ⋈_{A<D}S$\n",
    "\n",
    "|A|R.B|R.C|S.B|S.C|D|\n",
    "|-|--|--|--|--|-|\n",
    "|1|2|3|2|5|6|\n",
    "|1|2|3|2|3|5|\n",
    "|1|2|3|7|8|10|\n",
    "|6|7|8|7|8|10|\n",
    "|9|7|8|7|8|10|"
   ]
  },
  {
   "cell_type": "markdown",
   "metadata": {},
   "source": [
    "Im zweitem Beispiel wird die Bedingung erweitert. R.B und S.B dürfen nicht mehr gleich sein. Wie zuvor wird jede Zeile von R mit jeder Zeile von S verglichen und geprüft, ob die Bedingung stimmt. Falls ja werden die Tupel miteinander verknüpft. Generell können Bedingungen beliebig lang werden."
   ]
  },
  {
   "cell_type": "markdown",
   "metadata": {},
   "source": [
    "$R ⋈_{A<D \\wedge R.B \\neq S.B}S$\n",
    "\n",
    "|A|R.B|R.C|S.B|S.C|D|\n",
    "|-|--|--|--|--|-|\n",
    "|1|2|3|7|8|10|"
   ]
  },
  {
   "cell_type": "markdown",
   "metadata": {},
   "source": [
    "### Komplexe Ausdrücke"
   ]
  },
  {
   "cell_type": "markdown",
   "metadata": {},
   "source": [
    "■ Idee: Kombination (Schachtelung) von Ausdrücken zur Formulierung komplexer Anfragen.\n",
    "<br>\n",
    "□ Abgeschlossenheit der relationalen Algebra\n",
    "<br>\n",
    "– Output eines Ausdrucks ist immer eine Relation.\n",
    "<br><br>\n",
    "□ Darstellung\n",
    "<br>\n",
    "– Als geschachtelter Ausdruck mittels Klammerung\n",
    "<br>\n",
    "– Als Baum"
   ]
  },
  {
   "cell_type": "markdown",
   "metadata": {},
   "source": [
    "Film\n",
    "\n",
    "|Titel|Jahr|Länge|Typ|StudioName|\n",
    "|-----|----|-----|---|----------|\n",
    "|Total Recall|1990|113|Farbe|Fox|\n",
    "|Basic Instinct|1992|127|Farbe|Disney|\n",
    "|Dead Man|1995|90|s/w|Paramount|"
   ]
  },
  {
   "cell_type": "markdown",
   "metadata": {},
   "source": [
    "■ Gesucht: Titel und Jahr von Filmen, die von Fox produziert wurden und mindestens 100\n",
    "Minuten lang sind.\n",
    "<br>\n",
    "□ Suche alle Filme von Fox\n",
    "<br>\n",
    "□ Suche alle Filme mit mindestens 100 Minuten\n",
    "<br>\n",
    "□ Bilde die Schnittmenge der beiden Zwischenergebnisse\n",
    "<br>\n",
    "□ Projiziere die Relation auf die Attribute Titel und Jahr.\n",
    "<br>\n",
    "□ $\\rho_{Titel,Jahr}$($\\sigma_{Länge≥100}$(Film) $\\cap$ $\\sigma_{StudioName=‚Fox‘}$(Film))\n",
    "<br>\n",
    "□ Alternative: $\\pi_{Titel,Jahr}$($\\sigma_{Länge≥100 AND StudioName=‚Fox‘}$(Film))\n",
    "<br>\n",
    "– U.v.a.m."
   ]
  },
  {
   "cell_type": "markdown",
   "metadata": {},
   "source": [
    "### Komplexe Ausdrücke – Beispiel"
   ]
  },
  {
   "cell_type": "markdown",
   "metadata": {},
   "source": [
    "■$\\rho_{Titel,Jahr}$($\\sigma_{Länge≥100(Film)}$ $\\cap$ $\\sigma_{StudioName=‚Fox‘}$(Film))"
   ]
  },
  {
   "cell_type": "markdown",
   "metadata": {},
   "source": [
    "![title](komplex_bsp1.jpg)"
   ]
  },
  {
   "cell_type": "markdown",
   "metadata": {},
   "source": [
    "■ Alternative: $\\rho_{Titel,Jahr}$($\\sigma_{Länge≥100 AND StudioName=‚Fox‘}$(Film))"
   ]
  },
  {
   "cell_type": "markdown",
   "metadata": {},
   "source": [
    "### Komplexe Ausdrücke – Beispiel"
   ]
  },
  {
   "cell_type": "markdown",
   "metadata": {},
   "source": [
    "Film\n",
    "\n",
    "|Titel|Jahr|Länge|Typ|StudioName|\n",
    "|-----|----|-----|---|----------|\n",
    "|Total Recall|1990|113|Farbe|Fox|\n",
    "|Basic Instinct|1992|127|Farbe|Disney|\n",
    "|Dead Man|1995|90|s/w|Paramount|"
   ]
  },
  {
   "cell_type": "markdown",
   "metadata": {},
   "source": [
    "Rolle\n",
    "\n",
    "|Titel|Jahr|SchauspName|\n",
    "|-----|----|-----------|\n",
    "|Total Recall|1990|Sharon Stone|\n",
    "|Basic Instinct|1992|Sharon Stone|\n",
    "|Total Recall|1990|Arnold|\n",
    "|Dead Man|1995|Johnny Depp|"
   ]
  },
  {
   "cell_type": "markdown",
   "metadata": {},
   "source": [
    "■ Gesucht: Namen aller Schauspieler, die in Filmen spielten, die mindestens 100 Minuten lang\n",
    "sind.\n",
    "<br>\n",
    "□ Verjoine beide Relationen (natürlicher Join)\n",
    "<br>\n",
    "□ Selektiere Filme, die mindestens 100 Minuten lang sind.\n",
    "<br>\n",
    "□ $\\rho_{SchauspName}$($\\sigma_{Länge≥100}$(Film ⋈ Rolle))"
   ]
  },
  {
   "cell_type": "markdown",
   "metadata": {},
   "source": [
    "■ Stud(Matrikel, Name, Semester)\n",
    "<br>\n",
    "■ Prof(ProfName, Fachgebiet, GebJahr)\n",
    "<br>\n",
    "■ VL(VL_ID, Titel, Saal)\n",
    "<br>\n",
    "■ Lehrt(ProfName, VL_ID)\n",
    "<br>\n",
    "■ Hört(Matrikel,VL_ID)\n",
    "<br>\n",
    "■ Gesucht: Unterschiedliche Semester aller Studierenden, die eine Vorlesung eines Professors des Jahrgangs 1960\n",
    "in Hörsaal 1 hören.\n",
    "<br>\n",
    "■ $\\rho_{Sem}$((($\\sigma_{Saal=1}$((($\\sigma_{GebJahr = 1960}$(Professor))⋈Lehrt)⋈VL)⋈Hört)⋈Stud))"
   ]
  },
  {
   "cell_type": "markdown",
   "metadata": {},
   "source": [
    "### Umbenennung (rename, $\\rho$)"
   ]
  },
  {
   "cell_type": "markdown",
   "metadata": {},
   "source": [
    "■ Unärer Operator\n",
    "<br>\n",
    "<br>\n",
    "■ Motivation: Zur Kontrolle der Schemata und einfacheren Verknüpfungen\n",
    "<br>\n",
    "□ $\\rho_{S(A1,…,An)}$(R)\n",
    "<br>\n",
    "– Benennt Relation R in S um\n",
    "<br>\n",
    "– Benennt die Attribute der neuen Relation A1,…,An\n",
    "<br>\n",
    "□ $\\rho_{S(R)}$ benennt nur Relation um.\n",
    "<br>\n",
    "■ Durch Umbenennung ermöglicht\n",
    "<br>\n",
    "□ Mengenoperationen\n",
    "<br>\n",
    "– Nur möglich bei gleichen Schemata\n",
    "<br>\n",
    "□ Joins, wo bisher kartesische Produkte ausgeführt wurde\n",
    "<br>\n",
    "– Unterschiedliche Attribute werden gleich benannt.\n",
    "<br>\n",
    "□ Kartesische Produkte, wo bisher Joins ausgeführt wurden\n",
    "<br>\n",
    "– Gleiche Attribute werden unterschiedlich genannt."
   ]
  },
  {
   "cell_type": "markdown",
   "metadata": {},
   "source": [
    "### Umbenennung – Beispiel"
   ]
  },
  {
   "cell_type": "markdown",
   "metadata": {},
   "source": [
    "$R$\n",
    "\n",
    "|A|B|\n",
    "|-|-|\n",
    "|1|2|\n",
    "|3|4|"
   ]
  },
  {
   "cell_type": "markdown",
   "metadata": {},
   "source": [
    "$S$\n",
    "\n",
    "|B|C|D|\n",
    "|-|-|-|\n",
    "|2|5|6|\n",
    "|4|7|8|\n",
    "|9|10|11"
   ]
  },
  {
   "cell_type": "markdown",
   "metadata": {},
   "source": [
    "$R \\times \\rho_{s(X,C,D)}(S)$\n",
    "\n",
    "|A|B|X|C|D|\n",
    "|-|-|-|-|-|\n",
    "|1|2|2|5|6|\n",
    "|1|2|4|7|8|\n",
    "|1|2|9|10|11\n",
    "|3|4|2|5|6|\n",
    "|3|4|4|7|8|\n",
    "|3|4|9|10|11"
   ]
  },
  {
   "cell_type": "markdown",
   "metadata": {},
   "source": [
    "■ Alternativer Ausdruck: $\\rho_{S(A,B,X,C,D)}$(R $\\times$ S)"
   ]
  },
  {
   "cell_type": "markdown",
   "metadata": {},
   "source": [
    "### Unabhängigkeit und Vollständigkeit"
   ]
  },
  {
   "cell_type": "markdown",
   "metadata": {},
   "source": [
    " Minimale Relationenalgebra:\n",
    " <br>\n",
    "□ π, σ, $\\times$ , −, ∪ (und r)\n",
    " <br>\n",
    "■ Unabhängig:\n",
    " <br>\n",
    "□ Kein Operator kann weggelassen werden ohne Vollständigkeit zu verlieren.\n",
    " <br> <br>\n",
    "■ Natural Join, Join und Schnittmenge sind redundant\n",
    " <br>\n",
    "□ R $\\cap$ S = R − (R − S)\n",
    " <br>\n",
    "□ R ⋈C S = $\\sigma_C$(R $\\times$ S) \n",
    " <br>\n",
    "□ R ⋈ S = $\\pi_{L}$($\\sigma_{R.A1=S.A1 AND … AND R.An=S.An}$(R $\\times$ S))"
   ]
  },
  {
   "cell_type": "markdown",
   "metadata": {},
   "source": [
    "## Vorschau zu Optimierung"
   ]
  },
  {
   "cell_type": "markdown",
   "metadata": {},
   "source": [
    "■ Beispiele für algebraische Regeln zur Transformation\n",
    "<br>\n",
    "□ R ⋈ S = S ⋈ R\n",
    "<br>\n",
    "□ (R ⋈ S) ⋈ T = R ⋈ (S ⋈ T)\n",
    "<br>\n",
    "□ $\\rho_{Y}(\\rho_{X}(R)) = \\rho_{Y}(R)$\n",
    "<br>\n",
    "– Falls Y ⊆ X\n",
    "<br>\n",
    "□ $\\sigma_{A=a}(\\sigma_{B=b}(R))= \\sigma_{B=b}(\\sigma_{A=a}(R)) [ = \\sigma_{B=b\\wedge A=a}(R) ]$\n",
    "<br>\n",
    "□ $\\pi_{X}(\\sigma_{A=a}(R)) = \\sigma_{A=a}(\\pi_{X}(R))$\n",
    "<br>\n",
    "– Falls A ⊆ X\n",
    "<br>\n",
    "□ $\\sigma_{A=a}(R ∪ S) = \\sigma_{A=a}(R) ∪ \\sigma_{A=a}(S)$\n",
    "<br>\n",
    "■ Jeweils: Welche Seite ist besser?"
   ]
  },
  {
   "cell_type": "markdown",
   "metadata": {},
   "source": [
    "## Operatoren auf Multimengen"
   ]
  },
  {
   "cell_type": "markdown",
   "metadata": {},
   "source": [
    "### Motivation"
   ]
  },
  {
   "cell_type": "markdown",
   "metadata": {},
   "source": [
    " Mengen sind ein natürliches Konstrukt\n",
    " <br>\n",
    "□ Keine Duplikate\n",
    " <br> <br>\n",
    "■ Kommerzielle DBMS basieren fast nie nur auf Mengen\n",
    " <br>\n",
    "□ Sondern erlauben Multimengen\n",
    " <br>\n",
    "□ D.h. Duplikate sind erlaubt\n",
    " <br> <br>\n",
    "■ Multimenge\n",
    " <br>\n",
    "□ bag, multiset "
   ]
  },
  {
   "cell_type": "markdown",
   "metadata": {},
   "source": [
    "|A|B|\n",
    "|-|-|\n",
    "|1|2|\n",
    "|3|4|\n",
    "|1|2|\n",
    "|1|2|\n",
    "\n",
    "Multimenge\n",
    "<br>\n",
    "Reihenfolge ist weiter unwichtig"
   ]
  },
  {
   "cell_type": "markdown",
   "metadata": {},
   "source": [
    "### Effizienz durch Multimengen"
   ]
  },
  {
   "cell_type": "markdown",
   "metadata": {},
   "source": [
    "■ Bei Vereinigung\n",
    "<br>\n",
    "□ Direkt „aneinanderhängen“\n",
    "<br><br>\n",
    "■ Bei Projektion\n",
    "<br>\n",
    "□ Einfach Attributwerte „abschneiden“\n",
    "<br><br>\n",
    "■ Nach Duplikaten suchen\n",
    "<br>\n",
    "□ Jedes Tupel im Ergebnis mit jedem anderen vergleichen\n",
    "<br>\n",
    "□ O(n²)\n",
    "<br><br>\n",
    "■ Effizienter nach Duplikaten suchen\n",
    "<br>\n",
    "□ Nach allen Attributen zugleich sortieren: O(n log n)\n",
    "<br><br>\n",
    "■ Bei Aggregation\n",
    "<br>\n",
    "□ Duplikateliminierung sogar schädlich bzw. unintuitiv\n",
    "<br>\n",
    "□ AVG(A) = ?"
   ]
  },
  {
   "cell_type": "markdown",
   "metadata": {},
   "source": [
    "Projektion auf (A,B)\n",
    "\n",
    "|A|B|C|\n",
    "|-|-|-|\n",
    "|1|2|5|\n",
    "|3|4|6|\n",
    "|1|2|7|\n",
    "|1|2|8|"
   ]
  },
  {
   "cell_type": "markdown",
   "metadata": {},
   "source": [
    "### Vereinigung auf Multimengen"
   ]
  },
  {
   "cell_type": "markdown",
   "metadata": {},
   "source": [
    " Sei R eine Multimenge\n",
    " <br>\n",
    "□ Tupel t erscheine n-mal in R.\n",
    " <br> <br>\n",
    "■ Sei S eine Multimenge\n",
    " <br>\n",
    "□ Tupel t erscheine m-mal in S.\n",
    " <br>\n",
    "■ Tupel t erscheint in R $\\cup$ S\n",
    "<br>\n",
    "□ (n+m) mal."
   ]
  },
  {
   "cell_type": "markdown",
   "metadata": {},
   "source": [
    "$R$\n",
    "\n",
    "|A|B|\n",
    "|-|-|\n",
    "|1|2|\n",
    "|3|4|\n",
    "|1|2|\n",
    "|1|2|"
   ]
  },
  {
   "cell_type": "markdown",
   "metadata": {},
   "source": [
    "$S$\n",
    "\n",
    "|A|B|\n",
    "|-|-|\n",
    "|1|2|\n",
    "|3|4|\n",
    "|3|4|\n",
    "|5|6|"
   ]
  },
  {
   "cell_type": "markdown",
   "metadata": {},
   "source": [
    "$R \\cup S$\n",
    "\n",
    "|A|B|\n",
    "|-|-|\n",
    "|1|2|\n",
    "|3|4|\n",
    "|1|2|\n",
    "|1|2|\n",
    "|1|2|\n",
    "|3|4|\n",
    "|3|4|\n",
    "|5|6|"
   ]
  },
  {
   "cell_type": "markdown",
   "metadata": {},
   "source": [
    "### Schnittmenge auf Multimengen"
   ]
  },
  {
   "cell_type": "markdown",
   "metadata": {},
   "source": [
    "■ Sei R eine Multimenge\n",
    "<br>\n",
    "□ Tupel t erscheine n-mal in R.\n",
    "<br><br>\n",
    "■ Sei S eine Multimenge\n",
    "<br>\n",
    "□ Tupel t erscheine m-mal in S.\n",
    "<br><br>\n",
    "■ Tupel t erscheint in R $\\cap$ S\n",
    "<br>\n",
    "□ min(n,m) mal."
   ]
  },
  {
   "cell_type": "markdown",
   "metadata": {},
   "source": [
    "$R$\n",
    "\n",
    "|A|B|\n",
    "|-|-|\n",
    "|1|2|\n",
    "|3|4|\n",
    "|1|2|\n",
    "|3|4|\n",
    "|1|2|"
   ]
  },
  {
   "cell_type": "markdown",
   "metadata": {},
   "source": [
    "$S$\n",
    "\n",
    "|A|B|\n",
    "|-|-|\n",
    "|1|2|\n",
    "|3|4|\n",
    "|3|4|\n",
    "|5|6|"
   ]
  },
  {
   "cell_type": "markdown",
   "metadata": {},
   "source": [
    "$R \\cap S$\n",
    "\n",
    "|A|B|\n",
    "|-|-|\n",
    "|1|2|\n",
    "|3|4|\n",
    "|3|4|\n"
   ]
  },
  {
   "cell_type": "markdown",
   "metadata": {},
   "source": [
    "## Differenz auf Multimengen"
   ]
  },
  {
   "cell_type": "markdown",
   "metadata": {},
   "source": [
    "■ Sei R eine Multimenge\n",
    "<br>\n",
    "□ Tupel t erscheine n-mal in R.\n",
    "<br><br>\n",
    "■ Sei S eine Multimenge\n",
    "<br>\n",
    "□ Tupel t erscheine m-mal in S.\n",
    "<br><br>\n",
    "■ Tupel t erscheint in R − S\n",
    "<br>\n",
    "□ max(0, n−m) mal.\n",
    "<br>\n",
    "□ Falls t öfter in R als in S vorkommt, bleiben n−m t übrig.\n",
    "<br>\n",
    "□ Falls t öfter in S als in R vorkommt, bleibt kein t übrig.\n",
    "<br>\n",
    "□ Jedes Vorkommen von t in S eliminiert ein t in R."
   ]
  },
  {
   "cell_type": "markdown",
   "metadata": {},
   "source": [
    "$R$\n",
    "\n",
    "|A|B|\n",
    "|-|-|\n",
    "|1|2|\n",
    "|3|4|\n",
    "|1|2|\n",
    "|1|2|"
   ]
  },
  {
   "cell_type": "markdown",
   "metadata": {},
   "source": [
    "$S$\n",
    "\n",
    "|A|B|\n",
    "|-|-|\n",
    "|1|2|\n",
    "|3|4|\n",
    "|3|4|\n",
    "|5|6|"
   ]
  },
  {
   "cell_type": "markdown",
   "metadata": {},
   "source": [
    "$R-S$\n",
    "\n",
    "|A|B|\n",
    "|-|-|\n",
    "|1|2|\n",
    "|1|2|"
   ]
  },
  {
   "cell_type": "markdown",
   "metadata": {},
   "source": [
    "$S-R$\n",
    "\n",
    "|A|B|\n",
    "|-|-|\n",
    "|3|4|\n",
    "|5|6|"
   ]
  },
  {
   "cell_type": "markdown",
   "metadata": {},
   "source": [
    "### Projektion und Selektion auf Multimengen"
   ]
  },
  {
   "cell_type": "markdown",
   "metadata": {},
   "source": [
    "■ Projektion\n",
    "<br>\n",
    "□ Bei der Projektion können neue Duplikate entstehen.\n",
    "<br>\n",
    "□ Diese werden nicht entfernt\n",
    "<br><br>\n",
    "■ Selektion\n",
    "<br>\n",
    "□ Selektionsbedingung auf jedes Tupel einzeln und unabhängig anwenden\n",
    "<br>\n",
    "□ Schon vorhandene Duplikate bleiben erhalten\n",
    "<br>\n",
    "– Sofern sie beide selektiert bleiben"
   ]
  },
  {
   "cell_type": "markdown",
   "metadata": {},
   "source": [
    "$R$\n",
    "\n",
    "|A|B|C|\n",
    "|-|-|-|\n",
    "|1|2|5|\n",
    "|3|4|6|\n",
    "|1|2|7|\n",
    "|1|2|7|"
   ]
  },
  {
   "cell_type": "markdown",
   "metadata": {},
   "source": [
    "$\\pi_{A,B}(R)$\n",
    "\n",
    "|A|B|\n",
    "|-|-|\n",
    "|1|2|\n",
    "|3|4|\n",
    "|1|2|\n",
    "|1|2|"
   ]
  },
  {
   "cell_type": "markdown",
   "metadata": {},
   "source": [
    "$\\sigma_{C\\geq6}(R)$\n",
    "\n",
    "|A|B|C|\n",
    "|-|-|-|\n",
    "|1|2|5|\n",
    "|3|4|6|\n",
    "|1|2|7|\n",
    "|1|2|7|"
   ]
  },
  {
   "cell_type": "markdown",
   "metadata": {},
   "source": [
    "### Kreuzprodukt auf Multimengen"
   ]
  },
  {
   "cell_type": "markdown",
   "metadata": {},
   "source": [
    " Sei R eine Multimenge\n",
    " <br>\n",
    "□ Tupel t erscheine n-mal in R.\n",
    " <br>\n",
    "■ Sei S eine Multimenge\n",
    " <br>\n",
    "□ Tupel u erscheine m-mal in S.\n",
    "<br>\n",
    "■ Das Tupel tu erscheint in R $\\times$ S n·m-mal."
   ]
  },
  {
   "cell_type": "markdown",
   "metadata": {},
   "source": [
    "$R$\n",
    "\n",
    "|A|B|\n",
    "|-|-|\n",
    "|1|2|\n",
    "|1|2|"
   ]
  },
  {
   "cell_type": "markdown",
   "metadata": {},
   "source": [
    "$S$\n",
    "\n",
    "|B|C|\n",
    "|-|-|\n",
    "|2|3|\n",
    "|4|5|\n",
    "|4|5|"
   ]
  },
  {
   "cell_type": "markdown",
   "metadata": {},
   "source": [
    "$R \\times S$\n",
    "\n",
    "|A|R.B|S.B|C|\n",
    "|-|---|---|-|\n",
    "|1|2|2|3|\n",
    "|1|2|2|3|\n",
    "|1|2|4|5|\n",
    "|1|2|4|5|\n",
    "|1|2|4|5|\n",
    "|1|2|4|5|"
   ]
  },
  {
   "cell_type": "markdown",
   "metadata": {},
   "source": [
    "### Joins auf Multimengen"
   ]
  },
  {
   "cell_type": "markdown",
   "metadata": {},
   "source": [
    "■ Keine Überraschungen"
   ]
  },
  {
   "cell_type": "markdown",
   "metadata": {},
   "source": [
    "$R$\n",
    "\n",
    "|A|B|\n",
    "|-|-|\n",
    "|1|2|\n",
    "|1|2|"
   ]
  },
  {
   "cell_type": "markdown",
   "metadata": {},
   "source": [
    "$S$\n",
    "\n",
    "|B|C|\n",
    "|-|-|\n",
    "|2|3|\n",
    "|4|5|\n",
    "|4|5|"
   ]
  },
  {
   "cell_type": "markdown",
   "metadata": {},
   "source": [
    "$R⋈S$\n",
    "\n",
    "|A|B|C|\n",
    "|-|-|-|\n",
    "|1|2|3|\n",
    "|1|2|3|"
   ]
  },
  {
   "cell_type": "markdown",
   "metadata": {},
   "source": [
    "$R⋈_{R.B<S.B}S$\n",
    "\n",
    "|A|R.B|S.B|C|\n",
    "|-|---|---|-|\n",
    "|1|2|4|5|\n",
    "|1|2|4|5|\n",
    "|1|2|4|5|\n",
    "|1|2|4|5|"
   ]
  },
  {
   "cell_type": "markdown",
   "metadata": {},
   "source": [
    "## Erweiterte Operatoren"
   ]
  },
  {
   "cell_type": "markdown",
   "metadata": {},
   "source": [
    "## Überblick über Erweiterungen"
   ]
  },
  {
   "cell_type": "markdown",
   "metadata": {},
   "source": [
    "Duplikateliminierung \n",
    " <br>\n",
    " ■ Aggregation \n",
    "  <br>\n",
    " ■ Gruppierung \n",
    "  <br>\n",
    " ■ Sortierung\n",
    "  <br>\n",
    " ■ Outer Join \n",
    "  <br>\n",
    " ■ Outer Union\n",
    "  <br>\n",
    " ■ Semijoin \n",
    "  <br>\n",
    " ■ (Division)"
   ]
  },
  {
   "cell_type": "markdown",
   "metadata": {},
   "source": [
    "### Duplikateliminierung (duplicate elimination, $\\delta$)"
   ]
  },
  {
   "cell_type": "markdown",
   "metadata": {},
   "source": [
    "■ Wandelt eine Multimenge in eine Menge um.\n",
    "<br>\n",
    "□ Durch Löschen aller Kopien von Tupeln\n",
    "<br>\n",
    "□ $\\delta$(R)\n",
    "<br>\n",
    "– Strenggenommen unnötig: Mengensemantik der relationalen Algebra"
   ]
  },
  {
   "cell_type": "markdown",
   "metadata": {},
   "source": [
    "$R$\n",
    "\n",
    "|A|B|C|\n",
    "|-|-|-|\n",
    "|1|2|a|\n",
    "|3|4|b|\n",
    "|1|2|c|\n",
    "|1|2|d|"
   ]
  },
  {
   "cell_type": "markdown",
   "metadata": {},
   "source": [
    "$\\delta(\\pi_{A,B}(R))$\n",
    "\n",
    "|A|B|\n",
    "|-|-|\n",
    "|1|2|\n",
    "|3|4|"
   ]
  },
  {
   "cell_type": "markdown",
   "metadata": {},
   "source": [
    "### Aggregation"
   ]
  },
  {
   "cell_type": "markdown",
   "metadata": {},
   "source": [
    "■ Aggregation fasst Werte einer Spalte zusammen.\n",
    "<br>\n",
    "□ Operation auf einer Menge oder Multimenge atomarer Werte (nicht Tupel)\n",
    "<br>\n",
    "□ Null-Werte gehen idR nicht mit ein\n",
    "<br>\n",
    "□ Summe (SUM)\n",
    "<br>\n",
    "□ Durchschnitt (AVG)\n",
    "<br>\n",
    "– Auch: STDDEV und VARIANCE\n",
    "<br>\n",
    "□ Minimum (MIN) und Maximum (MAX)\n",
    "<br>\n",
    "– Lexikographisch für nicht-numerische Werte\n",
    "<br>\n",
    "□ Anzahl (COUNT)\n",
    "<br>\n",
    "– Doppelte Werte gehen auch doppelt ein.\n",
    "<br>\n",
    "– Angewandt auf ein beliebiges Attribut ergibt dies die Anzahl der Tupel in der Relation.\n",
    "<br>\n",
    "– Zeilen mit NULL-Werten werden idR mitgezählt."
   ]
  },
  {
   "cell_type": "markdown",
   "metadata": {},
   "source": [
    "$R$\n",
    "\n",
    "|A|B|\n",
    "|-|-|\n",
    "|1|2|\n",
    "|3|4|\n",
    "|1|2|\n",
    "|1|2|"
   ]
  },
  {
   "cell_type": "markdown",
   "metadata": {},
   "source": [
    "SUM(B) = 10\n",
    "<br>\n",
    "AVG(A) = 1,5\n",
    "<br>\n",
    "MIN(A) = 1\n",
    "<br>\n",
    "MAX(B) = 4\n",
    "<br>\n",
    "COUNT(A) = 4\n",
    "<br>\n",
    "COUNT(B) = 4"
   ]
  },
  {
   "cell_type": "markdown",
   "metadata": {},
   "source": [
    "### Aggregation – Beispiele"
   ]
  },
  {
   "cell_type": "markdown",
   "metadata": {},
   "source": [
    "Film\n",
    "\n",
    "|Titel|Jahr|Länge|Typ|StudioName|\n",
    "|-----|----|-----|---|----------|\n",
    "|Total Recall|1990|113|Farbe|Fox|\n",
    "|Basic Instinct|1992|127|Farbe|Disney|\n",
    "|Dead Man|1995|90|s/w|Paramount|"
   ]
  },
  {
   "cell_type": "markdown",
   "metadata": {},
   "source": [
    "■ MAX(Jahr): Jüngster Film\n",
    "<br>\n",
    "■ MIN(Länge): Kürzester Film\n",
    "<br>\n",
    "■ SUM(Länge): Summe der Filmminuten\n",
    "<br>\n",
    "■ AVG(Länge): Durchschnittliche Filmlänge\n",
    "<br>\n",
    "■ MIN(Titel): Alphabetisch erster Film\n",
    "<br>\n",
    "■ COUNT(Titel): Anzahl Filme\n",
    "<br>\n",
    "■ COUNT(StudioName): Anzahl Filme\n",
    "<br>\n",
    "■ AVG(SchauspName): syntax error"
   ]
  },
  {
   "cell_type": "markdown",
   "metadata": {},
   "source": [
    "### Gruppierung"
   ]
  },
  {
   "cell_type": "markdown",
   "metadata": {},
   "source": [
    "■ Partitionierung der Tupel einer Relation gemäß ihrer Werte in einem oder mehr Attributen.\n",
    "<br>\n",
    "□ Hauptzweck: Aggregation auf Teilen einer Relation (Gruppen)\n",
    "<br>\n",
    "□ Gegeben\n",
    "<br>\n",
    "– Film(Titel, Jahr, Länge, inFarbe, StudioName, ProduzentID)\n",
    "<br>\n",
    "□ Gesucht: Gesamtminuten pro Studio\n",
    "<br>\n",
    "– Gesamtminuten(StudioName, SummeMinuten)\n",
    "<br>\n",
    "□ Verfahren:\n",
    "<br>\n",
    "– Gruppiere nach StudioName\n",
    "<br>\n",
    "– Summiere in jeder Gruppe die Länge der Filme\n",
    "<br>\n",
    "– Gebe Paare (Studioname, Summe) aus."
   ]
  },
  {
   "cell_type": "markdown",
   "metadata": {},
   "source": [
    "### Gruppierung (group, $\\gamma$)"
   ]
  },
  {
   "cell_type": "markdown",
   "metadata": {},
   "source": [
    "■ $\\gamma_L$(R) wobei L eine Menge von Attributen ist. Ein Element in L ist entweder\n",
    "<br>\n",
    "1. Ein Gruppierungsattribut nach dem gruppiert wird\n",
    "<br>\n",
    "2. Oder ein Aggregationsoperator auf ein Attribut von R (inkl. Neuen Namen für das aggregierte Attribut)\n",
    "<br>\n",
    "■ Ergebnis wird wie folgt konstruiert:\n",
    "<br>\n",
    "□ Partitioniere R in Gruppen, wobei jede Gruppe gleiche Werte im Gruppierungsattribut hat\n",
    "<br>\n",
    "– Falls kein Gruppierungsattribut angegeben: Ganz R ist die Gruppe\n",
    "<br>\n",
    "□ Für jede Gruppe erzeuge ein Tupel mit\n",
    "<br>\n",
    "– Wert der Gruppierungsattribute\n",
    "<br>\n",
    "– Aggregierte Werte über alle Tupel der Gruppe"
   ]
  },
  {
   "cell_type": "markdown",
   "metadata": {},
   "source": [
    "### Gruppierung – Beispiele"
   ]
  },
  {
   "cell_type": "markdown",
   "metadata": {},
   "source": [
    "Film\n",
    "\n",
    "|Titel|Jahr|Länge|Typ|StudioName|\n",
    "|-----|----|-----|---|----------|\n",
    "|Total Recall|1990|113|Farbe|Fox|\n",
    "|Basic Instinct|1992|127|Farbe|Disney|\n",
    "|Dead Man|1995|90|s/w|Paramount|"
   ]
  },
  {
   "cell_type": "markdown",
   "metadata": {},
   "source": [
    "■ Durchschnittliche Filmlänge pro Studio\n",
    "<br>\n",
    "□ $\\gamma_{Studio, AVG(Länge)→Durchschnittslänge}$(Film)\n",
    "<br><br>\n",
    "■ Anzahl der Filme pro Schauspieler\n",
    "<br>\n",
    "□ $\\gamma_{SchauspName, Count(Titel)→Filmanzahl}$(Film)\n",
    "<br><br>\n",
    "■ Durchschnittliche Anzahl der Filme pro Schauspieler\n",
    "<br>\n",
    "□ $\\gamma_{AVG(Filmanzahl)}(\\gamma_{SchauspName, Count(Titel)→Filmanzahl}$(Film))\n",
    "<br><br>\n",
    "■ Zu Hause:\n",
    "<br>\n",
    "□ Anzahl Schauspieler pro Film\n",
    "<br>\n",
    "□ Durchschnittliche Anzahl der Schauspieler pro Film\n",
    "<br>\n",
    "□ Studiogründung: Kleinstes Jahr pro Studio\n",
    "<br>\n",
    "<br>\n",
    "<br>\n",
    "■ Gegeben: SpieltIn(Titel, Jahr, SchauspName)\n",
    "<br>\n",
    "■ Gesucht: Für jeden Schauspieler, der in mindestens 3 Filmen spielte, das Jahr des ersten Filmes.\n",
    "<br>\n",
    "■ Idee\n",
    "<br>\n",
    "□ Gruppierung nach SchauspName\n",
    "<br>\n",
    "□ Bilde\n",
    "<br>\n",
    "– Minimum vom Jahr\n",
    "<br>\n",
    "– Count von Titeln\n",
    "<br>\n",
    "□ Selektion nach Anzahl der Filme\n",
    "<br>\n",
    "□ Projektion auf Schauspielername und Jahr\n",
    "<br>\n",
    "■ $\\pi_{SchauspName, MinJahr}(\\sigma_{AnzahlTitel≥3}(\\gamma_{SchauspName, MIN(Jahr)→MinJahr, COUNT(Titel)→AnzahlTitel}(SpieltIn)))$\n",
    "<br>\n",
    "<br>\n",
    "<br>\n",
    "■ Gegeben: SpieltIn(Titel, Jahr, SchauspName)\n",
    "■ Gesucht: Für jeden Schauspieler, der in mindestens 3 Filmen spielte, das Jahr des ersten Filmes und den Titel\n",
    "dieses Films.\n",
    "□ Genauer: Ein Titel des Schauspielers in dem Jahr\n",
    "■ Idee\n",
    "□ Wie zuvor\n",
    "□ Anschließend Self-Join um Filmtitel zu bekommen.\n",
    "□ Anschließend Gruppierung nach SchauspName um Gruppe auf einen Film zu reduzieren.\n",
    "■ $\\gamma_{SchauspName, MIN(MinJahr)→MinJahr, MIN(Titel)→Titel}( (SpieltIn) ⋈_{SchauspName = SchauspName, MinJahr = Jahr}\n",
    "(\\pi_{SchauspName, MinJahr}(\\sigma_{AnzahlTitel≥3}(\n",
    "\\gamma_{SchauspName, MIN(Jahr)→MinJahr, COUNT(Titel)→AnzahlTitel}(SpieltIn)\n",
    ") ) )\n",
    ")$"
   ]
  },
  {
   "cell_type": "markdown",
   "metadata": {},
   "source": [
    "### Komplexe Ausdrücke – Beispiele\n",
    "<br>\n",
    "<br>\n",
    "■ Stud(Matrikel, Name, Semester)\n",
    "<br>\n",
    "■ Prof(ProfName, Fachgebiet, GebJahr)\n",
    "<br>\n",
    "■ VL(VL_ID, Titel, Saal)\n",
    "<br>\n",
    "■ Lehrt(ProfName, VL_ID)\n",
    "<br>\n",
    "■ Hört(Matrikel,VL_ID)\n",
    "<br>\n",
    "■ Gesucht: Fachgebiete von Professoren, die VL geben, die weniger als drei Hörer haben.\n",
    "<br>\n",
    "■ $\\gamma_{Fachgebiet}$( (Prof ⋈ Lehrt) ⋈\n",
    "($\\sigma_{ COUNT < 3(gVL_ID,COUNT(Matrikel)-> COUNT}$(Hört))\n",
    ")\n",
    "<br>\n",
    "■ $\\pi_{Fachgebiet}$( (Prof ⋈ Lehrt) ⋈\n",
    "($\\sigma_{ COUNT < 3(gVL_ID,COUNT(Matrikel)-> COUNT}$(Hört))\n",
    ")"
   ]
  },
  {
   "cell_type": "markdown",
   "metadata": {},
   "source": [
    "### Sortierung (sort, $\\tau$)\n",
    "<br>\n",
    "<br>\n",
    "■ $\\tau_L$(R) wobei L eine Attributliste aus R ist.\n",
    "<br>\n",
    "□ Falls L = (A1,A2,…,An) wird zuerst nach A1, bei gleichen A1 nach A2 usw. sortiert.\n",
    "<br><br>\n",
    "■ Wichtig: Ergebnis der Sortierung ist keine Menge, sondern eine Liste.\n",
    "<br>\n",
    "□ Deshalb: Sortierung ist letzter Operator eines Ausdrucks. Ansonsten würden wieder Mengen entstehen und\n",
    "die Sortierung wäre verloren.\n",
    "<br>\n",
    "□ Trotzdem: In DBMS macht es manchmal auch Sinn zwischendurch zu sortieren."
   ]
  },
  {
   "cell_type": "markdown",
   "metadata": {},
   "source": [
    "### Semi-Join (⋊)\n",
    "<br>\n",
    "<br>\n",
    "■ Formal\n",
    "<br>\n",
    "□ R(A), S(B)\n",
    "<br>\n",
    "□ R ⋉ S : = $\\pi_A$(R⋈S)\n",
    "<br>\n",
    "= $\\pi_A$(R) ⋈$\\pi_{A\\cap B}$(S)\n",
    "<br>\n",
    "= R⋈$\\pi_{A\\cap B}$(S)\n",
    "<br>\n",
    "□ In Worten: Join über R und S, aber nur die Attribute von R sind interessant.\n",
    "<br>\n",
    "□ Definition analog für Theta-Join\n",
    "<br>\n",
    "■ Nicht kommutativ: R ⋉ S ≠ S ⋉ R"
   ]
  },
  {
   "cell_type": "markdown",
   "metadata": {},
   "source": [
    "### Semi-Join\n"
   ]
  },
  {
   "cell_type": "markdown",
   "metadata": {},
   "source": [
    "![title](semijoin1.jpg)"
   ]
  },
  {
   "cell_type": "markdown",
   "metadata": {},
   "source": [
    "![title](semijoin2.jpg)"
   ]
  },
  {
   "cell_type": "markdown",
   "metadata": {},
   "source": [
    "![title](semijoin3.jpg)"
   ]
  },
  {
   "cell_type": "markdown",
   "metadata": {},
   "source": [
    "### Outer Joins (Äußere Verbünde, |⋈|)\n",
    "<br>\n",
    "<br>\n",
    "Übernahme von „dangling tuples“ in das Ergebnis und Auffüllen mit Nullwerten (padding)\n",
    "<br>\n",
    "Nullwert: $\\perp$ bzw. null (≠ 0)\n",
    "<br><br>\n",
    "Full outer join\n",
    "<br>\n",
    "Übernimmt alle Tupel beider Operanden\n",
    "R |⋈| S\n",
    "<br><br>\n",
    "Left outer join (right outer join)\n",
    "<br>\n",
    "Übernimmt alle Tupel des linken (rechten) Operanden\n",
    "<br>\n",
    "R |⋈ S (bzw. R ⋈| S)\n",
    "<br><br>\n",
    "Herkömmlicher Join auch „Inner join“\n",
    "<br>\n",
    "<br>\n",
    "<br>\n",
    "R⋈S\n",
    "<br>\n",
    "R |⋈ S\n",
    "<br>\n",
    "R ⋈| S\n",
    "<br>\n",
    "R |⋈| S"
   ]
  },
  {
   "cell_type": "markdown",
   "metadata": {},
   "source": [
    "![title](outerjoin1.jpg)"
   ]
  },
  {
   "cell_type": "markdown",
   "metadata": {},
   "source": [
    "![title](outerjoin2.jpg)"
   ]
  },
  {
   "cell_type": "markdown",
   "metadata": {},
   "source": [
    "### Outer Union (⊎)\n",
    "<br>\n",
    "<br>\n",
    "■ Wie Vereinigung, aber auch mit inkompatiblen Schemata\n",
    "<br>\n",
    "□ Schema ist Vereinigung der Attributmengen\n",
    "<br>\n",
    "□ Fehlende Werte werden mit Nullwerten ergänzt"
   ]
  },
  {
   "cell_type": "markdown",
   "metadata": {},
   "source": [
    "$R$\n",
    "\n",
    "|A|B|C|\n",
    "|-|-|-|\n",
    "|1|2|3|\n",
    "|6|7|8|\n",
    "|9|7|8|"
   ]
  },
  {
   "cell_type": "markdown",
   "metadata": {},
   "source": [
    "$S$\n",
    "\n",
    "|B|C|D|\n",
    "|-|-|-|\n",
    "|2|5|6|\n",
    "|2|3|5|\n",
    "|7|8|10|"
   ]
  },
  {
   "cell_type": "markdown",
   "metadata": {},
   "source": [
    "$R⊎S$\n",
    "\n",
    "|A|B|C|D|\n",
    "|-|-|-|-|\n",
    "|1|2|3|$\\perp$|\n",
    "|6|7|8|$\\perp$|\n",
    "|9|7|8|$\\perp$|\n",
    "|$\\perp$|2|5|6|\n",
    "|$\\perp$|2|3|5|\n",
    "|$\\perp$|7|8|10|"
   ]
  },
  {
   "cell_type": "markdown",
   "metadata": {},
   "source": [
    "### Division (division, /)\n",
    "<br>\n",
    "<br>\n",
    "■ Typischerweise nicht als primitiver Operator unterstützt.\n",
    "<br>\n",
    "■ Finde alle Segler, die alle Segelboote reserviert haben.\n",
    "<br>\n",
    "■ Relation R(x,y), Relation S(y)\n",
    "<br>\n",
    "□ R/S = { t $\\in$ R(x) | $\\forall$ y $\\in$ S $\\exists$ <x, y> $\\in$ R}\n",
    "<br>\n",
    "□ R/S enthält alle x-Tupel (Segler), so dass es für jedes y-Tupel (Boot) in S ein xy-Tupel in R gibt.\n",
    "<br>\n",
    "□ Andersherum: Falls die Menge der y-Werte (Boote), die mit einem x-Wert (Segler) assoziiert sind, alle y-Werte\n",
    "in S enthält, so ist der x-Wert in R/S.\n",
    "<br>\n",
    "■ Hole die Namen von Angestellten, die an allen Projekten arbeiten.\n",
    "<br>\n",
    "□ Sinnvoller: Hole die Namen von Angestellten, die an allen Projekten arbeiten, in denen auch „Thomas Müller“\n",
    "arbeitet."
   ]
  },
  {
   "cell_type": "markdown",
   "metadata": {},
   "source": [
    "### Division – Beispiel"
   ]
  },
  {
   "cell_type": "markdown",
   "metadata": {},
   "source": [
    "![title](division1.jpg)"
   ]
  },
  {
   "cell_type": "markdown",
   "metadata": {},
   "source": [
    "### Division ausdrücken\n",
    "<br>\n",
    "<br>\n",
    "■ Division ist kein essentieller Operator, nur nützliche Abkürzung.\n",
    "<br>\n",
    "□ Ebenso wie Joins, aber Joins sind so üblich, dass Systeme sie speziell unterstützen.\n",
    "<br><br>\n",
    "■ Idee: Um R/S zu berechnen, berechne alle x-Werte, die nicht durch einen y-Wert in S „disqualifiziert“ werden.\n",
    "<br>\n",
    "– x-Wert ist disqualifiziert, falls man durch Anfügen eines y-Wertes ein xy-Tupel erhält, das nicht in R ist.\n",
    "<br>\n",
    "□ Disqualifizierte x-Werte: $\\pi_{x}$ (($\\pi_{x}$(R) $\\times$ S) − R)\n",
    "<br>\n",
    "□ R/S: $\\pi_{x}$(R) − alle disqualifizierten Tupel"
   ]
  },
  {
   "cell_type": "markdown",
   "metadata": {},
   "source": [
    "### Division"
   ]
  },
  {
   "cell_type": "markdown",
   "metadata": {},
   "source": [
    "![title](division2.jpg)"
   ]
  },
  {
   "cell_type": "markdown",
   "metadata": {},
   "source": [
    "## Multiple Choice\n",
    "\n",
    "- Die hier verwendete Version des Multiple-Choice-Trainers von EILD.nrw wird nur in das JupyterBook eingebunden und nicht selbst gehostet. Der Multiple-Choice-Trainer wird durch GitHub-Pages gehostet. \n",
    "- Alle Fragen und Kategorien befinden sich zurzeit in Überarbeitung und sind nicht final. "
   ]
  },
  {
   "cell_type": "code",
   "execution_count": 1,
   "metadata": {
    "tags": [
     "remove-input"
    ]
   },
   "outputs": [
    {
     "data": {
      "text/html": [
       "\n",
       "<iframe\n",
       "    width=\"100%\"\n",
       "    height=\"800\"\n",
       "    src=\"https://lejuliennn.github.io/mct-trainer/#/quiz/categories/relationalealgebra\"\n",
       "    frameborder=\"0\"\n",
       "    allowfullscreen\n",
       "\n",
       "></iframe>\n"
      ],
      "text/plain": [
       "<IPython.lib.display.IFrame at 0x7fc2140c9580>"
      ]
     },
     "execution_count": 1,
     "metadata": {},
     "output_type": "execute_result"
    }
   ],
   "source": [
    "from IPython.display import IFrame\n",
    "\n",
    "url = \"https://lejuliennn.github.io/mct-trainer/#/quiz/categories/relationalealgebra\"\n",
    "IFrame(src=url, width='100%', height=800)"
   ]
  },
  {
   "cell_type": "code",
   "execution_count": null,
   "metadata": {},
   "outputs": [],
   "source": []
  }
 ],
 "metadata": {
  "kernelspec": {
   "display_name": "Python 3 (ipykernel)",
   "language": "python",
   "name": "python3"
  },
  "language_info": {
   "codemirror_mode": {
    "name": "ipython",
    "version": 3
   },
   "file_extension": ".py",
   "mimetype": "text/x-python",
   "name": "python",
   "nbconvert_exporter": "python",
   "pygments_lexer": "ipython3",
   "version": "3.8.10"
  }
 },
 "nbformat": 4,
 "nbformat_minor": 4
}