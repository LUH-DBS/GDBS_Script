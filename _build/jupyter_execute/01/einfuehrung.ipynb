{
 "cells": [
  {
   "cell_type": "markdown",
   "metadata": {},
   "source": [
    "# Einführung"
   ]
  },
  {
   "cell_type": "markdown",
   "metadata": {},
   "source": [
    "## Was sind Daten"
   ]
  },
  {
   "cell_type": "markdown",
   "metadata": {},
   "source": [
    "Daten sind eine digitale Repräsentation von Dingen, Entitäten, Wissen und Informationen aus bzw. in der wirklichen Welt. Um mit Daten zu arbeiten, ergeben sich folgende Kernfragen: \n",
    "<br>\n",
    "<br>\n",
    "Welche Daten speichere ich? Wie speichere ich die Daten? Wie frage ich Daten ab? Wie erledige ich all dies effizient und sicher?\n",
    "<br>\n",
    "<br>\n",
    "Notiz: sehr verschiedene Beispiele für Daten, was sind Metadaten ?"
   ]
  },
  {
   "cell_type": "markdown",
   "metadata": {},
   "source": [
    "## Aufbau eines Datenbanksystems "
   ]
  },
  {
   "cell_type": "markdown",
   "metadata": {},
   "source": [
    "![title](dbms_aufbau2.jpg)"
   ]
  },
  {
   "cell_type": "markdown",
   "metadata": {},
   "source": [
    "Ein Datenbanksystem besteht aus der Datenbank und dem Datenbankmanagementsystem(DBMS). Die Datenbak setzt sich aus den Daten selbst und den Metadaten zusammen, die die Daten beschreiben. Das DBMS ist ein Softwarekomoponente die server-basiert arbeitet. Es ermöglicht den Zugriff auf eine oder mehrere Datenbanken. \n",
    "<br>\n",
    "<br>\n",
    "Notiz: Anwendungen"
   ]
  },
  {
   "cell_type": "markdown",
   "metadata": {},
   "source": [
    "## Aufgaben eines Datenbanksystems(DBMS)"
   ]
  },
  {
   "cell_type": "markdown",
   "metadata": {},
   "source": [
    "Die primären Aufgaben eines Datenbanksystems sind ...\n",
    "<br>Unterstützung des Datenmodells\n",
    "<br> Bereitstellung einer Anfragesprache\n",
    "<br> Data definition language (DDL)\n",
    "<br>Data manipulation language (DML)\n",
    "<br> Effiziente Anfragebearbeitung\n",
    "<br> Robustheit\n",
    "<br> Wahrung der Datenintegrität (Konsistenz etc.)\n",
    "<br> Abfangen von Systemfehlern\n",
    "<br> Speicherverwaltung (RAM & Disk)\n",
    "<br> Transaktionsmanagement\n",
    "<br> Auch im Mehr-Benutzer-Betrieb\n",
    "<br> Nutzerverwaltung & Zugangskontrolle\n",
    "<br>\n",
    "<br>\n",
    "Notiz: Beispiele für die Aufgaben aus der echten Welt, Wieso diese Aufgaben, ist jede Aufgabe zwingend notwendig bzw. welche"
   ]
  },
  {
   "cell_type": "markdown",
   "metadata": {},
   "source": [
    "## Anforderungen an DBMS nach Codd 1982"
   ]
  },
  {
   "cell_type": "markdown",
   "metadata": {},
   "source": [
    "![title](anforderungen_nach_codd.jpg)"
   ]
  },
  {
   "cell_type": "markdown",
   "metadata": {},
   "source": [
    "■ Integration\n",
    "<br>\n",
    "□ Einheitliche, nichtredundante Datenverwaltung\n",
    "<br>\n",
    "<br>\n",
    "■ Operationen\n",
    "<br>\n",
    "□ Definieren, Speichern, Abfragen, Ändern\n",
    "<br>\n",
    "□ Deklarativ\n",
    "<br>\n",
    "<br>\n",
    "■ Benutzersichten\n",
    "<br>\n",
    "□ Verschiedene Anwendungen, Zugriffskontrolle, Umstrukturierung\n",
    "<br>\n",
    "<br>\n",
    "■ Integritätssicherung\n",
    "<br>\n",
    "□ Korrektheit und Konsistenz des Datenbankinhalts\n",
    "<br>\n",
    "<br>\n",
    "■ Transaktionen\n",
    "<br>\n",
    "□ Mehrere DB-Operationen als Funktionseinheit\n",
    "<br>\n",
    "<br>\n",
    "■ Synchronisation\n",
    "<br>\n",
    "□ Parallele Transaktionen koordinieren\n",
    "<br>\n",
    "<br>\n",
    "■ Datenschutz\n",
    "<br>\n",
    "□ Ausschluss nicht-autorisierter Zugriffe\n",
    "<br>\n",
    "<br>\n",
    "■ Datensicherung\n",
    "<br>\n",
    "□ Wiederherstellung von Daten nach Systemfehlern\n",
    "<br>\n",
    "□ Persistenz\n",
    "<br>\n",
    "□ Große Datenmengen, Effizienz\n",
    "<br>\n",
    "<br>\n",
    "■ Katalog\n",
    "<br>\n",
    "□ Zugriffe auf Datenbankbeschreibungen im Data Dictionary (Metadaten)"
   ]
  },
  {
   "cell_type": "markdown",
   "metadata": {},
   "source": [
    "NICHT enthalten: S.3-5, S. 22-25, S. 28, S. 38-46"
   ]
  }
 ],
 "metadata": {
  "kernelspec": {
   "display_name": "Python 3",
   "language": "python",
   "name": "python3"
  },
  "language_info": {
   "codemirror_mode": {
    "name": "ipython",
    "version": 3
   },
   "file_extension": ".py",
   "mimetype": "text/x-python",
   "name": "python",
   "nbconvert_exporter": "python",
   "pygments_lexer": "ipython3",
   "version": "3.9.7"
  }
 },
 "nbformat": 4,
 "nbformat_minor": 4
}