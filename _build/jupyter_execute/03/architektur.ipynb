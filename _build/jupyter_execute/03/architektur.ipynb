{
 "cells": [
  {
   "cell_type": "markdown",
   "metadata": {},
   "source": [
    "# Architektur"
   ]
  },
  {
   "cell_type": "markdown",
   "metadata": {},
   "source": [
    "Einführungstext."
   ]
  },
  {
   "cell_type": "markdown",
   "metadata": {},
   "source": [
    "## Schichtenmodell"
   ]
  },
  {
   "cell_type": "markdown",
   "metadata": {},
   "source": [
    "![title](schichtenmodell.jpg)"
   ]
  },
  {
   "cell_type": "markdown",
   "metadata": {},
   "source": [
    "■ Interne (physische) Schicht/Sicht\n",
    "<br>\n",
    "□ Speichermedium (Tape, Festplatte)\n",
    "<br>\n",
    "□ Speicherort (Zylinder, Block)\n",
    "<br>\n",
    "Datei(en), Seiten, Blocks\n",
    "<br>\n",
    "<br>\n",
    "■ Konzeptionelle (logische) Schicht/Sicht\n",
    "<br>\n",
    "□ Unabhängig von physischer Schicht\n",
    "<br>\n",
    "□ Definiert durch Datenmodell\n",
    "<br>\n",
    "□ Stabiler Bezugspunkt für interne und externe Schichten\n",
    "<br>\n",
    "□ Schema: Relationen, Attribute, Typen,\n",
    "Integritätsbedingungen\n",
    "<br>\n",
    "<br>\n",
    "■ Externe (logische) Schicht/Sicht\n",
    "<br>\n",
    "□ Anwendungsprogramme\n",
    "<br>\n",
    "□ Nur auf die relevanten Daten\n",
    "<br>\n",
    "□ Enthält möglicherweise Aggregationen und Transformationen\n",
    "<br>\n",
    "„SQL Views“ (Sichten)\n",
    "<br>\n",
    "□ Anwendungen\n",
    "<br>\n",
    "<br>"
   ]
  },
  {
   "cell_type": "markdown",
   "metadata": {},
   "source": [
    "## Systemarchitekturen"
   ]
  },
  {
   "cell_type": "markdown",
   "metadata": {},
   "source": [
    "■ Beschreibung der Komponenten eines Datenbanksystems\n",
    "<br>\n",
    "■ Standardisierung der Schnittstellen zwischen Komponenten"
   ]
  },
  {
   "cell_type": "markdown",
   "metadata": {},
   "source": [
    "##### ANSI-SPARC-Architetktur"
   ]
  },
  {
   "cell_type": "markdown",
   "metadata": {},
   "source": [
    "![title](ansi-sparc-architektur.jpg)"
   ]
  },
  {
   "cell_type": "markdown",
   "metadata": {},
   "source": [
    "ANSI-SPARC-Architektur worum gehts allgemein:\n",
    "<br>\n",
    "<br>\n",
    "■ ANSI: American National Standards Institute\n",
    "<br>\n",
    "■ SPARC: Standards Planning and Requirements Committee\n",
    "<br>\n",
    "■ DBMS Architekturvorschlag von 1975\n",
    "<br>\n",
    "■ 3-Schichten-Architektur verfeinert\n",
    "<br>\n",
    "□ Interne Ebene / Betriebssystem verfeinert\n",
    "<br>\n",
    "□ Mehrere interaktive und Programmier-Komponenten\n",
    "<br>\n",
    "□ Schnittstellen bezeichnet und normiert"
   ]
  },
  {
   "cell_type": "markdown",
   "metadata": {},
   "source": [
    "ANSI-SPARC-Architektur was für Komponenten gibt es:\n",
    "<br>\n",
    "■ Definitionskomponenten \n",
    "<br>\n",
    "□ DDL, Sichten, Dateiorganisation, Indizes\n",
    "<br>\n",
    "<br>\n",
    "■ Programmierkomponenten \n",
    "<br>\n",
    "□ Entwicklungsumgebung und Programmiersprache \n",
    "<br>\n",
    "□ Integration von DB-Operationen \n",
    "<br>\n",
    "<br>\n",
    "■ Benutzerkomponenten \n",
    "<br>\n",
    "□ Anfrageinterface für Experten \n",
    "<br>\n",
    "□ DB-Anwendungen für Laien \n",
    "<br>\n",
    "<br>\n",
    "■ Transformationskomp. \n",
    "<br>\n",
    "□ Anfrageausführung und Darstellung der Ergebnisse\n",
    "<br>\n",
    "<br>\n",
    "■ Data Dictionary \n",
    "<br>\n",
    "□ Metadaten (in relationalen Systemtabelle)"
   ]
  },
  {
   "cell_type": "markdown",
   "metadata": {},
   "source": [
    "Notiz: aktuelle Relevanz"
   ]
  }
 ],
 "metadata": {
  "kernelspec": {
   "display_name": "Python 3",
   "language": "python",
   "name": "python3"
  },
  "language_info": {
   "codemirror_mode": {
    "name": "ipython",
    "version": 3
   },
   "file_extension": ".py",
   "mimetype": "text/x-python",
   "name": "python",
   "nbconvert_exporter": "python",
   "pygments_lexer": "ipython3",
   "version": "3.8.10"
  }
 },
 "nbformat": 4,
 "nbformat_minor": 2
}