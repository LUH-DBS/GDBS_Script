{
 "cells": [
  {
   "cell_type": "markdown",
   "metadata": {},
   "source": [
    "# sql test"
   ]
  },
  {
   "cell_type": "code",
   "execution_count": 1,
   "metadata": {
    "tags": [
     "hide-output"
    ]
   },
   "outputs": [
    {
     "name": "stdout",
     "output_type": "stream",
     "text": [
      "Collecting sqlalchemy==1.3.9\r\n",
      "  Using cached SQLAlchemy-1.3.9-cp310-cp310-linux_x86_64.whl\r\n"
     ]
    },
    {
     "name": "stdout",
     "output_type": "stream",
     "text": [
      "Installing collected packages: sqlalchemy\r\n",
      "  Attempting uninstall: sqlalchemy\r\n",
      "    Found existing installation: SQLAlchemy 1.4.39\r\n"
     ]
    },
    {
     "name": "stdout",
     "output_type": "stream",
     "text": [
      "    Uninstalling SQLAlchemy-1.4.39:\r\n"
     ]
    },
    {
     "name": "stdout",
     "output_type": "stream",
     "text": [
      "      Successfully uninstalled SQLAlchemy-1.4.39\r\n"
     ]
    },
    {
     "name": "stdout",
     "output_type": "stream",
     "text": [
      "\u001b[31mERROR: pip's dependency resolver does not currently take into account all the packages that are installed. This behaviour is the source of the following dependency conflicts.\r\n",
      "jupyter-cache 0.4.3 requires sqlalchemy<1.5,>=1.3.12, but you have sqlalchemy 1.3.9 which is incompatible.\u001b[0m\u001b[31m\r\n",
      "\u001b[0mSuccessfully installed sqlalchemy-1.3.9\r\n"
     ]
    },
    {
     "name": "stdout",
     "output_type": "stream",
     "text": [
      "Requirement already satisfied: ipython-sql in /home/jennywu/anaconda3/envs/xeus-sqlite/lib/python3.10/site-packages (0.4.1)\r\n",
      "Requirement already satisfied: sqlalchemy>=0.6.7 in /home/jennywu/anaconda3/envs/xeus-sqlite/lib/python3.10/site-packages (from ipython-sql) (1.3.9)\r\n",
      "Requirement already satisfied: sqlparse in /home/jennywu/anaconda3/envs/xeus-sqlite/lib/python3.10/site-packages (from ipython-sql) (0.4.2)\r\n",
      "Requirement already satisfied: ipython-genutils>=0.1.0 in /home/jennywu/anaconda3/envs/xeus-sqlite/lib/python3.10/site-packages (from ipython-sql) (0.2.0)\r\n",
      "Requirement already satisfied: ipython>=1.0 in /home/jennywu/anaconda3/envs/xeus-sqlite/lib/python3.10/site-packages (from ipython-sql) (8.4.0)\r\n",
      "Requirement already satisfied: prettytable<1 in /home/jennywu/anaconda3/envs/xeus-sqlite/lib/python3.10/site-packages (from ipython-sql) (0.7.2)\r\n",
      "Requirement already satisfied: six in /home/jennywu/anaconda3/envs/xeus-sqlite/lib/python3.10/site-packages (from ipython-sql) (1.16.0)\r\n"
     ]
    },
    {
     "name": "stdout",
     "output_type": "stream",
     "text": [
      "Requirement already satisfied: backcall in /home/jennywu/anaconda3/envs/xeus-sqlite/lib/python3.10/site-packages (from ipython>=1.0->ipython-sql) (0.2.0)\r\n",
      "Requirement already satisfied: jedi>=0.16 in /home/jennywu/anaconda3/envs/xeus-sqlite/lib/python3.10/site-packages (from ipython>=1.0->ipython-sql) (0.18.1)\r\n",
      "Requirement already satisfied: stack-data in /home/jennywu/anaconda3/envs/xeus-sqlite/lib/python3.10/site-packages (from ipython>=1.0->ipython-sql) (0.3.0)\r\n",
      "Requirement already satisfied: prompt-toolkit!=3.0.0,!=3.0.1,<3.1.0,>=2.0.0 in /home/jennywu/anaconda3/envs/xeus-sqlite/lib/python3.10/site-packages (from ipython>=1.0->ipython-sql) (3.0.30)\r\n",
      "Requirement already satisfied: matplotlib-inline in /home/jennywu/anaconda3/envs/xeus-sqlite/lib/python3.10/site-packages (from ipython>=1.0->ipython-sql) (0.1.3)\r\n",
      "Requirement already satisfied: setuptools>=18.5 in /home/jennywu/anaconda3/envs/xeus-sqlite/lib/python3.10/site-packages (from ipython>=1.0->ipython-sql) (63.1.0)\r\n",
      "Requirement already satisfied: pickleshare in /home/jennywu/anaconda3/envs/xeus-sqlite/lib/python3.10/site-packages (from ipython>=1.0->ipython-sql) (0.7.5)\r\n",
      "Requirement already satisfied: pygments>=2.4.0 in /home/jennywu/anaconda3/envs/xeus-sqlite/lib/python3.10/site-packages (from ipython>=1.0->ipython-sql) (2.12.0)\r\n",
      "Requirement already satisfied: decorator in /home/jennywu/anaconda3/envs/xeus-sqlite/lib/python3.10/site-packages (from ipython>=1.0->ipython-sql) (5.1.1)\r\n",
      "Requirement already satisfied: pexpect>4.3 in /home/jennywu/anaconda3/envs/xeus-sqlite/lib/python3.10/site-packages (from ipython>=1.0->ipython-sql) (4.8.0)\r\n",
      "Requirement already satisfied: traitlets>=5 in /home/jennywu/anaconda3/envs/xeus-sqlite/lib/python3.10/site-packages (from ipython>=1.0->ipython-sql) (5.3.0)\r\n",
      "Requirement already satisfied: parso<0.9.0,>=0.8.0 in /home/jennywu/anaconda3/envs/xeus-sqlite/lib/python3.10/site-packages (from jedi>=0.16->ipython>=1.0->ipython-sql) (0.8.3)\r\n",
      "Requirement already satisfied: ptyprocess>=0.5 in /home/jennywu/anaconda3/envs/xeus-sqlite/lib/python3.10/site-packages (from pexpect>4.3->ipython>=1.0->ipython-sql) (0.7.0)\r\n",
      "Requirement already satisfied: wcwidth in /home/jennywu/anaconda3/envs/xeus-sqlite/lib/python3.10/site-packages (from prompt-toolkit!=3.0.0,!=3.0.1,<3.1.0,>=2.0.0->ipython>=1.0->ipython-sql) (0.2.5)\r\n"
     ]
    },
    {
     "name": "stdout",
     "output_type": "stream",
     "text": [
      "Requirement already satisfied: pure-eval in /home/jennywu/anaconda3/envs/xeus-sqlite/lib/python3.10/site-packages (from stack-data->ipython>=1.0->ipython-sql) (0.2.2)\r\n",
      "Requirement already satisfied: asttokens in /home/jennywu/anaconda3/envs/xeus-sqlite/lib/python3.10/site-packages (from stack-data->ipython>=1.0->ipython-sql) (2.0.5)\r\n",
      "Requirement already satisfied: executing in /home/jennywu/anaconda3/envs/xeus-sqlite/lib/python3.10/site-packages (from stack-data->ipython>=1.0->ipython-sql) (0.8.3)\r\n"
     ]
    }
   ],
   "source": [
    "!pip install sqlalchemy==1.3.9\n",
    "!pip install ipython-sql"
   ]
  },
  {
   "cell_type": "code",
   "execution_count": 2,
   "metadata": {},
   "outputs": [],
   "source": [
    "%load_ext sql\n",
    "%sql sqlite:///imdb.db"
   ]
  },
  {
   "cell_type": "code",
   "execution_count": 3,
   "metadata": {},
   "outputs": [
    {
     "name": "stdout",
     "output_type": "stream",
     "text": [
      " * sqlite:///imdb.db\n",
      "Done.\n"
     ]
    },
    {
     "data": {
      "text/html": [
       "<table>\n",
       "    <tr>\n",
       "        <th>name</th>\n",
       "    </tr>\n",
       "    <tr>\n",
       "        <td>Krug, Manfred</td>\n",
       "    </tr>\n",
       "    <tr>\n",
       "        <td>Krug, Manfred</td>\n",
       "    </tr>\n",
       "    <tr>\n",
       "        <td>Krug, Manfred</td>\n",
       "    </tr>\n",
       "</table>"
      ],
      "text/plain": [
       "[('Krug, Manfred',), ('Krug, Manfred',), ('Krug, Manfred',)]"
      ]
     },
     "execution_count": 3,
     "metadata": {},
     "output_type": "execute_result"
    }
   ],
   "source": [
    "%sql SELECT name FROM actor WHERE name LIKE '%Krug%'"
   ]
  },
  {
   "cell_type": "code",
   "execution_count": 4,
   "metadata": {},
   "outputs": [
    {
     "name": "stdout",
     "output_type": "stream",
     "text": [
      " * sqlite:///imdb.db\n",
      "(sqlite3.OperationalError) near \"TABLE_EXISTS\": syntax error\n",
      "[SQL: TABLE_EXISTS actor]\n",
      "(Background on this error at: http://sqlalche.me/e/e3q8)\n"
     ]
    }
   ],
   "source": [
    "%sql TABLE_EXISTS actor "
   ]
  }
 ],
 "metadata": {
  "celltoolbar": "Edit Metadata",
  "kernelspec": {
   "display_name": "Python 3 (ipykernel)",
   "language": "python",
   "name": "python3"
  },
  "language_info": {
   "codemirror_mode": {
    "name": "ipython",
    "version": 3
   },
   "file_extension": ".py",
   "mimetype": "text/x-python",
   "name": "python",
   "nbconvert_exporter": "python",
   "pygments_lexer": "ipython3",
   "version": "3.10.5"
  }
 },
 "nbformat": 4,
 "nbformat_minor": 2
}