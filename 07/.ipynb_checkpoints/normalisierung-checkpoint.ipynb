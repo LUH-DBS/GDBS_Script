{
 "cells": [
  {
   "cell_type": "markdown",
   "metadata": {},
   "source": [
    "# Normalisierung"
   ]
  },
  {
   "cell_type": "markdown",
   "metadata": {},
   "source": [
    "Motivation\n",
    "<br>\n",
    "■ Bisher: Direkte Übersetzung von ER-Diagrammen in das relationale Modell\n",
    "<br><br>\n",
    "■ Verbesserungen sind möglich (Verfeinern des logischen Entwurfs)\n",
    "<br>\n",
    "□ Aufgrund bestimmter Nebenbedingungen\n",
    "<br>\n",
    "□ Insbesondere: Aufgrund von funktionalen Abhängigkeiten\n",
    "<br>\n",
    "– FDs: Functional dependencies\n",
    "<br><br>\n",
    "■ Vermeidung von Redundanzen: Aufspalten von Relationenschemata, ohne gleichzeitig\n",
    "<br>\n",
    "□ semantische Informationen zu verlieren,\n",
    "<br>\n",
    "□ die Möglichkeit zur Rekonstruktion der Relationen zu verlieren.\n",
    "<br>\n",
    "■ Verschiedene Normalformen"
   ]
  },
  {
   "cell_type": "markdown",
   "metadata": {},
   "source": [
    "## Funktionale Abhängigkeiten (FDs)"
   ]
  },
  {
   "cell_type": "markdown",
   "metadata": {},
   "source": [
    "### Definition – Funktionale Abhängigkeit"
   ]
  },
  {
   "cell_type": "markdown",
   "metadata": {},
   "source": [
    "■ „X → A“ ist eine Aussage über eine Relation R:\n",
    "<br>\n",
    "Immer wenn zwei Tupel in den Werten der Attributmenge X übereinstimmen, stimmen sie auch im Attributwert\n",
    "für A überein.\n",
    "<br>\n",
    "□ Beispiel\n",
    "<br>\n",
    "– Titel, Jahr → Länge\n",
    "<br>\n",
    "□ Notation\n",
    "<br>\n",
    "– …, X, Y, Z sind Attributmengen\n",
    "<br>\n",
    "– A, B, C, … sind Attribute\n",
    "<br>\n",
    "– X → A: „X bestimmt A funktional.“\n",
    "<br>\n",
    "– Kurzform: ABC statt {A, B, C}\n",
    "<br>\n",
    "– Kurzform: Falls X → A, X → B, X → C schreiben wir auch X → ABC oder auch X → Y"
   ]
  },
  {
   "cell_type": "markdown",
   "metadata": {},
   "source": [
    "![title](funktionen.jpg)"
   ]
  },
  {
   "cell_type": "markdown",
   "metadata": {},
   "source": [
    "### Dekomposition und Vereinigung"
   ]
  },
  {
   "cell_type": "markdown",
   "metadata": {},
   "source": [
    "■ Dekompositionsregel □ A1,A2,…An → B1,B2,…,Bm\n",
    "<br><br>\n",
    "■ Vereinigungsregel\n",
    "<br>\n",
    "□ A1,A2,…An → Bi für i=1,…,m\n",
    "<br>\n",
    "□ A1,A2,…An → Bi für i=1,…,m\n",
    "<br>\n",
    "□ A1,A2,…An → B1,B2,…,Bm \n",
    "<br><br>\n",
    "■ Beispiel\n",
    "<br>\n",
    "□ Titel, Jahr → Länge \n",
    "<br>\n",
    "□ Titel, Jahr → Typ\n",
    "<br>\n",
    "□ Titel, Jahr → StudioName \n",
    "<br>\n",
    "□ <=> Titel, Jahr → Länge, Typ, StudioName \n",
    "<br><br>\n",
    "■ Dekomposition funktioniert nur rechts! \n",
    "<br>\n",
    "□ Titel, Jahr → Länge – ⇏ Jahr → Länge – ⇏ Titel → Länge"
   ]
  },
  {
   "cell_type": "markdown",
   "metadata": {},
   "source": [
    "### Triviale FDs"
   ]
  },
  {
   "cell_type": "markdown",
   "metadata": {},
   "source": [
    "■ Trivial: Attribute rechts sind Teilmenge der Attribute links\n",
    "<br>\n",
    "□ Titel, Jahr → Titel\n",
    "<br>\n",
    "□ Es gilt immer für jede triviale FD:\n",
    "<br>\n",
    "– „Zwei Tupel, die in einer Menge von Attributen übereinstimmen, stimmen auch in einem dieser Attribute überein.“\n",
    "<br><br>\n",
    "■ Nicht-trivial: Wenigstens ein Attribut rechts kommt links nicht vor.\n",
    "<br>\n",
    "□ Titel, Jahr → Jahr, Länge\n",
    "<br><br>\n",
    "■ Völlig nicht-trivial: Die Attribute links und rechts sind disjunkt.\n",
    "<br>\n",
    "□ Titel, Jahr → Länge\n",
    "<br>\n",
    "□ Im Weiteren interessieren uns nur diese.\n",
    "<br><br>\n",
    "■ Formal: Triviale-Abhängigkeitsregel\n",
    "<br>\n",
    "□ A1,A2,…An → Ai1, …, Aik,B1,B2,…,Bm\n",
    "<br>\n",
    "<=>\n",
    "<br>\n",
    "A1,A2,…An → B1,B2,…,Bm"
   ]
  },
  {
   "cell_type": "markdown",
   "metadata": {},
   "source": [
    "![title](tabelle.jpg)"
   ]
  },
  {
   "cell_type": "markdown",
   "metadata": {},
   "source": [
    "■ Titel, Jahr → Länge\n",
    "<br>\n",
    "■ Titel, Jahr → Typ\n",
    "<br>\n",
    "■ Titel, Jahr → StudioName\n",
    "<br>\n",
    "■ Titel, Jahr → Länge, Typ, StudioName\n",
    "<br>\n",
    "■ Wenn zwei Tupel den gleichen Titel und das gleiche Jahr haben, dann haben sie auch gleiche Länge, gleichen Typ und gleichen Studionamen.\n",
    "<br>\n",
    "□ Klar, denn Titel und Jahr sind Schlüssel für die ursprüngliche Film-Relation: Gegeben Titel und Jahr haben wir einen eindeutigen Film, der wohl auch eine eindeutige Länge und Typ hat.\n",
    "<br>\n",
    "□ Wegen 1:n Beziehung zwischen Studios und Filmen ist auch zu erwarten, dass das Studio eindeutig ist.\n",
    "<br>\n",
    "■ Aber Titel, Jahr → SchauspName ist falsch! Warum?"
   ]
  },
  {
   "cell_type": "markdown",
   "metadata": {},
   "source": [
    "### Schema vs. Instanz"
   ]
  },
  {
   "cell_type": "markdown",
   "metadata": {},
   "source": [
    "![title](tabelle.jpg)"
   ]
  },
  {
   "cell_type": "markdown",
   "metadata": {},
   "source": [
    " FDs sind Aussagen über das Schema, nicht die Instanz!\n",
    " <br>\n",
    "■ Titel → Typ scheint zu gelten\n",
    " <br>\n",
    "□ Aber nur zufällig bei dieser Instanz\n",
    " <br>\n",
    "□ Wenn zwei Filme im Titel übereinstimmen, stimmen sie (hier!) auch im Typ überein.\n",
    " <br>\n",
    "□ Gegenbeispiel: King Kong von 1924 vs. King Kong von 2005.\n",
    " <br>\n",
    "■ Titel, Jahr → Typ gilt hingegen"
   ]
  },
  {
   "cell_type": "markdown",
   "metadata": {},
   "source": [
    "![title](kingkong.jpg)"
   ]
  },
  {
   "cell_type": "markdown",
   "metadata": {},
   "source": [
    "### Schlüssel als Spezialfall einer FD"
   ]
  },
  {
   "cell_type": "markdown",
   "metadata": {},
   "source": [
    "■ Eine Menge aus einem oder mehr Attributen {A1, A2, …, An} ist Schlüssel der Relation R, falls gilt:\n",
    "<br>\n",
    "□ Die Attribute bestimmen alle anderen Attribute funktional.\n",
    "<br>\n",
    "– Anmerkung: Relationen sind Mengen, es kann also keine zwei völlig identischen Tupel geben.\n",
    "<br>\n",
    "□ Keine echte Teilmenge von {A1, A2, …, An} bestimmt alle anderen Attribute funktional.\n",
    "<br>\n",
    "– Anmerkung: Ein Schlüssel muss also minimal sein.\n",
    "<br><br>\n",
    "■ Ziel des Datenbankentwurfs: Normalisierung\n",
    "<br>\n",
    "□ Alle gegebenen FDs in „Schlüsselabhängigkeiten“ umformen, ohne dabei semantische Information zu verlieren.\n",
    "<br>\n",
    "□ Umformung durch Dekomposition von Relationen\n",
    "<br>\n",
    "□ Später, denn zunächst: Bestimmung aller FDs"
   ]
  },
  {
   "cell_type": "markdown",
   "metadata": {},
   "source": [
    "![title](tabelle.jpg)"
   ]
  },
  {
   "cell_type": "markdown",
   "metadata": {},
   "source": [
    " {Titel, Jahr, SchauspName} ist ein Schlüssel.\n",
    " <br>\n",
    " <br>\n",
    "■ {Titel, Jahr} bestimmen Länge, Typ und Studioname funktional.\n",
    "<br>\n",
    "<br>\n",
    "■ Deshalb können keine zwei Tupel gleiche Werte für Titel, Jahr und SchauspName haben. Sie\n",
    "wären insgesamt identisch.\n",
    "<br>\n",
    "<br>\n",
    "■ Teilmengen?\n",
    "<br>\n",
    "□ {Titel, Jahr} bestimmen SchauspName nicht funktional\n",
    "<br>\n",
    "□ {Jahr, SchauspName} bestimmen Titel nicht funktional\n",
    "<br>\n",
    "□ {Titel, SchauspName} bestimmen Jahr nicht funktional\n",
    "<br>\n",
    "– Beispiele?"
   ]
  },
  {
   "cell_type": "markdown",
   "metadata": {},
   "source": [
    "### Schlüssel und Superschlüssel"
   ]
  },
  {
   "cell_type": "markdown",
   "metadata": {},
   "source": [
    "■ Eine Relation kann mehr als einen Schlüssel besitzen.\n",
    "<br>\n",
    "□ Wahl eines der Schlüssel als Primärschlüssel\n",
    "<br><br>\n",
    "■ Eine Attributmenge, die einen Schlüssel enthält, ist ein Superschlüssel.\n",
    "<br>\n",
    "□ {Titel, Jahr, SchauspName} ist ein Schlüssel und ein Superschlüssel\n",
    "<br>\n",
    "□ {Titel, Jahr, Länge, SchauspName} ist ein Superschlüssel\n",
    "<br>\n",
    "– Nicht minimal\n",
    "<br>\n",
    "■ Minimal vs. kleinster\n",
    "<br>\n",
    "□ Minimaler Schlüssel: Kein Attribut darf fehlen\n",
    "<br>\n",
    "– Ist nicht unbedingt kleinster Schlüssel\n",
    "<br>\n",
    "□ Kleinster Schlüssel: Schlüssel mit wenigsten Attributen\n",
    "<br>\n",
    "– Ist auch minimal\n",
    "<br><br>\n",
    "■ Alternative Begriffe:\n",
    "<br>\n",
    "□ Schlüssel (=Superschlüssel)"
   ]
  },
  {
   "cell_type": "markdown",
   "metadata": {},
   "source": [
    "### Wo kommen FDs her?"
   ]
  },
  {
   "cell_type": "markdown",
   "metadata": {},
   "source": [
    "■ Einfach den Schlüssel K deklarieren.\n",
    "<br>\n",
    "□ Dann gelten (einzig) die FDs K → A für jedes Attribut A.\n",
    "<br><br>\n",
    "■ FDs deklarieren.\n",
    "<br>\n",
    "□ Dann systematisch Schlüssel ableiten.\n",
    "<br><br>\n",
    "■ FDs aus der Physik\n",
    "<br>\n",
    "□ Zwei Kurse können nicht zur gleichen Zeit im gleichen Raum stattfinden.\n",
    "<br>\n",
    "□ Zeit, Raum → Kurs\n",
    "<br>\n",
    "■ FDs aus dem ER-Diagramm\n",
    "<br>\n",
    "□ Schlüsselattribute\n",
    "<br>\n",
    "□ 1:n Beziehungen"
   ]
  },
  {
   "cell_type": "markdown",
   "metadata": {},
   "source": [
    "### Schlüssel aus ER-Diagrammen"
   ]
  },
  {
   "cell_type": "markdown",
   "metadata": {},
   "source": [
    "■ Falls die Relation von einem Entitytypen stammt\n",
    "<br>\n",
    "□ Der Schlüssel der Relation besteht aus den Schlüsselattributen des Entitytypen.\n",
    "<br><br>\n",
    "■ Falls die Relation von einem Relationshiptypen stammt\n",
    "<br>\n",
    "□ m:n: Schlüssel besteht aus den Schlüsselattributen der verbundenen Entitytypen.\n",
    "<br>\n",
    "□ 1:n: Schlüssel besteht aus den Schlüsselattributen des Entitytypen der n-Seite.\n",
    "<br>\n",
    "□ 1:1: Zwei mögliche Schlüssel\n",
    "<br>\n",
    "– Schlüssel der beiden beteiligten Entitytypen. Wahl eines der beiden Schlüssel als Primärschlüssel (egal\n",
    "welcher).\n",
    "<br><br>\n",
    "■ Bei n-ären Relationshiptypen\n",
    "<br>\n",
    "□ Lage ist komplizierter\n",
    "<br>\n",
    "□ 1-Seite muss nie am Schlüssel beteiligt sein."
   ]
  },
  {
   "cell_type": "markdown",
   "metadata": {},
   "source": [
    "![title](er_diagramm1.jpg)"
   ]
  },
  {
   "cell_type": "markdown",
   "metadata": {},
   "source": [
    "■ $Filme(\\underline{Titel, Jahr}, Länge, Typ)$\n",
    "<br>\n",
    "■ $Schauspieler*in(\\underline{Name, Adresse})$\n",
    "<br>\n",
    "■ $Studio(\\underline{Name}, Adresse)$\n",
    "<br>\n",
    "■ $besitzt(\\underline{Titel, Jahr}, Name)$\n",
    "<br>\n",
    "□ -> zusammengefasst mit Filme zu Film $(\\underline{Titel, Jahr}, Länge, Typ, StudioName)$\n",
    "<br>\n",
    "■ $spielt_in(\\underline{Titel, Jahr, Name, Adresse}, Gehalt)$"
   ]
  },
  {
   "cell_type": "markdown",
   "metadata": {},
   "source": [
    "### Schlüssel aus ER-Diagrammen"
   ]
  },
  {
   "cell_type": "markdown",
   "metadata": {},
   "source": [
    "![title](er_diagramm2.jpg)"
   ]
  },
  {
   "cell_type": "markdown",
   "metadata": {},
   "source": [
    " $Studios(\\underline{SName})$\n",
    " <br>\n",
    "■ $Vorsitzende(\\underline{VName})$\n",
    "<br>\n",
    "■ $leitet(\\underline{SName}, VName)$ oder leitet$(SName, \\underline{VName})$\n",
    "<br>\n",
    "□ sprich, zwei Schlüssel: SName und VName, ein Schlüssel als Primärschlüssel gewählt\n",
    "<br>\n",
    "□ -> zusammengefasst zu $Studios(\\underline{SName}, VName)$ oder $Vorsitzende(\\underline{VName}, SName)$"
   ]
  },
  {
   "cell_type": "markdown",
   "metadata": {},
   "source": [
    "### Schlüssel aus ER-Diagrammen: n-äre Relationshiptypen"
   ]
  },
  {
   "cell_type": "markdown",
   "metadata": {},
   "source": [
    "![title](n-aer_relationshiptypen1.jpg)"
   ]
  },
  {
   "cell_type": "markdown",
   "metadata": {},
   "source": [
    " $Studio (\\underline{Name}, Adresse)$\n",
    " <br>\n",
    "■$ Schauspieler*in (\\underline{Name}, Adresse)$\n",
    "<br>\n",
    "■ $Film (\\underline{Titel, Jahr}, Typ, Länge)$\n",
    "<br>\n",
    "■ $ist_unter_Vertrag (\\underline{SchauspielerName, Titel, Jahr}, StudioName, Gehalt)$"
   ]
  },
  {
   "cell_type": "markdown",
   "metadata": {},
   "source": [
    "![title](n-aer_relationshiptypen2.jpg)"
   ]
  },
  {
   "cell_type": "markdown",
   "metadata": {},
   "source": [
    "■ $Studio(\\underline{Name}, Adresse)$\n",
    "<br>\n",
    "■ $Schauspieler(\\underline{Name}, Adresse)$\n",
    "<br>\n",
    "■ $Film(\\underline{Titel, Jahr}, Typ, Länge)$\n",
    "<br>\n",
    "■ $Vertrag(\\underline{SchauspielerName, StudioName, Titel, Jahr}, Gehalt)$"
   ]
  },
  {
   "cell_type": "markdown",
   "metadata": {},
   "source": [
    "### Schlüssel aus ER-Diagrammen: IST-Hierarchien"
   ]
  },
  {
   "cell_type": "markdown",
   "metadata": {},
   "source": [
    "![title](IST_hierarchie.jpg)"
   ]
  },
  {
   "cell_type": "markdown",
   "metadata": {},
   "source": [
    "■ ER-Stil\n",
    "<br>\n",
    "□ $Film(\\underline{Titel, Jahr}, Länge,Typ)$\n",
    "<br>\n",
    "□ $Krimi(\\underline{Titel, Jahr}, Waffen)$\n",
    "<br>\n",
    "□ $Zeichentrickfilm(\\underline{Titel, Jahr})$\n",
    "<br><br>\n",
    "■ OO-Stil\n",
    "<br>\n",
    "□ $Film(\\underline{Titel, Jahr}, Länge, Typ)$\n",
    "<br>\n",
    "□ $FilmZ(\\underline{Titel, Jahr}, Länge, Typ)$\n",
    "<br>\n",
    "□ $FilmK(\\underline{Titel, Jahr}, Länge, Typ, Waffen)$\n",
    "<br>\n",
    "□ $FilmZK(\\underline{Titel, Jahr}, Länge, Typ, Waffen)$\n",
    "<br><br>\n",
    "■ Mit NULL-Werten\n",
    "<br>\n",
    "□ $Film(\\underline{Titel, Jahr}, Länge, Typ, Waffen)$"
   ]
  },
  {
   "cell_type": "markdown",
   "metadata": {},
   "source": [
    "## Ableitungsregeln für FDs"
   ]
  },
  {
   "cell_type": "markdown",
   "metadata": {},
   "source": [
    "### Motivation"
   ]
  },
  {
   "cell_type": "markdown",
   "metadata": {},
   "source": [
    "■ Gegeben eine Menge von FDs, kann man eventuell weitere FDs ableiten.\n",
    "<br>\n",
    "<br>\n",
    "■ Ziel des Datenbankentwurfs:\n",
    "<br>\n",
    "□ Alle gegebenen und abgeleiteten FDs in „Schlüsselabhängigkeiten“ umformen, ohne dabei semantische Information zu verlieren.\n",
    "<br>\n",
    "□ Umformung durch Dekomposition von Relationen"
   ]
  },
  {
   "cell_type": "markdown",
   "metadata": {},
   "source": [
    "### Ableitung von FDs – Beispiel"
   ]
  },
  {
   "cell_type": "markdown",
   "metadata": {},
   "source": [
    "![title](ableitung_fd1.jpg)"
   ]
  },
  {
   "cell_type": "markdown",
   "metadata": {},
   "source": [
    "■ Es gelte A → B und B → C\n",
    "<br>\n",
    "<br>\n",
    "■ Dann gilt auch: A → C\n",
    "<br><br>\n",
    "■ Beweis\n",
    "<br>\n",
    "□ Z.z.: Zwei beliebige Tupel, die in A übereinstimmen, müssen auch in C übereinstimmen.\n",
    "<br>\n",
    "□ Zwei solche beliebige Tupel, die in A übereinstimmen:\n",
    "<br>\n",
    "(a, b1, c1) und (a, b2, c2)\n",
    "<br>\n",
    "□ Da A → B => (a, b, c1) und (a, b, c2)\n",
    "<br>\n",
    "□ Da B → C => (a, b, c) und (a, b, c)\n",
    "<br>\n",
    "□ QED\n",
    "<br><br>\n",
    "■ Instanz genügt A→B und B→C\n",
    "<br>\n",
    "□ Es gilt auch: A→C\n",
    "<br>\n",
    "□ Nicht ableitbar: C→A, B→A oder C→B"
   ]
  },
  {
   "cell_type": "markdown",
   "metadata": {},
   "source": [
    "### FD-Mengen"
   ]
  },
  {
   "cell_type": "markdown",
   "metadata": {},
   "source": [
    "■ Zwei Mengen S und T an FDs heißen äquivalent, falls die Menge der gültigen Instanzen unter S die gleiche wie\n",
    "unter T ist.\n",
    "<br><br>\n",
    "■ Eine Menge S an FDs folgt aus einer Menge T an FDs, falls jede unter T gültige Instanz auch unter S gültig ist.\n",
    "<br><br>\n",
    "■ Hüllenbildung:\n",
    "<br>\n",
    "□ Ableitung aller FDs aus einer gegebenen Menge an FDs\n",
    "<br>\n",
    "□ Gemäß Ableitungsregeln\n",
    "<br>\n",
    "□ Auch: attribute closure, closure, Attributabschluss"
   ]
  },
  {
   "cell_type": "markdown",
   "metadata": {},
   "source": [
    "### Hülle"
   ]
  },
  {
   "cell_type": "markdown",
   "metadata": {},
   "source": [
    "■ Gegeben eine Menge von Attributen A1,A2,…,Ak und eine Menge S von FDs.\n",
    "<br>\n",
    "■ Die Hülle von A1,A2,…,Ak unter S ist die Menge Y aller Attribute für die gilt, dass für jede unter S gültige Relation auch A1,A2,…,Ak → Y gilt.\n",
    "<br>\n",
    "□ Menge der funktional ableitbaren Attribute\n",
    "<br>\n",
    "□ D.h. A1,A2,…Ak → Y folgt aus den FDs in S.\n",
    "<br>\n",
    "■ Notation: Hülle von A1,A2,…,Ak ist $\\{$A1,A2,…,Ak$\\}^+$.\n",
    "<br>\n",
    "■ Es gilt z.B. Ai $\\in$ $\\{$A1,A2,…,Ak$\\}^+$ für i=1,…,k\n",
    "<br>\n",
    "□ Trivialerweise, denn A1,A2,…, Ai, …, Ak→ A"
   ]
  },
  {
   "cell_type": "markdown",
   "metadata": {},
   "source": [
    "### Berechnung der Hülle"
   ]
  },
  {
   "cell_type": "markdown",
   "metadata": {},
   "source": [
    "![title](berechnung_huelle.jpg)"
   ]
  },
  {
   "cell_type": "markdown",
   "metadata": {},
   "source": [
    "1. Sei X die Menge der Attribute, die später die Hülle wird.\n",
    "<br>\n",
    "Initialisiere X mit {A1,A2,…Ak}.\n",
    "<br>\n",
    "2. Suche wiederholt nach solchen FDs B1,B2,…,Bm→ C, dass B1,B2,…,Bm $\\in$ X aber C $\\notin$ X.\n",
    "<br>\n",
    "3. Füge C zu X hinzu.\n",
    "<br>\n",
    "4. Wiederhole 2. bis keine Attribute mehr gefunden werden\n",
    "<br>\n",
    "■ Terminierung: X wächst nur, und Attributmenge ist endlich.\n",
    "<br>\n",
    "5. X ist schließlich die Hülle, also $\\{$A1,A2,…Ak$\\}^+$ = X."
   ]
  },
  {
   "cell_type": "markdown",
   "metadata": {},
   "source": [
    "■ Relation mit Attributen A, B, C, D, E, F\n",
    "<br>\n",
    "<br>\n",
    "■ Gegeben FDs\n",
    "<br>\n",
    "1. AB → C\n",
    "<br>\n",
    "2. BC → AD\n",
    "<br>\n",
    "3. D → E\n",
    "<br>\n",
    "4. CF → B\n",
    "<br>\n",
    "<br>\n",
    "■ Gesucht: Hülle von {A, B}, also {A,B$\\}+$\n",
    "<br>\n",
    "□ FD 1: X = {A, B, C}\n",
    "<br>\n",
    "□ FD 2: X = {A, B, C, D}\n",
    "<br>\n",
    "□ FD 3: X = {A, B, C, D, E} ( = {A,B$\\}^+$ )"
   ]
  },
  {
   "cell_type": "markdown",
   "metadata": {},
   "source": [
    "### Membership-Problem"
   ]
  },
  {
   "cell_type": "markdown",
   "metadata": {},
   "source": [
    "■ Kann eine bestimmte FD X→Y aus der gegebenen FD Menge abgeleitet werden?\n",
    "<br><br>\n",
    "■ Vorgehen: Berechne Hülle von X und teste ob Y darin enthalten ist.\n",
    "<br><br>\n",
    "■ Beispiel:\n",
    "<br>\n",
    "□ AB → C und BC → AD und D → E und CF → B\n",
    "<br>\n",
    "□ Kann AB → D abgeleitet werden?\n",
    "<br>\n",
    "– {AB$\\}^+$ = {A, B, C, D, E}\n",
    "<br>\n",
    "– D $\\in$ {A, B, C, D, E}, also JA!\n",
    "<br>\n",
    "□ Kann D → A abgeleitet werden?\n",
    "<br>\n",
    "– {D$\\}^+$ = {D, E}\n",
    "<br>\n",
    "– A $\\notin$ {D, E}, also NEIN!"
   ]
  },
  {
   "cell_type": "markdown",
   "metadata": {},
   "source": [
    "### Analyse des Algorithmus zur Hüllenbildung"
   ]
  },
  {
   "cell_type": "markdown",
   "metadata": {},
   "source": [
    "■ Nur Beweisidee\n",
    "<br>\n",
    "<br>\n",
    "■ Korrektheit: Es werden keine ungültigen FDs erzeugt.\n",
    "<br>\n",
    "□ Induktion über Anzahl der Operationen\n",
    "<br>\n",
    "□ Transitivität bzw. Argumentation über die Tupel.\n",
    "<br><br>\n",
    "■ Vollständigkeit: Es werden alle gültigen FDs erzeugt.\n",
    "<br>\n",
    "□ Annahme des Gegenteils, d.h. es gebe eine FD X→Y, die nicht gefunden wird.\n",
    "<br>\n",
    "□ Konstruktion einer Instanz, die für FDs, aber nicht für X→Y gültig ist."
   ]
  },
  {
   "cell_type": "markdown",
   "metadata": {},
   "source": [
    "### Transitivitätsregel"
   ]
  },
  {
   "cell_type": "markdown",
   "metadata": {},
   "source": [
    "■ Falls A1,A2,…,An → B1,B2,…,Bm und B1,B2,…,Bm → C1,C2,…,Ck\n",
    "<br>\n",
    "■ => A1,A2,…,An → C1,C2,…,Ck"
   ]
  },
  {
   "cell_type": "markdown",
   "metadata": {},
   "source": [
    "![title](tabelle.jpg)"
   ]
  },
  {
   "cell_type": "markdown",
   "metadata": {},
   "source": [
    "□ Titel, Jahr -> StudioName\n",
    "<br>\n",
    "– gilt wegen n:1 von besitzt-Beziehung\n",
    "<br>\n",
    "□ StudioName -> StudioAdresse\n",
    "<br>\n",
    "– gilt wegen Schlüsseleigenschaft von Studioname\n",
    "<br>\n",
    "□ Transitivität: Titel, Jahr ® StudioAdresse"
   ]
  },
  {
   "cell_type": "markdown",
   "metadata": {},
   "source": [
    "### Die „Basis“"
   ]
  },
  {
   "cell_type": "markdown",
   "metadata": {},
   "source": [
    "■ Unterscheidung zwischen gegebenen FDs und abgeleiteten FDs\n",
    "<br><br>\n",
    "■ Wahl welche FDs zur Repräsentation aller FDs verwendet werden.\n",
    "<br>\n",
    "□ Eine Menge an FDs, aus der alle anderen FDs abgeleitet werden können, heißt Basis.\n",
    "<br>\n",
    "□ Falls keine echte Teilmenge der Basis wiederum selbst eine Basis ist, ist die Basis minimal.\n",
    "<br><br>\n",
    "■ Beispiel\n",
    "<br>\n",
    "□ R(A, B, C); jedes Attribut bestimme funktional die anderen beiden.\n",
    "<br>\n",
    "□ Welche FDs gelten?\n",
    "<br>\n",
    "□ A->B, A->C, B->A, B->C, C->A, C->B\n",
    "<br>\n",
    "□ Abgeleitet: AB->C, AC->B, BC->A\n",
    "<br>\n",
    "□ Kurzformen: A->BC, B->AC, C->AB\n",
    "<br>\n",
    "□ Triviale FDs: A->A, B->B, C->C\n",
    "<br>\n",
    "□ Nicht-triviale FDs: AB->BC, AC->BC, …\n",
    "<br>\n",
    "□ Minimale Basis: {A->B, B->A, B->C, C->B}\n",
    "<br>\n",
    "□ Minimale Basis: {AvB, B->C, C->A}"
   ]
  },
  {
   "cell_type": "markdown",
   "metadata": {},
   "source": [
    "### Armstrong Axiome und weitere Ableitungsregeln"
   ]
  },
  {
   "cell_type": "markdown",
   "metadata": {},
   "source": [
    "■ R1 Reflexivität X $\\supseteq$ Y => X→Y (insbes. X→X)\n",
    "<br>\n",
    "□ Triviale FDs\n",
    "<br><br>\n",
    "■ R2 Akkumulation {X→Y} => XZ→YZ\n",
    "<br>\n",
    "□ Auch: Augmentation\n",
    "<br><br>\n",
    "■ R3 Transitivität {X→Y, Y →Z} => X→Z\n",
    "<br><br>\n",
    "■ R1-R3 bekannt als Armstrong-Axiome\n",
    "<br>\n",
    "□ Sound and complete\n",
    "<br>\n",
    "■ R4 Dekomposition {X→YZ} => X→Y\n",
    "<br><br>\n",
    "■ R5 Vereinigung {X→Y, X→Z} => X→YZ\n",
    "<br><br>\n",
    "■ R6 Pseudotransitivität {X→Y, WY →Z} => WX→Z"
   ]
  },
  {
   "cell_type": "markdown",
   "metadata": {},
   "source": [
    "#### Armstrong Axiome"
   ]
  },
  {
   "cell_type": "markdown",
   "metadata": {},
   "source": [
    "■ Die Menge der Armstrong-Axiome ist\n",
    "<br>\n",
    "□ Gültig (sound)\n",
    "<br>\n",
    "– Es wird nichts nicht-ableitbares abgeleitet.\n",
    "<br>\n",
    "□ Vollständig (complete)\n",
    "<br>\n",
    "– Durch diese Regeln können alle ableitbaren FDs abgeleitet werden.\n",
    "<br>\n",
    "□ Minimal\n",
    "<br>\n",
    "– Keine Regel kann weggelassen werden."
   ]
  },
  {
   "cell_type": "markdown",
   "metadata": {},
   "source": [
    "### FDs nach Projektionen"
   ]
  },
  {
   "cell_type": "markdown",
   "metadata": {},
   "source": [
    " Motivation: Normalisierung bricht eine Relation in mehrere Teile.\n",
    " <br>\n",
    "■ Gegeben eine Relation R mit Menge F an FDs. Sei S das Ergebnis nach Entfernung einiger Attribute aus R („Projektion“).\n",
    "<br><br>\n",
    "■ Welche FDs gelten noch für S?\n",
    "<br>\n",
    "□ Alle FDs, die aus F folgen,\n",
    "<br>\n",
    "□ und die nur Attribute aus S verwenden.\n",
    "<br><br>\n",
    "■ Beispiel: R(A, B, C, D)\n",
    "<br>\n",
    "□ FDs: {A->B, B->C, C->D}\n",
    "<br>\n",
    "□ Projektion von B: S(A, C, D)\n",
    "<br><br>\n",
    "■ Algorithmus: Berechne Hülle jeder Teilmenge\n",
    "<br>\n",
    "□ Wie viele gibt es?\n",
    "<br>\n",
    "□ Trick 1: Hülle der leeren und Hülle der Menge aller Attribute muss nicht gebildet werden.\n",
    "<br>\n",
    "□ Trick 2: Falls die Hülle von X bereits alle Attribute enthält, müssen die Supermengen von X nicht mehr geprüft werden.\n",
    "<br>\n",
    "– Deshalb: Beginnen mit kleinsten Teilmengen"
   ]
  },
  {
   "cell_type": "markdown",
   "metadata": {},
   "source": [
    "■ Beispiel: R(A, B, C, D)\n",
    "<br><br>\n",
    "■ Dann gelten FDs X -> E für jedes E $\\in$ {X$\\}^+$ und E $\\in$ S und E $\\notin$ X.\n",
    "<br><br>\n",
    "■ {A$\\}^+$ = {A, B, C, D}\n",
    "<br>\n",
    "□ A -> C und A -> D\n",
    "<br>\n",
    "□ A -> B stimmt zwar auch, aber B nicht in S.\n",
    "<br>\n",
    "□ Enthält bereits alle Attribute aus S, deshalb werden Supermengen nicht berücksichtigt.\n",
    "<br>\n",
    "<br>\n",
    "■ {C$\\}^+$ = {C, D}\n",
    "<br>\n",
    "□ C -> D\n",
    "<br><br>\n",
    "■ {D$\\}^+$ = {D}\n",
    "<br><br>\n",
    "■ {C,D$\\}^+$= {C,D}\n",
    "<br><br>\n",
    "■ Ergebnis: A -> C, A -> D und C -> D"
   ]
  },
  {
   "cell_type": "markdown",
   "metadata": {},
   "source": [
    "## Normalformen"
   ]
  },
  {
   "cell_type": "markdown",
   "metadata": {},
   "source": [
    "## Schema Design – Überblick"
   ]
  },
  {
   "cell_type": "markdown",
   "metadata": {},
   "source": [
    "1. Anomalien durch schlechtes Design\n",
    "<br>\n",
    "2. Dekomposition (Zerlegung) von Relationen\n",
    "<br>\n",
    "3. Boyce-Codd-Normalform (BCNF)\n",
    "<br>\n",
    "4. Zerlegung zur Erreichung der BCNF\n",
    "<br>\n",
    "5. Andere Normalformen\n",
    "<br>\n",
    "– Insbesondere 3NF"
   ]
  },
  {
   "cell_type": "markdown",
   "metadata": {},
   "source": [
    "### Redundanzen führen zu Anomalien im Datenbankdesign"
   ]
  },
  {
   "cell_type": "markdown",
   "metadata": {},
   "source": [
    "![title](redundanz1.jpg)"
   ]
  },
  {
   "cell_type": "markdown",
   "metadata": {},
   "source": [
    "Update-Anomalien\n",
    "<br>\n",
    "Veränderungen müssen an allen Stellen durchgeführt werden (neue Adresse für Herr Meyer)\n",
    "<br>\n",
    "<br>\n",
    "Insert-Anomalien\n",
    "<br>\n",
    "Hinzufügen von Inkonsistenzen (gleicher Kunde mit neuer Adresse)\n",
    "<br>\n",
    "<br>\n",
    "Delete Anomalien\n",
    "<br>\n",
    "Mehr Informationen gehen verloren als notwendig (Löschung von Auftrag 1 führt dazu, dass Reifenwechsel im Basic Format nicht mehr als Service in der Liste ist)"
   ]
  },
  {
   "cell_type": "markdown",
   "metadata": {},
   "source": [
    "#### Ursachen von Anomalien"
   ]
  },
  {
   "cell_type": "markdown",
   "metadata": {},
   "source": [
    "N zu M Beziehungen: Kunden und Servicekombinationen\n",
    "Transitive N zu 1 Beziehungen: Servicekombination und Preis\n",
    "AuftragsID à {Service, Umfang}\n",
    "{Service, Umfang} à Preis"
   ]
  },
  {
   "cell_type": "markdown",
   "metadata": {},
   "source": [
    "#### Eliminierung von Anomalien durch Dekomposition"
   ]
  },
  {
   "cell_type": "markdown",
   "metadata": {},
   "source": [
    "Dekomposition (Zerlegung)\n",
    "<br>\n",
    "Aufteilung von Attribute in zwei Teilrelationen\n",
    "<br>\n",
    "Erzeugung neuer Tupel in den neuen Relationen\n",
    "<br>\n",
    "R(A1,A2,…,An) kann in S(B1,B2,…,Bm) und T(C1,C2,…,Ck) dekomponiert werden, falls\n",
    "<br>\n",
    "{A1,A2,…,An} = {B1,B2,…,Bm} $\\cup$ {C1,C2,…,Ck}\n",
    "<br>\n",
    "Tupel in S sind die Projektion aller Tupel in R auf {B1,B2,…,Bm}\n",
    "<br>\n",
    "Insbesondere: Duplikate werden entfernt\n",
    "<br>\n",
    "Dadurch: Verminderung der Redundanz\n",
    "<br>\n",
    "Tupel in T analog"
   ]
  },
  {
   "cell_type": "markdown",
   "metadata": {},
   "source": [
    "#### Beispiel einer Dekomposition"
   ]
  },
  {
   "cell_type": "markdown",
   "metadata": {},
   "source": [
    "![title](dekomposition1.jpg)"
   ]
  },
  {
   "cell_type": "markdown",
   "metadata": {},
   "source": [
    "### Boyce-Codd-Normalform (BCNF)"
   ]
  },
  {
   "cell_type": "markdown",
   "metadata": {},
   "source": [
    "BCNF ist eine Bedingung zur Eliminierung der Anomalien\n",
    "<br>\n",
    "Eine Relation R ist in BCNF genau dann wenn\n",
    "<br>\n",
    "Für jede nicht-triviale funktionale Abhängigkeit (FD), muss die linke Seite ein Superschlüssel sein\n",
    "<br>\n",
    "Erinnerung:\n",
    "<br>\n",
    "Nichttrivial: Wenigstens ein Attribut rechts kommt links nicht vor\n",
    "<br>\n",
    "Superschlüssel: Supermenge eines Schlüssels\n",
    "<br>\n",
    "Was darf nicht sein:\n",
    "<br>\n",
    "Eine FD ohne Superschlüssel auf der linken Seite\n",
    "<br>\n",
    "Ziel:\n",
    "<br>\n",
    "FDs zur Schlüsselabhängigkeiten machen"
   ]
  },
  {
   "cell_type": "markdown",
   "metadata": {},
   "source": [
    "#### Beispiel der BCNF-Verletzung"
   ]
  },
  {
   "cell_type": "markdown",
   "metadata": {},
   "source": [
    "![title](redundanz1.jpg)"
   ]
  },
  {
   "cell_type": "markdown",
   "metadata": {},
   "source": [
    "Tabelle ist nicht in BCNF\n",
    "<br>\n",
    "Schlüssel: {AuftragsID}\n",
    "<br>\n",
    "Superschlüssel müssen AuftragsID enthalten\n",
    "<br>\n",
    "Eine FD: {KundenID} à {Kunde, Kundenadresse}\n",
    "<br>\n",
    "{KundenID} ist kein Superschlüssel\n",
    "<br>\n",
    "-> à BCNF ist verletzt"
   ]
  },
  {
   "cell_type": "markdown",
   "metadata": {},
   "source": [
    "#### Algorithmus für Dekomposition nach BCNF"
   ]
  },
  {
   "cell_type": "markdown",
   "metadata": {},
   "source": [
    "Grundalgorithmus für Relation R:\n",
    "<br>\n",
    "1. Suche verletzende nichttriviale FD: X → B1, B2, … ,Bn\n",
    "<br>\n",
    "mit X ⊂ R und B1, B2, … , Bn ∈ R\n",
    "<br>\n",
    "2. Füge auf der rechten Seite so viele Attribute hinzu wie möglich\n",
    "<br>\n",
    "1. Betrachte Hülle der FD\n",
    "<br>\n",
    "3. Erzeuge zwei neue Relationen:\n",
    "<br>\n",
    "R ∖ (B1, B2, … , Bn)\n",
    "<br>\n",
    "X ∪ (B1,B2,…,Bn)\n",
    "<br>\n",
    "Grundsätzlich: Jede Relation mit zwei Attributen ist in BCNF"
   ]
  },
  {
   "cell_type": "markdown",
   "metadata": {},
   "source": [
    "#### BCNF Dekomposition am Beispiel 1"
   ]
  },
  {
   "cell_type": "markdown",
   "metadata": {},
   "source": [
    "Auftrag(AuftragsID, KundenID, Kunde, Kundenaddresse, Service, Umfang, Preis)\n",
    "<br>\n",
    "BCNF verletzende FD:\n",
    "<br>\n",
    "KundenID à Kunde, Kundenadresse\n",
    "<br>\n",
    "Neue Relationen:\n",
    "<br>\n",
    "Auftrag1(AuftragsID, KundenID, Service, Umfang, Preis)\n",
    "<br>\n",
    "Auftrag2(KundenID, Kunde, Kundenadresse)"
   ]
  },
  {
   "cell_type": "markdown",
   "metadata": {},
   "source": [
    "![title](dekomposition2.jpg)"
   ]
  },
  {
   "cell_type": "markdown",
   "metadata": {},
   "source": [
    "![title](dekomposition3.jpg)"
   ]
  },
  {
   "cell_type": "markdown",
   "metadata": {},
   "source": [
    "R ∖ (B1, B2, … , Bn)"
   ]
  },
  {
   "cell_type": "markdown",
   "metadata": {},
   "source": [
    "![title](dekomposition4.jpg)"
   ]
  },
  {
   "cell_type": "markdown",
   "metadata": {},
   "source": [
    "X ∪ (B1,B2,…,Bn)"
   ]
  },
  {
   "cell_type": "markdown",
   "metadata": {},
   "source": [
    "Kunde ist in BCNF\n",
    "<br>\n",
    "KundenID ist Schlüssel\n",
    "<br>\n",
    "Kundenadresse ist hier zufällig auch Schlüssel. Ignorieren diesen Fall.\n",
    "<br>\n",
    "Auftrag1 ist nicht in BCNF\n",
    "<br>\n",
    "Schlüssel: {AuftragsID}\n",
    "<br>\n",
    "Verletzende FD: {Service, Umfang}->{Preis}\n",
    "<br>\n",
    "-> erneute Dekomposition"
   ]
  },
  {
   "cell_type": "markdown",
   "metadata": {},
   "source": [
    "Auftrag2"
   ]
  },
  {
   "cell_type": "markdown",
   "metadata": {},
   "source": [
    "![title](dekomposition5.jpg)"
   ]
  },
  {
   "cell_type": "markdown",
   "metadata": {},
   "source": [
    "R ∖ (B1, B2, … , Bn)"
   ]
  },
  {
   "cell_type": "markdown",
   "metadata": {},
   "source": [
    "Service"
   ]
  },
  {
   "cell_type": "markdown",
   "metadata": {},
   "source": [
    "![title](dekomposition6.jpg)"
   ]
  },
  {
   "cell_type": "markdown",
   "metadata": {},
   "source": [
    "X ∪ (B1,B2,…,Bn)"
   ]
  },
  {
   "cell_type": "markdown",
   "metadata": {},
   "source": [
    "![title](dekomposition7.jpg)"
   ]
  },
  {
   "cell_type": "markdown",
   "metadata": {},
   "source": [
    "### Wiederherstellbarkeit"
   ]
  },
  {
   "cell_type": "markdown",
   "metadata": {},
   "source": [
    "Wiederherstellung der Ursprungsrelation durch Join\n",
    "<br>\n",
    "Korrektheit durch Widerspruchsbeweis:\n",
    "<br>\n",
    "Seien t(a,b,c) und s(x,b,z) zwei Tupel in R(A,B,C) mit B -> C\n",
    "<br>\n",
    "Dekomposition mittels Projektion ergibt:\n",
    "<br>\n",
    "t1(a,b), s1(x,b) in R1 und t2(b,c), s2(b,z) in R2\n",
    "<br>\n",
    "Join von R1 und R2 ergibt:\n",
    "<br>\n",
    "Fehler?\n",
    "<br>\n",
    "Nein, da wegen B->C gilt c=z"
   ]
  },
  {
   "cell_type": "markdown",
   "metadata": {},
   "source": [
    "![title](wiederherstellbarkeit1.jpg)"
   ]
  },
  {
   "cell_type": "markdown",
   "metadata": {},
   "source": [
    "Dekomposition ohne FD (aus Spaß)\n",
    "<br>\n",
    "■ Angenommen R(A,B,C) ohne B → C\n",
    "<br>\n",
    "■ Projektionen auf R1(A,B) und R2(B,C)\n",
    "<br>\n",
    "■ Wiederherstellung durch Join über B"
   ]
  },
  {
   "cell_type": "markdown",
   "metadata": {},
   "source": [
    "![title](wiederherstellbarkeit2.jpg)"
   ]
  },
  {
   "cell_type": "markdown",
   "metadata": {},
   "source": [
    "![title](wiederherstellbarkeit3.jpg)"
   ]
  },
  {
   "cell_type": "markdown",
   "metadata": {},
   "source": [
    "###  Dekomposition zu BCNF – Beispiel 2"
   ]
  },
  {
   "cell_type": "markdown",
   "metadata": {},
   "source": [
    "![title](tabelle.jpg)"
   ]
  },
  {
   "cell_type": "markdown",
   "metadata": {},
   "source": [
    "■ Titel, Jahr → Länge, Typ, StudioName\n",
    "<br>\n",
    "■ StudioName → StudioAdresse\n",
    "<br>\n",
    "■ Transitivität: Titel, Jahr → StudioAdresse\n",
    "<br>\n",
    "■ => {Titel, Jahr} ist Schlüssel\n",
    "<br>\n",
    "■ StudioName → StudioAdresse verletzt also BCNF\n",
    "<br>\n",
    "■ Zwei neue Relationen\n",
    "<br>\n",
    "□ Film1(Titel, Jahr, Länge Typ, StudioName)\n",
    "<br>\n",
    "□ Film2(StudioName, StudioAdresse)"
   ]
  },
  {
   "cell_type": "markdown",
   "metadata": {},
   "source": [
    "![title](tabelle1.jpg)"
   ]
  },
  {
   "cell_type": "markdown",
   "metadata": {},
   "source": [
    "![title](tabelle2.jpg)"
   ]
  },
  {
   "cell_type": "markdown",
   "metadata": {},
   "source": [
    "### Dekomposition zu BCNF – Beispiel 3"
   ]
  },
  {
   "cell_type": "markdown",
   "metadata": {},
   "source": [
    "■ Film(Titel, Jahr, StudioName, Präsident, PräsAdresse)\n",
    "<br>\n",
    "□ Titel, Jahr → StudioName\n",
    "<br>\n",
    "□ StudioName → Präsident\n",
    "<br>\n",
    "□ Präsident → PräsAdresse\n",
    "<br>\n",
    "□ => {Titel, Jahr} ist Schlüssel\n",
    "<br><br>\n",
    "■ Erste Dekomposition anhand von StudioName → Präsident\n",
    "<br>\n",
    "□ Hinzufügen von möglichst vielen Attributen auf der rechten Seite: StudioName → Präsident,PräsAdresse\n",
    "<br>\n",
    "□ Film1(Titel, Jahr, StudioName)\n",
    "<br>\n",
    "□ Film2(StudioName, Präsident, PräsAdresse)\n",
    "<br>\n",
    "– Hier gilt weiter Präsident → PräsAdresse\n",
    "<br>\n",
    "– BCNF Verletzung\n",
    "<br><br>\n",
    "■ Zweite Dekomposition\n",
    "<br>\n",
    "□ Film2 wird zu Film2(StudioName, Präsident)\n",
    "<br>\n",
    "□ Film3(Präsident, PräsAdresse)\n",
    "<br><br>\n",
    "■ Verfahren terminiert: Jede neue Relation wird kleiner und 2er-Relationen sind garantiert in BCNF"
   ]
  },
  {
   "cell_type": "markdown",
   "metadata": {},
   "source": [
    "### Weitere Normalformen"
   ]
  },
  {
   "cell_type": "markdown",
   "metadata": {},
   "source": [
    "■ 1. Normalform (1NF)\n",
    "<br>\n",
    "□ Nur atomare Werte\n",
    "<br>\n",
    "■ 2. Normalform (2NF)\n",
    "<br>\n",
    "□ 1NF und keine Abhängigkeiten von einem Teil eines Schlüssels\n",
    "<br>\n",
    "■ 3. Normalform (3NF)\n",
    "<br>\n",
    "□ 2NF und zusätzlich keine transitiven Abhängigkeiten\n",
    "<br>\n",
    "■ Boyce-Codd Normalform (BCNF)\n",
    "<br>\n",
    "□ 3NF und keine transitiven Abhängigkeiten auch innerhalb des Schlüssels\n"
   ]
  },
  {
   "cell_type": "markdown",
   "metadata": {},
   "source": [
    "#### 1. Normalform"
   ]
  },
  {
   "cell_type": "markdown",
   "metadata": {},
   "source": [
    "![title](normalform1.jpg)"
   ]
  },
  {
   "cell_type": "markdown",
   "metadata": {},
   "source": [
    "■ 1NF: Nur atomare Werte\n",
    "<br>\n",
    "□ Relation nicht in 1NF:\n",
    "<br>\n",
    "□ Aka: NFNF oder NF2 oder NF²\n",
    "<br>\n",
    "□ Umgewandelte Relation in 1NF:\n",
    "<br>\n",
    "□ Andere Umwandlungsmöglichkeit\n",
    "<br>\n",
    "– R(Vater, Mutter, Kind1, Kind2)\n",
    "<br>\n",
    "– Nachteile?"
   ]
  },
  {
   "cell_type": "markdown",
   "metadata": {},
   "source": [
    "#### 2. Normalform"
   ]
  },
  {
   "cell_type": "markdown",
   "metadata": {},
   "source": [
    "![title](normalform2.jpg)"
   ]
  },
  {
   "cell_type": "markdown",
   "metadata": {},
   "source": [
    "■ 1NF und keine Abhängigkeiten eines Nicht-Schlüssel-Attributs von einem Teil eines Schlüssels\n",
    "<br>\n",
    "■ MatrNr -> Name\n",
    "<br>\n",
    "□ Aber MatrNr ist nicht vollständiger Schlüssel\n",
    "<br>\n",
    "■ Abhilfe: Dekomposition\n",
    "<br>\n",
    "□ $R1(\\underline{MatrNr}, Name)$\n",
    "<br>\n",
    "□ $R2(\\underline{MatrNr,VorlNr}, Semester)$"
   ]
  },
  {
   "cell_type": "markdown",
   "metadata": {},
   "source": [
    "#### 3. Normalform"
   ]
  },
  {
   "cell_type": "markdown",
   "metadata": {},
   "source": [
    "![title](normalform3.jpg)"
   ]
  },
  {
   "cell_type": "markdown",
   "metadata": {},
   "source": [
    "■ Kinoaufführungen\n",
    "<br>\n",
    "□ R(Titel, Kino, Stadt)\n",
    "<br>\n",
    "□ FDs\n",
    "<br>\n",
    "– Kino -> Stadt (ein Kino steht in nur einer Stadt)\n",
    "<br>\n",
    "– Titel, Stadt -> Kino\n",
    "<br>\n",
    "(D.h.: Ein Film wird nicht zweifach in der gleichen Stadt aufgeführt)\n",
    "<br>\n",
    "□ Schlüssel?\n",
    "<br>\n",
    "– Einzelne Attribute sind nicht Schlüssel\n",
    "<br>\n",
    "– {Titel, Stadt} ist Schlüssel, da er funktional alle anderen Attribute bestimmt.\n",
    "<br>\n",
    "– {Kino, Titel} ist auch Schlüssel, da Kino -> Stadt augmentiert werden kann zu Kino, Titel -> Stadt\n",
    "<br>\n",
    "□ BCNF-Verletzung:\n",
    "<br>\n",
    "– Kino -> Stadt (da Kino nicht Superschlüssel ist"
   ]
  },
  {
   "cell_type": "markdown",
   "metadata": {},
   "source": [
    "Lösung des Problems durch Relaxierung der BCNF\n",
    "<br>\n",
    "Eine Relation R ist in 3. Normalform genau dann wenn:\n",
    "<br>\n",
    "Für jede nicht-triviale FD A1A2…An -> B für R ist\n",
    "<br>\n",
    "{A1, A2, …, An} ein Superschlüssel für R, oder B ist Teil eines Schlüssels für R.\n",
    "<br>\n",
    "Kurz: Für jede FD ist entweder die linke Seite ein Superschlüssel oder die rechte Seite Teil eines Schlüssels.\n",
    "<br>\n",
    "Am Beispiel\n",
    "<br>\n",
    "R(Titel, Kino, Stadt) mit FDs\n",
    "<br>\n",
    "Kino -> Stadt\n",
    "<br>\n",
    "Titel, Stadt -> Kino\n",
    "<br>\n",
    "->Verletzt nicht 3. Normalform, da Stadt Teil eines Schlüssels ist."
   ]
  },
  {
   "cell_type": "markdown",
   "metadata": {},
   "source": [
    "#### 3NF vs. BCNF"
   ]
  },
  {
   "cell_type": "markdown",
   "metadata": {},
   "source": [
    "■ Wichtige Eigenschaften der Dekomposition\n",
    "<br>\n",
    "1. Wiederherstellbarkeit\n",
    "<br>\n",
    "– Projektion der ursprünglichen Relation auf die neuen Relationen und dann Rekonstruktion der ursprünglichen Relation (mittels Join).\n",
    "<br>\n",
    "2. Bewahrung der FDs\n",
    "<br>\n",
    "– Prüfbarkeit aller FDs in den neuen Relationen\n",
    "<br><br>\n",
    "■ BCNF garantiert 1.\n",
    "<br><br>\n",
    "■ 3NF garantiert 1. und 2.\n",
    "<br>\n",
    "□ Aber: Es können Anomalien bestehen bleiben.\n",
    "<br><br>\n",
    "■ Dekomposition zur 3NF\n",
    "<br>\n",
    "□ Anderer Algorithmus\n",
    "<br>\n",
    "□ Nicht hier!"
   ]
  },
  {
   "cell_type": "markdown",
   "metadata": {},
   "source": [
    "#### Zusammenfassung – Normalformen"
   ]
  },
  {
   "cell_type": "markdown",
   "metadata": {},
   "source": [
    "![title](normalform_zusammenfassung.jpg)"
   ]
  },
  {
   "cell_type": "markdown",
   "metadata": {},
   "source": [
    "5NF ⇒ SKNF ⇒ RFNF ⇒ ETNF ⇒ 4NF\n",
    "<br>\n",
    "Projection-join normal form (5NF)\n",
    "<br>\n",
    "Superkey normal form (SKNF)\n",
    "<br>\n",
    "Redundancy-free normal form (RFNF)\n",
    "<br>\n",
    "Essential tuple normal form (ETNF)\n",
    "<br>\n",
    "A Normal Form for Preventing Redundant Tuples in Relational Databases Hugh Darwen, C.J. Date, Ronald Fagin, ICDT 2012\n",
    "<br>"
   ]
  }
 ],
 "metadata": {
  "kernelspec": {
   "display_name": "Python 3",
   "language": "python",
   "name": "python3"
  },
  "language_info": {
   "codemirror_mode": {
    "name": "ipython",
    "version": 3
   },
   "file_extension": ".py",
   "mimetype": "text/x-python",
   "name": "python",
   "nbconvert_exporter": "python",
   "pygments_lexer": "ipython3",
   "version": "3.7.3"
  }
 },
 "nbformat": 4,
 "nbformat_minor": 2
}
