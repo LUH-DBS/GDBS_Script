{
 "cells": [
  {
   "cell_type": "markdown",
   "metadata": {},
   "source": [
    "# Phasenmodell für den Datenbankentwurf"
   ]
  },
  {
   "cell_type": "markdown",
   "metadata": {},
   "source": [
    "![title](phasenmodell.jpg)"
   ]
  },
  {
   "cell_type": "markdown",
   "metadata": {},
   "source": [
    "### Einführung (Entwurfsaufgabe, Entwurfsprozess)"
   ]
  },
  {
   "cell_type": "markdown",
   "metadata": {},
   "source": [
    "■ Datenhaltung für mehrere Anwendungssysteme und mehrere Jahre\n",
    "<br>\n",
    "□ Daher: besondere Bedeutung\n",
    "<br>\n",
    "<br>\n",
    "■ Anforderungen an Entwurf\n",
    "<br>\n",
    "□ Anwendungsdaten jeder Anwendung sollen aus Daten der Datenbank ableitbar sein.\n",
    "<br>\n",
    "– Möglichst effizient\n",
    "<br>\n",
    "□ Nur „vernünftige“ (wirklich benötigte) Daten sollen gespeichert werden.\n",
    "<br>\n",
    "□ Nicht-redundante Speicherung\n",
    "<br>\n",
    "<br>\n",
    "Abfolge von Entwurfsdokumenten\n",
    "<br>\n",
    "Von abstrakter Beschreibung…\n",
    "<br>\n",
    "bis zur tatsächlichen Realisierung in einem DBMS\n",
    "<br>\n",
    "Verschiedene Beschreibungsformalismen\n",
    "<br>\n",
    "ER, Relationenmodell, SQL DDL\n",
    "<br>\n",
    "In jedem Schritt\n",
    "<br>\n",
    "Informationserhaltung\n",
    "<br>\n",
    "Konsistenzerhaltung"
   ]
  },
  {
   "cell_type": "markdown",
   "metadata": {},
   "source": [
    "### Anforderungsanalyse"
   ]
  },
  {
   "cell_type": "markdown",
   "metadata": {},
   "source": [
    " Vorgehensweise\n",
    " <br>\n",
    "□ Sammlung des Informationsbedarfs in den Fachabteilungen\n",
    " <br>\n",
    "■ Ergebnis\n",
    " <br>\n",
    "□ Informale Beschreibung des Fachproblems\n",
    " <br>\n",
    "– Texte, tabellarische Aufstellungen, Formblätter, …\n",
    " <br>\n",
    "□ Trennen der Information über Daten (Datenanalyse) von den Information über Funktionen (Funktionsanalyse)\n",
    " <br>\n",
    " <br>\n",
    "■ „Klassischer“ DB-Entwurf\n",
    " <br>\n",
    "□ Nur Datenanalyse und Folgeschritte\n",
    " <br>\n",
    "  <br>\n",
    "■ Funktionsentwurf\n",
    " <br>\n",
    "□ Siehe Methoden des Software-Engineering"
   ]
  },
  {
   "cell_type": "markdown",
   "metadata": {},
   "source": [
    "### Konzeptioneller Entwurf"
   ]
  },
  {
   "cell_type": "markdown",
   "metadata": {},
   "source": [
    "■ Erste formale Beschreibung des Fachproblems\n",
    "<br>\n",
    "□ Diskurswelt (Universe of Discourse)\n",
    "<br>\n",
    "<br>\n",
    "■ Sprachmittel: semantisches Datenmodell\n",
    "<br>\n",
    "□ ER-Modell (Entity-Relationship-Modell)\n",
    "<br>\n",
    "<br>\n",
    "■ Vorgehensweise\n",
    "<br>\n",
    "□ Modellierung von Sichten z.B. für verschiedene Fachabteilungen\n",
    "<br>\n",
    "□ Analyse der vorliegenden Sichten in Bezug auf Konflikte\n",
    "<br>\n",
    "– Namenskonflikte (Synonyme, Homonyme)\n",
    "<br>\n",
    "– Typkonflikte\n",
    "<br>\n",
    "– Bedingungskonflikte\n",
    "<br>\n",
    "– Strukturkonflikte\n",
    "<br>\n",
    "□ Integration der Sichten in ein Gesamtschema\n",
    "<br>\n",
    "■ Ergebnis: konzeptionelles Gesamtschema, z.B.(E)ER-Diagramm"
   ]
  },
  {
   "cell_type": "markdown",
   "metadata": {},
   "source": [
    "### Verteilungsentwurf (Partitionierung)"
   ]
  },
  {
   "cell_type": "markdown",
   "metadata": {},
   "source": [
    "■ Sollen Daten auf mehreren Rechnern verteilt vorliegen, muss Art und Weise der verteilten Speicherung festgelegt werden.\n",
    "<br>\n",
    "<br>\n",
    "■ Z.B. bei Relation KUNDE (KNr, Name, Adresse, PLZ, Konto)\n",
    "<br>\n",
    "□ Horizontale Partitionierung\n",
    "<br>\n",
    "– KUNDE_1 (KNr, Name, Adresse, PLZ, Konto)\n",
    "<br>\n",
    "where PLZ < 50000\n",
    "<br>\n",
    "– KUNDE_2 (KNr, Name, Adresse, PLZ, Konto)\n",
    "<br>\n",
    "where PLZ >= 50000\n",
    "<br>\n",
    "□ Vertikale Partitionierung (Verbindung über KNr Attribut)\n",
    "<br>\n",
    "– KUNDE_Adr (KNr, Name, Adresse, PLZ)\n",
    "<br>\n",
    "– KUNDE_Konto (KNr, Konto)"
   ]
  },
  {
   "cell_type": "markdown",
   "metadata": {},
   "source": [
    "### Logischer Entwurf"
   ]
  },
  {
   "cell_type": "markdown",
   "metadata": {},
   "source": [
    "■ Sprachmittel: Datenmodell des ausgewählten DBMS\n",
    "<br>\n",
    "□ z.B. DB2, Oracle, … ® relationales Modell\n",
    "<br>\n",
    "□ Tamino ® XML\n",
    "<br>\n",
    "□ Dynamo, Redis ® key-value Modell\n",
    "<br>\n",
    "□ OO, JSON, RDF, …\n",
    "<br>\n",
    "<br>\n",
    "■ Vorgehensweise\n",
    "<br>\n",
    "□ (Automatische) Transformation des konzeptionellen Schemas\n",
    "<br>\n",
    "– z.B. ER in relationales Modell\n",
    "<br>\n",
    "□ Verbesserung des relationalen Schemas anhand von Gütekriterien\n",
    "<br>\n",
    "– Normalisierung, Redundanzvermeidung, …\n",
    "<br>\n",
    "<br>\n",
    "■ Ergebnis: logisches Schema, z.B. Sammlung von Relationen-schemata\n",
    "<br>\n",
    "<br>"
   ]
  },
  {
   "cell_type": "markdown",
   "metadata": {},
   "source": [
    "### Datendefinition"
   ]
  },
  {
   "cell_type": "markdown",
   "metadata": {},
   "source": [
    "■ Umsetzung des logischen Schemas in ein konkretes Schema\n",
    "<br>\n",
    "<br>\n",
    "■ Sprachmittel: SQL\n",
    "<br>\n",
    "□ DDL (data definition language) und\n",
    "<br>\n",
    "DML (data manipulation language) eines DBMS\n",
    "<br>\n",
    "– z.B. Oracle, DB2, SQL Server, …\n",
    "<br>\n",
    "□ Datenbankdeklaration in der DDL des DBMS\n",
    "<br>\n",
    "– CREATE TABLE …\n",
    "<br>\n",
    "□ Realisierung der Integritätssicherung\n",
    "<br>\n",
    "– Schlüssel, Fremdschlüssel, Nebenbedingungen, Datentypen\n",
    "<br>\n",
    "□ Definition von Benutzersichten\n",
    "<br>\n",
    "– CREATE VIEW …"
   ]
  },
  {
   "cell_type": "markdown",
   "metadata": {},
   "source": [
    "### Physischer Entwurf"
   ]
  },
  {
   "cell_type": "markdown",
   "metadata": {},
   "source": [
    "■ DBMS nimmt automatisiert physischen Entwurf vor.\n",
    "<br>\n",
    "<br>\n",
    "■ Ergänzen um Zugriffsunterstützung zur Effizienzverbesserung\n",
    "<br>\n",
    "<br>\n",
    "□ z.B. Definition von Indizes\n",
    "<br>\n",
    "□ CREATE INDEX …\n",
    "<br>\n",
    "■ Index\n",
    "<br>\n",
    "□ Datenstruktur für effizienten, Suchschlüssel-basierten Zugriff auf\n",
    "<br>\n",
    "Datensätze\n",
    "<br>\n",
    "(<Schlüsselattributwert, Tupeladresse>)\n",
    "<br>\n",
    "□ Meist als Baumstruktur oder Hashtabelle realisiert\n",
    "<br>\n",
    "<br>\n",
    "■ Beispiel\n",
    "<br>\n",
    "□ Tabelle mit 10 GB Daten\n",
    "<br>\n",
    "□ Festplattentransferrate ca. 50 MB/s\n",
    "<br>\n",
    "□ Operation: Suchen einer Bestellung (Selektion)\n",
    "<br>\n",
    "□ Implementierung: sequentielles Durchsuchen\n",
    "<br>\n",
    "□ Aufwand: 10.240/50 = 205 sec. = 3,5 min."
   ]
  },
  {
   "cell_type": "markdown",
   "metadata": {},
   "source": [
    "### Implementierung und Wartung"
   ]
  },
  {
   "cell_type": "markdown",
   "metadata": {},
   "source": [
    "■ Wartung des DBMS\n",
    "<br>\n",
    "□ Parameter, Festplatten, etc.\n",
    "<br>\n",
    "<br>\n",
    "■ Datenbank Tuning\n",
    "<br>\n",
    "□ Weitere Optimierung der physischen Ebene\n",
    "<br>\n",
    "<br>\n",
    "■ Anpassung an neue Anforderungen\n",
    "<br>\n",
    "<br>\n",
    "■ Anpassung an neue Systemplattformen\n",
    "<br>\n",
    "<br>\n",
    "■ Portierung auf neue Datenbankmanagementsysteme\n",
    "<br>\n",
    "<br>\n",
    "■ Kostenaufwändigste Phase\n",
    "<br>\n",
    "<br>\n",
    "■ Software Engineering"
   ]
  },
  {
   "cell_type": "markdown",
   "metadata": {},
   "source": [
    "## Integrationskonflikte"
   ]
  },
  {
   "cell_type": "markdown",
   "metadata": {},
   "source": [
    "■ Namenskonflikte\n",
    "<br>\n",
    "□ Homonyme: Schloss, Kunde\n",
    "<br>\n",
    "□ Synonyme: Auto, KFZ, Fahrzeug\n",
    "<br>\n",
    "<br>\n",
    "■ Typkonflikte\n",
    "<br>\n",
    "□ Verschiedene Strukturen für das gleiche Element\n",
    "<br>\n",
    "□ String vs. int vs. date\n",
    "<br>\n",
    "<br>\n",
    "■ Wertebereichskonflikte\n",
    "<br>\n",
    "□ Verschiedene Wertebereiche für ein Element\n",
    "<br>\n",
    "□ KW 1 – 52 vs. Januar, Februar, …, Dezember\n",
    "<br>\n",
    "<br>\n",
    "■ Bedingungskonflikte\n",
    "<br>\n",
    "□ z.B. verschiedene Schlüssel für ein Element\n",
    "<br>\n",
    "□ <\\ISBN> vs. <Titel, Autor>\n",
    "<br>\n",
    "<br>\n",
    "■ Strukturkonflikte\n",
    "<br>\n",
    "□ Gleicher Sachverhalt durch unterschiedliche Konstrukte ausgedrückt"
   ]
  },
  {
   "cell_type": "markdown",
   "metadata": {},
   "source": [
    "NICHT enthalten: S.10"
   ]
  }
 ],
 "metadata": {
  "kernelspec": {
   "display_name": "Python 3",
   "language": "python",
   "name": "python3"
  },
  "language_info": {
   "codemirror_mode": {
    "name": "ipython",
    "version": 3
   },
   "file_extension": ".py",
   "mimetype": "text/x-python",
   "name": "python",
   "nbconvert_exporter": "python",
   "pygments_lexer": "ipython3",
   "version": "3.7.3"
  }
 },
 "nbformat": 4,
 "nbformat_minor": 2
}
