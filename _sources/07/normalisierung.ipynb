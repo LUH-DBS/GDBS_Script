{
 "cells": [
  {
   "cell_type": "markdown",
   "metadata": {},
   "source": [
    "# Normalisierung"
   ]
  },
  {
   "cell_type": "markdown",
   "metadata": {},
   "source": [
    "Bisher haben wir eine direkte Übersetzung von ER-Diagrammen in das relationale Modell behandelt. Dabei sind wir davon ausgegangen, dass das Ursprungsmodell sinnvoll erstellt und alle dazugehörigen Kardinalitäten sinnvoll auch im Sinne der Vermeidung von Redundanz modelliert wurden. In der Realität kann man aber nicht immer davon ausgehen, dass die Modellierung fehlerfrei durchgeführt wird. Zudem kann es nachdem konzeptionellen Entwurf zu Veränderungen hinsichtlich der Nutzung der Daten und den beziehungen zwischen den ursprünglichen Entitytypen und Relationshiptypen kommen, die zu Problem führen können. Insbesondere könnten vorher unbekannte funktionale Abhängigkeiten sichtbar werden, die eine Verfeinerung des (logischen) Entwurfes erfordern. "
   ]
  },
  {
   "cell_type": "markdown",
   "metadata": {},
   "source": [
    "**Beispiel:** In der folgenden Filmtabelle werden Informationen zu Filmen abgespeichert. Bei der Modellierung wurde darauf geachtet, dass die Tabelle einen Schlüssel und mehrere Attribute hat. \n"
   ]
  },
  {
   "cell_type": "markdown",
   "metadata": {},
   "source": [
    "|FilmID|Titel|Jahr|Länge|Genre|Studio|Produktionsland|\n",
    "|-----|-----|-----|------|-----|-------|--------|\n",
    "|1|Matrix I|1999|136|SciFi|Warner Bros.|USA|\n",
    "|2|Lord of the Rings I|2001|178|Fantasy|Warner Bros.|USA|\n",
    "|3|The Breakfast Club|1985|97|Drama|Universal|USA|\n",
    "|4|Cruel Intentions|1999|97|Drama|Columbia Pictures|USA|"
   ]
  },
  {
   "cell_type": "markdown",
   "metadata": {},
   "source": [
    "Bei diesem Beispiel fällt auf, dass bestimmte Informationen mehrfach auftauchen. Insbesondere ist das bei Studio und USA der Fall. Es stellt sich heraus, dass das Produktionsland vom Studionamen abhängt. Dies ist nicht nur zufällig in dieser dargestellten Tabelle so, sondern konzeptionell auch begründet werden. Die Produktion wird dem Land zugerechnet, in dem sich das Studio befindet. \n",
    "An und für sich ist das kein großes Problem. Oft werden solche Abhängigkeiten hingenommen. Wenn wir jedoch eine Minimierung von Redundanz bei unserer Modellierung vornehmen wollen, müssen wir diese Abhängigkeit nutzen um Informationen die herleitbar sind nicht wiederholt zu speichern. Eine redundante Speicherung solcher Informationen kann dazu führen, dass bei zukünftigen Änderungen der Daten, die Abhängigkeit nicht in Betracht gezogen wird und Inkonsistenzen entstehen, die unsere nun erkannte Beziehung verletzen könnten.\n",
    "Die folgende Darstellung weist dieses Problem nicht mehr auf."
   ]
  },
  {
   "cell_type": "markdown",
   "metadata": {},
   "source": [
    "**Filmtabelle**\n",
    "\n",
    "|FilmID|Titel|Jahr|Länge|Genre|Studio|\n",
    "|-----|-----|-----|------|-----|-------|\n",
    "|1|Matrix I|1999|136|SciFi|Warner Bros.|\n",
    "|2|Lord of the Rings I|2001|178|Fantasy|Warner Bros.|\n",
    "|3|The Breakfast Club|1985|97|Drama|Universal|\n",
    "|4|Cruel Intentions|1999|97|Drama|Columbia Pictures|\n"
   ]
  },
  {
   "cell_type": "markdown",
   "metadata": {},
   "source": [
    "**Studiotabelle**\n",
    "\n",
    "|Studio|Produktionsland|\n",
    "|-----|-----|\n",
    "Warner Bros.|USA|\n",
    "Universal|USA|\n",
    "Columbia Pictures|USA|"
   ]
  },
  {
   "cell_type": "markdown",
   "metadata": {},
   "source": [
    "Jetzt haben wir die Informationen zu jedem Studio in einer separaten Tabelle ausgelagert. Die Beziehung zwischen den Filmen ist über den Studionamen erhalten worden. Die neue Modellierung würde uns auch erlauben weitere Informationen pro Studio zu speichern ohne diese jeweils für jeden Film zu wiederholen. Es stellt sich heraus, dass in der neuen Studiotabelle das Attribut Studio die Funktion des Schlüssels übernommen hat. Das heißt, dass jeder Studioname nur ein mal vorkommt und die jeweiligen Studioeigenschaften genau bestimmt. Es gibt auch weitere Auswirkungen: Insbesondere können jetzt Studios unabhängig von Filmen existieren. Auch verschwinden Studios nicht aus unserer Datenbank, wenn wir die jeweiligen Filme löschen. In der usprünglichen Version hatten wir nur jede Studios für die wir auch Filme abgespeichert hatten. \n",
    "\n",
    "Was wir in diesem Beispiel getan haben ist eine Relation zu dekomponieren. Dafür haben wir die funktionale Abhängigkeit zwischen Studioname und Produktionsland verwendet. Im folgenden werden wir diese Konzepte genauer besprechen um ein systematisches Vorgehen für die Dekomposition von Relationen herzuleiten."
   ]
  },
  {
   "cell_type": "markdown",
   "metadata": {},
   "source": [
    "## Funktionale Abhängigkeiten (FDs)"
   ]
  },
  {
   "cell_type": "markdown",
   "metadata": {},
   "source": [
    "Funktionen kennen Sie aus der Mathematik. Funktionen sind Abbildungen von Elementen einer Menge (Definitionsbereich) auf Elemente einer anderen Menge (Wertebereich), wobei jedem Element des Definitionsbereiches genau ein Element aus dem Werte Bereich zugeordnet wird. Die linke Abbildung unten zeigt den Graphen einer mathematischen Funktion. Die rechte Abbildung stellt jedoch keine Funktion dar, da einem X-Wert mehrere A-Werte zugeordnet wurden. Funktionale Abhängigkeiten folgen einer analogen Definition wie folgt. "
   ]
  },
  {
   "cell_type": "markdown",
   "metadata": {},
   "source": [
    "\n",
    "<img src=\"funktionen.jpg\" alt=\"Funktionen\" width=\"500\"/>"
   ]
  },
  {
   "cell_type": "markdown",
   "metadata": {},
   "source": [
    "**Definition – Funktionale Abhängigkeit** Gegeben eine Relation mit einer Attributmenge $X \\subset R$ und einem Attribut $A \\in R$, dann ist $X \\rightarrow A$ eine funktionale Abhängigkeit wenn gilt, dass immer wenn zwei Tupel in den Werten der Attributmenge X übereinstimmen, stimmen sie auch im Attributwert\n",
    "für A überein."
   ]
  },
  {
   "cell_type": "markdown",
   "metadata": {},
   "source": [
    "**Notation:**\n",
    "- Begriffe: Funktionale Abhängigkeit oder FA, oder Functional Dependency oder FD\n",
    "- …, X, Y, Z sind Attributmengen\n",
    "- A, B, C, … sind Attribute\n",
    "- X → A: „X bestimmt A funktional.“\n",
    "- Kurzform: ABC statt {A, B, C}\n",
    "- Kurzform: Falls X → A, X → B, X → C schreiben wir auch X → ABC oder auch X → Y\n",
    "\n",
    "**Beispiele:**\n",
    "\n",
    "- Titel, Jahr $\\rightarrow$ Länge\n",
    "- FilmID $\\rightarrow$ Titel\n",
    "- Studio $\\rightarrow$ Produktionsland\n"
   ]
  },
  {
   "cell_type": "markdown",
   "metadata": {},
   "source": [
    "### Dekomposition und Vereinigung"
   ]
  },
  {
   "cell_type": "markdown",
   "metadata": {},
   "source": [
    "Bevor wir funktionale Abhängigkeiten einsetzen, wollen wir noch einige nützliche Transformationsregeln kennen lernen. \n",
    "\n",
    "\n",
    "**Dekompositionsregel** $A_1,A_2,…A_n \\rightarrow B_1,B_2,…,B_m \\Rightarrow  \\forall i \\in [1:m]. A_1,A_2,…A_n \\rightarrow B_i$\n",
    "Die Dekompositionsregel besagt, dass wir jede FD mit mehr als einem Attribut auf der rechten Seite auch als eine Menge von FDs aufschreiben können, die jeweils immer die gleiche linke Seite aber nur eine Teilmenge bzw. nur ein Element aus der ursprünglichen rechten Seite aufzeigen. Mit dieser Regel können wir FDs vereinfachen und weitere Eigenschaften, wie zum Beispiel Minimalität (wird später erklärt) leichter prüfen.\n",
    "\n",
    "**Vereinigungsregel** $ \\forall i \\in [1:m]. A_1,A_2,…A_n \\rightarrow B_i \\Rightarrow  A_1,A_2,…A_n \\rightarrow B_1,B_2,…,B_m$\n",
    "Die Vereinigungsregel zeigt, dass die Umkehrung der Dekomposition möglich ist. Wir können alle FDs, die genau die gleiche Menge an Attributen auf der linken Seite aufzeigen zu einer FD zusammenfassen, indem wir die Attribute der rechten Seite aller ursprünglichen FDs vereinigen. Diese Regel dient der Zusammenfassung und Darstellbarkeit von FDs.\n",
    "\n",
    "\n",
    "**Beispiel**\n",
    "- Titel, Jahr → Länge \n",
    "- Titel, Jahr → Typ\n",
    "- Titel, Jahr → StudioName \n",
    "- $\\Leftrightarrow$ Titel, Jahr → Länge, Typ, StudioName \n",
    "\n",
    "■ Beide zuvor genannte Regeln funktionieren nur für die rechte Seite von FDs. Wir können nicht die linke Seite wie im folgenden Beispiel gezeigt dekomponieren. \n",
    "  \n",
    "Titel, Jahr → Länge $\\not\\Rightarrow$ Titel → Länge $\\vee$ Jahr → Länge"
   ]
  },
  {
   "cell_type": "markdown",
   "metadata": {},
   "source": [
    "### Typen von FDs"
   ]
  },
  {
   "cell_type": "markdown",
   "metadata": {},
   "source": [
    "Unter den verschiedenen funktionalen Abhängigkeiten gibt es verschiedene Kategorien, die unterschiedlich interessant sind. Es gibt triviale FDs, minimale FDs und andere Spezialfälle wie Schlüssel.\n",
    "\n",
    "\n",
    "\n",
    "**Trivial**: Bei trivialen FDs sind die Attribute rechts eine Teilmenge der Attribute links. Diese FDs gelten als trivial, da natürlich jedes Attribut sich selbst funktional bestimmt. Genauso bestimmt jede Attributkombination jede ihrer Teilmengen funktional. Anders ausgedrückt gilt: „Zwei Tupel, die in einer Menge von Attributen übereinstimmen, stimmen auch in einem dieser Attribute überein.“\n",
    "\n",
    "Beispiel: Titel, Jahr → Titel\n",
    "<br>\n",
    "\n",
    "<br><br>\n",
    "**Nicht-trivial**: Wenigstens ein Attribut rechts kommt links nicht vor.\n",
    "<br>\n",
    "□ Beispiel: Titel, Jahr → Jahr, Länge\n",
    "<br><br>\n",
    "**Völlig nicht-trivial**: Die Attribute links und rechts sind disjunkt.\n",
    "<br>\n",
    "Beispiel: Titel, Jahr → Länge\n",
    "<br>\n",
    "\n",
    "Für die meisten Probleme, die wir betrachten interessieren wir uns immer nur für die völlig nicht-trivialen FDs. Insbesodnere können wir durch die Dekompositionsregel leicht triviale Komponenten einer FD entfernen. "
   ]
  },
  {
   "cell_type": "markdown",
   "metadata": {},
   "source": [
    "### Schlüssel als Spezialfall einer FD"
   ]
  },
  {
   "cell_type": "markdown",
   "metadata": {},
   "source": [
    "Eine Menge aus einem oder mehr Attributen $\\{A_1, A_2, …, A_n\\}$ ist Schlüssel der Relation R, falls gilt:\n",
    "Die Attribute bestimmen alle anderen Attribute funktional.\n",
    "\n",
    "- Anmerkung: Relationen sind Mengen, es kann also keine zwei völlig identischen Tupel geben.\n",
    "\n",
    "Besonders interessant sind in diesem Zusammenhang sogenannte **minimale** Schlüssel, bei denen gilt, dass Keine echte Teilmenge von $\\{A_1, A_2, …, A_n\\}$ alle anderen Attribute funktional bestimmt.\n"
   ]
  },
  {
   "cell_type": "markdown",
   "metadata": {},
   "source": [
    "**Beispiel:** Betrachten wir wieder unser ursprüngliches Beispiel.\n",
    "\n",
    "\n",
    "|FilmID|Titel|Jahr|Länge|Genre|Studio|Produktionsland|\n",
    "|-----|-----|-----|------|-----|-------|--------|\n",
    "|1|Matrix I|1999|136|SciFi|Warner Bros.|USA|\n",
    "|2|Lord of the Rings I|2001|178|Fantasy|Warner Bros.|USA|\n",
    "|3|The Breakfast Club|1985|97|Drama|Universal|USA|\n",
    "|4|Cruel Intentions|1999|97|Drama|Columbia Pictures|USA|"
   ]
  },
  {
   "cell_type": "markdown",
   "metadata": {},
   "source": [
    "{FilmID} ist der Schlüssel für diese Relation und natürlich bestimmt FilmID jedes andere Attribut funktional.\n",
    "\n",
    "Ob weitere Attributkombinationen Schlüssel sein können, hängt von der Domäne ab. In dieser kleinen Tabelle könnte man meinen, dass auch der Titel ein Schlüssel sein könnte, da jeder Titel nur einmal auftraucht und somit automatisch jedes weitere Attribut eindeutig bestimmt. Wenn wir Titel als Schlüssel betrachten, erlauben wir keine unterschiedlichen Filme mehr mit identischen Titeln. Damit könnten wir keine Filmremakes mehr in unsere Datenbank aufführen.\n",
    "Theoretisch wäre es möglich Titel und Jahr gemeinsam als Schlüssel zu betrachten, da es unwahrscheinlich ist, dass ein Film mit dem exakt selben Titel im gleichen Jahr auftaucht. \n"
   ]
  },
  {
   "cell_type": "markdown",
   "metadata": {},
   "source": [
    "### Superschlüssel"
   ]
  },
  {
   "cell_type": "markdown",
   "metadata": {},
   "source": [
    "Eine Relation kann mehr als einen Schlüssel besitzen. Es gilt jedoch immer genau einen Primärschlüssel zu spezifizieren.\n",
    "Hierbei gilt es zu erkennen, dass jede Attributmenge, die alle Attribute eines Schlüssels enthält auch die Schlüsseleigenschaft aufweist. Eine Attributmenge, die einen Schlüssel enthält, nennt man einen Superschlüssel. Es können auch unnötige Attribute in einem Superschlüssel existieren. Ein (Primär)schlüssel ist jedoch grundsätzlich minimal. Das heißt, dass keine Teilmenge des Schlüssels auch die Schlüsseleigenschaft besitzt.\n",
    "\n",
    "<img src=\"wikipediaPrimaryKey.svg.png\" alt=\"wikipediaPrimaryKey\" width=\"500\" caption=\"by PHummel \"/> \n",
    "\n",
    "In der Abbildung oben, sieht man auch, dass es sogenannte Schlüsselkandidaten gibt. Da wir grundsätzlich genau ein Primärschlüssel spezifizieren, sind alle anderen Attributkombinationen die minimal sind und Schlüsseleigesnchaften erfüllen Schlüsselkandidaten. Wir werden oft den Begriff Schlüssel für Schlüsselkandidaten nutzen. \n",
    "\n",
    "Beispiele:\n",
    "{FilmID} ist ein Schlüssel, ein Schlüsselkandidant und ein Superschlüssel.\n",
    "\n",
    "{Titel, Jahr} ist ein Schlüsselkandidat und ein Superschlüssel. Da FilmID bereits Primärschlüssel ist, kann {Titel, Jahr} nur noch Schlüsselkandidat sein.\n",
    "\n",
    "{Titel, Jahr, Länge} ist ein Superschlüssel und ist nicht minimal.\n",
    "\n",
    "**Minimal vs. kleinster**\n",
    "\n",
    "Minimaler Schlüssel: Kein Attribut darf fehlen\n",
    "- Ist nicht unbedingt kleinster Schlüssel\n",
    "- Beispiel: {Titel, Jahr}\n",
    "\n",
    "Kleinster Schlüssel: Schlüssel mit wenigsten Attributen\n",
    "\n",
    "- Ist auch minimal\n",
    "- Beispiel: {FilmID}\n",
    "\n",
    "\n"
   ]
  },
  {
   "cell_type": "markdown",
   "metadata": {},
   "source": [
    "### Wo kommen FDs her? Schema vs. Instanz"
   ]
  },
  {
   "cell_type": "markdown",
   "metadata": {},
   "source": [
    "Wir hatten bereits festgestellt, dass wir auch weitere zufällige FDs in unserer Filmrelation finden können. Zum Beispiel gilt in der dargestellten Instant {Länge, Jahr} $\\rightarrow$ {Titel}. Nach unserer ursprünglichen Definition handelt es sich hierbei um eine funktionale Abhängigkeit. Noch schlimmer: {Länge, Jahr} könnte sogar als Schlüssel definiert werden. Es ist leicht einzusehen, dass dieser Schlüssel nicht sinnvoll ist.\n",
    "\n",
    "Ob letztlich eine FD gelten soll, muss während der Modellierung entschieden werden. Das heißt, dass die FD unabhängig von den vorhanden Daten immer gelten muss. Das gleiche gilt auch für Schlüssel. Während Schlüssel hauptsächlich dafür definiert werden um Einträge von einander unterscheiden zu können, können FDs als Einschränkungen auf einer Relation definiert werden um so Integrität von Daten herzustellen. Die Einhaltung und Überprüfung von funktionalen Abhängigkeiten hilft die Qualität und Konsistenz von Daten aufrecht zu erhalten. Beispielsweise kann man mit der Definition einer funktionalen Abhängigkeit {Postleitzahl}$\\rightarrow${Stadt} sicherstellen, dass dieselbe Postleitzahl nicht fälschlicherweise mit zwei unterschiedlichen Städten assoziiert wird. "
   ]
  },
  {
   "cell_type": "markdown",
   "metadata": {},
   "source": [
    "### Schlüssel aus ER-Diagrammen"
   ]
  },
  {
   "cell_type": "markdown",
   "metadata": {},
   "source": [
    "Schlüsselinformationen sind grundsätzlich bereits im ER-Modell bekannt und müssen anhand der folgenden **Regeln** übernommen werden.\n",
    "\n",
    "1. Falls die Relation von einem Entitytypen stammt, bestehen die Schlüsselattribute der Relation aus den Schlüsselattributen des Entitytypen.\n",
    "\n",
    "2. Falls die Relation von einem Relationshiptypen stammt muss man die Kardinalitäten betrachten.\n",
    "\n",
    "    1. $m:n$: Schlüssel besteht aus den Schlüsselattributen der verbundenen Entitytypen.\n",
    "    2. $1:n$: Schlüssel besteht aus den Schlüsselattributen des Entitytypen der n-Seite.\n",
    "    3. $1:1$: Zwei mögliche Schlüssel. Hierbei ist zu beachten, dass die Umwandlung kapazitätserhöhend werden könnte.\n",
    "        - Schlüssel der beiden beteiligten Entitytypen. Wahl eines der beiden Schlüssel als Primärschlüssel (egal welcher).\n",
    "\n",
    "3. Bei n-ären Relationshiptypen kann es komplizierter werden. Die 1-Seite muss nie am Schlüssel beteiligt sein.\n",
    "4. Falls die Relation aus einem schwachen Entitytypen stammt, müssen die Schlüssel der bestimmtenden Entitytypen mit übernommen werden."
   ]
  },
  {
   "cell_type": "markdown",
   "metadata": {},
   "source": [
    "**Beispiel 1:**\n",
    "\n",
    "\n",
    "![title](er_diagramm1.jpg)"
   ]
  },
  {
   "cell_type": "markdown",
   "metadata": {},
   "source": [
    "- $Filme(\\underline{Titel, Jahr}, Länge, Typ)$ (Regel 1)\n",
    "\n",
    "- $Schauspieler*in(\\underline{Name, Adresse})$ (Regel 1)\n",
    "- $Studio(\\underline{Name}, Adresse)$ (Regel 1)\n",
    "- $besitzt(\\underline{Titel, Jahr}, Name)$ (Regel 2B)\n",
    "    - zusammengefasst mit Filme zu Film $(\\underline{Titel, Jahr}, Länge, Typ, StudioName)$\n",
    "- $spielt\\_in(\\underline{Titel, Jahr, Name, Adresse}, Gehalt)$ (Regel 2A)"
   ]
  },
  {
   "cell_type": "markdown",
   "metadata": {},
   "source": [
    "**Beispiel 2 (1:1-Beziehungen):**\n",
    "\n",
    "![title](er_diagramm2.jpg)"
   ]
  },
  {
   "cell_type": "markdown",
   "metadata": {},
   "source": [
    "- $Studios(\\underline{SName})$ (Regel 1)\n",
    " <br>\n",
    "- $Vorsitzende(\\underline{VName})$ (Regel 2)\n",
    "- $leitet(\\underline{SName}, VName)$ oder leitet$(SName, \\underline{VName})$ (Regel 2C)\n",
    "    - Es gibt zwei Schlüssel: SName und VName und ein Schlüssel muss als Primärschlüssel gewählt werden.\n",
    "    - Es gibt entsprechend zwei Möglichkeiten die Relation zusammenzufassen zu $Studios(\\underline{SName}, VName)$ oder $Vorsitzende(\\underline{VName}, SName)$. Je nach Umwandlung ist die Darstellung kapazitätserhöhend. In Datenbanksystemen kann man durch weitere Integritätsbedingungen wie z.B. unique verhindern, dass die Nicht-schlüsselspalte doppelte Einträge erhält."
   ]
  },
  {
   "cell_type": "markdown",
   "metadata": {},
   "source": [
    "**Beispiel 3 (n-äre Relationshiptypen):**\n",
    "\n",
    "![title](n-aer_relationshiptypen1.jpg)"
   ]
  },
  {
   "cell_type": "markdown",
   "metadata": {},
   "source": [
    "- $Studio (\\underline{Name}, Adresse)$\n",
    "- $ Schauspieler*in (\\underline{Name}, Adresse)$\n",
    "- $Film (\\underline{Titel, Jahr}, Typ, Länge)$\n",
    "- $ist\\_unter\\_Vertrag (\\underline{SchauspielerName, Titel, Jahr}, StudioName, Gehalt)$. Studioname ist nicht teil des Schlüssels (Regel 3)"
   ]
  },
  {
   "cell_type": "markdown",
   "metadata": {},
   "source": [
    "**Beispiel 4 (Schwache Entitytypen):**\n",
    "\n",
    "<img src=\"schwacheETs.png\" alt=\"schwacheETs\" width=\"500\"/> \n",
    "\n",
    "\n",
    "- $Studio(\\underline{Name}, Adresse)$ (Regel 1)\n",
    "- $Schauspieler(\\underline{Name}, Adresse)$ (Regel 1)\n",
    "- $Film(\\underline{Titel, Jahr}, Typ, Länge)$ (Regel 1)\n",
    "- $Vertrag(\\underline{SchauspielerName, StudioName, Titel, Jahr}, Gehalt)$ (Regel 4)"
   ]
  },
  {
   "cell_type": "markdown",
   "metadata": {},
   "source": [
    "### Schlüssel aus ER-Diagrammen: IST-Hierarchien"
   ]
  },
  {
   "cell_type": "markdown",
   "metadata": {},
   "source": [
    "**Beispiel 5 (IST-Hierarchien):**\n",
    "\n",
    "<img src=\"IST_hierarchie.png\" alt=\"ist_Hierarchie\" width=\"400\"/> \n",
    "\n",
    "\n",
    "Bei IST-Hierarchien müssen die Schlüsselattribute in allen Relationen mit übernommen werden. \n",
    "\n",
    "- ER-Stil: Im ER-Still muss sichergestellt werden, dass der selbe Schlüssel in der Basisrelation das selbe Objekt in der Unterklasse repräsentiert. \n",
    "    - $Film(\\underline{Titel, Jahr}, Länge,Typ)$\n",
    "    - $Krimi(\\underline{Titel, Jahr}, Waffen)$\n",
    "    - $Zeichentrickfilm(\\underline{Titel, Jahr})$\n",
    "\n",
    "- OO-Stil: Im OO-Stil muss man zusätzlich sicherstellen, dass der selbe Schlüssel nicht in mehreren Relationen gleichzeitig auftaucht. \n",
    "    - $Film(\\underline{Titel, Jahr}, Länge, Typ)$\n",
    "    - $FilmZ(\\underline{Titel, Jahr}, Länge, Typ)$\n",
    "    - $FilmK(\\underline{Titel, Jahr}, Länge, Typ, Waffen)$\n",
    "    - $FilmZK(\\underline{Titel, Jahr}, Länge, Typ, Waffen)$\n",
    "- Mit NULL-Werten: Die Schlüssel sind hier wie bei jeder normalen Relation. Die obengenannten Probleme beim OO-Stil und ER-Stil können nicht auftreten.\n",
    "    - $Film(\\underline{Titel, Jahr}, Länge, Typ, Waffen)$"
   ]
  },
  {
   "cell_type": "markdown",
   "metadata": {},
   "source": [
    "## Ableitungsregeln für FDs"
   ]
  },
  {
   "cell_type": "markdown",
   "metadata": {
    "tags": []
   },
   "source": [
    "Während man im ER-Modell bereits Schlüssel definieren kann, kann es vorkommen, dass man bestimmte ableitbare Abhängigkeiten zur Designzeit übersieht. Mit den bereits bekannten funktionalen Beziehungen kann man aber alle geltenden funktionalen Abhängigkeiten in einer Relation herleiten.\n",
    "Das Ziel des Datenbankentwurfes ist es alle abgeleiteten FDs an Hand von Dekomposition in Schlüsselabhängigkeiten umzuformen ohne dabei semantische Informationen zu verlieren. Diese Umwandlung dient wie im Eingangsbeispiel des Kapitels gezeigt dazu Redundanz in den Daten zu vermeiden."
   ]
  },
  {
   "cell_type": "markdown",
   "metadata": {},
   "source": [
    "### Transitivitätsregel"
   ]
  },
  {
   "cell_type": "markdown",
   "metadata": {},
   "source": [
    "Die wichtigste Regel bei der Ableitung weiterer funktionaler Abhängigkeiten ist die Transivitätsregel:\n",
    "- Gegeben zwei funktionaler Abhängigkeiten $A_1,A_2,…,A_n \\rightarrow B_1,B_2,…,B_m$ und $B_1,B_2,…,B_m → C_1,C_2,…,C_k$ kann daraus die funktionale Abhängigkeit $A_1,A_2,…,A_n → C_1,C_2,…,C_k$ abgeleitet werden."
   ]
  },
  {
   "cell_type": "markdown",
   "metadata": {},
   "source": [
    "**Beispiel und Beweis:** Gegeben sei die Relation R(A,B,C) mit folgender Instanz und es gelte $A\\rightarrow B$ und $B\\rightarrow C$\n",
    "\n",
    "|A      |B      |     C|\n",
    "|-------|-------|------|\n",
    "| $a_1$ | $b_1$ | $c_1$|\n",
    "| $a_2$ | $b_1$ | $c_1$|\n",
    "| $a_3$ | $b_2$ | $c_1$|\n",
    "| $a_4$ | $b_1$ | $c_1$|\n",
    "\n",
    "Aus den FDs $A\\rightarrow B$ und $B\\rightarrow C$ lässt sich durch die transitivität der funktionalen Abhängigkeit auch $A\\rightarrow C$ herleiten. "
   ]
  },
  {
   "cell_type": "markdown",
   "metadata": {},
   "source": [
    "- Beweis:\n",
    "    - Z.z.: Zwei beliebige Tupel, die in A übereinstimmen, müssen auch in C übereinstimmen.\n",
    "    - Beweis durch Widerspruch: Es gibt zwei beliebige Tupel, die in A übereinstimmen aber nicht in C:\n",
    "        - $t_1 = (a, b_1, c_1)$ und $t_2 = (a, b_2, c_2)$ mit $c_1\\neq c_2$\n",
    "        - Da $A\\rightarrow B$ gilt $b_1=b_2$ und  $t_1=(a, b_1, c1)$ und $t_2= (a, b_1, c_2)$\n",
    "        - Da $B\\rightarrow C$  und $b_1=b_2$ gilt  $c_1=c_2$ $\\Rightarrow$ Widerspruch\n",
    "- QED\n",
    "\n",
    "- Nicht ableitbar: C→A, B→A oder C→B"
   ]
  },
  {
   "cell_type": "markdown",
   "metadata": {
    "tags": []
   },
   "source": [
    "### Armstrong Axiome und weitere Ableitungsregeln"
   ]
  },
  {
   "cell_type": "markdown",
   "metadata": {},
   "source": [
    "Die Transitivitätsregel ist eine Regel der sogenannten Armstrong Axiome, die alle möglichen Ableitungsmöglichkeiten abdecken:\n",
    "\n",
    "\n",
    "- R1: Die Reflexivität besagt, dass jede Attributkombination sich selbst bzw. eine beliebige nicht-leere Teilmenge der eigenen Kombination funktional bestimmt, d.h., $X \\supseteq Y \\Rightarrow X\\rightarrow Y$ (insbes. $X\\rightarrow X$). Die Regel bezieht sich auf triviale FDs, wie zuvor kennen gelernt.\n",
    "\n",
    "- R2: Die Akkumulation besagt, dass beim Hinzufügen des selben Attributs auf die linke und rechte Seite einer funktionalen Abhängigkeit eine neue gültige funktionale Abhängigkeit entstehen kann, d.h., $X\\rightarrow Y \\Rightarrow XZ\\rightarrow YZ$. Diese Regel wird auch Augmentation genannt. \n",
    "- R3: Die Transitivität besagt, wie bereits erklärt $X\\rightarrow Y \\wedge Y \\rightarrow Z \\Rightarrow X\\rightarrow Z$\n",
    "<br>\n",
    "\n",
    "Die oberen drei Axiome sind minimal, gültig und vollständig. Es gibt auch weitere Axiome, die nützlich sind aber aus den ersten drei Axiome herleitbar sind. Die Dekompositionsregel und die Vereinigungsregel haben wir bereits zuvor kennengelernt.\n",
    "- R4: Dekomposition $X\\rightarrow YZ \\Rightarrow X\\rightarrow Y$\n",
    "- R5: Vereinigung $X\\rightarrow Y \\wedge X\\rightarrow Z \\Rightarrow X\\rightarrow YZ$\n",
    "\n",
    "- R6: Die Pseudotransitivität ist eine weitere nützliche Regel mit der Man die funktionale Abhängigkeit einer Teilmenge von Attributen ausnutzen kann um diese in einer anderen funktionalen Abhängigkeit zu ersetzen.  $X \\rightarrow Y\\wedge WY \\rightarrow Z \\Rightarrow WX\\rightarrow Z$"
   ]
  },
  {
   "cell_type": "markdown",
   "metadata": {},
   "source": [
    "### FD-Mengen"
   ]
  },
  {
   "cell_type": "markdown",
   "metadata": {},
   "source": [
    "Die Tatsache, dass wir mit einer Teilmenge der geltenden FDs auf einer Relation andere geltende herleiten können ruft die Frage hervor, wann zwei solche Mengen zu den exakt gleichen FDs insgesamt führen können. Hierbei sprechen wir von Äquivalenz von FD-Mengen: \n",
    "- Zwei Mengen S und T an FDs heißen äquivalent, falls die Menge der gültigen Instanzen unter S die gleiche wie\n",
    "unter T ist. Das heißt, dass für beide Mengen nach einer umfangreichen herleitung aller ableitbarer FDs die selbe Menge entstehen könnte. \n",
    "\n",
    "Wenn wir die Richtungen der Äquivalenz einzeln betrachten können wir auch aussagen: \n",
    "- Eine Menge S an FDs folgt aus einer Menge T an FDs, falls jede unter T gültige Instanz auch unter S gültig ist.\n",
    "\n",
    "Die Äquivalenz von FD-Mengen bieten uns die Grundlage dafür ohne Informationsverlust neue FDs abzuleiten. \n",
    "\n"
   ]
  },
  {
   "cell_type": "markdown",
   "metadata": {},
   "source": [
    "### Hüllenbildung\n",
    "\n",
    "Da wir möglichst alle geltenden FDs in Schlüsselabhängigkeiten umwandeln wollen müssen wir auch alle geltenden minimalen FDs ableiten. Das Verfahren hierfür heißt **Hüllenbildung**:\n",
    "Hierunter versteht man genau die Ableitung aller FDs aus einer gegebenen Menge an FDs, gemäß Ableitungsregeln.\n",
    "- Äquivalente Begriffe sind: attribute closure, closure, Attributabschluss"
   ]
  },
  {
   "cell_type": "markdown",
   "metadata": {},
   "source": [
    "■ Gegeben eine Menge von Attributen A1,A2,…,Ak und eine Menge S von FDs.\n",
    "<br>\n",
    "■ Die Hülle von A1,A2,…,Ak unter S ist die Menge Y aller Attribute für die gilt, dass für jede unter S gültige Relation auch A1,A2,…,Ak → Y gilt.\n",
    "<br>\n",
    "□ Menge der funktional ableitbaren Attribute\n",
    "<br>\n",
    "□ D.h. A1,A2,…Ak → Y folgt aus den FDs in S.\n",
    "<br>\n",
    "■ Notation: Hülle von A1,A2,…,Ak ist $\\{$A1,A2,…,Ak$\\}^+$.\n",
    "<br>\n",
    "■ Es gilt z.B. Ai $\\in$ $\\{$A1,A2,…,Ak$\\}^+$ für i=1,…,k\n",
    "<br>\n",
    "□ Trivialerweise, denn A1,A2,…, Ai, …, Ak→ A"
   ]
  },
  {
   "cell_type": "markdown",
   "metadata": {},
   "source": [
    "### Berechnung der Hülle"
   ]
  },
  {
   "cell_type": "markdown",
   "metadata": {},
   "source": [
    "![title](berechnung_huelle.jpg)"
   ]
  },
  {
   "cell_type": "markdown",
   "metadata": {},
   "source": [
    "1. Sei X die Menge der Attribute, die später die Hülle wird.\n",
    "<br>\n",
    "Initialisiere X mit {A1,A2,…Ak}.\n",
    "<br>\n",
    "2. Suche wiederholt nach solchen FDs B1,B2,…,Bm→ C, dass B1,B2,…,Bm $\\in$ X aber C $\\notin$ X.\n",
    "<br>\n",
    "3. Füge C zu X hinzu.\n",
    "<br>\n",
    "4. Wiederhole 2. bis keine Attribute mehr gefunden werden\n",
    "<br>\n",
    "■ Terminierung: X wächst nur, und Attributmenge ist endlich.\n",
    "<br>\n",
    "5. X ist schließlich die Hülle, also $\\{$A1,A2,…Ak$\\}^+$ = X."
   ]
  },
  {
   "cell_type": "markdown",
   "metadata": {},
   "source": [
    "■ Relation mit Attributen A, B, C, D, E, F\n",
    "<br>\n",
    "<br>\n",
    "■ Gegeben FDs\n",
    "<br>\n",
    "1. AB → C\n",
    "<br>\n",
    "2. BC → AD\n",
    "<br>\n",
    "3. D → E\n",
    "<br>\n",
    "4. CF → B\n",
    "<br>\n",
    "<br>\n",
    "■ Gesucht: Hülle von {A, B}, also {A,B$\\}+$\n",
    "<br>\n",
    "□ FD 1: X = {A, B, C}\n",
    "<br>\n",
    "□ FD 2: X = {A, B, C, D}\n",
    "<br>\n",
    "□ FD 3: X = {A, B, C, D, E} ( = {A,B$\\}^+$ )"
   ]
  },
  {
   "cell_type": "markdown",
   "metadata": {},
   "source": [
    "### Membership-Problem"
   ]
  },
  {
   "cell_type": "markdown",
   "metadata": {},
   "source": [
    "■ Kann eine bestimmte FD X→Y aus der gegebenen FD Menge abgeleitet werden?\n",
    "<br><br>\n",
    "■ Vorgehen: Berechne Hülle von X und teste ob Y darin enthalten ist.\n",
    "<br><br>\n",
    "■ Beispiel:\n",
    "<br>\n",
    "□ AB → C und BC → AD und D → E und CF → B\n",
    "<br>\n",
    "□ Kann AB → D abgeleitet werden?\n",
    "<br>\n",
    "– {AB$\\}^+$ = {A, B, C, D, E}\n",
    "<br>\n",
    "– D $\\in$ {A, B, C, D, E}, also JA!\n",
    "<br>\n",
    "□ Kann D → A abgeleitet werden?\n",
    "<br>\n",
    "– {D$\\}^+$ = {D, E}\n",
    "<br>\n",
    "– A $\\notin$ {D, E}, also NEIN!"
   ]
  },
  {
   "cell_type": "markdown",
   "metadata": {},
   "source": [
    "### Analyse des Algorithmus zur Hüllenbildung"
   ]
  },
  {
   "cell_type": "markdown",
   "metadata": {},
   "source": [
    "■ Nur Beweisidee\n",
    "<br>\n",
    "<br>\n",
    "■ Korrektheit: Es werden keine ungültigen FDs erzeugt.\n",
    "<br>\n",
    "□ Induktion über Anzahl der Operationen\n",
    "<br>\n",
    "□ Transitivität bzw. Argumentation über die Tupel.\n",
    "<br><br>\n",
    "■ Vollständigkeit: Es werden alle gültigen FDs erzeugt.\n",
    "<br>\n",
    "□ Annahme des Gegenteils, d.h. es gebe eine FD X→Y, die nicht gefunden wird.\n",
    "<br>\n",
    "□ Konstruktion einer Instanz, die für FDs, aber nicht für X→Y gültig ist."
   ]
  },
  {
   "cell_type": "markdown",
   "metadata": {},
   "source": [
    "### Die „Basis“"
   ]
  },
  {
   "cell_type": "markdown",
   "metadata": {},
   "source": [
    "■ Unterscheidung zwischen gegebenen FDs und abgeleiteten FDs\n",
    "<br><br>\n",
    "■ Wahl welche FDs zur Repräsentation aller FDs verwendet werden.\n",
    "<br>\n",
    "□ Eine Menge an FDs, aus der alle anderen FDs abgeleitet werden können, heißt Basis.\n",
    "<br>\n",
    "□ Falls keine echte Teilmenge der Basis wiederum selbst eine Basis ist, ist die Basis minimal.\n",
    "<br><br>\n",
    "■ Beispiel\n",
    "<br>\n",
    "□ R(A, B, C); jedes Attribut bestimme funktional die anderen beiden.\n",
    "<br>\n",
    "□ Welche FDs gelten?\n",
    "<br>\n",
    "□ A->B, A->C, B->A, B->C, C->A, C->B\n",
    "<br>\n",
    "□ Abgeleitet: AB->C, AC->B, BC->A\n",
    "<br>\n",
    "□ Kurzformen: A->BC, B->AC, C->AB\n",
    "<br>\n",
    "□ Triviale FDs: A->A, B->B, C->C\n",
    "<br>\n",
    "□ Nicht-triviale FDs: AB->BC, AC->BC, …\n",
    "<br>\n",
    "□ Minimale Basis: {A->B, B->A, B->C, C->B}\n",
    "<br>\n",
    "□ Minimale Basis: {AvB, B->C, C->A}"
   ]
  },
  {
   "cell_type": "markdown",
   "metadata": {},
   "source": [
    "### FDs nach Projektionen"
   ]
  },
  {
   "cell_type": "markdown",
   "metadata": {},
   "source": [
    " Motivation: Normalisierung bricht eine Relation in mehrere Teile.\n",
    " <br>\n",
    "■ Gegeben eine Relation R mit Menge F an FDs. Sei S das Ergebnis nach Entfernung einiger Attribute aus R („Projektion“).\n",
    "<br><br>\n",
    "■ Welche FDs gelten noch für S?\n",
    "<br>\n",
    "□ Alle FDs, die aus F folgen,\n",
    "<br>\n",
    "□ und die nur Attribute aus S verwenden.\n",
    "<br><br>\n",
    "■ Beispiel: R(A, B, C, D)\n",
    "<br>\n",
    "□ FDs: {A->B, B->C, C->D}\n",
    "<br>\n",
    "□ Projektion von B: S(A, C, D)\n",
    "<br><br>\n",
    "■ Algorithmus: Berechne Hülle jeder Teilmenge\n",
    "<br>\n",
    "□ Wie viele gibt es?\n",
    "<br>\n",
    "□ Trick 1: Hülle der leeren und Hülle der Menge aller Attribute muss nicht gebildet werden.\n",
    "<br>\n",
    "□ Trick 2: Falls die Hülle von X bereits alle Attribute enthält, müssen die Supermengen von X nicht mehr geprüft werden.\n",
    "<br>\n",
    "– Deshalb: Beginnen mit kleinsten Teilmengen"
   ]
  },
  {
   "cell_type": "markdown",
   "metadata": {},
   "source": [
    "■ Beispiel: R(A, B, C, D)\n",
    "<br><br>\n",
    "■ Dann gelten FDs X -> E für jedes E $\\in$ {X$\\}^+$ und E $\\in$ S und E $\\notin$ X.\n",
    "<br><br>\n",
    "■ {A$\\}^+$ = {A, B, C, D}\n",
    "<br>\n",
    "□ A -> C und A -> D\n",
    "<br>\n",
    "□ A -> B stimmt zwar auch, aber B nicht in S.\n",
    "<br>\n",
    "□ Enthält bereits alle Attribute aus S, deshalb werden Supermengen nicht berücksichtigt.\n",
    "<br>\n",
    "<br>\n",
    "■ {C$\\}^+$ = {C, D}\n",
    "<br>\n",
    "□ C -> D\n",
    "<br><br>\n",
    "■ {D$\\}^+$ = {D}\n",
    "<br><br>\n",
    "■ {C,D$\\}^+$= {C,D}\n",
    "<br><br>\n",
    "■ Ergebnis: A -> C, A -> D und C -> D"
   ]
  },
  {
   "cell_type": "markdown",
   "metadata": {},
   "source": [
    "## Normalformen"
   ]
  },
  {
   "cell_type": "markdown",
   "metadata": {},
   "source": [
    "## Schema Design – Überblick"
   ]
  },
  {
   "cell_type": "markdown",
   "metadata": {},
   "source": [
    "1. Anomalien durch schlechtes Design\n",
    "<br>\n",
    "2. Dekomposition (Zerlegung) von Relationen\n",
    "<br>\n",
    "3. Boyce-Codd-Normalform (BCNF)\n",
    "<br>\n",
    "4. Zerlegung zur Erreichung der BCNF\n",
    "<br>\n",
    "5. Andere Normalformen\n",
    "<br>\n",
    "– Insbesondere 3NF"
   ]
  },
  {
   "cell_type": "markdown",
   "metadata": {},
   "source": [
    "### Redundanzen führen zu Anomalien im Datenbankdesign"
   ]
  },
  {
   "cell_type": "markdown",
   "metadata": {},
   "source": [
    "![title](redundanz1.jpg)"
   ]
  },
  {
   "cell_type": "markdown",
   "metadata": {},
   "source": [
    "Update-Anomalien\n",
    "<br>\n",
    "Veränderungen müssen an allen Stellen durchgeführt werden (neue Adresse für Herr Meyer)\n",
    "<br>\n",
    "<br>\n",
    "Insert-Anomalien\n",
    "<br>\n",
    "Hinzufügen von Inkonsistenzen (gleicher Kunde mit neuer Adresse)\n",
    "<br>\n",
    "<br>\n",
    "Delete Anomalien\n",
    "<br>\n",
    "Mehr Informationen gehen verloren als notwendig (Löschung von Auftrag 1 führt dazu, dass Reifenwechsel im Basic Format nicht mehr als Service in der Liste ist)"
   ]
  },
  {
   "cell_type": "markdown",
   "metadata": {},
   "source": [
    "#### Ursachen von Anomalien"
   ]
  },
  {
   "cell_type": "markdown",
   "metadata": {},
   "source": [
    "N zu M Beziehungen: Kunden und Servicekombinationen\n",
    "Transitive N zu 1 Beziehungen: Servicekombination und Preis\n",
    "AuftragsID à {Service, Umfang}\n",
    "{Service, Umfang} à Preis"
   ]
  },
  {
   "cell_type": "markdown",
   "metadata": {},
   "source": [
    "#### Eliminierung von Anomalien durch Dekomposition"
   ]
  },
  {
   "cell_type": "markdown",
   "metadata": {},
   "source": [
    "Dekomposition (Zerlegung)\n",
    "<br>\n",
    "Aufteilung von Attribute in zwei Teilrelationen\n",
    "<br>\n",
    "Erzeugung neuer Tupel in den neuen Relationen\n",
    "<br>\n",
    "R(A1,A2,…,An) kann in S(B1,B2,…,Bm) und T(C1,C2,…,Ck) dekomponiert werden, falls\n",
    "<br>\n",
    "{A1,A2,…,An} = {B1,B2,…,Bm} $\\cup$ {C1,C2,…,Ck}\n",
    "<br>\n",
    "Tupel in S sind die Projektion aller Tupel in R auf {B1,B2,…,Bm}\n",
    "<br>\n",
    "Insbesondere: Duplikate werden entfernt\n",
    "<br>\n",
    "Dadurch: Verminderung der Redundanz\n",
    "<br>\n",
    "Tupel in T analog"
   ]
  },
  {
   "cell_type": "markdown",
   "metadata": {},
   "source": [
    "#### Beispiel einer Dekomposition"
   ]
  },
  {
   "cell_type": "markdown",
   "metadata": {},
   "source": [
    "![title](dekomposition1.jpg)"
   ]
  },
  {
   "cell_type": "markdown",
   "metadata": {},
   "source": [
    "### Boyce-Codd-Normalform (BCNF)"
   ]
  },
  {
   "cell_type": "markdown",
   "metadata": {},
   "source": [
    "BCNF ist eine Bedingung zur Eliminierung der Anomalien\n",
    "<br>\n",
    "Eine Relation R ist in BCNF genau dann wenn\n",
    "<br>\n",
    "Für jede nicht-triviale funktionale Abhängigkeit (FD), muss die linke Seite ein Superschlüssel sein\n",
    "<br>\n",
    "Erinnerung:\n",
    "<br>\n",
    "Nichttrivial: Wenigstens ein Attribut rechts kommt links nicht vor\n",
    "<br>\n",
    "Superschlüssel: Supermenge eines Schlüssels\n",
    "<br>\n",
    "Was darf nicht sein:\n",
    "<br>\n",
    "Eine FD ohne Superschlüssel auf der linken Seite\n",
    "<br>\n",
    "Ziel:\n",
    "<br>\n",
    "FDs zur Schlüsselabhängigkeiten machen"
   ]
  },
  {
   "cell_type": "markdown",
   "metadata": {},
   "source": [
    "#### Beispiel der BCNF-Verletzung"
   ]
  },
  {
   "cell_type": "markdown",
   "metadata": {},
   "source": [
    "![title](redundanz1.jpg)"
   ]
  },
  {
   "cell_type": "markdown",
   "metadata": {},
   "source": [
    "Tabelle ist nicht in BCNF\n",
    "<br>\n",
    "Schlüssel: {AuftragsID}\n",
    "<br>\n",
    "Superschlüssel müssen AuftragsID enthalten\n",
    "<br>\n",
    "Eine FD: {KundenID} à {Kunde, Kundenadresse}\n",
    "<br>\n",
    "{KundenID} ist kein Superschlüssel\n",
    "<br>\n",
    "-> à BCNF ist verletzt"
   ]
  },
  {
   "cell_type": "markdown",
   "metadata": {},
   "source": [
    "#### Algorithmus für Dekomposition nach BCNF"
   ]
  },
  {
   "cell_type": "markdown",
   "metadata": {},
   "source": [
    "Grundalgorithmus für Relation R:\n",
    "<br>\n",
    "1. Suche verletzende nichttriviale FD: X → B1, B2, … ,Bn\n",
    "<br>\n",
    "mit X ⊂ R und B1, B2, … , Bn ∈ R\n",
    "<br>\n",
    "2. Füge auf der rechten Seite so viele Attribute hinzu wie möglich\n",
    "<br>\n",
    "1. Betrachte Hülle der FD\n",
    "<br>\n",
    "3. Erzeuge zwei neue Relationen:\n",
    "<br>\n",
    "R ∖ (B1, B2, … , Bn)\n",
    "<br>\n",
    "X ∪ (B1,B2,…,Bn)\n",
    "<br>\n",
    "Grundsätzlich: Jede Relation mit zwei Attributen ist in BCNF"
   ]
  },
  {
   "cell_type": "markdown",
   "metadata": {},
   "source": [
    "#### BCNF Dekomposition am Beispiel 1"
   ]
  },
  {
   "cell_type": "markdown",
   "metadata": {},
   "source": [
    "Auftrag(AuftragsID, KundenID, Kunde, Kundenaddresse, Service, Umfang, Preis)\n",
    "<br>\n",
    "BCNF verletzende FD:\n",
    "<br>\n",
    "KundenID à Kunde, Kundenadresse\n",
    "<br>\n",
    "Neue Relationen:\n",
    "<br>\n",
    "Auftrag1(AuftragsID, KundenID, Service, Umfang, Preis)\n",
    "<br>\n",
    "Auftrag2(KundenID, Kunde, Kundenadresse)"
   ]
  },
  {
   "cell_type": "markdown",
   "metadata": {},
   "source": [
    "![title](dekomposition2.jpg)"
   ]
  },
  {
   "cell_type": "markdown",
   "metadata": {},
   "source": [
    "![title](dekomposition3.jpg)"
   ]
  },
  {
   "cell_type": "markdown",
   "metadata": {},
   "source": [
    "R ∖ (B1, B2, … , Bn)"
   ]
  },
  {
   "cell_type": "markdown",
   "metadata": {},
   "source": [
    "![title](dekomposition4.jpg)"
   ]
  },
  {
   "cell_type": "markdown",
   "metadata": {},
   "source": [
    "X ∪ (B1,B2,…,Bn)"
   ]
  },
  {
   "cell_type": "markdown",
   "metadata": {},
   "source": [
    "Kunde ist in BCNF\n",
    "<br>\n",
    "KundenID ist Schlüssel\n",
    "<br>\n",
    "Kundenadresse ist hier zufällig auch Schlüssel. Ignorieren diesen Fall.\n",
    "<br>\n",
    "Auftrag1 ist nicht in BCNF\n",
    "<br>\n",
    "Schlüssel: {AuftragsID}\n",
    "<br>\n",
    "Verletzende FD: {Service, Umfang}->{Preis}\n",
    "<br>\n",
    "-> erneute Dekomposition"
   ]
  },
  {
   "cell_type": "markdown",
   "metadata": {},
   "source": [
    "Auftrag2"
   ]
  },
  {
   "cell_type": "markdown",
   "metadata": {},
   "source": [
    "![title](dekomposition5.jpg)"
   ]
  },
  {
   "cell_type": "markdown",
   "metadata": {},
   "source": [
    "R ∖ (B1, B2, … , Bn)"
   ]
  },
  {
   "cell_type": "markdown",
   "metadata": {},
   "source": [
    "Service"
   ]
  },
  {
   "cell_type": "markdown",
   "metadata": {},
   "source": [
    "![title](dekomposition6.jpg)"
   ]
  },
  {
   "cell_type": "markdown",
   "metadata": {},
   "source": [
    "X ∪ (B1,B2,…,Bn)"
   ]
  },
  {
   "cell_type": "markdown",
   "metadata": {},
   "source": [
    "![title](dekomposition7.jpg)"
   ]
  },
  {
   "cell_type": "markdown",
   "metadata": {},
   "source": [
    "### Wiederherstellbarkeit"
   ]
  },
  {
   "cell_type": "markdown",
   "metadata": {},
   "source": [
    "Wiederherstellung der Ursprungsrelation durch Join\n",
    "<br>\n",
    "Korrektheit durch Widerspruchsbeweis:\n",
    "<br>\n",
    "Seien t(a,b,c) und s(x,b,z) zwei Tupel in R(A,B,C) mit B -> C\n",
    "<br>\n",
    "Dekomposition mittels Projektion ergibt:\n",
    "<br>\n",
    "t1(a,b), s1(x,b) in R1 und t2(b,c), s2(b,z) in R2\n",
    "<br>\n",
    "Join von R1 und R2 ergibt:\n",
    "<br>\n",
    "Fehler?\n",
    "<br>\n",
    "Nein, da wegen B->C gilt c=z"
   ]
  },
  {
   "cell_type": "markdown",
   "metadata": {},
   "source": [
    "![title](wiederherstellbarkeit1.jpg)"
   ]
  },
  {
   "cell_type": "markdown",
   "metadata": {},
   "source": [
    "Dekomposition ohne FD (aus Spaß)\n",
    "<br>\n",
    "■ Angenommen R(A,B,C) ohne B → C\n",
    "<br>\n",
    "■ Projektionen auf R1(A,B) und R2(B,C)\n",
    "<br>\n",
    "■ Wiederherstellung durch Join über B"
   ]
  },
  {
   "cell_type": "markdown",
   "metadata": {},
   "source": [
    "![title](wiederherstellbarkeit2.jpg)"
   ]
  },
  {
   "cell_type": "markdown",
   "metadata": {},
   "source": [
    "![title](wiederherstellbarkeit3.jpg)"
   ]
  },
  {
   "cell_type": "markdown",
   "metadata": {},
   "source": [
    "###  Dekomposition zu BCNF – Beispiel 2"
   ]
  },
  {
   "cell_type": "markdown",
   "metadata": {},
   "source": [
    "![title](tabelle.jpg)"
   ]
  },
  {
   "cell_type": "markdown",
   "metadata": {},
   "source": [
    "■ Titel, Jahr → Länge, Typ, StudioName\n",
    "<br>\n",
    "■ StudioName → StudioAdresse\n",
    "<br>\n",
    "■ Transitivität: Titel, Jahr → StudioAdresse\n",
    "<br>\n",
    "■ => {Titel, Jahr} ist Schlüssel\n",
    "<br>\n",
    "■ StudioName → StudioAdresse verletzt also BCNF\n",
    "<br>\n",
    "■ Zwei neue Relationen\n",
    "<br>\n",
    "□ Film1(Titel, Jahr, Länge Typ, StudioName)\n",
    "<br>\n",
    "□ Film2(StudioName, StudioAdresse)"
   ]
  },
  {
   "cell_type": "markdown",
   "metadata": {},
   "source": [
    "![title](tabelle1.jpg)"
   ]
  },
  {
   "cell_type": "markdown",
   "metadata": {},
   "source": [
    "![title](tabelle2.jpg)"
   ]
  },
  {
   "cell_type": "markdown",
   "metadata": {},
   "source": [
    "### Dekomposition zu BCNF – Beispiel 3"
   ]
  },
  {
   "cell_type": "markdown",
   "metadata": {},
   "source": [
    "■ Film(Titel, Jahr, StudioName, Präsident, PräsAdresse)\n",
    "<br>\n",
    "□ Titel, Jahr → StudioName\n",
    "<br>\n",
    "□ StudioName → Präsident\n",
    "<br>\n",
    "□ Präsident → PräsAdresse\n",
    "<br>\n",
    "□ => {Titel, Jahr} ist Schlüssel\n",
    "<br><br>\n",
    "■ Erste Dekomposition anhand von StudioName → Präsident\n",
    "<br>\n",
    "□ Hinzufügen von möglichst vielen Attributen auf der rechten Seite: StudioName → Präsident,PräsAdresse\n",
    "<br>\n",
    "□ Film1(Titel, Jahr, StudioName)\n",
    "<br>\n",
    "□ Film2(StudioName, Präsident, PräsAdresse)\n",
    "<br>\n",
    "– Hier gilt weiter Präsident → PräsAdresse\n",
    "<br>\n",
    "– BCNF Verletzung\n",
    "<br><br>\n",
    "■ Zweite Dekomposition\n",
    "<br>\n",
    "□ Film2 wird zu Film2(StudioName, Präsident)\n",
    "<br>\n",
    "□ Film3(Präsident, PräsAdresse)\n",
    "<br><br>\n",
    "■ Verfahren terminiert: Jede neue Relation wird kleiner und 2er-Relationen sind garantiert in BCNF"
   ]
  },
  {
   "cell_type": "markdown",
   "metadata": {},
   "source": [
    "### Weitere Normalformen"
   ]
  },
  {
   "cell_type": "markdown",
   "metadata": {},
   "source": [
    "■ 1. Normalform (1NF)\n",
    "<br>\n",
    "□ Nur atomare Werte\n",
    "<br>\n",
    "■ 2. Normalform (2NF)\n",
    "<br>\n",
    "□ 1NF und keine Abhängigkeiten von einem Teil eines Schlüssels\n",
    "<br>\n",
    "■ 3. Normalform (3NF)\n",
    "<br>\n",
    "□ 2NF und zusätzlich keine transitiven Abhängigkeiten\n",
    "<br>\n",
    "■ Boyce-Codd Normalform (BCNF)\n",
    "<br>\n",
    "□ 3NF und keine transitiven Abhängigkeiten auch innerhalb des Schlüssels\n"
   ]
  },
  {
   "cell_type": "markdown",
   "metadata": {},
   "source": [
    "#### 1. Normalform"
   ]
  },
  {
   "cell_type": "markdown",
   "metadata": {},
   "source": [
    "![title](normalform1.jpg)"
   ]
  },
  {
   "cell_type": "markdown",
   "metadata": {},
   "source": [
    "■ 1NF: Nur atomare Werte\n",
    "<br>\n",
    "□ Relation nicht in 1NF:\n",
    "<br>\n",
    "□ Aka: NFNF oder NF2 oder NF²\n",
    "<br>\n",
    "□ Umgewandelte Relation in 1NF:\n",
    "<br>\n",
    "□ Andere Umwandlungsmöglichkeit\n",
    "<br>\n",
    "– R(Vater, Mutter, Kind1, Kind2)\n",
    "<br>\n",
    "– Nachteile?"
   ]
  },
  {
   "cell_type": "markdown",
   "metadata": {},
   "source": [
    "#### 2. Normalform"
   ]
  },
  {
   "cell_type": "markdown",
   "metadata": {},
   "source": [
    "![title](normalform2.jpg)"
   ]
  },
  {
   "cell_type": "markdown",
   "metadata": {},
   "source": [
    "■ 1NF und keine Abhängigkeiten eines Nicht-Schlüssel-Attributs von einem Teil eines Schlüssels\n",
    "<br>\n",
    "■ MatrNr -> Name\n",
    "<br>\n",
    "□ Aber MatrNr ist nicht vollständiger Schlüssel\n",
    "<br>\n",
    "■ Abhilfe: Dekomposition\n",
    "<br>\n",
    "□ $R1(\\underline{MatrNr}, Name)$\n",
    "<br>\n",
    "□ $R2(\\underline{MatrNr,VorlNr}, Semester)$"
   ]
  },
  {
   "cell_type": "markdown",
   "metadata": {},
   "source": [
    "#### 3. Normalform"
   ]
  },
  {
   "cell_type": "markdown",
   "metadata": {},
   "source": [
    "![title](normalform3.jpg)"
   ]
  },
  {
   "cell_type": "markdown",
   "metadata": {},
   "source": [
    "■ Kinoaufführungen\n",
    "<br>\n",
    "□ R(Titel, Kino, Stadt)\n",
    "<br>\n",
    "□ FDs\n",
    "<br>\n",
    "– Kino -> Stadt (ein Kino steht in nur einer Stadt)\n",
    "<br>\n",
    "– Titel, Stadt -> Kino\n",
    "<br>\n",
    "(D.h.: Ein Film wird nicht zweifach in der gleichen Stadt aufgeführt)\n",
    "<br>\n",
    "□ Schlüssel?\n",
    "<br>\n",
    "– Einzelne Attribute sind nicht Schlüssel\n",
    "<br>\n",
    "– {Titel, Stadt} ist Schlüssel, da er funktional alle anderen Attribute bestimmt.\n",
    "<br>\n",
    "– {Kino, Titel} ist auch Schlüssel, da Kino -> Stadt augmentiert werden kann zu Kino, Titel -> Stadt\n",
    "<br>\n",
    "□ BCNF-Verletzung:\n",
    "<br>\n",
    "– Kino -> Stadt (da Kino nicht Superschlüssel ist"
   ]
  },
  {
   "cell_type": "markdown",
   "metadata": {},
   "source": [
    "Lösung des Problems durch Relaxierung der BCNF\n",
    "<br>\n",
    "Eine Relation R ist in 3. Normalform genau dann wenn:\n",
    "<br>\n",
    "Für jede nicht-triviale FD A1A2…An -> B für R ist\n",
    "<br>\n",
    "{A1, A2, …, An} ein Superschlüssel für R, oder B ist Teil eines Schlüssels für R.\n",
    "<br>\n",
    "Kurz: Für jede FD ist entweder die linke Seite ein Superschlüssel oder die rechte Seite Teil eines Schlüssels.\n",
    "<br>\n",
    "Am Beispiel\n",
    "<br>\n",
    "R(Titel, Kino, Stadt) mit FDs\n",
    "<br>\n",
    "Kino -> Stadt\n",
    "<br>\n",
    "Titel, Stadt -> Kino\n",
    "<br>\n",
    "->Verletzt nicht 3. Normalform, da Stadt Teil eines Schlüssels ist."
   ]
  },
  {
   "cell_type": "markdown",
   "metadata": {},
   "source": [
    "#### 3NF vs. BCNF"
   ]
  },
  {
   "cell_type": "markdown",
   "metadata": {},
   "source": [
    "■ Wichtige Eigenschaften der Dekomposition\n",
    "<br>\n",
    "1. Wiederherstellbarkeit\n",
    "<br>\n",
    "– Projektion der ursprünglichen Relation auf die neuen Relationen und dann Rekonstruktion der ursprünglichen Relation (mittels Join).\n",
    "<br>\n",
    "2. Bewahrung der FDs\n",
    "<br>\n",
    "– Prüfbarkeit aller FDs in den neuen Relationen\n",
    "<br><br>\n",
    "■ BCNF garantiert 1.\n",
    "<br><br>\n",
    "■ 3NF garantiert 1. und 2.\n",
    "<br>\n",
    "□ Aber: Es können Anomalien bestehen bleiben.\n",
    "<br><br>\n",
    "■ Dekomposition zur 3NF\n",
    "<br>\n",
    "□ Anderer Algorithmus\n",
    "<br>\n",
    "□ Nicht hier!"
   ]
  },
  {
   "cell_type": "markdown",
   "metadata": {},
   "source": [
    "#### Zusammenfassung – Normalformen"
   ]
  },
  {
   "cell_type": "markdown",
   "metadata": {},
   "source": [
    "![title](normalform_zusammenfassung.jpg)"
   ]
  },
  {
   "cell_type": "markdown",
   "metadata": {},
   "source": [
    "5NF ⇒ SKNF ⇒ RFNF ⇒ ETNF ⇒ 4NF\n",
    "<br>\n",
    "Projection-join normal form (5NF)\n",
    "<br>\n",
    "Superkey normal form (SKNF)\n",
    "<br>\n",
    "Redundancy-free normal form (RFNF)\n",
    "<br>\n",
    "Essential tuple normal form (ETNF)\n",
    "<br>\n",
    "A Normal Form for Preventing Redundant Tuples in Relational Databases Hugh Darwen, C.J. Date, Ronald Fagin, ICDT 2012\n",
    "<br>"
   ]
  }
 ],
 "metadata": {
  "kernelspec": {
   "display_name": "Python 3 (ipykernel)",
   "language": "python",
   "name": "python3"
  },
  "language_info": {
   "codemirror_mode": {
    "name": "ipython",
    "version": 3
   },
   "file_extension": ".py",
   "mimetype": "text/x-python",
   "name": "python",
   "nbconvert_exporter": "python",
   "pygments_lexer": "ipython3",
   "version": "3.9.7"
  }
 },
 "nbformat": 4,
 "nbformat_minor": 4
}
