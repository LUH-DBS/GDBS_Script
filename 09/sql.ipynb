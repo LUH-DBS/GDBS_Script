{
 "cells": [
  {
   "cell_type": "markdown",
   "metadata": {},
   "source": [
    "# SQL"
   ]
  },
  {
   "cell_type": "code",
   "execution_count": 5,
   "metadata": {
    "tags": [
     "hide-output"
    ]
   },
   "outputs": [
    {
     "name": "stdout",
     "output_type": "stream",
     "text": [
      "Requirement already satisfied: sqlalchemy==1.3.9 in /home/jennywu/anaconda3/lib/python3.9/site-packages (1.3.9)\n",
      "Requirement already satisfied: ipython-sql in /home/jennywu/anaconda3/lib/python3.9/site-packages (0.4.1)\n",
      "Requirement already satisfied: sqlparse in /home/jennywu/anaconda3/lib/python3.9/site-packages (from ipython-sql) (0.4.2)\n",
      "Requirement already satisfied: ipython>=1.0 in /home/jennywu/anaconda3/lib/python3.9/site-packages (from ipython-sql) (8.2.0)\n",
      "Requirement already satisfied: six in /home/jennywu/anaconda3/lib/python3.9/site-packages (from ipython-sql) (1.16.0)\n",
      "Requirement already satisfied: prettytable<1 in /home/jennywu/anaconda3/lib/python3.9/site-packages (from ipython-sql) (0.7.2)\n",
      "Requirement already satisfied: sqlalchemy>=0.6.7 in /home/jennywu/anaconda3/lib/python3.9/site-packages (from ipython-sql) (1.3.9)\n",
      "Requirement already satisfied: ipython-genutils>=0.1.0 in /home/jennywu/anaconda3/lib/python3.9/site-packages (from ipython-sql) (0.2.0)\n",
      "Requirement already satisfied: decorator in /home/jennywu/anaconda3/lib/python3.9/site-packages (from ipython>=1.0->ipython-sql) (5.1.1)\n",
      "Requirement already satisfied: prompt-toolkit!=3.0.0,!=3.0.1,<3.1.0,>=2.0.0 in /home/jennywu/anaconda3/lib/python3.9/site-packages (from ipython>=1.0->ipython-sql) (3.0.20)\n",
      "Requirement already satisfied: pickleshare in /home/jennywu/anaconda3/lib/python3.9/site-packages (from ipython>=1.0->ipython-sql) (0.7.5)\n",
      "Requirement already satisfied: stack-data in /home/jennywu/anaconda3/lib/python3.9/site-packages (from ipython>=1.0->ipython-sql) (0.2.0)\n",
      "Requirement already satisfied: setuptools>=18.5 in /home/jennywu/anaconda3/lib/python3.9/site-packages (from ipython>=1.0->ipython-sql) (61.2.0)\n",
      "Requirement already satisfied: jedi>=0.16 in /home/jennywu/anaconda3/lib/python3.9/site-packages (from ipython>=1.0->ipython-sql) (0.18.1)\n",
      "Requirement already satisfied: pexpect>4.3 in /home/jennywu/anaconda3/lib/python3.9/site-packages (from ipython>=1.0->ipython-sql) (4.8.0)\n",
      "Requirement already satisfied: pygments>=2.4.0 in /home/jennywu/anaconda3/lib/python3.9/site-packages (from ipython>=1.0->ipython-sql) (2.11.2)\n",
      "Requirement already satisfied: traitlets>=5 in /home/jennywu/anaconda3/lib/python3.9/site-packages (from ipython>=1.0->ipython-sql) (5.1.1)\n",
      "Requirement already satisfied: backcall in /home/jennywu/anaconda3/lib/python3.9/site-packages (from ipython>=1.0->ipython-sql) (0.2.0)\n",
      "Requirement already satisfied: matplotlib-inline in /home/jennywu/anaconda3/lib/python3.9/site-packages (from ipython>=1.0->ipython-sql) (0.1.2)\n",
      "Requirement already satisfied: parso<0.9.0,>=0.8.0 in /home/jennywu/anaconda3/lib/python3.9/site-packages (from jedi>=0.16->ipython>=1.0->ipython-sql) (0.8.3)\n",
      "Requirement already satisfied: ptyprocess>=0.5 in /home/jennywu/anaconda3/lib/python3.9/site-packages (from pexpect>4.3->ipython>=1.0->ipython-sql) (0.7.0)\n",
      "Requirement already satisfied: wcwidth in /home/jennywu/anaconda3/lib/python3.9/site-packages (from prompt-toolkit!=3.0.0,!=3.0.1,<3.1.0,>=2.0.0->ipython>=1.0->ipython-sql) (0.2.5)\n",
      "Requirement already satisfied: pure-eval in /home/jennywu/anaconda3/lib/python3.9/site-packages (from stack-data->ipython>=1.0->ipython-sql) (0.2.2)\n",
      "Requirement already satisfied: asttokens in /home/jennywu/anaconda3/lib/python3.9/site-packages (from stack-data->ipython>=1.0->ipython-sql) (2.0.5)\n",
      "Requirement already satisfied: executing in /home/jennywu/anaconda3/lib/python3.9/site-packages (from stack-data->ipython>=1.0->ipython-sql) (0.8.3)\n"
     ]
    }
   ],
   "source": [
    "!pip install sqlalchemy==1.3.9\n",
    "!pip install ipython-sql"
   ]
  },
  {
   "cell_type": "code",
   "execution_count": 3,
   "metadata": {},
   "outputs": [
    {
     "name": "stdout",
     "output_type": "stream",
     "text": [
      "The sql extension is already loaded. To reload it, use:\n",
      "  %reload_ext sql\n"
     ]
    }
   ],
   "source": [
    "%load_ext sql\n",
    "%sql sqlite:///imdb/imdb/imdb.db"
   ]
  },
  {
   "cell_type": "markdown",
   "metadata": {},
   "source": [
    "## Einführung\n",
    "### SQL-Historie\n",
    "■ SEQUEL (1974, IBM Research Labs San Jose)\n",
    "<br><br>\n",
    "■ SEQUEL2 (1976, IBM Research Labs San Jose)\n",
    "<br>\n",
    "□ System R\n",
    "<br><br>\n",
    "■ SQL (1982, IBM)\n",
    "<br><br>\n",
    "![title](historie1.jpg)\n",
    "<br>\n",
    "![title](historie2.jpg)\n",
    "<br>\n",
    "![title](historie3.jpg)\n",
    "### SQL – Standardisierung\n",
    "■ SQL1 von ANSI als Standard verabschiedet (1986)\n",
    " <br>\n",
    " <br>\n",
    "■ SQL1 von der (ISO) als Standard verabschiedet (1987)\n",
    " <br>\n",
    "□ 1989 nochmals überarbeitet.\n",
    " <br> <br>\n",
    "■ SQL2 oder SQL-92 von der ISO verabschiedet (1992)\n",
    " <br> <br>\n",
    "■ SQL3 oder SQL:1999 verabschiedet\n",
    " <br> \n",
    "□ Trigger, rekursive Anfragen\n",
    " <br>\n",
    "□ Objektrelationale Erweiterungen\n",
    " <br> <br>\n",
    "■ SQL:2003 von der ISO verabschiedet\n",
    " <br>\n",
    "□ XML-Support durch SQL/XML\n",
    " <br> <br>\n",
    "■ SQL/XML:2006\n",
    " <br>\n",
    "□ XQuery eingebunden\n",
    " <br> <br>\n",
    "■ SQL:2008\n",
    " <br>\n",
    "□ Updates auf Sichten, logisches Löschen (TRUNCATE), …\n",
    " <br> <br>\n",
    "■ SQL:2011\n",
    " <br>\n",
    "□ Adds temporal data (PERIOD FOR)\n",
    " <br> <br>\n",
    "■ SQL:2016\n",
    " <br>\n",
    "□ Adds row pattern matching, polymorphic table functions, JSON.\n",
    "<br><br>\n",
    "Trotz Standardisierung: Inkompatibilitäten zwischen Systemen der einzelnen Hersteller\n",
    "### SQL:2008 Struktur\n",
    "■ Part 1: Framework (SQL/Framework) – 82 Seiten\n",
    "<br>\n",
    "□ Überblick\n",
    "<br><br>\n",
    "■ Part 2: Foundation (SQL/Foundation) – 1316 Seiten\n",
    "<br>\n",
    "□ Datenmodell, DDL, DML, Abfragen\n",
    "<br><br>\n",
    "■ Part 3: Call-Level Interface (SQL/CLI) – 389 Seiten\n",
    "<br>\n",
    "□ Zugriff auf DBMS mittels Funktionsaufrufen aus anderen Programmiersprachen\n",
    "<br><br>\n",
    "■ Part 4: Persistent Stored Modules (SQL/PSM) – 188 Seiten\n",
    "<br>\n",
    "□ Prozedurale Erweiterungen\n",
    "<br><br>\n",
    "■ Part 9: Management of External Data (SQL/MED) – 484 Seiten\n",
    "<br>\n",
    "□ Neue Datentypen und Funktionen\n",
    "<br><br>\n",
    "■ Part 10: Object Language Bindings (SQL/OLB) – 396 Seiten\n",
    "<br>\n",
    "□ Auch (SQLJ); zur Einbettung von SQL in Java\n",
    "<br><br>\n",
    "■ Part 11: Information and Definition Schemas (SQL/Schemata) – 286 Seiten\n",
    "<br>\n",
    "□ DBMS werden selbst-beschreibend durch normierten Katalog\n",
    "<br><br>\n",
    "■ Part 13: SQL Routines and Types (SQL/JRT) – 198 Seiten\n",
    "<br>\n",
    "□ Externe Java Routinen als „stored procedures“\n",
    "<br><br>\n",
    "■ Part 14: XML-Related Specifications (SQL/XML) – 438 Seiten\n",
    "<br>\n",
    "□ XML Datentyp und Erweiterung von SQL um XQuery\n",
    "<br><br>\n",
    "=> Zusammen: 3777 Seiten\n",
    "### Motivation für SQL\n",
    "■ Meist-verbreitete Datenbankanfragesprache\n",
    "<br><br>\n",
    "■ Ad-hoc und einfach\n",
    "<br><br>\n",
    "■ Deklarativ\n",
    "<br>\n",
    "□ Nicht prozedural / imperativ\n",
    "<br>\n",
    "□ Optimierbar\n",
    "<br><br>\n",
    "■ Very-High-Level Language\n",
    "<br><br>\n",
    "■ Anfragen an relationale Algebra angelehnt\n",
    "<br>\n",
    "□ Hinzu kommt DDL: Data definition language\n",
    "<br>\n",
    "□ Hinzu kommt DML: Data manipulation language\n",
    "<br><br>\n",
    "■ Achtung: Syntax kann sich von System zu System leicht unterscheiden.\n",
    "<br><br>\n",
    "■ Achtung: Funktionalität kann sich von System zu System leicht unterscheiden."
   ]
  },
  {
   "cell_type": "markdown",
   "metadata": {},
   "source": [
    "## Einfach Anfragen"
   ]
  },
  {
   "cell_type": "markdown",
   "metadata": {},
   "source": [
    "### Beispielschema\n",
    "![title](beispielschema.jpg)\n",
    "### SELECT … FROM … WHERE …"
   ]
  },
  {
   "cell_type": "code",
   "execution_count": 8,
   "metadata": {},
   "outputs": [
    {
     "name": "stdout",
     "output_type": "stream",
     "text": [
      " * sqlite:///imdb/imdb/imdb.db\n",
      "(sqlite3.OperationalError) no such table: Film\n",
      "[SQL: SELECT * FROM Film WHERE StudioName = ‘Disney‘ AND Jahr= 1990;]\n",
      "(Background on this error at: http://sqlalche.me/e/e3q8)\n"
     ]
    }
   ],
   "source": [
    "%sql SELECT * FROM Film WHERE StudioName = ‘Disney‘ AND Jahr= 1990;"
   ]
  },
  {
   "cell_type": "markdown",
   "metadata": {},
   "source": [
    "■ Lesereihenfolge (und Schreibreihenfolge):\n",
    "<br>\n",
    "1. FROM: Relation(en) aus denen die Daten stammen\n",
    "<br>\n",
    "2. WHERE: Bedingung(en) an die Daten\n",
    "<br>\n",
    "3. SELECT: Schema der Ergebnisrelation\n",
    "<br>\n",
    "– *: Alle Attribute der Inputrelationen\n",
    "<br><br>\n",
    "■ Ausführung\n",
    "<br>\n",
    "□ Für jedes Tupel aus „Film“ prüfe die Bedingungen und gebe gültige Tupel aus\n",
    "### Groß- und Kleinschreibung\n",
    "■ In SQL wird Groß- und Kleinschreibung nicht beachtet\n",
    "<br>\n",
    "\n",
    "```\n",
    "From = FROM = from = FrOm\n",
    "```\n",
    "\n",
    "<br><br>\n",
    "■ Auch bei Attribut- und Relationennamen\n",
    "<br>\n",
    "\n",
    "```\n",
    "SELect vorNAMe fROm fiLM\n",
    "```\n",
    "<br>\n",
    "\n",
    "\n",
    "```\n",
    "SELECT vorname FROM film\n",
    "```\n",
    "<br><br>\n",
    "■ Natürlich nicht bei Konstanten:\n",
    "<br>\n",
    "\n",
    "```\n",
    "‘FROM‘ ≠ ‘from‘ ≠ from = FROM\n",
    "```\n",
    "<br><br>\n",
    "■ Konvention zur Lesbarkeit\n",
    "<br>\n",
    "□ Schlüsselworte großschreiben\n",
    "<br>\n",
    "□ Schemaelemente kleinschreiben\n",
    "### Projektion in SQL (SELECT, $\\pi$)\n",
    "■ Spezifikation in der SELECT Klausel"
   ]
  },
  {
   "cell_type": "code",
   "execution_count": null,
   "metadata": {},
   "outputs": [],
   "source": [
    "%sql SELECT * FROM Film"
   ]
  },
  {
   "cell_type": "markdown",
   "metadata": {},
   "source": [
    "– Alle Attribute"
   ]
  },
  {
   "cell_type": "code",
   "execution_count": null,
   "metadata": {},
   "outputs": [],
   "source": [
    "%sql SELECT Titel, Jahr, inFarbe FROM Film"
   ]
  },
  {
   "cell_type": "markdown",
   "metadata": {},
   "source": [
    "– Projektion auf die drei Attribute\n",
    "<br><br>\n",
    "■ Erweiterte Projektion\n",
    "<br>\n",
    "□ Umbenennung:"
   ]
  },
  {
   "cell_type": "code",
   "execution_count": null,
   "metadata": {},
   "outputs": [],
   "source": [
    "%sql SELECT Titel AS Name, Jahr AS Zeit FROM Film"
   ]
  },
  {
   "cell_type": "markdown",
   "metadata": {},
   "source": [
    "□ Arithmetischer Ausdruck:"
   ]
  },
  {
   "cell_type": "code",
   "execution_count": null,
   "metadata": {},
   "outputs": [],
   "source": [
    "%sql SELECT Titel, Länge * 0.016667 AS Stunden FROM Film"
   ]
  },
  {
   "cell_type": "markdown",
   "metadata": {},
   "source": [
    "□ Konstanten:"
   ]
  },
  {
   "cell_type": "code",
   "execution_count": null,
   "metadata": {},
   "outputs": [],
   "source": [
    "%sql SELECT Titel, Länge * 0.016667 AS Stunden,\n",
    "‘std.‘ AS inStunden FROM Film"
   ]
  },
  {
   "cell_type": "markdown",
   "metadata": {},
   "source": [
    "### Selektion in SQL (WHERE, $\\sigma$)\n",
    "■ Spezifikation in der WHERE Klausel\n",
    "<br>\n",
    "□ Bedingungen wie in einer Programmiersprache\n",
    "<br>\n",
    "□ Sechs Vergleichsoperatoren\n",
    "<br>\n",
    "– =, <>, <, >, <=, >=\n",
    "<br>\n",
    "– <>, <=, >= entspricht ≠, $\\geq, \\leq$\n",
    "<br>\n",
    "□ Operanden\n",
    "<br>\n",
    "– Konstanten und Attributnamen\n",
    "<br>\n",
    "– Auch Attribute, die nicht in der SELECT Klausel genannt werden.\n",
    "<br>\n",
    "□ Arithmetische Ausdrücke für numerische Attribute\n",
    "<br>\n",
    "– Z.B.: \n",
    "```\n",
    "(Jahr - 1930) * (Jahr - 1930) <= 100\n",
    "```\n",
    "□ Konkatenation für Strings\n",
    "```\n",
    "‘Star‘ || ‘Wars‘ \n",
    "```\n",
    "entspricht \n",
    "```\n",
    "‘StarWars‘\n",
    "```\n",
    "– Vorname || \\` \\` || Nachname = \\`Luke Skywalker\\`\n",
    "\n",
    "### Selektion in SQL\n",
    "\n",
    "■ Ergebnis ist stets Boole‘scher Wert\n",
    "<br>\n",
    "□ TRUE oder FALSE\n",
    "<br>\n",
    "□ Können mit AND, OR und NOT verknüpft werden.\n",
    "<br>\n",
    "– Klammerungen sind erlaubt.\n",
    "<br>\n",
    "□ Nur wenn insgesamt auf TRUE evaluiert wird, erscheint das entsprechende Tupel im Ergebnis.\n",
    "<br>\n",
    "<br>\n",
    "■ Beispiele"
   ]
  },
  {
   "cell_type": "code",
   "execution_count": null,
   "metadata": {},
   "outputs": [],
   "source": [
    "%sql \n",
    "SELECT Titel\n",
    "FROM Film\n",
    "WHERE Jahr > 1970 AND NOT inFarbe;"
   ]
  },
  {
   "cell_type": "code",
   "execution_count": null,
   "metadata": {},
   "outputs": [],
   "source": [
    "%sql\n",
    "SELECT Titel\n",
    "FROM Film\n",
    "WHERE (Jahr > 1970 OR Länge < 90) AND StudioName = ‘MGM‘;"
   ]
  },
  {
   "cell_type": "markdown",
   "metadata": {},
   "source": [
    "### Stringvergleiche\n",
    "■ Datentypen\n",
    "<br>\n",
    "□ Array fester Länge, Buchstabenliste variabler Länge, Konstanten\n",
    "<br>\n",
    "□ SQL erlaubt viele Vergleiche über Datentypen hinweg\n",
    "<br><br>\n",
    "■ foo _ _ _ _ _ = foo = ‘foo‘\n",
    "<br><br>\n",
    "■ Vergleiche mit =, <, >, <=, >=, <>\n",
    "<br>\n",
    "□ Lexikographischer Vergleich\n",
    "<br>\n",
    "□ ‘fodder‘ < ‘foo‘; ‘bar‘ < ‘bargain‘;\n",
    "<br>\n",
    "□ Sortierreihenfolge upper-case/lower-case usw. je nach DBMS\n",
    "<br>\n",
    "□ Achtung: Auch nicht immer identisch zur Reihenfolge in Programmiersprachen\n",
    "\n",
    "### String-Mustervergleiche mit LIKE\n",
    "■ string LIKE pattern\n",
    "<br>\n",
    "□ bzw. string NOT LIKE pattern\n",
    "<br><br>\n",
    "■ Pattern hat spezielle Zeichen\n",
    "<br>\n",
    "□ ‘%‘: Beliebige Sequenz von 0 oder mehr Zeichen\n",
    "<br>\n",
    "□ ‘_‘: Ein beliebiges Zeichen\n",
    "<br><br>"
   ]
  },
  {
   "cell_type": "code",
   "execution_count": null,
   "metadata": {},
   "outputs": [],
   "source": [
    "%sql SELECT Titel FROM Film\n",
    "WHERE Titel LIKE ‘Star _ _ _ _‘;"
   ]
  },
  {
   "cell_type": "markdown",
   "metadata": {},
   "source": [
    "□ Star Wars und Star Trek"
   ]
  },
  {
   "cell_type": "code",
   "execution_count": null,
   "metadata": {},
   "outputs": [],
   "source": [
    "%sql SELECT Titel FROM Film WHERE Titel LIKE ‘%War%‘;"
   ]
  },
  {
   "cell_type": "markdown",
   "metadata": {},
   "source": [
    "### Datum und Uhrzeit\n",
    "■ Spezielle Datentypen und Repräsentationen\n",
    "<br>\n",
    "□ Datumskonstante:\n",
    "<br>\n",
    "– DATE ‘YYYY-MM-DD‘\n",
    "<br>\n",
    "– DATE ‘1948-05-14‘\n",
    "<br><br>\n",
    "□ Zeitkonstante\n",
    "<br>\n",
    "– TIME ‘HH:MM:SS.S‘\n",
    "<br>\n",
    "– TIME ‘15:00:02.5‘\n",
    "<br><br>\n",
    "□ Zeitstempel\n",
    "<br>\n",
    "– TIMESTAMP ‘1948-05-14 15:00:02.5‘\n",
    "<br><br>\n",
    "□ Zeitvergleiche\n",
    "<br>\n",
    "– TIME ‘15:00:02.5‘ < TIME ‘15:02:02.5‘ ergibt TRUE\n",
    "<br>\n",
    "– Selektion: ERSCHEINUNGSTAG >= DATE ‘1949-11-12‘\n",
    "### Nullwerte\n",
    "Darstellung: NULL bzw. ⊥\n",
    "<br>\n",
    "<br>\n",
    "Mögliche Interpretationen\n",
    "<br>\n",
    "Unbekannter Wert\n",
    "<br>\n",
    "-> Geburtstag einer/s Schauspieler*in\n",
    "<br>\n",
    "Wert unzulässig\n",
    "<br>\n",
    "-> Ehegatte eines unverheirateten Schauspielers\n",
    "<br>\n",
    "Wert unterdrückt\n",
    "<br>\n",
    "-> Geheime Telefonnummer\n",
    "<br>\n",
    "<br>\n",
    "Regeln für Umgang mit Nullwerten\n",
    "<br>\n",
    "Arithmetische Operationen mit NULL ergeben NULL\n",
    "<br>\n",
    "Vergleich mit NULL ergibt Wahrheitswert UNKNOWN\n",
    "<br>\n",
    "NULL ist keine Konstante, sondern erscheint nur als Attributwert\n",
    "<br><br>\n",
    "Beispiel (sei der Wert von x NULL):\n",
    "<br>\n",
    "x+3 ergibt NULL.\n",
    "<br>\n",
    "NULL+3 ist kein zulässiger Ausdruck.\n",
    "<br>\n",
    "x = 3 ergibt UNKNOWN.\n",
    "<br><br>\n",
    "Prüfen von Nullwerten in WHERE Klausel\n",
    "<br>\n",
    "Geburtstag IS NULL bzw. Geburtstag IS NOT NULL\n",
    "### Wahrheitswerte\n",
    "\n",
    "|AND|true|unknown|false|\n",
    "|---|---|---|---|\n",
    "|**true**|true|unknown|false|\n",
    "|**unknown**|unknown|unknown|false|\n",
    "|**false**|false|false|false|\n",
    "\n",
    "\n",
    "■ Rechenregeln\n",
    "<br>\n",
    "□ TRUE = 1\n",
    "<br>\n",
    "FALSE = 0\n",
    "<br>\n",
    "UNKNOWN = ½\n",
    "<br>\n",
    "□ AND: Minimum der beiden Werte\n",
    "<br>\n",
    "□ OR: Maximum der beiden Werte\n",
    "<br>\n",
    "□ NOT: 1 – Wert\n",
    "<br><br>\n",
    "□ Beispiel\n",
    "<br>\n",
    "– TRUE AND (FALSE OR NOT(UNKNOWN))\n",
    "<br>\n",
    "= MIN(1, MAX(0, (1 - ½ )))\n",
    "<br>\n",
    "= MIN(1, MAX(0, ½ )\n",
    "<br>\n",
    "= MIN(1, ½ ) = ½.\n",
    "\n",
    "\n",
    "|Titel|Jahr|Länge|inFarbe|Studio|ProduzentinID|\n",
    "|---|---|---|---|---|---|\n",
    "|Total|Recall|1990|NULL|True|Fox|12345|\n",
    "\n",
    " Überraschendes Verhalten"
   ]
  },
  {
   "cell_type": "code",
   "execution_count": null,
   "metadata": {},
   "outputs": [],
   "source": [
    "%sql SELECT *\n",
    "FROM Film\n",
    "WHERE Länge <= 90 OR Länge > 90; --Länge <= 90 == UNKNOWN und Länge > 90"
   ]
  },
  {
   "cell_type": "markdown",
   "metadata": {},
   "source": [
    "□ Tupel erscheint nicht im Ergebnis.\n",
    "<br><br>\n",
    "■ Ausführungspriorität: NOT vor AND vor OR\n",
    "\n",
    "### Sortierung\n",
    "\n",
    "■ ORDER BY Klausel ans Ende der Anfrage\n",
    "<br>\n",
    "□ ORDER BY \\<Attributliste\\> DESC/ASC\n",
    "<br>\n",
    "□ ASC (aufsteigend) ist default\n",
    "<br>"
   ]
  },
  {
   "cell_type": "code",
   "execution_count": null,
   "metadata": {},
   "outputs": [],
   "source": [
    "%sql SELECT *\n",
    "FROM Film\n",
    "WHERE StudioName = ‘Disney‘ AND Jahr = 1990\n",
    "ORDER BY Länge, Titel;"
   ]
  },
  {
   "cell_type": "code",
   "execution_count": null,
   "metadata": {},
   "outputs": [],
   "source": [
    "%sql SELECT *\n",
    "FROM Film\n",
    "WHERE StudioName = ‘Disney‘ AND Jahr = 1990\n",
    "ORDER BY Länge ASC, Titel DESC;"
   ]
  },
  {
   "cell_type": "markdown",
   "metadata": {},
   "source": [
    "## Anfragen über mehrere Relationen\n",
    "\n",
    "### Motivation\n",
    "■ Hauptstärke der Relationalen Algebra ist die Kombination von Relationen\n",
    "<br><br>\n",
    "■ Erst mit mehreren Relationen sind viele interessante Anfragen möglich.\n",
    "<br><br>\n",
    "■ Nennung der beteiligten Relationen in der FROM Klausel\n",
    "\n",
    "### Kreuzprodukt und Join\n",
    "■ Film(Titel, Jahr, Länge, inFarbe, StudioName, ProduzentinID)\n",
    "<br>\n",
    "■ Manager*in(Name, Adresse, ManagerinID, Gehalt)"
   ]
  },
  {
   "cell_type": "code",
   "execution_count": null,
   "metadata": {},
   "outputs": [],
   "source": [
    "%sql SELECT Name\n",
    "FROM Film, ManagerIn --Kreuzprodukt\n",
    "WHERE Titel = ‘Star Wars‘ --Selektionsbedingung\n",
    "AND ProduzentinID = ManagerinID; --Joinbedingung"
   ]
  },
  {
   "cell_type": "markdown",
   "metadata": {},
   "source": [
    "■ Semantik\n",
    "<br>\n",
    "□ Betrachte jedes Tupelpaar der Relationen Film und Manager.\n",
    "□ Wende Bedingung der WHERE Klausel auf jedes Tupelpaar an\n",
    "<br>\n",
    "□ Falls Bedingung erfüllt, produziere ein Ergebnistupel.\n",
    "<br><br>\n",
    "■ Kreuzprodukt gefolgt von Selektion: Join\n",
    "<br><br>\n",
    "■ Reihenfolge der WHERE Bedingungen egal"
   ]
  },
  {
   "cell_type": "code",
   "execution_count": null,
   "metadata": {},
   "outputs": [],
   "source": [
    "%sql\n",
    "SELECT Name FROM Film, ManagerIn\n",
    "WHERE ProduzentinID = ManagerinID\n",
    "AND Titel = ‘Star Wars‘;"
   ]
  },
  {
   "cell_type": "markdown",
   "metadata": {},
   "source": [
    "### Uneindeutige Attributnamen\n",
    "■ SchauspielerIn(Name, Adresse, Geschlecht, Geburtstag)\n",
    "<br><br>\n",
    "■ ManagerIn(Name, Adresse, ManagerinID, Gehalt)\n",
    "<br><br>\n",
    "■ Bei gleichen Attributnamen aus mehreren beteiligten Relationen:\n",
    "<br>\n",
    "□ Relationenname als Präfix:"
   ]
  },
  {
   "cell_type": "code",
   "execution_count": null,
   "metadata": {},
   "outputs": [],
   "source": [
    "%sql \n",
    "SELECT SchauspielerIn.Name, ManagerIn.Name\n",
    "FROM SchauspielerIn, Manager\n",
    "WHERE SchauspielerIn.Adresse = ManagerIn.Adresse;"
   ]
  },
  {
   "cell_type": "markdown",
   "metadata": {},
   "source": [
    "□ Präfix ist auch erlaubt wenn Attributname eindeutig ist.\n",
    "<br>\n",
    "– Erleichtert das Lesen von SQL Anfragen\n",
    "\n",
    "### Tupelvariablen\n",
    "■ Zur eindeutigen Kennzeichnung von Tupeln beteiligter Relationen\n",
    "<br>\n",
    "□ „Alias“ einer Relation\n",
    "<br>\n",
    "□ Insbesondere: Bei der mehrfachen Verwendung einer Relation in einer Anfrage\n",
    "<br><br>\n",
    "■ Gesucht: Schauspieler, die zusammen leben"
   ]
  },
  {
   "cell_type": "code",
   "execution_count": null,
   "metadata": {},
   "outputs": [],
   "source": [
    "%sql\n",
    "SELECT Star1.Name, Star2.Name\n",
    "FROM SchauspielerIn Star1, SchauspielerIn Star2\n",
    "WHERE Star1.Adresse = Star2.Adresse"
   ]
  },
  {
   "cell_type": "markdown",
   "metadata": {},
   "source": [
    "□ Äquivalent zu Schauspieler AS Star2\n",
    "<br><br>\n",
    "■ Auch sinnvoll als abkürzenden Schreibweise"
   ]
  },
  {
   "cell_type": "code",
   "execution_count": null,
   "metadata": {},
   "outputs": [],
   "source": [
    "%sql \n",
    "SELECT S.Name, M.Name\n",
    "FROM SchauspielerIn S, ManagerIn M\n",
    "WHERE S.Adresse = M.Adresse;"
   ]
  },
  {
   "cell_type": "markdown",
   "metadata": {},
   "source": [
    "■ Ohne explizites Angeben einer Tupelvariablen wird der Relationenname als Tupelvariable verwendet.\n",
    " \n",
    "### Tupelvariablen-Selfjoin\n",
    "\n",
    "\n",
    "|Name|Adresse|Geschlecht|Geburt|\n",
    "|---|---|---|---|\n",
    "|Carrie Fisher|123 Maple St., Hollywood|F|9/9/99|\n",
    "|Mark Hamill|456 Oak Rd., Brentwood|M|8/8/88|\n",
    "|Brad Pitt|123 Maple St., Hollywood|M|7/7/77|"
   ]
  },
  {
   "cell_type": "code",
   "execution_count": null,
   "metadata": {},
   "outputs": [],
   "source": [
    "%sql\n",
    "SELECT Star1.Name, Star2.Name\n",
    "FROM SchauspielerIn Star1, SchauspielerIn Star2\n",
    "WHERE Star1.Adresse = Star2.Adresse;"
   ]
  },
  {
   "cell_type": "markdown",
   "metadata": {},
   "source": [
    "|Star1.Name|Star2.Name|\n",
    "|---|---|\n",
    "|Carrie Fisher|Carrie Fisher|\n",
    "|Carrie Fisher|Brad Pitt|\n",
    "|Brad Pitt|Carrie Fisher|\n",
    "|Brad Pitt|Brad Pitt|\n",
    "|Mark Hamill|Mark Hamill|"
   ]
  },
  {
   "cell_type": "code",
   "execution_count": null,
   "metadata": {},
   "outputs": [],
   "source": [
    "%sql\n",
    "SELECT Star1.Name, Star2.Name\n",
    "FROM SchauspielerIn Star1, SchauspielerIn Star2\n",
    "WHERE Star1.Adresse = Star2.Adresse\n",
    "AND Star1.Name <> Star2.Name;"
   ]
  },
  {
   "cell_type": "markdown",
   "metadata": {},
   "source": [
    "|Star1.Name|Star2.Name|\n",
    "|---|---|\n",
    "|Carrie Fisher|Brad Pitt|\n",
    "|Brad Pitt|Carrie Fisher|"
   ]
  },
  {
   "cell_type": "code",
   "execution_count": null,
   "metadata": {},
   "outputs": [],
   "source": [
    "%sql\n",
    "SELECT Star1.Name, Star2.Name\n",
    "FROM SchauspielerIn Star1, SchauspielerIn Star2\n",
    "WHERE Star1.Adresse = Star2.Adresse\n",
    "AND Star1.Name < Star2.Name;"
   ]
  },
  {
   "cell_type": "markdown",
   "metadata": {},
   "source": [
    "|Star1.Name|Star2.Name|\n",
    "|---|---|\n",
    "|Brad Pitt|Carrie Fisher|\n",
    "\n",
    "### Interpretation von Anfragen\n",
    "\n",
    "■ Drei Interpretationsvarianten für Anfragen mit mehreren Relationen\n",
    "<br>\n",
    "□ Nested Loops (geschachtelte Schleifen)\n",
    "<br>\n",
    "– Bei mehreren Tupelvariablen: Eine geschachtelte Schleife für jede Variable\n",
    "<br>\n",
    "□ Parallele Zuordnung\n",
    "<br>\n",
    "– Alle Kombinationen werden parallel bezüglich der Bedingungen geprüft.\n",
    "<br>\n",
    "□ Relationale Algebra\n",
    "<br>\n",
    "– Bilde Kreuzprodukt\n",
    "<br>\n",
    "– Wende Selektionsbedingungen auf jedes Resultat-Tupel an\n",
    "<br><br>\n",
    "\n",
    "■ Gegeben drei Relationen: R(A), S(A) und T(A)\n",
    "<br><br>\n",
    "■ Gesucht: R $\\cap$ (S $\\cup$ T) (= (R $\\cap$ S) $\\cup$ (R $\\cap$ T) )"
   ]
  },
  {
   "cell_type": "code",
   "execution_count": null,
   "metadata": {},
   "outputs": [],
   "source": [
    "%sql\n",
    "SELECT R.A\n",
    "FROM R, S, T\n",
    "WHERE R.A = S.A\n",
    "OR R.A = T.A;"
   ]
  },
  {
   "cell_type": "code",
   "execution_count": null,
   "metadata": {},
   "outputs": [],
   "source": [
    "%sql\n",
    "SELECT *\n",
    "FROM\n",
    "(\n",
    "    (SELECT A FROM R)\n",
    "     INTERSECT\n",
    "    (SELECT * FROM\n",
    "     (SELECT A FROM S)\n",
    "      UNION\n",
    "    (SELECT A FROM T)\n",
    "    )\n",
    ")"
   ]
  },
  {
   "cell_type": "markdown",
   "metadata": {},
   "source": [
    "■ Problemfall: T ist leer, hat also kein Tupel\n",
    "<br><br>\n",
    "■ Vermeintliches Resultat: R $\\cap$ S\n",
    "<br><br>\n",
    "■ Tatsächliches Resultat: leere Menge\n",
    "<br>\n",
    "□ Ausführung als drei geschachtelte Schleifen\n",
    "\n",
    "### Joins\n",
    "![title](joins.jpg)\n",
    "\n",
    " Man kann Joins auch auf andere Weise ausdrücken.\n",
    " <br>\n",
    "□ Geschmacksfrage\n",
    " <br>\n",
    "□ Film CROSS JOIN spielt_in\n",
    " <br>\n",
    "– Kreuzprodukt\n",
    " <br>\n",
    "– Doppelte Attributnamen werden mit Präfix der Relation aufgelöst"
   ]
  },
  {
   "cell_type": "code",
   "execution_count": null,
   "metadata": {},
   "outputs": [],
   "source": [
    "%sql\n",
    "Film JOIN spielt_in ON Titel = FilmTitel AND Jahr = FilmJahr"
   ]
  },
  {
   "cell_type": "markdown",
   "metadata": {},
   "source": [
    "– Theta-Join"
   ]
  },
  {
   "cell_type": "code",
   "execution_count": null,
   "metadata": {},
   "outputs": [],
   "source": [
    "%sql\n",
    "SELECT Titel, Jahr, Länge, inFarbe, StudioName,\n",
    "ProduzentinID, SchauspielerName FROM Film JOIN spielt_in ON Titel = FilmTitel\n",
    "AND Jahr = FilmJahr;"
   ]
  },
  {
   "cell_type": "markdown",
   "metadata": {},
   "source": [
    "– Eliminiert redundante Attribute FilmTitel und FilmJahr"
   ]
  },
  {
   "cell_type": "code",
   "execution_count": null,
   "metadata": {},
   "outputs": [],
   "source": [
    "%sql\n",
    "SELECT Titel, Jahr\n",
    "FROM Film JOIN spielt_in ON Titel = FilmTitel AND Jahr = FilmJahr\n",
    "JOIN SchauspielerIn ON spielt_in.Name = SchauspielerIn.Name WHERE Geschlecht = ‘w‘;"
   ]
  },
  {
   "cell_type": "markdown",
   "metadata": {},
   "source": [
    "□ Schauspieler NATURAL JOIN Manager\n",
    "<br>\n",
    "– Natural Join; Eliminiert redundante Attribute\n",
    "\n",
    "### The TPC-H Schema\n",
    "![title](tpc-h_schema.jpg)\n",
    " \n",
    "#### TPC Query 2 - Minimum Cost Supplier"
   ]
  },
  {
   "cell_type": "code",
   "execution_count": null,
   "metadata": {},
   "outputs": [],
   "source": [
    "%sql\n",
    "SELECT s_acctbal, s_name, n_name, p_partkey, p_mfgr, s_address, s_phone,\n",
    "s_comment\n",
    "FROM part, supplier, partsupp, nation, region\n",
    "WHERE p_partkey = ps_partkey AND s_suppkey = ps_suppkey\n",
    "AND p_size = [SIZE] AND p_type like '%[TYPE]'\n",
    "AND s_nationkey = n_nationkey AND n_regionkey = r_regionkey\n",
    "AND r_name = '[REGION]'\n",
    "AND ps_supplycost =\n",
    "(SELECT min(ps_supplycost)\n",
    "FROM partsupp, supplier, nation, region\n",
    "WHERE p_partkey = ps_partkey AND s_suppkey = ps_suppkey\n",
    "AND s_nationkey = n_nationkey AND n_regionkey = r_regionkey\n",
    "AND r_name = '[REGION]' )\n",
    "ORDER BY s_acctbal desc, n_name, s_name, p_partkey;"
   ]
  },
  {
   "cell_type": "markdown",
   "metadata": {},
   "source": [
    "SIZE is randomly selected within [1. 50];\n",
    "<br>\n",
    "TYPE is randomly selected within the list Syllable 3 defined for Types\n",
    "<br>\n",
    "REGION is randomly selected within the list of values defined for R_NAME\n",
    "\n",
    "#### The TPC-H Universal Table"
   ]
  },
  {
   "cell_type": "code",
   "execution_count": null,
   "metadata": {},
   "outputs": [],
   "source": [
    "%sql\n",
    "SELECT l_linenumber, l_quantity, l_extendedprice, l_discount, l_tax, l_returnflag, l_linestatus, l_shipdate, l_commitdate, l_receiptdate, l_shipinstruct, l_shipmode, l_comment, o_orderkey, o_orderstatus, o_totalprice, o_orderdate, o_orderpriority, o_clerk, o_shippriority, o_comment, ps_availqty, ps_supplycost, ps_comment, p_partkey, p_name, p_mfgr, p_brand, p_type, p_size, p_container, p_retailprice, p_comment, c_custkey, c_name, c_address, c_phone, c_acctbal, c_mktsegment, c_comment, s_suppkey, s_name, s_address, s_phone, s_acctbal, s_comment, n_nationkey, n_name, n_comment, r_regionkey, r_name, r_comment\n",
    "\n",
    "FROM lineitem, orders, partsupp, part, customer, supplier, nation, region\n",
    "\n",
    "WHERE p_partkey = ps_partkey\n",
    "\n",
    "AND s_suppkey = ps_suppkey\n",
    "\n",
    "AND n_nationkey = s_nationkey\n",
    "\n",
    "AND r_regionkey = n_regionkey\n",
    "\n",
    "AND c_custkey = o_custkey\n",
    "\n",
    "AND ps_partkey = l_partkey\n",
    "\n",
    "AND ps_suppkey = l_suppkey\n",
    "\n",
    "AND o_orderkey = l_orderkey"
   ]
  },
  {
   "cell_type": "markdown",
   "metadata": {},
   "source": [
    "### Outer Joins\n",
    "■ SchauspielerIn(Name, Adresse, Geschlecht, Geburtstag)\n",
    "<br><br>\n",
    "■ ManagerIn(Name, Adresse, ManagerinID, Gehalt)\n",
    "<br><br>\n",
    "■ Schauspieler*innen, die zugleich Manager*in sind"
   ]
  },
  {
   "cell_type": "code",
   "execution_count": null,
   "metadata": {},
   "outputs": [],
   "source": [
    "%sql\n",
    "SELECT Name, Adresse, Geburtstag, Gehalt\n",
    "FROM Schauspieler NATURAL INNER JOIN Manager"
   ]
  },
  {
   "cell_type": "markdown",
   "metadata": {},
   "source": [
    "■ SchauspielerIn und gegebenenfalls ihre ManagerIninfo"
   ]
  },
  {
   "cell_type": "code",
   "execution_count": null,
   "metadata": {},
   "outputs": [],
   "source": [
    "%sql\n",
    "…FROM SchauspielerIn NATURAL LEFT OUTER JOIN ManagerIn"
   ]
  },
  {
   "cell_type": "markdown",
   "metadata": {},
   "source": [
    "□ Gehalt bleibt gegebenenfalls NULL\n",
    "\n",
    "■ ManagerIn und gegebenenfalls ihre Schauspielerinfo"
   ]
  },
  {
   "cell_type": "code",
   "execution_count": null,
   "metadata": {},
   "outputs": [],
   "source": [
    "%sql\n",
    "…FROM SchauspielerIn NATURAL RIGHT OUTER JOIN ManagerIn"
   ]
  },
  {
   "cell_type": "markdown",
   "metadata": {},
   "source": [
    "□ Geburtstag bleibt gegebenenfalls NULL\n",
    "\n",
    "■ Alle Schauspieler*innen und Manager*innen"
   ]
  },
  {
   "cell_type": "code",
   "execution_count": null,
   "metadata": {},
   "outputs": [],
   "source": [
    "%sql\n",
    "…FROM SchauspielerIn NATURAL FULL OUTER JOIN ManagerIn"
   ]
  },
  {
   "cell_type": "markdown",
   "metadata": {},
   "source": [
    "□ Geburtstag oder Gehalt bleiben gegebenenfalls leer\n",
    "\n",
    "□ Unterschied zu UNION: Nur eine Zeile pro Person\n",
    "\n",
    "![](outerjoins.jpg)\n",
    "\n",
    "|Geburtstag|Name|Adresse|Gehalt|\n",
    "|---|---|---|---|\n",
    "|1.2.1960|Mark Hamill|LA|NULL|\n",
    "|27.5.1969|Carrie Fischer|New York|NULL|\n",
    "|11.12.1940|Alec Guinness|London|NULL|\n",
    "|22.3.1981|Ben Affleck|Boston|5Mio|\n",
    "|23.8.1973|Quentin Tarantino|Berlin|10Mio|\n",
    "|NULL|George Lukas |San Jose|100Mio|\n",
    "|NULL|Steven Spielberg|LA|500Mio|\n",
    "\n",
    "->geschweifte Klammern fehlen in md Tabelle\n",
    "\n",
    "### Kreuzprodukt\n",
    "■ Alle Paare aus Tupeln der beteiligten Relationen"
   ]
  },
  {
   "cell_type": "code",
   "execution_count": null,
   "metadata": {},
   "outputs": [],
   "source": [
    "%sql\n",
    "SELECT *\n",
    "FROM SchauspielerIn CROSS JOIN Film"
   ]
  },
  {
   "cell_type": "code",
   "execution_count": null,
   "metadata": {},
   "outputs": [],
   "source": [
    "%sql\n",
    "SELECT *\n",
    "FROM SchauspielerIn, Film"
   ]
  },
  {
   "cell_type": "markdown",
   "metadata": {},
   "source": [
    "■ Selten verwendet\n",
    "<br>\n",
    "■ Grundbaustein für Joins\n",
    "\n",
    "### Mengenoperationen in SQL\n",
    " Vereinigung: UNION\n",
    "<br><br>\n",
    "■ Schnittmenge: INTERSECT\n",
    "<br><br>\n",
    "■ Differenz: EXCEPT / MINUS\n",
    "<br><br>\n",
    "■ Mengenoperationen nur zwischen geklammerten Anfrageergebnissen\n",
    "<br><br>\n",
    "■ Mengenoperationen haben implizit eine Mengensemantik\n",
    "<br>\n",
    "□ Wandeln Input-Relationen in Mengen um\n",
    "<br>\n",
    "□ Wandeln Output in Menge um\n",
    "<br><br>\n",
    "■ Input-Relationen müssen gleiche Schemata haben\n",
    "<br>\n",
    "□ Gleiche Attributnamen\n",
    "<br>\n",
    "□ Gleiche Datentypen\n",
    "<br>\n",
    "■ SchauspielerIn(Name, Adresse, Geschlecht, Geburtstag)\n",
    "<br><br>\n",
    "■ ManagerIn(Name, Adresse, ManagerinID, Gehalt)\n",
    "\n",
    "#### Schnittmenge: INTERSECT\n",
    "■ Entspricht dem logischen „und“"
   ]
  },
  {
   "cell_type": "code",
   "execution_count": null,
   "metadata": {},
   "outputs": [],
   "source": [
    "%sql\n",
    "(SELECT Name, Adresse FROM SchauspielerIn)\n",
    "INTERSECT\n",
    "(SELECT Name, Adresse FROM ManagerIn);"
   ]
  },
  {
   "cell_type": "code",
   "execution_count": null,
   "metadata": {},
   "outputs": [],
   "source": [
    "%sql\n",
    "(SELECT Name, Adresse\n",
    " FROM SchauspielerIn\n",
    " WHERE Geschlecht = ‘F‘)\n",
    "           INTERSECT\n",
    "(SELECT Name, Adresse\n",
    " FROM ManagerIn\n",
    " WHERE Gehalt > 1000000)"
   ]
  },
  {
   "cell_type": "markdown",
   "metadata": {},
   "source": [
    "■ Multimengen-Semantik: INTERSECT ALL\n",
    "\n",
    "#### Vereinigung: UNION\n",
    "■ Entspricht dem logischen „oder“"
   ]
  },
  {
   "cell_type": "code",
   "execution_count": null,
   "metadata": {},
   "outputs": [],
   "source": [
    "%sql\n",
    "(SELECT Name, Adresse FROM SchauspielerIn)\n",
    "           UNION\n",
    "(SELECT Name, Adresse FROM ManagerIn);"
   ]
  },
  {
   "cell_type": "markdown",
   "metadata": {},
   "source": [
    "■ Multimenge: UNION ALL\n",
    "<br>\n",
    "□ Beliebt, da schnell\n",
    "<br>\n",
    "□ Verwenden falls\n",
    "<br>\n",
    "– Semantik egal\n",
    "<br>\n",
    "– Multimengensemantik erwünscht\n",
    "<br>\n",
    "– Mengeneigenschaft von Input und Output bereits bekannt\n",
    "\n",
    "#### Differenz: EXCEPT\n",
    "\n",
    "■ Auch MINUS"
   ]
  },
  {
   "cell_type": "markdown",
   "metadata": {},
   "source": [
    "```\n",
    "(SELECT Titel, Jahr\n",
    " FROM Film)\n",
    "         EXCEPT\n",
    "(SELECT FilmTitel AS Titel, FilmJahr AS Jahr\n",
    " FROM spielt_in)\n",
    " ```\n",
    " "
   ]
  },
  {
   "cell_type": "markdown",
   "metadata": {},
   "source": [
    "■ Multimenge: EXCEPT ALL\n",
    "\n",
    "#### Klammerung"
   ]
  },
  {
   "cell_type": "code",
   "execution_count": null,
   "metadata": {},
   "outputs": [],
   "source": [
    "%sql\n",
    " SELECT * \n",
    " FROM \n",
    " ( \n",
    "  (SELECT A FROM R) \n",
    "    INTERSECT \n",
    "   (SELECT * FROM \n",
    "    (SELECT A FROM S) \n",
    "     UNION \n",
    "    (SELECT A FROM T) \n",
    "    ) \n",
    " )"
   ]
  },
  {
   "cell_type": "markdown",
   "metadata": {},
   "source": [
    "### Zusammenfassung der Semantik\n",
    "\n",
    "\n",
    "|R1|R2|UNION ALL|UNION|EXCEPT ALL|EXCEPT|INTERSECT ALL|INTERSECT|\n",
    "|---|---|---|---|---|---|---|---|\n",
    "|1|1|1|1|1|2|1|1|\n",
    "|1|1|1|2|2|5|1|3|\n",
    "|1|3|1|3|2|&#xfeff;|3|4|\n",
    "|2|3|1|4|2|&#xfeff;|4|\n",
    "|2|3|1|5|4|\n",
    "|2|3|2|&#xfeff;|5| \n",
    "|3|4|2| \n",
    "|4|&#xfeff;|2| \n",
    "|4|&#xfeff;|3| \n",
    "|5|&#xfeff;|3| \n",
    "|&#xfeff;|&#xfeff;|3| \n",
    "|&#xfeff;|&#xfeff;|3| \n",
    "|&#xfeff;|&#xfeff;|3| \n",
    "|&#xfeff;|&#xfeff;|4| \n",
    "|&#xfeff;|&#xfeff;|4| \n",
    "|&#xfeff;|&#xfeff;|4| \n",
    "|&#xfeff;|&#xfeff;|5| "
   ]
  },
  {
   "cell_type": "markdown",
   "metadata": {},
   "source": [
    "## Geschachtelte Anfragen\n",
    "### Motivation\n",
    "■ Eine Anfrage kann Teil einer anderen Anfrage sein.\n",
    "<br>\n",
    "□ Theoretisch beliebig tiefe Schachtelung\n",
    "<br><br>\n",
    "■ Drei Varianten\n",
    "<br>\n",
    "1. Subanfrage erzeugt einen einzigen Wert, der in der WHERE-Klausel mit einem anderen Wert verglichen\n",
    "werden kann.\n",
    "<br>\n",
    "2. Subanfrage erzeugt eine Relation, die auf verschiedene Weise in WHERE-Klausel verwendet werden kann.\n",
    "<br>\n",
    "3. Subanfrage erzeugt eine Relation, die in der FROM Klausel verwendet werden kann.\n",
    "<br>\n",
    "– Wie jede normale Relation\n",
    "\n",
    "### Skalare Subanfragen\n",
    "\n",
    "■ Allgemeine Anfragen produzieren Relationen.\n",
    "<br>\n",
    "□ Mit mehreren Attributen\n",
    "<br>\n",
    "– Zugriff auf ein bestimmtes Attribut ist möglich\n",
    "<br>\n",
    "□ i.A. mit mehreren Tupeln\n",
    "<br>\n",
    "□ Manchmal (garantiert) nur maximal ein Tupel und Projektion auf nur ein Attribut\n",
    "<br>\n",
    "– „Skalare Anfrage“\n",
    "<br>\n",
    "– Verwendung wie eine Konstante möglich\n",
    "<br>\n",
    "– Falls keine Zeile: null\n",
    "<br>\n",
    "![title](skalare_subanfragen.jpg)\n",
    "<br>\n",
    "■ ManagerIn(Name, Adresse, ManagerinID, Gehalt)\n",
    "<br>\n",
    "■ Film(Titel, Jahr, Länge, inFarbe, StudioName, ProduzentinID)\n",
    "<br>\n",
    "■ Gesucht: Produzent von Star Wars"
   ]
  },
  {
   "cell_type": "markdown",
   "metadata": {},
   "source": [
    "```\n",
    "SELECT Name\n",
    "FROM Film, ManagerIn WHERE Titel = ‘Star Wars‘ AND Jahr = ‘1977‘\n",
    "AND ProduzentinID = ManagerinID;\n",
    "```"
   ]
  },
  {
   "cell_type": "markdown",
   "metadata": {},
   "source": [
    "■ Oder aber"
   ]
  },
  {
   "cell_type": "code",
   "execution_count": null,
   "metadata": {},
   "outputs": [],
   "source": [
    "%sql\n",
    "SELECT Name\n",
    "FROM ManagerIn\n",
    "WHERE ManagerinID =\n",
    "( SELECT ProduzentinID\n",
    "FROM Film\n",
    "WHERE Titel = ‘Star Wars‘ AND Jahr = ‘1977‘ );"
   ]
  },
  {
   "cell_type": "markdown",
   "metadata": {},
   "source": [
    "■ DBMS erwartet maximal ein Tupel als Ergebnis der Teilanfrage\n",
    "<br>\n",
    "□ Falls kein Tupel: null\n",
    "<br>\n",
    "□ Falls mehr als ein Tupel: Laufzeitfehler\n",
    "\n",
    "#### Skalare Subanfragen – Beispiel \n",
    "■ Abteilungen, deren durchschnittliche Bonuszahlungen höher sind als deren durchschnittliches Gehalt."
   ]
  },
  {
   "cell_type": "code",
   "execution_count": null,
   "metadata": {},
   "outputs": [],
   "source": [
    "%sql\n",
    "SELECT a.Name, a.Standort FROM Abteilung a WHERE (SELECT AVG(bonus) FROM personal p WHERE a.AbtID = p.AbtID)>(SELECT AVG(gehalt)FROM personal pWHERE a.AbtID = p.AbtID)"
   ]
  },
  {
   "cell_type": "markdown",
   "metadata": {},
   "source": [
    "■ Alle Potsdamer Abteilungen mit ihrem Maximalgehalt."
   ]
  },
  {
   "cell_type": "code",
   "execution_count": null,
   "metadata": {},
   "outputs": [],
   "source": [
    "%sql\n",
    "SELECT a.AbtID, a.Name,\n",
    "           (SELECT MAX(Gehalt)\n",
    "                FROM Personal p\n",
    "            WHERE a.AbtID = p.AbtID) AS maxGehalt\n",
    "FROM Abteilung a\n",
    "WHERE a.Ort = ‘Potsdam‘"
   ]
  },
  {
   "cell_type": "markdown",
   "metadata": {},
   "source": [
    "■ Anmerkung: Auch Abteilungen ohne Mitarbeiter erscheinen im Ergebnis.\n",
    "<br><br>\n",
    "■ Nicht so in der folgenden Anfrage:"
   ]
  },
  {
   "cell_type": "code",
   "execution_count": null,
   "metadata": {},
   "outputs": [],
   "source": [
    "%sql\n",
    "SELECT a.AbtID, a.Name, MAX(p.Gehalt) AS maxGehalt\n",
    "FROM Abteilung a, Personal p\n",
    "WHERE a.Ort = ‘Potsdam‘\n",
    "AND a.AbtID = p.AbtID\n",
    "GROUP BY a.AbtID, a.Name"
   ]
  },
  {
   "cell_type": "markdown",
   "metadata": {},
   "source": [
    "### Bedingungen mit Relationen\n",
    "■ Bestimmte SQL Operatoren auf Relationen erzeugen Boole‘sche Werte\n",
    "<br>\n",
    "□ EXISTS R\n",
    "<br>\n",
    "– TRUE, falls R nicht leer\n",
    "<br>\n",
    "□ x IN R\n",
    "<br>\n",
    "– TRUE falls x gleich einem Wert in R ist (R hat nur ein Attribut)\n",
    "<br>\n",
    "– Verallgemeinerung auf Tupel später\n",
    "<br>\n",
    "– x NOT IN R: TRUE falls x keinem Wert in R gleicht\n",
    "<br>\n",
    "□ x > ALL R\n",
    "<br>\n",
    "– TRUE falls x größer als jeder Wert in R ist (R hat nur ein Attribut)\n",
    "<br>\n",
    "– Alternativ: <, >, <=, >=, <>, =\n",
    "<br>\n",
    "– x <> ALL R: Entspricht x NOT IN R bzw. auch NOT(x in R)\n",
    "<br>\n",
    "□ x > ANY R\n",
    "<br>\n",
    "– TRUE falls x größer als mindestens ein Wert in R ist (R hat nur ein Attribut)\n",
    "<br>\n",
    "– Alternativ: <, >, <=, >=, <>, =\n",
    "<br>\n",
    "– x = ANY R: Entspricht x IN R\n",
    "<br>\n",
    "– Alternativer Befehl: SOME\n",
    "<br>\n",
    "□ Negation mit NOT(…) ist immer möglich.\n",
    "### EXISTS Beispiele\n",
    "■ ISBNs aller ausgeliehenen Bücher"
   ]
  },
  {
   "cell_type": "code",
   "execution_count": null,
   "metadata": {},
   "outputs": [],
   "source": [
    "%sql\n",
    "SELECT ISBN\n",
    "FROM BuchExemplar\n",
    "WHERE EXISTS\n",
    "     (SELECT *\n",
    "      FROM Ausleihe\n",
    "      WHERE Ausleihe.Inventarnr = BuchExemplar.Inventarnr) "
   ]
  },
  {
   "cell_type": "markdown",
   "metadata": {},
   "source": [
    "■ Lehrstuhlbezeichnungen der Professor*innen, die alle von ihnen gelesenen Vorlesungen auch schon einmal\n",
    "geprüft haben.\n",
    "<br><br>\n",
    "■ bzw. Lehrstuhlbezeichnungen von Professor*innen, so dass keine von diesem gelesene Vorlesung existiert, die von\n",
    "ihm nicht geprüft wurde."
   ]
  },
  {
   "cell_type": "code",
   "execution_count": null,
   "metadata": {},
   "outputs": [],
   "source": [
    "%sql\n",
    "SELECT Lehrstuhlbezeichnung\n",
    "FROM Prof\n",
    "WHERE NOT EXISTS\n",
    "      (SELECT *\n",
    "       FROM Liest\n",
    "       WHERE Liest.PANr = Prof.PANr\n",
    "       AND NOT EXISTS (SELECT *\n",
    "                   FROM Prüft\n",
    "                   WHERE Prüft.PANr = Prof.PANr\n",
    "                   AND Prüft.VL_NR = Liest.VL_NR)\n",
    ") "
   ]
  },
  {
   "cell_type": "markdown",
   "metadata": {},
   "source": [
    "### IN Beispiele\n",
    "■ Eine Auswahl an Büchern"
   ]
  },
  {
   "cell_type": "code",
   "execution_count": null,
   "metadata": {},
   "outputs": [],
   "source": [
    "%sql\n",
    "SELECT Titel\n",
    "FROM Bücher\n",
    "WHERE ISBN IN (‘3898644006‘, ‘1608452204‘, ‘0130319953‘)"
   ]
  },
  {
   "cell_type": "markdown",
   "metadata": {},
   "source": [
    "■ Matrikel der Studenten, die zumindest einen Prüfer gemeinsam mit dem Studenten der Matrikel ‚123456‘ haben"
   ]
  },
  {
   "cell_type": "code",
   "execution_count": null,
   "metadata": {},
   "outputs": [],
   "source": [
    "%sql\n",
    "SELECT DISTINCT Matrikel\n",
    "FROM Prüft\n",
    "WHERE Prüfer IN ( SELECT Prüfer\n",
    "                  FROM Prüft\n",
    "                  WHERE Matrikel = ‘123456‘)``` "
   ]
  },
  {
   "cell_type": "code",
   "execution_count": null,
   "metadata": {},
   "outputs": [],
   "source": [
    "%sql\n",
    "SELECT DISTINCT P1.Matrikel\n",
    "FROM Prüft P1, Prüft P2\n",
    "WHERE P2.Matrikel = `123456`\n",
    "AND P1.Prüfer = P2.Prüfer"
   ]
  },
  {
   "cell_type": "markdown",
   "metadata": {},
   "source": [
    "■ Nachnamen aller Professor*innen, die schon einmal eine 1,0 vergeben haben."
   ]
  },
  {
   "cell_type": "code",
   "execution_count": null,
   "metadata": {},
   "outputs": [],
   "source": [
    "%sql\n",
    "SELECT Nachname\n",
    "FROM Prof\n",
    "WHERE 1.0 IN ( SELECT Note\n",
    "FROM Prüft\n",
    "WHERE Prüfer = Prof.ID )"
   ]
  },
  {
   "cell_type": "markdown",
   "metadata": {},
   "source": [
    "■ Achtung: Korrelierte Subanfrage\n",
    "\n",
    "### ALL und ANY Beispiele\n",
    "\n",
    "■ Die schlechteste Note des Studenten mit Matrikel 123456"
   ]
  },
  {
   "cell_type": "code",
   "execution_count": null,
   "metadata": {},
   "outputs": [],
   "source": [
    "%sql\n",
    "SELECT Note\n",
    "FROM Prüft\n",
    "WHERE Matrikel = ‘123456‘\n",
    "AND Note >= ALL (SELECT Note\n",
    "                 FROM Prüft\n",
    "                 WHERE Matrikel = ‘123456‘)"
   ]
  },
  {
   "cell_type": "markdown",
   "metadata": {},
   "source": [
    "■ Alle Studenten, die mindestens eine Prüfung absolvierten"
   ]
  },
  {
   "cell_type": "code",
   "execution_count": null,
   "metadata": {},
   "outputs": [],
   "source": [
    "%sql \n",
    "SELECT Name, Matrikel\n",
    "FROM Student\n",
    "WHERE Matrikel = ANY (SELECT Matrikel\n",
    "                      FROM Prüft)"
   ]
  },
  {
   "cell_type": "markdown",
   "metadata": {},
   "source": [
    "### Bedingungen mit Tupeln\n",
    "■ Verallgemeinerung von IN, ALL und ANY auf Tupel\n",
    "<br>\n",
    "□ t IN R\n",
    "<br>\n",
    "– TRUE falls t ein Tupel in R ist (mehr als ein Attribut möglich)\n",
    "<br>\n",
    "– Setzt gleiche Schemata voraus\n",
    "<br>\n",
    "– Setzt gleiche Reihenfolge der Attribute voraus\n",
    "<br>\n",
    "□ t > ALL R\n",
    "<br>\n",
    "– TRUE falls t größer als jedes Tupel in R ist\n",
    "<br>\n",
    "– Vergleiche in Standardreihenfolge der Attribute\n",
    "<br>\n",
    "□ t <> ANY R\n",
    "<br>\n",
    "– TRUE falls R mindestens ein Tupel hat, das ungleich t ist\n",
    "<br>\n",
    "<br>\n",
    "■ Namen von Produzenten von Filmen mit Harrison Ford"
   ]
  },
  {
   "cell_type": "code",
   "execution_count": null,
   "metadata": {},
   "outputs": [],
   "source": [
    "%sql \n",
    "SELECT Name\n",
    "FROM Manager\n",
    "WHERE ManagerinID IN\n",
    "    ( SELECT ProduzentinID\n",
    "      FROM Film\n",
    "      WHERE (Titel, Jahr) IN\n",
    "           ( SELECT FilmTitel AS Titel, FilmJahr AS Jahr\n",
    "             FROM spielt_in\n",
    "             WHERE SchauspielerName = ‘Harrison Ford‘\n",
    "    ));"
   ]
  },
  {
   "cell_type": "markdown",
   "metadata": {},
   "source": [
    "■ Analyse am besten von innen nach außen\n",
    "<br><br>\n",
    "■ Alternative Formulierung"
   ]
  },
  {
   "cell_type": "code",
   "execution_count": null,
   "metadata": {},
   "outputs": [],
   "source": [
    "%sql\n",
    "SELECT Name\n",
    "FROM Manager, Film, spielt_in\n",
    "WHERE ManagerinID = ProduzentinID\n",
    "AND Titel = FilmTitel\n",
    "AND Jahr = FilmJahr\n",
    "AND SchauspielerName = ‘Harrison Ford‘;"
   ]
  },
  {
   "cell_type": "markdown",
   "metadata": {},
   "source": [
    "### Subanfragen in FROM-Klausel\n",
    "■ Bisher: Nur Subanfragen in WHERE-Klausel\n",
    "<br>\n",
    "□ Anstelle einfacher Relation steht eine geklammerte Subanfrage\n",
    "<br>\n",
    "□ Es muss ein Alias vergeben werden.\n",
    "<br>"
   ]
  },
  {
   "cell_type": "code",
   "execution_count": null,
   "metadata": {},
   "outputs": [],
   "source": [
    "%sql\n",
    "SELECT M.Name\n",
    "FROM ManagerIn M, (SELECT ProduzentinID AS ID\n",
    "                  FROM Film, spielt_in\n",
    "                  WHERE Titel = FilmTitel\n",
    "                  AND Jahr = FilmJahr\n",
    "                  AND SchauspielerIn = ‘Harrison Ford‘) ProduzentIn\n",
    "WHERE M.ManagerinID = ProduzentIn.ID;"
   ]
  },
  {
   "cell_type": "markdown",
   "metadata": {},
   "source": [
    "### Korrelierte Subanfragen\n",
    "■ Unkorreliert: Subanfragen einmalig ausführen und das Ergebnis weiterverwenden\n",
    "<br><br>\n",
    "■ Korrelierte Subanfragen werden mehrfach ausgeführt, einmal pro Bindung der korrelierten Variable der äußeren\n",
    "Anfrage\n",
    "<br><br>\n",
    "■ Alle mehrfachen Filme mit Ausnahme der jeweils jüngsten Ausgabe"
   ]
  },
  {
   "cell_type": "code",
   "execution_count": null,
   "metadata": {},
   "outputs": [],
   "source": [
    "%sql\n",
    "SELECT Titel, Jahr\n",
    "FROM Film Alt\n",
    "WHERE Jahr < ANY\n",
    "    ( SELECT Jahr\n",
    "    FROM Film\n",
    "    WHERE Titel = Alt.Titel);"
   ]
  },
  {
   "cell_type": "markdown",
   "metadata": {},
   "source": [
    "□ Ausführung der Subanfrage für jedes Tupel in Filme\n",
    "\n",
    "Scope: Attributnamen gehören zunächst zur Tupelvariablen der aktuellen Anfrage. Sonst: Suche von innen nach außen.\n",
    "\n",
    "Unkorreliert:\n",
    "<br>\n",
    "Name und Gehalt aller Mitarbeiter in Potsdam"
   ]
  },
  {
   "cell_type": "code",
   "execution_count": null,
   "metadata": {},
   "outputs": [],
   "source": [
    "%sql\n",
    "SELECT Name, Gehalt\n",
    "FROM Personal p\n",
    "WHERE AbtID IN\n",
    "    (SELECT AbtID\n",
    "    FROM Abteilung\n",
    "    WHERE Ort =\n",
    "‘Potsdam‘)"
   ]
  },
  {
   "cell_type": "markdown",
   "metadata": {},
   "source": [
    "Korreliert:\n",
    "<br>\n",
    "Name und Gehalt aller Mitarbeiter, deren Gehalt höher als 10% des Abteilungsbudgets ist."
   ]
  },
  {
   "cell_type": "code",
   "execution_count": null,
   "metadata": {},
   "outputs": [],
   "source": [
    "%sql\n",
    "SELECT Name, Gehalt\n",
    "FROM Personal p\n",
    "WHERE Gehalt >\n",
    "    (SELECT 0.1*Budget\n",
    "    FROM Abteilung a\n",
    "    WHERE a.AbtID =\n",
    "p.AbtID)"
   ]
  },
  {
   "cell_type": "markdown",
   "metadata": {},
   "source": [
    "## Operationen auf einer Relation\n",
    "### Duplikateliminierung\n",
    " Relationale DBMS verwenden i.d.R. Multimengensemantik, nicht Mengensemantik.\n",
    " <br>\n",
    "□ Duplikate entstehen durch\n",
    " <br>\n",
    "– Einfügen von Duplikaten in Basisrelation\n",
    " <br>\n",
    "– Veränderung von Tupeln in Basisrelation\n",
    " <br>\n",
    "– Projektion in Anfragen\n",
    " <br>\n",
    "– Durch Subanfragen (UNION ALL)\n",
    " <br>\n",
    "– Vermehrung von Duplikaten durch Kreuzprodukt\n",
    " <br> <br>\n",
    "■ Duplikateliminierung\n",
    " <br>\n",
    "□ SELECT DISTINCT Attributnamen\n",
    " <br>\n",
    "□ Kosten sind hoch: Sortierung oder hashing\n",
    " <br>\n",
    "■ Alle Filme, in denen mindestens ein Schauspieler mitspielt"
   ]
  },
  {
   "cell_type": "code",
   "execution_count": null,
   "metadata": {},
   "outputs": [],
   "source": [
    "%sql\n",
    "SELECT DISTINCT Titel, Jahr\n",
    "FROM spielt_in"
   ]
  },
  {
   "cell_type": "markdown",
   "metadata": {},
   "source": [
    "![title](duplikateliminierung.jpg)\n",
    "#### Wdh.: Duplikateliminierung bei Mengenoperationen\n",
    "■ Mengenoperationen in SQL entfernen Duplikate\n",
    "<br>\n",
    "□ UNION, INTERSECT, EXCEPT\n",
    "<br>\n",
    "□ wandeln Multimengen in Mengen um und verwenden Mengensemantik\n",
    "<br>\n",
    "□ Solche Duplikateliminierung verhindern durch ALL\n",
    "<br>"
   ]
  },
  {
   "cell_type": "code",
   "execution_count": null,
   "metadata": {},
   "outputs": [],
   "source": [
    "%sql\n",
    "(SELECT Titel, Jahr, FROM Film)\n",
    "    UNION ALL\n",
    "(SELECT FilmTitel AS Titel, FilmJahr AS Jahr FROM spielt_in);"
   ]
  },
  {
   "cell_type": "markdown",
   "metadata": {},
   "source": [
    "– Film mit drei Schauspielern erscheint also 4 Mal im Ergebnis\n",
    "<br>\n",
    "□ R INTERSECT ALL S\n",
    "<br>\n",
    "□ R EXCEPT ALL S\n",
    "\n",
    "### Aggregation\n",
    "■ Standardaggregationsoperatoren\n",
    "<br>\n",
    "□ SUM, AVG, MIN, MAX, COUNT\n",
    "<br>\n",
    "□ Angewendet auf einzelne Attribute in der SELECT-Klausel\n",
    "<br><br>\n",
    "■ Typische weitere Aggregationsoperatoren\n",
    "<br>\n",
    "□ VAR, STDDEV\n",
    "<br><br>\n",
    "■ COUNT(*) zählt Anzahl der Tupel\n",
    "<br>\n",
    "□ in der Relation, die durch die FROM und WHERE Klauseln definiert wird.\n",
    "<br><br>\n",
    "■ Kombination mit DISTINCT\n",
    "<br>\n",
    "□ COUNT(DISTINCT Jahr)\n",
    "<br>\n",
    "□ SUM(DISTINCT Gehalt)\n",
    "\n",
    "#### Aggregation – Beispiele"
   ]
  },
  {
   "cell_type": "code",
   "execution_count": null,
   "metadata": {},
   "outputs": [],
   "source": [
    "%sql\n",
    "SELECT AVG(Gehalt)\n",
    "FROM Manager;"
   ]
  },
  {
   "cell_type": "code",
   "execution_count": null,
   "metadata": {},
   "outputs": [],
   "source": [
    "%sql\n",
    "SELECT COUNT(*)\n",
    "FROM spielt_in;"
   ]
  },
  {
   "cell_type": "code",
   "execution_count": null,
   "metadata": {},
   "outputs": [],
   "source": [
    "%sql\n",
    "SELECT COUNT(Schauspieler)\n",
    "FROM spielt_in;"
   ]
  },
  {
   "cell_type": "code",
   "execution_count": null,
   "metadata": {},
   "outputs": [],
   "source": [
    "%sql\n",
    "SELECT COUNT(DISTINCT Schauspieler)\n",
    "FROM spielt_in\n",
    "WHERE Jahr = 1990;"
   ]
  },
  {
   "cell_type": "markdown",
   "metadata": {},
   "source": [
    "### Gruppierung, Aggregation und NULL\n",
    "■ NULL wird bei Aggregation ignoriert.\n",
    "<br>\n",
    "□ Trägt also nicht zu SUM, AVG oder COUNT bei.\n",
    "<br>\n",
    "□ Ist nicht MIN oder MAX\n",
    "<br>\n",
    "□ Anzahl Tupel: SELECT COUNT(*) FROM spielt_in;\n",
    "<br>\n",
    "□ Anzahl nicht-NULL Werte: SELECT COUNT(Länge) FROM Film;\n",
    "<br><br>\n",
    "■ NULL ist ein eigener Gruppierungswert\n",
    "<br>\n",
    "□ Es gibt also z.B. die NULL-Gruppe\n",
    "<br>\n",
    "□ SELECT A, COUNT(B) FROM R GROUP BY A;\n",
    "<br>\n",
    "– Ergebnis: (NULL, 0)\n",
    "<br>\n",
    "□ SELECT A, SUM(B) FROM R GROUP BY A;\n",
    "<br>\n",
    "– Ergebnis: (NULL, NULL)\n",
    "<br>\n",
    "\n",
    "|A|B|\n",
    "|---|---|\n",
    "|NULL|NULL|\n",
    "\n",
    "### Gruppierung\n",
    "■ Gruppierung mittels GROUP BY nach der WHERE-Klausel"
   ]
  },
  {
   "cell_type": "code",
   "execution_count": null,
   "metadata": {},
   "outputs": [],
   "source": [
    "%sql \n",
    "SELECT StudioName, SUM(Länge)\n",
    "FROM Film\n",
    "GROUP BY StudioName"
   ]
  },
  {
   "cell_type": "markdown",
   "metadata": {},
   "source": [
    "■ In SELECT-Klausel zwei „Sorten“ von Attributen\n",
    "<br>\n",
    "1. Gruppierungsattribute\n",
    "<br>\n",
    "2. Aggregierte Attribute\n",
    "<br>\n",
    "□ Nicht-aggregierte Werte der SELECT-Klausel müssen in der GROUP BY-Klausel erscheinen.\n",
    "<br>\n",
    "□ Keine der beiden Sorten muss erscheinen."
   ]
  },
  {
   "cell_type": "code",
   "execution_count": null,
   "metadata": {},
   "outputs": [],
   "source": [
    "%sql\n",
    "SELECT StudioName\n",
    "FROM Film\n",
    "GROUP BY StudioName"
   ]
  },
  {
   "cell_type": "code",
   "execution_count": null,
   "metadata": {},
   "outputs": [],
   "source": [
    "%sql\n",
    "SELECT SUM(Länge)\n",
    "FROM Film\n",
    "GROUP BY StudioName"
   ]
  },
  {
   "cell_type": "markdown",
   "metadata": {},
   "source": [
    "■ Gruppierung bei Verwendung mehrerer Relationen wird am Schluss durchgeführt."
   ]
  },
  {
   "cell_type": "code",
   "execution_count": null,
   "metadata": {},
   "outputs": [],
   "source": [
    "%sql\n",
    "SELECT Name, SUM(Länge)\n",
    "FROM Manager, Film\n",
    "WHERE ManagerinID = ProduzentinID\n",
    "GROUP BY Name"
   ]
  },
  {
   "cell_type": "markdown",
   "metadata": {},
   "source": [
    "■ Reihenfolge der Ausführung (und des Lesens)\n",
    "<br>\n",
    "1. FROM-Klausel\n",
    "<br>\n",
    "2. WHERE-Klausel\n",
    "<br>\n",
    "3. GROUP BY-Klausel\n",
    "<br>\n",
    "4. SELECT-Klausel\n",
    "<br>\n",
    "<br>\n",
    "■ Einschränkung der Ergebnismenge nach der Gruppierung durch HAVING"
   ]
  },
  {
   "cell_type": "code",
   "execution_count": null,
   "metadata": {},
   "outputs": [],
   "source": [
    "%sql\n",
    "SELECT Name, SUM(Länge)\n",
    "FROM Manager, Film\n",
    "WHERE ManagerinID = ProduzentinID\n",
    "AND Gehalt > 1000000\n",
    "GROUP BY Name"
   ]
  },
  {
   "cell_type": "code",
   "execution_count": null,
   "metadata": {},
   "outputs": [],
   "source": [
    "%sql\n",
    "SELECT Name, SUM(Länge)\n",
    "FROM Manager, Film\n",
    "WHERE ManagerinID = ProduzentinID\n",
    "GROUP BY Name\n",
    "HAVING SUM(Länge) > 1000"
   ]
  },
  {
   "cell_type": "code",
   "execution_count": null,
   "metadata": {},
   "outputs": [],
   "source": [
    "%sql\n",
    "SELECT Name\n",
    "FROM Manager, Film\n",
    "WHERE ManagerinID = ProduzentinID\n",
    "GROUP BY Name\n",
    "HAVING SUM(Länge) > 1000"
   ]
  },
  {
   "cell_type": "markdown",
   "metadata": {},
   "source": [
    "■ Aggregationen in HAVING-Klausel beziehen sich nur auf aktuelle Gruppe.\n",
    "<br>\n",
    "■ Nur Gruppierungsattribute dürfen un-aggregiert in HAVING Klausel erscheinen (wie bei\n",
    "SELECT-Klausel).\n",
    "### Zusammenfassung SQL\n",
    " Grundbausteine einer SQL Anfrage (mit empfohlener Lesereihenfolge)\n",
    " <br>\n",
    "□ 6. SELECT\n",
    "<br>\n",
    "□ 1. FROM\n",
    "<br>\n",
    "□ 2. WHERE\n",
    "<br>\n",
    "□ 3. GROUP BY\n",
    "<br>\n",
    "□ 4. HAVING\n",
    "<br>\n",
    "□ 5. ORDER BY\n",
    "<br><br>\n",
    "■ SELECT … FROM … sind Pflicht.\n",
    "<br>\n",
    "□ Ausnahme: z.B. SELECT 7 + 3\n",
    "<br><br>\n",
    "■ HAVING darf nur in Kombination mit GROUP BY erscheinen."
   ]
  },
  {
   "cell_type": "markdown",
   "metadata": {},
   "source": [
    "## Datenbearbeitung(DML)\n",
    "### Überblick\n",
    "■  CRUD: Create, Read, Update, Delete\n",
    "<br><br>\n",
    "■ Einfügen\n",
    "<br>\n",
    "□ INSERT INTO … VALUES…\n",
    "<br><br>\n",
    "■ Löschen\n",
    "<br>\n",
    "□ DELETE FROM … WHERE …\n",
    "<br><br>\n",
    "■ Ändern\n",
    "<br>\n",
    "□ UPDATE … SET … WHERE …\n",
    "### Einfügen\n",
    "■ Grundbaustein\n",
    "<br>\n",
    "□ INSERT INTO R(A1, …, An) VALUES (v1,…,vn);\n",
    "<br>\n",
    "□ Bei fehlenden Attributen\n",
    "<br>\n",
    "– Default-Wert aus Tabellendefinition (NULL, falls nicht anders angegeben)\n",
    "<br>\n",
    "□ Beispiel"
   ]
  },
  {
   "cell_type": "code",
   "execution_count": null,
   "metadata": {},
   "outputs": [],
   "source": [
    "%sql\n",
    "INSERT INTO spielt_in(FilmTitel, FilmJahr, Schauspieler)\n",
    "VALUES (‘Star Wars‘, 1977, ‘Alec Guinness‘);"
   ]
  },
  {
   "cell_type": "markdown",
   "metadata": {},
   "source": [
    "– Reihenfolge der Werte und Attribute wird beachtet.\n",
    "\n",
    "□ Falls alle Attribute gesetzt werden, kann Attributliste fehlen:"
   ]
  },
  {
   "cell_type": "code",
   "execution_count": null,
   "metadata": {},
   "outputs": [],
   "source": [
    "%sql\n",
    "INSERT INTO spielt_in\n",
    "VALUES (‘Star Wars‘, 1977, ‘Alec Guinness‘);"
   ]
  },
  {
   "cell_type": "markdown",
   "metadata": {},
   "source": [
    "– Reihenfolge entsprechend der Spezifikation des Schemas\n",
    "(CREATE TABLE …)\n",
    "#### Einfügen per Anfrage\n",
    " Füge in Studio-Tabelle alle Studios der Filme-Relation ein\n",
    " <br>\n",
    "□ Film(Titel, Jahr, Länge, inFarbe, StudioName, ProduzentinID)\n",
    " <br>\n",
    "□ Studio(Name, Adresse, VorsitzendeID)"
   ]
  },
  {
   "cell_type": "code",
   "execution_count": null,
   "metadata": {},
   "outputs": [],
   "source": [
    "%sql\n",
    "INSERT INTO Studio(Name)\n",
    "SELECT DISTINCT StudioName\n",
    "FROM Film\n",
    "WHERE StudioName NOT IN\n",
    "    (SELECT Name\n",
    "    FROM Studio);"
   ]
  },
  {
   "cell_type": "markdown",
   "metadata": {},
   "source": [
    "Adresse und VorsitzendeIDbleiben NULL.\n",
    " <br>\n",
    "□ Erzeugt im Allgemeinen Redundanz und sollte vermieden werden.\n",
    "### Ausführungsreihenfolge beim Einfügen\n",
    "Wann wird eingefügt?\n",
    "<br>\n",
    "Nach vollständiger Ausführung der SELECT FROM WHERE Anfrage?\n",
    "<br>\n",
    "Sofort?\n",
    "<br>\n",
    "Schnellere Implementation\n",
    "<br>\n",
    "Was passiert jeweils bei Anfrage 1?\n",
    "<br>\n",
    "Was passiert jeweils bei Anfrage 2?\n",
    "<br>\n",
    "SQL Standard: Erst gesamte Anfrage ausführen"
   ]
  },
  {
   "cell_type": "code",
   "execution_count": null,
   "metadata": {},
   "outputs": [],
   "source": [
    "%sql\n",
    "INSERT INTO Studio(Name)\n",
    "SELECT DISTINCT StudioName\n",
    "FROM Film\n",
    "WHERE StudioName NOT IN\n",
    "    (SELECT Name\n",
    "    FROM Studio);"
   ]
  },
  {
   "cell_type": "code",
   "execution_count": null,
   "metadata": {},
   "outputs": [],
   "source": [
    "%sql\n",
    "INSERT INTO Studio(Name)\n",
    "SELECT StudioName\n",
    "FROM Film\n",
    "WHERE StudioName NOT IN\n",
    "    (SELECT Name\n",
    "    FROM Studio);"
   ]
  },
  {
   "cell_type": "markdown",
   "metadata": {},
   "source": [
    "#### Bulk insert\n",
    "\n",
    "■ INSERT\n",
    "<br>\n",
    "□ Zeilenbasiertes Einfügen aus SQL statements\n",
    "<br><br>\n",
    "■ IMPORT\n",
    "<br>\n",
    "□ Zeilen-basiertes Einfügen aus Datei\n",
    "<br>\n",
    "□ Trigger und Nebenbedingungen bleiben aktiv\n",
    "<br>\n",
    "□ Indizes werden laufend aktualisiert\n",
    "<br><br>\n",
    "■ LOAD\n",
    "<br>\n",
    "□ Seiten-basiertes Einfügen aus Datei\n",
    "<br>\n",
    "□ Trigger und Nebenbedingungen werden deaktiviert\n",
    "<br>\n",
    "□ Deutlich effizienter\n",
    "<br>\n",
    "□ Indizes werden am Ende neu generiert\n",
    "<br><br>\n",
    "■ Syntax ist jeweils DBMS-spezifisch.\n",
    "<br>\n",
    "□ Viele Parameter\n",
    "\n",
    "### Löschen\n",
    "■ Grundbaustein\n",
    "<br>\n",
    "□ DELETE FROM R WHERE …\n",
    "<br>\n",
    "□ Lösche alle Tupel in R, für die die Bedingung wahr ist."
   ]
  },
  {
   "cell_type": "code",
   "execution_count": null,
   "metadata": {},
   "outputs": [],
   "source": [
    "%sql\n",
    "DELETE FROM spielt_in\n",
    "WHERE FilmTitel = ‘The Maltese Falcon‘\n",
    "AND FilmJahr = 1942\n",
    "AND Schauspieler = ‘Sydney Greenstreet‘;"
   ]
  },
  {
   "cell_type": "markdown",
   "metadata": {},
   "source": [
    "■ Tupel können im Gegensatz zum Einfügen nicht direkt angegeben werden, sondern müssen umschrieben werden.\n",
    "<br>"
   ]
  },
  {
   "cell_type": "code",
   "execution_count": null,
   "metadata": {},
   "outputs": [],
   "source": [
    "%sql\n",
    "DELETE FROM Manager\n",
    "WHERE Gehalt < 10000000;"
   ]
  },
  {
   "cell_type": "markdown",
   "metadata": {},
   "source": [
    "■ Alle Manager-Tupel löschen: DELETE FROM Manager;\n",
    "\n",
    "### Verändern (update)\n",
    "■ Grundbaustein\n",
    "<br>\n",
    "□ UPDATE R SET … WHERE …\n",
    "<br>\n",
    "□ SET Klausel\n",
    "<br>\n",
    "– Wertzuweisungen\n",
    "<br>\n",
    "– Komma-separiert\n",
    "<br>"
   ]
  },
  {
   "cell_type": "code",
   "execution_count": null,
   "metadata": {},
   "outputs": [],
   "source": [
    "%sql\n",
    "UPDATE Manager\n",
    "SET Name = ‘Präs. ‘ || Name\n",
    "WHERE ManagerinID IN\n",
    "(SELECT PräsidentID FROM Studios);"
   ]
  },
  {
   "cell_type": "markdown",
   "metadata": {},
   "source": [
    "## Schemata(DDL)\n",
    "### Überblick\n",
    "■ Datentypen \n",
    "<br>\n",
    "■ Tabellen\n",
    "<br>\n",
    "■ Default-Werte \n",
    "<br>\n",
    "■ Indizes\n",
    "\n",
    "### Datentypen\n",
    "■ Jedes Attribut muss einen Datentyp haben. \n",
    "<br>\n",
    "□ CHAR(n) – String fester Länge (n Zeichen) \n",
    "<br>\n",
    "□ VARCHAR(n) – String variabler Länge, maximal n Zeichen \n",
    "<br>\n",
    "□ BIT(n) bzw. BIT VARYING(n) – Wie CHAR, aber Bits \n",
    "<br>\n",
    "□ BOOLEAN – TRUE, FALSE oder UNKNOWN \n",
    "<br>\n",
    "□ INT / INTEGER bzw. SHORTINT – 8 bzw. 4 Byte \n",
    "<br>\n",
    "□ FLOAT / REAL bzw. DOUBLE PRECISION \n",
    "<br>\n",
    "□ DECIMAL (n,d) – Z.B. Gehalt DECIMAL(7,2) – 7 Stellen, davon 2 Nachkommastellen\n",
    "<br>\n",
    "□ CLOB und BLOB\n",
    "\n",
    "### Überblick DB2 Datentypen\n",
    "![title](db2_datentypen.jpg)\n",
    "\n",
    "### Tabellen\n",
    "■ Grundbaustein zum Erzeugen"
   ]
  },
  {
   "cell_type": "code",
   "execution_count": null,
   "metadata": {},
   "outputs": [],
   "source": [
    "%sql\n",
    "CREATE TABLE R …\n",
    "CREATE TABLE Schauspieler (\n",
    "Name CHAR(30),\n",
    "Adresse VARCHAR(255),\n",
    "Geschlecht CHAR(1),\n",
    "Geburtstag DATE );"
   ]
  },
  {
   "cell_type": "markdown",
   "metadata": {},
   "source": [
    "■ Löschen\n",
    "<br>\n",
    "□ DROP TABLE Schauspieler;\n",
    "<br><br>\n",
    "■ Verändern\n",
    "<br>\n",
    "□ ALTER TABLE Schauspieler ADD Telefon CHAR(6);\n",
    "<br>\n",
    "– Nullwerte entstehen\n",
    "<br>\n",
    "□ ALTER TABLE Schauspieler DROP Geburtstag;\n",
    "<br>\n",
    "□ ALTER TABLE Schauspieler MODIFY Telefon CHAR(10);\n",
    "\n",
    "### Default-Werte"
   ]
  },
  {
   "cell_type": "code",
   "execution_count": null,
   "metadata": {},
   "outputs": [],
   "source": [
    "%sql\n",
    "CREATE TABLE Schauspieler (\n",
    "Name CHAR(30),\n",
    "Adresse VARCHAR(255),\n",
    "Geschlecht CHAR(1) DEFAULT ‚?‘,\n",
    "Geburtstag DATE DEFAULT DATE ‚0000-00-00‘);\n",
    "\n",
    "ALTER TABLE Schauspieler\n",
    "ADD Telefon CHAR(16) DEFAULT ‚unbekannt‘;"
   ]
  },
  {
   "cell_type": "markdown",
   "metadata": {},
   "source": [
    "### Constraints und Trigger\n",
    " Weitere Optionen für Tabellen\n",
    " <br>\n",
    "□ PRIMARY KEY\n",
    " <br>\n",
    "□ UNIQUE\n",
    " <br>\n",
    "□ FOREIGN KEY … REFERENCES …\n",
    " <br>\n",
    "□ NOT NULL\n",
    " <br>\n",
    "□ CHECK\n",
    " <br>\n",
    "□ CREATE ASSERTION\n",
    " <br>\n",
    "□ CREATE TRIGGER\n",
    " <br>\n",
    "■ Siehe separater Foliensatz\n",
    "\n",
    "### Indizes\n",
    "■ Ein Index auf einem Attribut ist eine Datenstruktur, die es dem DBMS erleichtert, Tupel mit einem bekannten Wert des Attributs zu finden.\n",
    "<br>\n",
    "□ Nicht SQL-Standard, aber in (fast) jedem DBMS verfügbar.\n",
    "<br><br>\n",
    "■ Motivation"
   ]
  },
  {
   "cell_type": "code",
   "execution_count": null,
   "metadata": {},
   "outputs": [],
   "source": [
    "%sql\n",
    "SELECT *\n",
    "FROM Film\n",
    "WHERE StudioName = ‘Disney‘ AND Jahr = ‘1990‘;"
   ]
  },
  {
   "cell_type": "markdown",
   "metadata": {},
   "source": [
    "□ Variante 1: Alle 100.000 Tupel durchsuchen und WHERE Bedingung prüfen\n",
    "<br>\n",
    "□ Variante 2: Direkt alle 2000 Filme aus 1990 betrachten und auf ‚Disney‘ prüfen.\n",
    "<br>\n",
    "– CREATE INDEX JahrIndex ON Film(Jahr);\n",
    "<br>\n",
    "□ Variante 3: Direkt alle 100 Filme aus 1990 von ‘Disney‘ holen."
   ]
  },
  {
   "cell_type": "code",
   "execution_count": null,
   "metadata": {},
   "outputs": [],
   "source": [
    "%sql\n",
    "CREATE INDEX JahrStudioIndex\n",
    "ON Film(Jahr, Studioname);"
   ]
  },
  {
   "cell_type": "markdown",
   "metadata": {},
   "source": [
    "■ Indizes auf einzelnen Attributen\n",
    "<br>\n",
    "□ CREATE INDEX JahrIndex ON Film(Jahr);\n",
    "<br><br>\n",
    "■ Indizes auf mehreren Attributen"
   ]
  },
  {
   "cell_type": "code",
   "execution_count": null,
   "metadata": {},
   "outputs": [],
   "source": [
    "%sql\n",
    "CREATE INDEX JahrStudioIndex\n",
    "ON Film(Jahr, Studioname);"
   ]
  },
  {
   "cell_type": "markdown",
   "metadata": {},
   "source": [
    "□ Reihenfolge wichtig! Warum?\n",
    "<br><br>\n",
    "■ Löschen\n",
    "<br>\n",
    "□ DROP INDEX JahrIndex;\n",
    "\n",
    "#### Indexwahl\n",
    "■ Abwägung\n",
    "<br>\n",
    "□ Index beschleunigt Punkt- (und Bereichs-) Anfragen und Join-Anfragen erheblich.\n",
    "<br>\n",
    "□ Index verlangsamt das Einfügen, Löschen und Verändern von Tupeln der Relation.\n",
    "<br>\n",
    "– Index muss jeweils zusätzlich aktualisiert werden.\n",
    "<br>\n",
    "□ Indizes benötigen Speicherplatz.\n",
    "<br><br>\n",
    "■ Wahl der besten Indizes ist eine der schwierigsten Aufgaben des Datenbankdesigns.\n",
    "<br>\n",
    "□ Vorhersage der query workload und update-Frequenz\n",
    "<br>\n",
    "□ Wahl der Attribute\n",
    "<br>\n",
    "– Häufiger Vergleich mit Konstanten\n",
    "<br>\n",
    "– Häufiges Joinattribut\n",
    "\n",
    "#### Indexwahl – Vorüberlegungen\n",
    "■ Relationen sind typischerweise über mehrere Diskblöcke gespeichert.\n",
    "<br>\n",
    "□ Wichtigste Datenbankkosten sind die Anzahl der Diskblöcke, die in den Hauptspeicher gelesen werden müssen.\n",
    "<br>\n",
    "□ Bei Punktanfragen mit Index müssen statt aller Blöcke nur ein Block gelesen werden.\n",
    "<br>\n",
    "□ Aber Index selbst muss ebenfalls gespeichert und gelesen werden.\n",
    "<br>\n",
    "– IdR viel mehr Tupel pro Block repräsentiert: Nur Schlüsselwert und Speicheradresse, keine Daten\n",
    "<br>\n",
    "□ Updates kosten sogar doppelt: Lesen und Schreiben auch der Index-Blöcke\n",
    "\n",
    "#### Indexwahl – Beispiel\n",
    "■ spielt_in(FilmTitel, FilmJahr, Schauspieler)\n",
    "<br><br>\n",
    "■ Drei typische Anfragen"
   ]
  },
  {
   "cell_type": "code",
   "execution_count": null,
   "metadata": {},
   "outputs": [],
   "source": [
    "%sql\n",
    "SELECT FilmTitel, FilmJahr FROM spielt_in\n",
    "WHERE Schauspieler = s;"
   ]
  },
  {
   "cell_type": "code",
   "execution_count": null,
   "metadata": {},
   "outputs": [],
   "source": [
    "%sql\n",
    "SELECT Schauspieler FROM spielt_in\n",
    "WHERE FilmTitel = t AND FilmJahr = j;\n",
    "INSERT INTO spielt_in VALUES(t, j, s);"
   ]
  },
  {
   "cell_type": "markdown",
   "metadata": {},
   "source": [
    "■ Annahmen\n",
    "<br>\n",
    "□ spielt_in ist auf 10 Disk-Blöcke verteilt.\n",
    "<br>\n",
    "□ Durchschnittlich habe jeder Film 3 Schauspieler.\n",
    "<br>\n",
    "□ Durchschnittlich spiele jeder Schauspieler in 3 Filmen.\n",
    "<br>\n",
    "□ Annahme des Schlimmsten: 3 Tupel sind auf 3 Blöcke verteilt\n",
    "<br>\n",
    "□ Index ist auf 1 Block gespeichert.\n",
    "<br>\n",
    "□ Lesen und Schreiben kostet 1.\n",
    "<br>\n",
    "□ Update und Insert kosten jeweils 2.\n",
    "\n",
    "#### Indexwahl – Beispiel\n",
    "\n",
    "|Anfrage|Kein Index|SchauspielerIndex|FilmIndex|Beide Indizes|\n",
    "|---|---|---|---|---|\n",
    "|**Schauspieler = s**|10|4|10|4|\n",
    "|**FilmTitel = t AND FilmJahr = j**|10|10|4|4|\n",
    "|**INSERT INTO spielt_in**|2|4|4|6|\n",
    "|**Gesamtkosten**|2+8$p_1$8$p_2$|4+6$p_2$|4+6$p_1$|6-2$p_1$-2$p_2$|\n",
    "\n",
    "\n",
    "■ p1: Anteil Anfrage 1\n",
    "<br>\n",
    "■ p2: Anteil Anfrage 2\n",
    "<br>\n",
    "■ 1‒p1‒p2: Anteil Anfrage 3\n",
    "<br>\n",
    "\n",
    "\n",
    "### Verteilung in IMDB (Real-world Daten, Stand ca. 2010)\n",
    "![title](imdb.jpg)"
   ]
  },
  {
   "cell_type": "code",
   "execution_count": null,
   "metadata": {},
   "outputs": [],
   "source": [
    "%sql\n",
    "WITH\n",
    "m AS (SELECT count(*) AS ZahlMovies FROM imdb.movie),\n",
    "actress AS (SELECT count(*) AS ZahlActress FROM imdb.actress),\n",
    "actor AS (SELECT count(*) AS ZahlActor FROM imdb.actor),\n",
    "actors AS (SELECT (ZahlActress + ZahlActor) AS GesamtActors\n",
    "FROM actress, actor)\n",
    "SELECT DOUBLE(actors.GesamtActors) / DOUBLE(m.ZahlMovies)\n",
    "FROM m, actors"
   ]
  },
  {
   "cell_type": "markdown",
   "metadata": {},
   "source": [
    "Schauspieler*in pro Spielfilm: 8,7"
   ]
  },
  {
   "cell_type": "code",
   "execution_count": null,
   "metadata": {},
   "outputs": [],
   "source": [
    "%sql\n",
    "WITH\n",
    "actors AS (SELECT * FROM imdb.actor UNION\n",
    "SELECT * FROM imdb.actress),\n",
    "counts AS (SELECT name, count(movie_id) AS m\n",
    "FROM actors GROUP BY name)\n",
    "SELECT AVG(DOUBLE(m)) FROM counts"
   ]
  },
  {
   "cell_type": "markdown",
   "metadata": {},
   "source": [
    "Spielfilme pro Schauspieler: 4,2"
   ]
  },
  {
   "cell_type": "markdown",
   "metadata": {},
   "source": [
    "## Sichten\n",
    "### Virtuelle Relationen\n",
    "\n",
    "■ Relationen aus CREATE TABLE Ausdrücken existieren tatsächlich (materialisiert, physisch) in der Datenbank.\n",
    "<br>\n",
    "□ Persistenz\n",
    "<br>\n",
    "□ Updates sind möglich\n",
    "<br><br>\n",
    "■ Die Daten aus Sichten (views) existieren nur virtuell.\n",
    "<br>\n",
    "□ Sichten entsprechen Anfragen, denen man einen Namen gibt. Sie wirken wie physische Relationen.\n",
    "<br>\n",
    "□ Updates sind nur manchmal möglich.\n",
    "<br>\n",
    "<br>\n",
    "![title](stonebraker1.jpg)\n",
    "<br>\n",
    "![title](stonebraker2.jpg)\n",
    "<br>\n",
    "Michael Stonebraker: Implementation of Integrity Constraints and Views by Query Modification. SIGMOD Conference 1975: 65-78\n",
    "\n",
    "### Sichten in SQL\n",
    "■ CREATE VIEW Name AS Anfrage"
   ]
  },
  {
   "cell_type": "code",
   "execution_count": null,
   "metadata": {},
   "outputs": [],
   "source": [
    "%sql\n",
    "CREATE VIEW ParamountFilme AS\n",
    "SELECT Titel, Jahr\n",
    "FROM Film\n",
    "WHERE StudioName = ‘Paramount‘;"
   ]
  },
  {
   "cell_type": "markdown",
   "metadata": {},
   "source": [
    "□ Auch mehr als eine Relation möglich!\n",
    "<br><br>\n",
    "■ Bedeutung einer Anfrage an die Sicht\n",
    "<br>\n",
    "1. Ausführung der Anfrage aus der Sichdefinition\n",
    "<br>\n",
    "2. Die ursprüngliche Anfrage verwendet dann das Ergebnis als Relation.\n",
    "<br><br>\n",
    "■ Daten der Sicht ändern sich mit der Änderung der zugrundeliegenden Relationen.\n",
    "<br>\n",
    "■ Entfernen der Sicht: DROP VIEW ParamountFilme\n",
    "<br>\n",
    "□ Basisdaten bleiben unverändert.\n",
    "\n",
    "### Anfragen an Sichten"
   ]
  },
  {
   "cell_type": "code",
   "execution_count": null,
   "metadata": {},
   "outputs": [],
   "source": [
    "%sql\n",
    "CREATE VIEW ParamountFilme AS\n",
    "SELECT Titel, Jahr\n",
    "FROM Film\n",
    "WHERE StudioName = ‘Paramount‘;"
   ]
  },
  {
   "cell_type": "code",
   "execution_count": null,
   "metadata": {},
   "outputs": [],
   "source": [
    "%sql\n",
    "SELECT Titel\n",
    "FROM ParamountFilme\n",
    "WHERE Jahr = 1979;"
   ]
  },
  {
   "cell_type": "markdown",
   "metadata": {},
   "source": [
    "■ Umwandlung der ursprünglichen Anfrage in eine Anfrage an Basisrelationen"
   ]
  },
  {
   "cell_type": "code",
   "execution_count": null,
   "metadata": {},
   "outputs": [],
   "source": [
    "%sql\n",
    "SELECT Titel\n",
    "FROM Film\n",
    "WHERE StudioName = ‘Paramount‘ AND Jahr = 1979;"
   ]
  },
  {
   "cell_type": "markdown",
   "metadata": {},
   "source": [
    "□ Übersetzung durch DBMS\n",
    "<br>\n",
    "■ Anfrage zugleich an Sichten und Basisrelationen möglich"
   ]
  },
  {
   "cell_type": "code",
   "execution_count": null,
   "metadata": {},
   "outputs": [],
   "source": [
    "%sql\n",
    "SELECT DISTINCT SchauspielerIn\n",
    "FROM ParamountFilme, spielt_in\n",
    "WHERE Titel = FilmTitel AND Jahr = FilmJahr;"
   ]
  },
  {
   "cell_type": "markdown",
   "metadata": {},
   "source": [
    "■ Film(Titel, Jahr, Länge, inFarbe, StudioName, ProduzentinID)\n",
    "■ Manager(Name, Adresse, ManagerinID, Gehalt)"
   ]
  },
  {
   "cell_type": "code",
   "execution_count": null,
   "metadata": {},
   "outputs": [],
   "source": [
    "%sql\n",
    "CREATE VIEW FilmeProduzenten AS\n",
    "    SELECT Titel, Name\n",
    "    FROM Film, Manager\n",
    "    WHERE ProduzentinID = ManagerinID;"
   ]
  },
  {
   "cell_type": "markdown",
   "metadata": {},
   "source": [
    "■ Anfrage"
   ]
  },
  {
   "cell_type": "code",
   "execution_count": null,
   "metadata": {},
   "outputs": [],
   "source": [
    "%sql\n",
    "SELECT Name\n",
    "FROM FilmeProduzenten\n",
    "WHERE Titel = ‘Gone with the Wind‘"
   ]
  },
  {
   "cell_type": "markdown",
   "metadata": {},
   "source": [
    "■ Bedeutung"
   ]
  },
  {
   "cell_type": "code",
   "execution_count": null,
   "metadata": {},
   "outputs": [],
   "source": [
    "%sql\n",
    "SELECT Name\n",
    "FROM Film, Manager\n",
    "WHERE ProduzentinID = ManagerinID\n",
    "AND Titel = ‘Gone with the Wind‘;"
   ]
  },
  {
   "cell_type": "markdown",
   "metadata": {},
   "source": [
    "■ Nebenbei: Umbenennung von Attributen"
   ]
  },
  {
   "cell_type": "code",
   "execution_count": null,
   "metadata": {},
   "outputs": [],
   "source": [
    "%sql\n",
    "CREATE VIEW FilmeProduzenten(FilmTitel, Produzentenname) AS\n",
    "SELECT Titel, Name\n",
    "FROM Film, ManagerIn\n",
    "WHERE ProduzentinID = ManagerinID;"
   ]
  },
  {
   "cell_type": "markdown",
   "metadata": {},
   "source": [
    "■ Oder auch: Sicht einfach nur zur Umbenennung"
   ]
  },
  {
   "cell_type": "code",
   "execution_count": null,
   "metadata": {},
   "outputs": [],
   "source": [
    "%sql\n",
    "CREATE VIEW Movie(title, year, length, inColor, studio, producerID) AS\n",
    "SELECT *\n",
    "FROM Film;"
   ]
  },
  {
   "cell_type": "markdown",
   "metadata": {},
   "source": [
    "### Diskussion\n",
    "■ Vorteile\n",
    "<br>\n",
    "□ Vereinfachung von Anfragen\n",
    "<br>\n",
    "□ Strukturierung der Datenbank\n",
    "<br>\n",
    "□ Logische Datenunabhängigkeit\n",
    "<br>\n",
    "– Sichten stabil bei Änderungen der Datenbankstruktur\n",
    "<br>\n",
    "– Sichtdefinitionen müssen gegebenenfalls angepasst werden\n",
    "<br>\n",
    "– Stabilität nicht bei jeder Änderung\n",
    "<br>\n",
    "□ Beschränkung von Zugriffen (Datenschutz)\n",
    "<br>\n",
    "□ Optimierung durch materialisierte Sichten\n",
    "<br><br>\n",
    "■ Probleme\n",
    "<br>\n",
    "□ Automatische Anfragetransformation schwierig\n",
    "<br>\n",
    "□ Änderungen auf Sichten\n",
    "<br>\n",
    "□ Updatepropagierung für materialisierte Sichten\n",
    "\n",
    "### Updates auf Sichten\n",
    "■ In einigen Fällen ist es möglich, Einfüge-, Lösch- oder Updateoperationen auf Sichten durchzuführen.\n",
    "<br>\n",
    "□ Wo speichern?\n",
    "<br>\n",
    "□ Welche Relation?\n",
    "<br>\n",
    "□ Zuordnung der Änderung zur Sicht?\n",
    "<br><br>\n",
    "■ Übersetzung der Update-Operation auf eine Update-Operation der zugrunde liegenden Basisrelationen\n",
    "<br>\n",
    "□ Nur bei einer Relation\n",
    "<br>\n",
    "– Keine Subanfragen mit Selbstbezug\n",
    "<br>\n",
    "□ Nur bei normalem SELECT\n",
    "<br>\n",
    "– Kein DISTINCT\n",
    "<br>\n",
    "□ Nur falls genug Attribute verwendet werden, so dass alle anderen Attribute mit NULL oder dem Default-Wert gefüllt werden können.\n",
    "\n",
    "### Einfügen auf Sichten – Beispiel\n",
    "■ Filme(Titel, Jahr, Länge, inFarbe, StudioName, ProduzentinID)"
   ]
  },
  {
   "cell_type": "code",
   "execution_count": null,
   "metadata": {},
   "outputs": [],
   "source": [
    "%sql\n",
    "CREATE VIEW ParamountFilme AS\n",
    "    SELECT Titel, Jahr\n",
    "    FROM Filme\n",
    "    WHERE StudioName = ‚Paramount‘;"
   ]
  },
  {
   "cell_type": "code",
   "execution_count": null,
   "metadata": {},
   "outputs": [],
   "source": [
    "%sql\n",
    "INSERT INTO ParamountFilme\n",
    "VALUES (‚Star Trek‘, 1979);"
   ]
  },
  {
   "cell_type": "markdown",
   "metadata": {},
   "source": [
    "□ Wert für Studioname?\n",
    "□ Einfügen also nicht erlaubt."
   ]
  },
  {
   "cell_type": "code",
   "execution_count": null,
   "metadata": {},
   "outputs": [],
   "source": [
    "%sql\n",
    "CREATE VIEW ParamountFilme AS\n",
    "    SELECT Titel, Jahr, StudioName\n",
    "    FROM Filme\n",
    "    WHERE StudioName = ‚Paramount‘;"
   ]
  },
  {
   "cell_type": "code",
   "execution_count": null,
   "metadata": {},
   "outputs": [],
   "source": [
    "%sql\n",
    "INSERT INTO ParamountFilme\n",
    "VALUES (‚Star Trek‘, 1979, ‚Paramount‘);"
   ]
  },
  {
   "cell_type": "markdown",
   "metadata": {},
   "source": [
    "Dies muss Paramount sein. Ein anderes Studio entspricht nicht der View.\n",
    "<br><br>\n",
    "■ Neues Tupel (‚Star Trek‘, 1979, 0, NULL, ‚Paramount‘, NULL)\n",
    "\n",
    "### Löschen und Updates auf Sichten\n",
    "■ Löschen"
   ]
  },
  {
   "cell_type": "code",
   "execution_count": null,
   "metadata": {},
   "outputs": [],
   "source": [
    "%sql\n",
    "DELETE FROM ParamountFilme\n",
    "WHERE Titel LIKE ‚%Trek%‘;"
   ]
  },
  {
   "cell_type": "markdown",
   "metadata": {},
   "source": [
    "■ Wird umgeschrieben zu"
   ]
  },
  {
   "cell_type": "code",
   "execution_count": null,
   "metadata": {},
   "outputs": [],
   "source": [
    "%sql\n",
    "DELETE FROM Filme\n",
    "WHERE Titel LIKE ‚%Trek%‘ AND StudioName = ‚Paramount‘;"
   ]
  },
  {
   "cell_type": "markdown",
   "metadata": {},
   "source": [
    "■ Update"
   ]
  },
  {
   "cell_type": "code",
   "execution_count": null,
   "metadata": {},
   "outputs": [],
   "source": [
    "%sql\n",
    "UPDATE ParamountFilme\n",
    "SET Jahr = 1979\n",
    "WHERE Titel = ‚Star Trek the Movie‘;"
   ]
  },
  {
   "cell_type": "markdown",
   "metadata": {},
   "source": [
    "■ Wird zu"
   ]
  },
  {
   "cell_type": "code",
   "execution_count": null,
   "metadata": {},
   "outputs": [],
   "source": [
    "%sql\n",
    "UPDATE Filme\n",
    "SET Jahr = 1979\n",
    "WHERE Titel = ‚Star Trek the Movie‘ AND StudioName = ‚Paramount‘;"
   ]
  },
  {
   "cell_type": "markdown",
   "metadata": {},
   "source": [
    "### Tupelmigration\n",
    "■ Manager(Name, Adresse, ManagerinID, Gehalt)"
   ]
  },
  {
   "cell_type": "code",
   "execution_count": null,
   "metadata": {},
   "outputs": [],
   "source": [
    "%sql\n",
    "CREATE VIEW Reiche AS\n",
    "    SELECT Name, Gehalt, ManagerinID\n",
    "    FROM ManagerIn\n",
    "    WHERE Gehalt > 2000000;"
   ]
  },
  {
   "cell_type": "markdown",
   "metadata": {},
   "source": [
    "■ Tupelmigration:\n",
    "<br>\n",
    "□ Ein Tupel (‚Eisner\\`, ‚Hollywood‘, 25, 3000000) wird aus der Sicht „herausbewegt“."
   ]
  },
  {
   "cell_type": "code",
   "execution_count": null,
   "metadata": {},
   "outputs": [],
   "source": [
    "%sql\n",
    "UPDATE Reiche SET Gehalt = 1500000\n",
    "WHERE ManagerinID = 25;"
   ]
  },
  {
   "cell_type": "markdown",
   "metadata": {},
   "source": [
    "■ Vorsicht bei der Implementierung, oder explizite Verhinderung:"
   ]
  },
  {
   "cell_type": "code",
   "execution_count": null,
   "metadata": {},
   "outputs": [],
   "source": [
    "%sql\n",
    "CREATE VIEW Reiche AS\n",
    "SELECT Name, Gehalt\n",
    "FROM ManagerIn\n",
    "WHERE Gehalt > 2000000\n",
    "WITH CHECK OPTION;"
   ]
  },
  {
   "cell_type": "markdown",
   "metadata": {},
   "source": [
    "□ Verhindert Tupelmigration durch Ablehnung problematischer Updates.\n",
    "\n",
    "### Anfrageplanung mit Sichten\n",
    "■ Baumdarstellung von Anfragen\n",
    "<br>\n",
    "□ Blätter repräsentieren Relationen\n",
    "<br>\n",
    "– Basisrelationen\n",
    "<br>\n",
    "– Sichten\n",
    "<br>\n",
    "□ Ersetzung der Sichten durch die Sichtdefinition\n",
    "<br>\n",
    "– Als Subanfrage\n",
    "<br>\n",
    "![title](anfrageplanung1.jpg)\n",
    "<br><br>\n",
    "■ Sicht"
   ]
  },
  {
   "cell_type": "code",
   "execution_count": null,
   "metadata": {},
   "outputs": [],
   "source": [
    "%sql\n",
    "CREATE VIEW ParamountFilme AS\n",
    "SELECT Titel, Jahr\n",
    "FROM Filme\n",
    "WHERE StudioName = ‚Paramount‘;"
   ]
  },
  {
   "cell_type": "markdown",
   "metadata": {},
   "source": [
    "■ Anfrage"
   ]
  },
  {
   "cell_type": "code",
   "execution_count": null,
   "metadata": {},
   "outputs": [],
   "source": [
    "%sql\n",
    "SELECT Titel\n",
    "FROM ParamountFilme\n",
    "WHERE Jahr = 1979;"
   ]
  },
  {
   "cell_type": "markdown",
   "metadata": {},
   "source": [
    "![title](anfrageplanung2.jpg)\n",
    "<br>\n",
    "![title](anfrageplanung3.jpg)\n",
    "<br>\n",
    "![title](anfrageplanung4.jpg)\n",
    "\n",
    "### Materialisierte Sichten\n",
    "■ Viele Anfragen an eine Datenbank wiederholen sich häufig\n",
    "<br>\n",
    "□ Business Reports, Bilanzen, Umsätze\n",
    "<br>\n",
    "□ Bestellungsplanung, Produktionsplanung\n",
    "<br>\n",
    "□ Kennzahlenberechnung\n",
    "<br><br>\n",
    "■ Viele Anfragen sind Variationen mit gemeinsamem Kern\n",
    "<br><br>\n",
    "■ Idee: Einmaliges Berechnen der Anfrage als Sicht\n",
    "<br>\n",
    "□ Automatische, transparente Verwendung in folgenden Anfragen\n",
    "<br>\n",
    "□ Materialisierte Sicht (materialized view, MV)\n",
    "<br>\n",
    "Drei Folien nach Prof. Ulf Leser, HU Berlin\n",
    "\n",
    "#### MV – Themen und Probleme\n",
    "■ Wahl von Views zur Materialisierung\n",
    "<br>\n",
    "□ MVs kosten: Platz und Aktualisierungsaufwand\n",
    "<br>\n",
    "□ Wahl der optimalen MVs hängt von Workload ab\n",
    "<br>\n",
    "□ Auswahl der „optimalen“ Menge von MVs\n",
    "<br><br>\n",
    "■ Automatische Aktualisierung von MVs\n",
    "<br>\n",
    "□ Aktualisierung bei Änderungen der Basisrelationen\n",
    "<br>\n",
    "□ U.U. schwierig: Aggregate, Joins, Outer-Joins, ...\n",
    "<br>\n",
    "□ Algorithmen zur inkrementellen Aktualisierung\n",
    "<br><br>\n",
    "■ Automatische Verwendung von MV\n",
    "<br>\n",
    "□ „Answering Queries using Views“\n",
    "<br>\n",
    "□ Umschreiben der Anfrage notwendig\n",
    "<br>\n",
    "□ Schwierigkeit hängt von Komplexität der Anfrage / Views ab\n",
    "<br>\n",
    "□ Algorithmen zur transparenten und kostenoptimalen Verwendung der materialisierten Sichten\n",
    "\n",
    "### „Answering Queries using Views“\n",
    "■ Gegeben\n",
    "<br>\n",
    "□ Eine Anfrage Q\n",
    "<br>\n",
    "□ Eine Menge V (materialisierten) von Sichten\n",
    "<br><br>\n",
    "■ Fragen\n",
    "<br>\n",
    "□ Kann man Q überhaupt unter Verwendung von V beantworten?\n",
    "<br>\n",
    "□ Kann man Q nur mit V beantworten?\n",
    "<br>\n",
    "□ Kann man Q mit V vollständig beantworten?\n",
    "<br>\n",
    "□ Ist es günstig, Sichten aus V zur Beantwortung von Q zu verwenden? Welche?\n",
    "\n",
    "## Zusammenfassung\n",
    "Die Anfragesprache SQL\n",
    "<br>\n",
    "Der SFW Block\n",
    "<br>\n",
    "Subanfragen\n",
    "<br>\n",
    "In FROM und WHERE\n",
    "<br>\n",
    "EXISTS, IN, ALL, ANY\n",
    "<br>\n",
    "Mengenoperationen\n",
    "<br>\n",
    "UNION, INTERSECT, EXCEPT\n",
    "<br>\n",
    "Joins und Outerjoins\n",
    "<br>\n",
    "Nullwerte\n",
    "<br>\n",
    "Mengen vs. Multimengen\n",
    "<br>\n",
    "DISTINCT, ALL\n",
    "<br>\n",
    "Gruppierung und Aggregation\n",
    "<br>\n",
    "MIN, MAX, COUNT\n",
    "<br>\n",
    "GROUP BY, HAVING\n",
    "<br>\n",
    "Datenbankveränderungen\n",
    "<br>\n",
    "INSERT, UPDATE, DELETE\n",
    "<br>\n",
    "Schemata und Datentypen\n",
    "<br>\n",
    "CREATE TABLE\n",
    "<br>\n",
    "ALTER TABLE\n",
    "<br>\n",
    "Indizes\n",
    "<br>\n",
    "Sichten\n",
    "<br>\n",
    "Anfragen (und updates)\n",
    "<br>\n",
    "Materialisierte Sichten"
   ]
  }
 ],
 "metadata": {
  "celltoolbar": "Edit Metadata",
  "kernelspec": {
   "display_name": "Python 3 (ipykernel)",
   "language": "python",
   "name": "python3"
  },
  "language_info": {
   "codemirror_mode": {
    "name": "ipython",
    "version": 3
   },
   "file_extension": ".py",
   "mimetype": "text/x-python",
   "name": "python",
   "nbconvert_exporter": "python",
   "pygments_lexer": "ipython3",
   "version": "3.9.12"
  }
 },
 "nbformat": 4,
 "nbformat_minor": 2
}
