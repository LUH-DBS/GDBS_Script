{
 "cells": [
  {
   "cell_type": "markdown",
   "metadata": {},
   "source": [
    "# ER-Modellierung\n",
    "\n",
    "Beim konzeptionellen Entwurf möchten wir aus einer informellen Beschreibung einer Datenbank eine formelle Beschreibung erstellen in der Mehrdeutigkeiten und jegliche Namen- und Typkonflikte behoben sowie Einschränkungen und Bedingungen sinnvoll ausgedrückt werden können. \n",
    "\n",
    "Eine Modellierungssprache für eine solche Modellierung ist das Entity-Relationship-Modell (ER-Modell). \n"
   ]
  },
  {
   "cell_type": "markdown",
   "metadata": {},
   "source": [
    "## Einführung: Das Entity-Relationship-Modell\n",
    "\n",
    "Die ER-Modellerung wurde 1976 von Peter Chen vorgestellt und wird seitdem als das Standardmodell für die frühe Entwurfsphase des Datenbankentwurfes verwendet."
   ]
  },
  {
   "cell_type": "markdown",
   "metadata": {},
   "source": [
    "Original Publikation von 1976         |  Peter Chen\n",
    ":-------------------------:|:-------------------------:\n",
    "<img src=\"peter_chen_paper.jpg\" width=\"400\" /> | <img src=\"peter_chen.jpg\" width=\"400\" />\n",
    "\n"
   ]
  },
  {
   "cell_type": "markdown",
   "metadata": {},
   "source": [
    "Das Ergebnis einer ER-Modellierung sind ER-Diagramme, die Datenbanken beschreiben, die eine Instanz haben werden. Wir werden jetzt die zentralen Komponenten dieser Modellierungssprache und die Möglichkeiten damit Datenbedingungen und -beziehungen auszudrücken kennen lernen. "
   ]
  },
  {
   "cell_type": "markdown",
   "metadata": {},
   "source": [
    "## Begriffe"
   ]
  },
  {
   "cell_type": "markdown",
   "metadata": {},
   "source": [
    "### Komponenten\n",
    "Die zentralen Komponenten der ER-Modellierung sind Entities, Entitytypen Relationships und Relationshiptypen.\n",
    "\n",
    "\n",
    "\n",
    "\n",
    "**Entity:** Ein Ding / Objekt der realen oder der Vorstellungswelt\n",
    "\n",
    "**Relationship:** Beschreibt Beziehungen zwischen zwei („konkreten“) Entities\n",
    "- Entities und Relationships sind nicht direkt darstellbar und werden nicht explizit im Diagram sichtbar, sondern nur über Eigenschaften ihrer Klassen beobachtbar\n",
    "\n",
    "**Entitytyp (entity set):** Eine Klasse für gleichartige Objekte\n",
    "\n",
    "**Relationshiptyp:** Eine Klasse für gleichartige Beziehungen\n",
    "\n",
    "Komponente| Darstellung| Visuel|\n",
    "----------|------------|--------|\n",
    "Entitytyp |Rechteck|<img src=\"rechteck.jpg\" />|\n",
    "Relationshiptyp |Raute|<img src=\"raute.jpg\" />|\n",
    "Attribut | Oval | <img src=\"oval.jpg\" />|\n",
    "\n",
    "**Attribut:** repräsentiert eine Eigenschaft von Entities oder von Relationships\n",
    "- Es gibt Attribute die nur aus primitiven Datenwerten (String, Integer, …) und Operationen darauf bestehen und auch komplexere zusammengesetzte Attribute, die wir in dieser Vorlesung jedoch nicht detailliert behandeln werden. Komplexe Attribute werden dem Erweiterten ER-Modell zugeordnet. \n",
    "\n",
    "Attribute an Entitytypen: \n",
    "<img src=\"entitytypattribut.jpg\" />\n",
    "\n",
    "Attribute an Relationshiptypen:\n",
    "<img src=\"relationshiptypattribut.jpg\" />"
   ]
  },
  {
   "cell_type": "markdown",
   "metadata": {},
   "source": [
    "**Beispiel:** Im folgenden Diagram wollen wir Informationen über Filme, Schauspieler*innen und Studios modellieren. \n",
    "- Ein Film enthält daten über Titel, Jahr, Länge und Typ. \n",
    "    - Dargestellt über einen Entitytypen und vier Attribute\n",
    "- Über Schauspieler*innen sollen Name und Adresse gespeichert werden\n",
    "    - Dargestellt über einen Entitytypen und zwei Attribute\n",
    "- Über Studios sollen Name und Adressen gespeichert werden.\n",
    "    - Dargestellt über einen Entitytypen und zwei Attribute\n",
    "- Es soll abgebildet werden dass Schauspieler*innen in Filmen mitspielen.\n",
    "    - Dargestellt über einen Relatioshiptypen der Filme und Schauspieler*innen verbindet\n",
    "- Es soll dargestellt werden, dass Studios die Rechte an Filmen besitzen. Insbesondere soll ein Film genau einem Studio gehören. \n",
    "    - Dargestellt über einen Relatioshiptypen der Filme und Studios verbindet. Den letzten Punkt über \"genau einem Studio\" werden wir später im Kontext von Kardinalitäten genauer betrachten. \n",
    "\n",
    "<img src=\"er_diagramm_bsp.jpg\" width =700 />"
   ]
  },
  {
   "cell_type": "markdown",
   "metadata": {},
   "source": [
    "### Instanz eines ER-Diagramms"
   ]
  },
  {
   "cell_type": "markdown",
   "metadata": {},
   "source": [
    "Wie bereits gesagt beschreiben ER-Diagramme Datenbanken, die eine Instanz haben (werden).\n",
    "Dabei gilt, dass der „Wert“ eines Entitytypen die (endliche) Menge der zugehörigen Entities ist. Jeder Entity hat bestimmte Werte für seine Attribute, z.B., Baisc Instinct = {Titel=Basic Instinct, Jahr = 1992, Länge = 127, Typ = Farbe}. Die Instanz eines n-ären Relationshiptypen ist eine Menge von n-Tupel, z.B spielt_in_instanz_1= (Basic Instinct, Sharon Stone).\n",
    "Dies alles ist an dieser Stelle nur abstrakte Denkhilfe. Die Modellierung im relationalen Modell wird sich nochmal unterscheiden, sodass sich die Abspeicherung durch ein DBMS auch unterscheiden wird. \n",
    "\n",
    "**Beispiel:** Die Folgenden Tabellen stellen die Instanzen eines Teiles unseres Modells in der finalen Datenbank im **relationalen Modell** (als Tabellen) dar. \n",
    "\n",
    "\n",
    "<table>\n",
    "<tr><th>Filme</th><th></th><th>Schauspieler*in</th><th></th><th>spielt_in</th></tr>\n",
    "<tr><td>\n",
    "\n",
    "\n",
    "|Titel|Jahr |Länge|Typ|\n",
    "|------|----|------|----|\n",
    "|Basic Instinct |1992|127|Farbe|\n",
    "|Schindler's List |1993|187| S/W|\n",
    "|Django Unchained| 2012|165| Farbe|\n",
    "\n",
    "</td><td>\n",
    "</td><td> \n",
    "\n",
    "|Name|Adresse|\n",
    "|----|-------|\n",
    "|Sharon Stone|Hollywood|\n",
    "|Johnny Depp |Paris|\n",
    "|Jaimie Foxx| Hidden Valley|\n",
    "    \n",
    "</td><td> \n",
    "</td><td> \n",
    "    \n",
    "|Name|Titel|\n",
    "|----|-------|\n",
    "|Sharon Stone|Baisc Instinct|\n",
    "|Johnny Depp |Dead Men|\n",
    "|Jaimie Foxx| Django Unchained|\n",
    "    \n",
    "</td></tr> </table>"
   ]
  },
  {
   "cell_type": "markdown",
   "metadata": {},
   "source": [
    "## Kardinalitäten von Relationships"
   ]
  },
  {
   "cell_type": "markdown",
   "metadata": {},
   "source": [
    "Allgemein: Eine binäre Relationship kann beliebig viele Entities des einen Typen mit beliebig vielen des anderen Typen verbinden.\n",
    "<br>\n",
    "Ein Schauspieler kann in mehreren Filmen spielen.\n",
    "<br>\n",
    "In einem Film spielen mehrere Schauspieler.\n",
    "<br>\n",
    "„Kann“: D.h. nicht jeder Entity muss mit einem anderen verbunden sein.\n",
    "<br>\n",
    "In einem Animationsfilm spielen keine Schauspieler.\n",
    "<br>\n",
    "m:n Beziehung\n",
    "<br>\n",
    "Einschränkungen („Spezialfälle“)\n",
    "<br>\n",
    "1:n Beziehung\n",
    "<br>\n",
    "1:1 Beziehung"
   ]
  },
  {
   "cell_type": "markdown",
   "metadata": {},
   "source": [
    "![title](mn_kardinalitaet.jpg)"
   ]
  },
  {
   "cell_type": "markdown",
   "metadata": {},
   "source": [
    "### 1:n Relationships"
   ]
  },
  {
   "cell_type": "markdown",
   "metadata": {},
   "source": [
    "Ein Entity vom Typ E kann mit beliebig vielen Entities des Typs F verbunden sein.\n",
    "<br>\n",
    "Ein Entity vom Typ F kann mit höchstens einem Entity des Typs E verbunden sein.\n",
    "<br>\n",
    "Beispiel\n",
    "<br>\n",
    "Ein Studio kann die Rechte an mehreren Filmen besitzen.\n",
    "<br>\n",
    "Ein Film kann nur von einem Studio besessen werden.\n",
    "<br>\n",
    "„Kann“: D.h. nicht jeder Entity muss mit einem anderen verbunden sein.\n",
    "<br>\n",
    "Ein neues Studio besitzt noch keinen Film.\n",
    "<br>\n",
    "Darstellung mittels eines Pfeils zur „1er“ Seite."
   ]
  },
  {
   "cell_type": "markdown",
   "metadata": {},
   "source": [
    "![title](1n_kardinalitaet.jpg)"
   ]
  },
  {
   "cell_type": "markdown",
   "metadata": {},
   "source": [
    "### 1:1 Relationships"
   ]
  },
  {
   "cell_type": "markdown",
   "metadata": {},
   "source": [
    "Ein Entity vom Typ E kann mit höchstens einem Entity des Typs F verbunden sein.\n",
    "<br>\n",
    "Ein Entity vom Typ F kann mit höchstens einem Entity des Typs E verbunden sein.\n",
    "<br>\n",
    "Beispiel\n",
    "<br>\n",
    "Ein Studio kann nur von einem Vorsitzenden geleitet werden.\n",
    "<br>\n",
    "Ein Vorsitzender kann nur ein Studio leiten.\n",
    "<br>\n",
    "„Kann“: D.h. nicht jeder Entity muss mit einem anderen verbunden sein.\n",
    "<br>\n",
    "Ein Studio kann (vorübergehend) keinen Vorsitzenden haben."
   ]
  },
  {
   "cell_type": "markdown",
   "metadata": {},
   "source": [
    "![title](11_kardinalitaet.jpg)"
   ]
  },
  {
   "cell_type": "markdown",
   "metadata": {},
   "source": [
    "### Weitere Notationen"
   ]
  },
  {
   "cell_type": "markdown",
   "metadata": {},
   "source": [
    "![title](kardinalitaeten_notation.jpg)"
   ]
  },
  {
   "cell_type": "markdown",
   "metadata": {},
   "source": [
    "Numerische Notation (Partizipationssemantik)"
   ]
  },
  {
   "cell_type": "markdown",
   "metadata": {},
   "source": [
    "## Rolle von Relationships"
   ]
  },
  {
   "cell_type": "markdown",
   "metadata": {},
   "source": [
    "![title](rolle_relationship.jpg)"
   ]
  },
  {
   "cell_type": "markdown",
   "metadata": {},
   "source": [
    "Entitytypen können mehr als einmal in einer Relationship auftauchen.\n",
    "<br>\n",
    "Entsprechend mehrere Kanten\n",
    "<br>\n",
    "Jede Kante entspricht einer anderen Rolle.\n",
    "<br>Die Kanten werden mit den entsprechenden Rollen annotiert."
   ]
  },
  {
   "cell_type": "markdown",
   "metadata": {},
   "source": [
    "![title](rolle_relationship2.jpg)"
   ]
  },
  {
   "cell_type": "markdown",
   "metadata": {},
   "source": [
    "Stammstudio eines Schauspielers erlaubt einem anderen Studio den Schauspieler für einen bestimmten Film\n",
    "auszuleihen\n",
    "<br>\n",
    "<br>\n",
    "Kardinalitäten:\n",
    "<br>\n",
    "Gegeben Schauspieler, Film und produzierendes Studio, ist das ausleihenden Stammstudio eindeutig (höchstens\n",
    "ein Studio ist das ausleihende Stammstudio).\n",
    "<br>\n",
    "Gegeben Schauspieler, Film und Stammstudio ist das produzierende Studio eindeutig (höchstens ein Studio kann\n",
    "einen Film produzieren).\n",
    "<br>\n",
    "Gegeben Schauspieler, Stammstudio und produzierendes Studio könnte es mehrere Filme geben, die in dieser\n",
    "Konstellation gedreht werden.\n",
    "<br>\n",
    "Gegeben Film, Stammstudio und produzierendes Studio könnte es mehrere Schauspieler geben, die in dieser\n",
    "Konstellation ausgeliehen werden."
   ]
  },
  {
   "cell_type": "markdown",
   "metadata": {},
   "source": [
    "### n-äre Relationships"
   ]
  },
  {
   "cell_type": "markdown",
   "metadata": {},
   "source": [
    "Relationships zwischen mehr als zwei Entities\n",
    "<br>\n",
    "Ein/e Schauspieler*in steht bei einem Studio für eine bestimmten Film unter Vertrag\n",
    "<br>\n",
    "Instanz der Relationship kann man als Tripel darstellen.\n",
    "<br>\n",
    "Kardinalitäten: Jede Kombination von Schauspieler und Film kann nur mit einem\n",
    "<br>\n",
    "Studio in Beziehung stehen."
   ]
  },
  {
   "cell_type": "markdown",
   "metadata": {},
   "source": [
    "![title](n-aer_relationships.jpg)"
   ]
  },
  {
   "cell_type": "markdown",
   "metadata": {},
   "source": [
    "### Konvertierung in binäre Relationships"
   ]
  },
  {
   "cell_type": "markdown",
   "metadata": {},
   "source": [
    "Umwandlung n-ärer Relationships in binäre Relationships\n",
    "<br>\n",
    "Erstellung eines neuen, verbindenden Entitytyps\n",
    "<br>\n",
    "Neue n:1 Relationships zwischen dem neuen Entitytyp und den alten Entitytypen\n",
    "<br>\n",
    "Falls ein Entitytyp mehrere Rollen spielt, entsteht pro Rolle ein Relationshiptyp.\n",
    "<br>\n",
    "Attribute des Relationshiptyps werden an den neuen Entitytyp angehängt."
   ]
  },
  {
   "cell_type": "markdown",
   "metadata": {},
   "source": [
    "### Attribute an Relationships"
   ]
  },
  {
   "cell_type": "markdown",
   "metadata": {},
   "source": [
    "In manchen Fällen ist es hilfreich, Relationships Attribute zuzuordnen\n",
    "<br>\n",
    "Bsp: In dem Drehvertrag wird ein Gehalt festgestellt.\n",
    "<br>\n",
    "Zuordnung zu Schauspieler? Er könnte für verschiedene Filme unterschiedliche Gehälter bekommen.\n",
    "<br>\n",
    "Zuordnung zum Film? Verschiedene Schauspieler könnten unterschiedliche Gehälter bekommen.\n",
    "<br>\n",
    "Zuordnung zum Studio? Es könnte verschiedenen Schauspielern unterschiedliche Gehälter zahlen.\n"
   ]
  },
  {
   "cell_type": "markdown",
   "metadata": {},
   "source": [
    "![title](attribute_relationship.jpg)"
   ]
  },
  {
   "cell_type": "markdown",
   "metadata": {},
   "source": [
    "## IST-Beziehung"
   ]
  },
  {
   "cell_type": "markdown",
   "metadata": {},
   "source": [
    "Subklasse\n",
    "<br>\n",
    "Spezialfall / Spezialisierung\n",
    "<br>\n",
    "Weniger Entities\n",
    "<br>\n",
    "Mehr Attribute\n",
    "<br>\n",
    "Eventl. mehr Relationships\n",
    "<br>\n",
    "Besonderer Relationshiptyp\n",
    "<br>\n",
    "IST (is-a)\n",
    "<br>\n",
    "Darstellung durch Dreieck\n",
    "<br>\n",
    "Spitze zeigt zur Superklasse\n",
    "<br>\n",
    "Immer 1:1\n",
    "<br>\n",
    "Trotzdem keine Pfeile"
   ]
  },
  {
   "cell_type": "markdown",
   "metadata": {},
   "source": [
    "### IST-Beziehung als Bäume"
   ]
  },
  {
   "cell_type": "markdown",
   "metadata": {},
   "source": [
    "IST-Beziehungen nur als Bäume\n",
    "<br>\n",
    "Keine Mehrfachvererbung\n",
    "<br>\n",
    "Ein Entity kann aus mehreren Komponenten des IST-Baumes bestehen.\n",
    "<br>\n",
    "„Krieg der Sterne“ hat vier Attribute.\n",
    "<br>\n",
    "„Cinderella“ hat vier Attribute und „Stimmen“-Relationships.\n",
    "<br>\n",
    "„Der dritte Mann“ hat vier Attribute und zusätzlich das Attribut „Waffen“.\n",
    "<br>\n",
    "„Roger Rabbit“ hat vier Attribute, zusätzlich das Attribut „Waffen“ und „Stimmen“-Relationships.\n",
    "<br>\n",
    "Anders als objekt-orientierte Modelle\n",
    "<br>\n",
    "In OO sind Objekte immer in genau einer Klasse; Subklassen erben von Superklasse(n).\n",
    "<br>\n",
    "In ER sind Entities in allen Subklassen repräsentiert, in die sie gehören.\n",
    "<br>\n",
    "In ER ist ein Entity in einer Subklasse auch automatisch in den Superklassen repräsentiert."
   ]
  },
  {
   "cell_type": "markdown",
   "metadata": {},
   "source": [
    "## Nebenbedingungen(Constraints)"
   ]
  },
  {
   "cell_type": "markdown",
   "metadata": {},
   "source": [
    "Schlüssel\n",
    "<br>\n",
    "Ein oder mehrere Attribute\n",
    "<br>\n",
    "Werte identifizieren eindeutig ein Entity.\n",
    "<br>\n",
    "Referentielle Integrität\n",
    "<br>\n",
    "Existenz des referenzierten Entities\n",
    "<br>\n",
    "Entspricht „dangling pointer“\n",
    "<br>\n",
    "Domänen\n",
    "<br>\n",
    "Einschränkung des Wertebereichs\n",
    "<br>\n",
    "Allgemeine Nebenbedingungen (assertions)\n",
    "<br>\n",
    "Z.B. nicht mehr als 10 Schauspieler pro Film\n",
    "<br>\n",
    "Nebenbedingungen sind Teil des Schemas. Sie leiten sich nicht aus den Daten ab!"
   ]
  },
  {
   "cell_type": "markdown",
   "metadata": {},
   "source": [
    "## Schlüssel"
   ]
  },
  {
   "cell_type": "markdown",
   "metadata": {},
   "source": [
    "Ein Schlüssel ist eine (minimale) Menge von Attributen eines Entitytyps, für die gilt, dass keine zwei Entities gleiche Werte in allen Schlüsselattributen haben.\n",
    "<br>\n",
    "Einige Attributwerte können übereinstimmen.\n",
    "<br>\n",
    "Oft nur ein Attribut\n",
    "<br>\n",
    "Für jeden Entitytyp muss ein Schlüssel angegeben werden.\n",
    "<br>\n",
    "Es kann mehr als einen Schlüssel für einen Entitytyp geben.\n",
    "<br>\n",
    "Üblich: Primärschlüssel auswählen\n",
    "<br>\n",
    "Bei IST-Beziehungen muss die Wurzel-Superklasse sämtliche Schlüsselattribute enthalten.\n",
    "<br>\n",
    "Darstellung durch Unterstreichen der Attributnamen"
   ]
  },
  {
   "cell_type": "markdown",
   "metadata": {},
   "source": [
    "### Referentielle Integrität"
   ]
  },
  {
   "cell_type": "markdown",
   "metadata": {},
   "source": [
    "Schlüssel: Höchstens ein bestimmter Wert für ein Attribut\n",
    "<br>\n",
    "Bzw. höchstens eine Wertekombination bei mehreren Attributen im Schlüssel\n",
    "<br>\n",
    "Referentielle Integrität: Genau ein bestimmter Wert\n",
    "<br>\n",
    "Bsp. n:1 Relationship zwischen „Filme“ und „Studios“\n",
    "<br>\n",
    "Ein Film kann zu höchsten einem Studio gehören.\n",
    "<br>\n",
    "Aber ein Film muss zu keinem Studio gehören.\n",
    "<br>\n",
    "Auch wenn ein Film zu einem Studio gehört, muss dieses nicht in der DB repräsentiert sein.\n",
    "<br>\n",
    "Referentielle Integrität erzwingt die Existenz und Repräsentation des Studios\n",
    "<br>\n",
    "„Erzwingen“\n",
    "<br>\n",
    "Bei Einfügen/Ändern eines Films muss entsprechendes Studio vorhanden sein.\n",
    "<br>\n",
    "Ein Studio darf nicht gelöscht werden, solange es noch Filme besitzt.\n",
    "<br<\n",
    "Oder: Wenn ein Studio gelöscht wird, werden auch alle entsprechenden Filme gelöscht.\n",
    "<br>\n",
    "Verschiedene Einstellungen im DBMS"
   ]
  },
  {
   "cell_type": "markdown",
   "metadata": {},
   "source": [
    "![title](referentielle_integritaet.jpg)"
   ]
  },
  {
   "cell_type": "markdown",
   "metadata": {},
   "source": [
    "### Weitere Nebenbedingungen"
   ]
  },
  {
   "cell_type": "markdown",
   "metadata": {},
   "source": [
    "Ohne formale Notation im ER-Diagramm\n",
    "<br>\n",
    "Datentyp\n",
    "<br>\n",
    "Integer, String, …\n",
    "<br>\n",
    "Wertebereich / Domäne\n",
    "<br>\n",
    "≤ 100, {Krimi,Doku,Zeichentrick}\n",
    "<br>\n",
    "Länge eines Attributes\n",
    "<br>\n",
    "Stringlänge < 25\n",
    "<br>\n",
    "Kardinalität von Relationships\n",
    "<br>\n",
    "Höchstens 10 Schauspieler pro Film\n",
    "<br>\n",
    "Oder mittels min/max Notation"
   ]
  },
  {
   "cell_type": "markdown",
   "metadata": {},
   "source": [
    "## Schwache Entitytypen"
   ]
  },
  {
   "cell_type": "markdown",
   "metadata": {},
   "source": [
    "### Motivation"
   ]
  },
  {
   "cell_type": "markdown",
   "metadata": {},
   "source": [
    "Motivation\n",
    "<br>\n",
    "In bestimmten Situationen können Entities nicht allein anhand ihrer Attribute identifiziert werden:\n",
    "<br>\n",
    "1. Falls sie in eine nicht-IST-Hierarchie fallen.\n",
    "<br>\n",
    "2. Entities, die zur Eliminierung n-ärer Relationships erschaffen wurden.\n",
    "<br>\n",
    "Ein Entitytyp ist schwach wenn es zur eindeutigen Identifizierung eines Entities nötig ist, eine oder mehr n:1 Relationships zu folgen und den Schlüssel der verwandten Entities hinzuzunehmen."
   ]
  },
  {
   "cell_type": "markdown",
   "metadata": {},
   "source": [
    "![title](schwache_ent_bsp1.jpg)"
   ]
  },
  {
   "cell_type": "markdown",
   "metadata": {},
   "source": [
    "Ein Studio beschäftigt mehrere Filmcrews.\n",
    "<br>\n",
    "Filmcrews werden mit einer Nummer versehen.\n",
    "<br>\n",
    "Verschiedene Studios könnten eigene Crews mit gleichen Nummern beschäftigen.\n",
    "<br>\n",
    "Nummer ist also kein Schlüssel\n",
    "<br>\n",
    "Nimmt man den Schlüssel der Studios hinzu ist eine eindeutige Identifizierung möglich."
   ]
  },
  {
   "cell_type": "markdown",
   "metadata": {},
   "source": [
    "![title](schwache_ent_bsp2.jpg)"
   ]
  },
  {
   "cell_type": "markdown",
   "metadata": {},
   "source": [
    "Eine Spezies ist definiert durch den Namen der Gattung und des Spezies.\n",
    "<br>\n",
    "Gattung: homo\n",
    "<br>\n",
    "Spezies: homo sapiens"
   ]
  },
  {
   "cell_type": "markdown",
   "metadata": {},
   "source": [
    "![title](schwache_ent_bsp3.jpg)"
   ]
  },
  {
   "cell_type": "markdown",
   "metadata": {},
   "source": [
    "Fall 2: Auflösung einer ternären Relationship Vertrag hat kein Attribut, das Teil des Schlüssels ist."
   ]
  },
  {
   "cell_type": "markdown",
   "metadata": {},
   "source": [
    "![title](schwache_ent_bsp4.jpg)"
   ]
  },
  {
   "cell_type": "markdown",
   "metadata": {},
   "source": [
    "### Schwache Entitytypen"
   ]
  },
  {
   "cell_type": "markdown",
   "metadata": {},
   "source": [
    "Man scheut sich oft einen Schlüssel zu deklarieren.\n",
    "<br>\n",
    "Die Folge: Man schwächt ein Entitytyp und macht alle seine Relationships zu unterstützenden Relationships.\n",
    "<br>\n",
    "In der Realität werden sehr oft künstliche IDs verwendet.\n",
    "<br>\n",
    "ISBN, SNN, VIN, etc.\n",
    "<br>\n",
    "Grund für das Fehlen eines solchen Schlüssels: Es gibt keine entsprechende Autorität, die einen solchen Schlüssel vergeben könnte.\n",
    "<br>\n",
    "Bsp: Es ist unwahrscheinlich, dass jedem Fußballer der Welt eine eindeutige ID zugewiesen wird."
   ]
  },
  {
   "cell_type": "markdown",
   "metadata": {},
   "source": [
    "### Schlüssel schwacher Entitytypen"
   ]
  },
  {
   "cell_type": "markdown",
   "metadata": {},
   "source": [
    "Falls E ein schwacher Entitytyp ist, besteht sein Schlüssel aus…\n",
    "<br>\n",
    "… null oder mehr eigenen Attributen\n",
    "<br>\n",
    "… und den Schlüsselattributen von Entitytypen, die über bestimmte n:1\n",
    "<br>\n",
    "Relationshiptypen, den „unterstützenden Relationshiptypen“ erreicht werden können.\n",
    "<br>\n",
    "Supporting relationships\n",
    "<br>\n",
    "Unterstützende Relationshiptypen\n",
    "<br>\n",
    "n:1 vom schwachen Entitytypen zu einem anderen Entitytypen\n",
    "<br>\n",
    "Es muss referentielle Integrität gelten.\n",
    "<br>\n",
    "Falls referenzierter Entitytyp wiederum schwach ist, werden (rekursiv) weitere Schlüsselattribute übernommen. "
   ]
  },
  {
   "cell_type": "markdown",
   "metadata": {},
   "source": [
    "## Erweitertes ER-Modell"
   ]
  },
  {
   "cell_type": "markdown",
   "metadata": {},
   "source": [
    "### Weitere Attributarten"
   ]
  },
  {
   "cell_type": "markdown",
   "metadata": {},
   "source": [
    "![title](weitere_attributnamen.jpg)"
   ]
  },
  {
   "cell_type": "markdown",
   "metadata": {},
   "source": [
    "Optionales Attribut\n",
    "<br>\n",
    "Attributwert nicht für jede Entität vorhanden\n",
    "<br>\n",
    "Abgeleitetes Attribut\n",
    "<br>\n",
    "Wert wird anhand einer Berechnungsvorschrift aus nicht-abgeleiteten Attributen errechnet.\n",
    "<br>\n",
    "Mengenwertiges Attribut\n",
    "<br>\n",
    "Enthält Menge von Werten\n",
    "<br>\n",
    "Strukturiertes Attribut\n",
    "<br>\n",
    "Wird durch weitere Attribute beschrieben\n",
    "<br>\n",
    "Wert des strukturierten Attributs entspricht Verkettung der Unterattribute."
   ]
  },
  {
   "cell_type": "markdown",
   "metadata": {},
   "source": [
    "### Spezialisierung Generalisierung"
   ]
  },
  {
   "cell_type": "markdown",
   "metadata": {},
   "source": [
    "Spezialisierung\n",
    "<br>\n",
    "entpricht IST-Beziehung\n",
    "<br>\n",
    "Drachen sind Spezialisierung von Produkt\n",
    "<br>\n",
    "Generalisierung\n",
    "<br>\n",
    "Entities in einen allgemeineren Kontext\n",
    "<br>\n",
    "Drachen oder Windspiel als Produkt\n",
    "<br>\n",
    "Partitionierung\n",
    "<br>\n",
    "mehrere disjunkte Entity-Typen\n",
    "<br>\n",
    "Spezialfall der Spezialisierung\n",
    "<br>\n",
    "Partitionierung von Produkten in Zubehör und Drachen"
   ]
  },
  {
   "cell_type": "markdown",
   "metadata": {},
   "source": [
    "### Aggregation"
   ]
  },
  {
   "cell_type": "markdown",
   "metadata": {},
   "source": [
    "Generalisierung (IST): Gleichartige Entitytypen (is-a)\n",
    "<br>\n",
    "Aggregation: Unterschiedliche Entitytypen\n",
    "<br>\n",
    "„Teil-von“ (part-of)\n",
    "<br>\n",
    "Entity aus einzelnen Instanzen anderer Entity-Typen zusammengesetzt."
   ]
  },
  {
   "cell_type": "markdown",
   "metadata": {},
   "source": [
    "![title](aggregation.jpg)"
   ]
  },
  {
   "cell_type": "markdown",
   "metadata": {},
   "source": [
    "## Designprinzipien"
   ]
  },
  {
   "cell_type": "markdown",
   "metadata": {},
   "source": [
    "Einleitungstext. "
   ]
  },
  {
   "cell_type": "markdown",
   "metadata": {},
   "source": [
    "### Grundprinzipien"
   ]
  },
  {
   "cell_type": "markdown",
   "metadata": {},
   "source": [
    "Treue zur Anwendung\n",
    "<br>\n",
    "Vermeidung von Redundanz\n",
    "<br>\n",
    "Einfachheit\n",
    "<br>\n",
    "Sparsamer Einsatz von Relationships\n",
    "<br>\n",
    "Sparsamer Einsatz von Attributen\n",
    "<br>\n",
    "Sparsamer Einsatz von schwachen Entitytypen"
   ]
  },
  {
   "cell_type": "markdown",
   "metadata": {},
   "source": [
    "### Anwendungstreue"
   ]
  },
  {
   "cell_type": "markdown",
   "metadata": {},
   "source": [
    "Entitytypen und Attribute sollten Realität widerspiegeln.\n",
    "<br>\n",
    "Filme haben keine Zylinderkopfanzahl\n",
    "<br>\n",
    "Relationshiptypen sollen Verhältnisse der Realität widerspiegeln.\n",
    "<br>\n",
    "Schauspieler und Filme stehen in einer m:n Beziehung\n",
    "<br>\n",
    "n:1, 1:n oder 1:1 wären inkorrekte Wiedergaben der Realität\n",
    "<br>\n",
    "Schwierigerer Fall: Kurs und Lehrer – je nach Semantik\n",
    "<br>\n",
    "Ein Kurs kann nur von einem (verantwortlichen) Lehrer gegeben werden.\n",
    "<br>\n",
    "Lehrer geben im Team einen Kurs.\n",
    "<br>\n",
    "Nicht aktuelle Kursvergabe sondern auch Historie"
   ]
  },
  {
   "cell_type": "markdown",
   "metadata": {},
   "source": [
    "### Redundanz"
   ]
  },
  {
   "cell_type": "markdown",
   "metadata": {},
   "source": [
    "Redundanz tritt auf, wenn der gleiche Sachverhalt auf mehr als eine Weise ausgedrückt wird.\n",
    "<br>\n",
    "Redundanz verschwendet Platz.\n",
    "<br>\n",
    "Auf dem Papier\n",
    "<br>\n",
    "Auf der Festplatte\n",
    "<br>\n",
    "Redundanz fördert Inkonsistenz.\n",
    "<br>\n",
    "Veränderung eines Sachverhalts wird nur an einer Stelle repräsentiert."
   ]
  },
  {
   "cell_type": "markdown",
   "metadata": {},
   "source": [
    "![title](redundanz1.jpg)"
   ]
  },
  {
   "cell_type": "markdown",
   "metadata": {},
   "source": [
    "![title](redundanz2.jpg)"
   ]
  },
  {
   "cell_type": "markdown",
   "metadata": {},
   "source": [
    "### Einfachheit"
   ]
  },
  {
   "cell_type": "markdown",
   "metadata": {},
   "source": [
    "KISS: Keep It Simple, St…\n",
    "<br>\n",
    "Unnötige Verwendung von Entitytypen vermeiden.\n",
    "<br>\n",
    "Ein Film wird von einer Holding repräsentiert"
   ]
  },
  {
   "cell_type": "markdown",
   "metadata": {},
   "source": [
    "![title](einfachheit.jpg)"
   ]
  },
  {
   "cell_type": "markdown",
   "metadata": {},
   "source": [
    "### Relationships"
   ]
  },
  {
   "cell_type": "markdown",
   "metadata": {},
   "source": [
    "Nicht jede mögliche Beziehung sollte abgebildet werden.\n",
    "<br>\n",
    "Vermeidung von Redundanz, wenn manche Beziehungen abgeleitet werden können.\n",
    "<br>\n",
    "Änderungen auf der Datenbank werden komplex\n",
    "<br>\n",
    "Eine Änderung eines Entities verursacht viele Änderungen in den Relationships.\n",
    "<br>\n",
    "Fehlergefahr\n",
    "<br>\n",
    "Vermehrter Aufwand"
   ]
  },
  {
   "cell_type": "markdown",
   "metadata": {},
   "source": [
    "![title](relationships1.jpg)"
   ]
  },
  {
   "cell_type": "markdown",
   "metadata": {},
   "source": [
    "![title](relationships2.jpg)"
   ]
  },
  {
   "cell_type": "markdown",
   "metadata": {},
   "source": [
    "### Attribut vs. Element"
   ]
  },
  {
   "cell_type": "markdown",
   "metadata": {},
   "source": [
    "Attribute sind einfacher zu implementieren als Entities und Relationships.\n",
    "<br>\n",
    "Ein Entitytyp ist gerechtfertigt falls…\n",
    "<br>\n",
    "… er mehr als nur den Namen eines Objekts darstellt,\n",
    "<br>\n",
    "… oder er der n-Teil einer 1:n Relationship ist."
   ]
  },
  {
   "cell_type": "markdown",
   "metadata": {},
   "source": [
    "![title](attributvselement1.jpg)"
   ]
  },
  {
   "cell_type": "markdown",
   "metadata": {},
   "source": [
    "Studio ist nur ein Name\n",
    "<br>\n",
    "Studio ist nicht der n-Teil der Relationship"
   ]
  },
  {
   "cell_type": "markdown",
   "metadata": {},
   "source": [
    "![title](attributvselement2.jpg)"
   ]
  },
  {
   "cell_type": "markdown",
   "metadata": {},
   "source": [
    "besser"
   ]
  },
  {
   "cell_type": "markdown",
   "metadata": {},
   "source": [
    "![title](attributvselement3.jpg)"
   ]
  },
  {
   "cell_type": "markdown",
   "metadata": {},
   "source": [
    "NICHT enthalten: S. 20 , S. 34, S. 36, S. 38, S. 43-45"
   ]
  }
 ],
 "metadata": {
  "kernelspec": {
   "display_name": "Python 3 (ipykernel)",
   "language": "python",
   "name": "python3"
  },
  "language_info": {
   "codemirror_mode": {
    "name": "ipython",
    "version": 3
   },
   "file_extension": ".py",
   "mimetype": "text/x-python",
   "name": "python",
   "nbconvert_exporter": "python",
   "pygments_lexer": "ipython3",
   "version": "3.9.7"
  }
 },
 "nbformat": 4,
 "nbformat_minor": 4
}
