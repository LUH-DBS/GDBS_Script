{
 "cells": [
  {
   "cell_type": "markdown",
   "metadata": {},
   "source": [
    "# ER-Modellierung"
   ]
  },
  {
   "cell_type": "markdown",
   "metadata": {},
   "source": [
    "## Einführung: Das Entity-Relationship-Modell"
   ]
  },
  {
   "cell_type": "markdown",
   "metadata": {},
   "source": [
    "![title](peter_chen.jpg)"
   ]
  },
  {
   "cell_type": "markdown",
   "metadata": {},
   "source": [
    "![title](peter_chen_paper.jpg)"
   ]
  },
  {
   "cell_type": "markdown",
   "metadata": {},
   "source": [
    "Nach Peter P. Chen 1976\n",
    "<br>\n",
    "The entity-relationship model – towards a unified view of data. ACM TODS\n",
    "<br>\n",
    "Standardmodell in der frühen Entwurfsphase\n",
    "<br>\n",
    "<br>\n",
    "<br>\n",
    "Instanz eines ER-Diagramms:\n",
    "<br>\n",
    "<br>\n",
    "ER-Diagramme beschreiben Datenbanken, die eine Instanz haben (werden).\n",
    "<br>\n",
    "Der „Wert“ eines Entitytypen ist die (endliche) Menge der zugehörigen Entities.\n",
    "<br>\n",
    "Jeder Entity hat bestimmte Werte für seine Attribute.\n",
    "<br>\n",
    "Die Instanz eines n-ären Relationshiptypen ist eine Menge von Listen der Länge n.\n",
    "<br>\n",
    "Dies alles ist nur abstrakte Denkhilfe.\n",
    "<br>\n",
    "Modellierung im relationalen Modell unterscheidet sich.\n",
    "<br>\n",
    "Speicherung in einem DBMS unterscheidet sich."
   ]
  },
  {
   "cell_type": "markdown",
   "metadata": {},
   "source": [
    "## Begriffe (Komponenten)"
   ]
  },
  {
   "cell_type": "markdown",
   "metadata": {},
   "source": [
    "Entity\n",
    "<br>\n",
    "Ein Ding / Objekt der realen oder der Vorstellungswelt\n",
    "<br>\n",
    "Nicht direkt darstellbar, sondern nur über Eigenschaften beobachtbar\n",
    "<br>\n",
    "<br>\n",
    "Entitytyp (entity set)\n",
    "<br>\n",
    "Eine Klasse für gleichartige Objekte\n",
    "<br>\n",
    "<br>\n",
    "Relationship\n",
    "<br>\n",
    "Beschreibt Beziehungen zwischen zwei („konkreten“) Entities\n",
    "<br>\n",
    "Meist binär\n",
    "<br>\n",
    "<br>\n",
    "Relationshiptyp\n",
    "<br>\n",
    "Eine Klasse für gleichartige Beziehungen\n",
    "<br>\n",
    "Attribut\n",
    "<br>\n",
    "repräsentiert eine Eigenschaft von Entities oder von Relationships\n",
    "<br>\n",
    "Zunächst nur primitive Datenwerte (String, Integer, …) und Operationen darauf\n",
    "<br>\n",
    "Später auch komplexe Attribute"
   ]
  },
  {
   "cell_type": "markdown",
   "metadata": {},
   "source": [
    "![title](er_diagramm_bsp.jpg)"
   ]
  },
  {
   "cell_type": "markdown",
   "metadata": {},
   "source": [
    "## Kardinalitäten von Relationships"
   ]
  },
  {
   "cell_type": "markdown",
   "metadata": {},
   "source": [
    "Allgemein: Eine binäre Relationship kann beliebig viele Entities des einen Typen mit beliebig vielen des anderen Typen verbinden.\n",
    "<br>\n",
    "Ein Schauspieler kann in mehreren Filmen spielen.\n",
    "<br>\n",
    "In einem Film spielen mehrere Schauspieler.\n",
    "<br>\n",
    "„Kann“: D.h. nicht jeder Entity muss mit einem anderen verbunden sein.\n",
    "<br>\n",
    "In einem Animationsfilm spielen keine Schauspieler.\n",
    "<br>\n",
    "m:n Beziehung\n",
    "<br>\n",
    "Einschränkungen („Spezialfälle“)\n",
    "<br>\n",
    "1:n Beziehung\n",
    "<br>\n",
    "1:1 Beziehung"
   ]
  },
  {
   "cell_type": "markdown",
   "metadata": {},
   "source": [
    "![title](mn_kardinalitaet.jpg)"
   ]
  },
  {
   "cell_type": "markdown",
   "metadata": {},
   "source": [
    "### 1:n Relationships"
   ]
  },
  {
   "cell_type": "markdown",
   "metadata": {},
   "source": [
    "Ein Entity vom Typ E kann mit beliebig vielen Entities des Typs F verbunden sein.\n",
    "<br>\n",
    "Ein Entity vom Typ F kann mit höchstens einem Entity des Typs E verbunden sein.\n",
    "<br>\n",
    "Beispiel\n",
    "<br>\n",
    "Ein Studio kann die Rechte an mehreren Filmen besitzen.\n",
    "<br>\n",
    "Ein Film kann nur von einem Studio besessen werden.\n",
    "<br>\n",
    "„Kann“: D.h. nicht jeder Entity muss mit einem anderen verbunden sein.\n",
    "<br>\n",
    "Ein neues Studio besitzt noch keinen Film.\n",
    "<br>\n",
    "Darstellung mittels eines Pfeils zur „1er“ Seite."
   ]
  },
  {
   "cell_type": "markdown",
   "metadata": {},
   "source": [
    "![title](1n_kardinalitaet.jpg)"
   ]
  },
  {
   "cell_type": "markdown",
   "metadata": {},
   "source": [
    "### 1:1 Relationships"
   ]
  },
  {
   "cell_type": "markdown",
   "metadata": {},
   "source": [
    "Ein Entity vom Typ E kann mit höchstens einem Entity des Typs F verbunden sein.\n",
    "<br>\n",
    "Ein Entity vom Typ F kann mit höchstens einem Entity des Typs E verbunden sein.\n",
    "<br>\n",
    "Beispiel\n",
    "<br>\n",
    "Ein Studio kann nur von einem Vorsitzenden geleitet werden.\n",
    "<br>\n",
    "Ein Vorsitzender kann nur ein Studio leiten.\n",
    "<br>\n",
    "„Kann“: D.h. nicht jeder Entity muss mit einem anderen verbunden sein.\n",
    "<br>\n",
    "Ein Studio kann (vorübergehend) keinen Vorsitzenden haben."
   ]
  },
  {
   "cell_type": "markdown",
   "metadata": {},
   "source": [
    "![title](11_kardinalitaet.jpg)"
   ]
  },
  {
   "cell_type": "markdown",
   "metadata": {},
   "source": [
    "### Weitere Notationen"
   ]
  },
  {
   "cell_type": "markdown",
   "metadata": {},
   "source": [
    "![title](kardinalitaeten_notation.jpg)"
   ]
  },
  {
   "cell_type": "markdown",
   "metadata": {},
   "source": [
    "## Rolle von Relationships"
   ]
  },
  {
   "cell_type": "markdown",
   "metadata": {},
   "source": [
    "Entitytypen können mehr als einmal in einer Relationship auftauchen.\n",
    "<br>\n",
    "Entsprechend mehrere Kanten\n",
    "<br>\n",
    "Jede Kante entspricht einer anderen Rolle.\n",
    "<br>Die Kanten werden mit den entsprechenden Rollen annotiert."
   ]
  },
  {
   "cell_type": "markdown",
   "metadata": {},
   "source": [
    "![title](rolle_relationship.jpg)"
   ]
  },
  {
   "cell_type": "markdown",
   "metadata": {},
   "source": [
    "![title](rolle_relationship2.jpg)"
   ]
  },
  {
   "cell_type": "markdown",
   "metadata": {},
   "source": [
    "### Konvertierung in binäre Relationships"
   ]
  },
  {
   "cell_type": "markdown",
   "metadata": {},
   "source": [
    "Umwandlung n-ärer Relationships in binäre Relationships\n",
    "<br>\n",
    "Erstellung eines neuen, verbindenden Entitytyps\n",
    "<br>\n",
    "Neue n:1 Relationships zwischen dem neuen Entitytyp und den alten Entitytypen\n",
    "<br>\n",
    "Falls ein Entitytyp mehrere Rollen spielt, entsteht pro Rolle ein Relationshiptyp.\n",
    "<br>\n",
    "Attribute des Relationshiptyps werden an den neuen Entitytyp angehängt."
   ]
  },
  {
   "cell_type": "markdown",
   "metadata": {},
   "source": [
    "### Attribute an Relationships"
   ]
  },
  {
   "cell_type": "markdown",
   "metadata": {},
   "source": [
    "In manchen Fällen ist es hilfreich, Relationships Attribute zuzuordnen\n",
    "<br>\n",
    "Bsp: In dem Drehvertrag wird ein Gehalt festgestellt.\n",
    "<br>\n",
    "Zuordnung zu Schauspieler? Er könnte für verschiedene Filme unterschiedliche Gehälter bekommen.\n",
    "<br>\n",
    "Zuordnung zum Film? Verschiedene Schauspieler könnten unterschiedliche Gehälter bekommen.\n",
    "<br>\n",
    "Zuordnung zum Studio? Es könnte verschiedenen Schauspielern unterschiedliche Gehälter zahlen.\n"
   ]
  },
  {
   "cell_type": "markdown",
   "metadata": {},
   "source": [
    "![title](attribute_relationship.jpg)"
   ]
  },
  {
   "cell_type": "markdown",
   "metadata": {},
   "source": [
    "## IST-Beziehung"
   ]
  },
  {
   "cell_type": "markdown",
   "metadata": {},
   "source": [
    "Subklasse\n",
    "<br>\n",
    "Spezialfall / Spezialisierung\n",
    "<br>\n",
    "Weniger Entities\n",
    "<br>\n",
    "Mehr Attribute\n",
    "<br>\n",
    "Eventl. mehr Relationships\n",
    "<br>\n",
    "Besonderer Relationshiptyp\n",
    "<br>\n",
    "IST (is-a)\n",
    "<br>\n",
    "Darstellung durch Dreieck\n",
    "<br>\n",
    "Spitze zeigt zur Superklasse\n",
    "<br>\n",
    "Immer 1:1\n",
    "<br>\n",
    "Trotzdem keine Pfeile"
   ]
  },
  {
   "cell_type": "markdown",
   "metadata": {},
   "source": [
    "### IST-Beziehung als Bäume"
   ]
  },
  {
   "cell_type": "markdown",
   "metadata": {},
   "source": [
    "IST-Beziehungen nur als Bäume\n",
    "<br>\n",
    "Keine Mehrfachvererbung\n",
    "<br>\n",
    "Ein Entity kann aus mehreren Komponenten des IST-Baumes bestehen.\n",
    "<br>\n",
    "„Krieg der Sterne“ hat vier Attribute.\n",
    "<br>\n",
    "„Cinderella“ hat vier Attribute und „Stimmen“-Relationships.\n",
    "<br>\n",
    "„Der dritte Mann“ hat vier Attribute und zusätzlich das Attribut „Waffen“.\n",
    "<br>\n",
    "„Roger Rabbit“ hat vier Attribute, zusätzlich das Attribut „Waffen“ und „Stimmen“-Relationships.\n",
    "<br>\n",
    "Anders als objekt-orientierte Modelle\n",
    "<br>\n",
    "In OO sind Objekte immer in genau einer Klasse; Subklassen erben von Superklasse(n).\n",
    "<br>\n",
    "In ER sind Entities in allen Subklassen repräsentiert, in die sie gehören.\n",
    "<br>\n",
    "In ER ist ein Entity in einer Subklasse auch automatisch in den Superklassen repräsentiert."
   ]
  },
  {
   "cell_type": "markdown",
   "metadata": {},
   "source": [
    "## Nebenbedingungen(Constraints)"
   ]
  },
  {
   "cell_type": "markdown",
   "metadata": {},
   "source": [
    "Schlüssel\n",
    "<br>\n",
    "Ein oder mehrere Attribute\n",
    "<br>\n",
    "Werte identifizieren eindeutig ein Entity.\n",
    "<br>\n",
    "Referentielle Integrität\n",
    "<br>\n",
    "Existenz des referenzierten Entities\n",
    "<br>\n",
    "Entspricht „dangling pointer“\n",
    "<br>\n",
    "Domänen\n",
    "<br>\n",
    "Einschränkung des Wertebereichs\n",
    "<br>\n",
    "Allgemeine Nebenbedingungen (assertions)\n",
    "<br>\n",
    "Z.B. nicht mehr als 10 Schauspieler pro Film\n",
    "<br>\n",
    "Nebenbedingungen sind Teil des Schemas. Sie leiten sich nicht aus den Daten ab!"
   ]
  },
  {
   "cell_type": "markdown",
   "metadata": {},
   "source": [
    "## Schlüssel"
   ]
  },
  {
   "cell_type": "markdown",
   "metadata": {},
   "source": [
    "Ein Schlüssel ist eine (minimale) Menge von Attributen eines Entitytyps, für die gilt, dass keine zwei Entities gleiche Werte in allen Schlüsselattributen haben.\n",
    "<br>\n",
    "Einige Attributwerte können übereinstimmen.\n",
    "<br>\n",
    "Oft nur ein Attribut\n",
    "<br>\n",
    "Für jeden Entitytyp muss ein Schlüssel angegeben werden.\n",
    "<br>\n",
    "Es kann mehr als einen Schlüssel für einen Entitytyp geben.\n",
    "<br>\n",
    "Üblich: Primärschlüssel auswählen\n",
    "<br>\n",
    "Bei IST-Beziehungen muss die Wurzel-Superklasse sämtliche Schlüsselattribute enthalten.\n",
    "<br>\n",
    "Darstellung durch Unterstreichen der Attributnamen"
   ]
  },
  {
   "cell_type": "markdown",
   "metadata": {},
   "source": [
    "### Referentielle Integrität"
   ]
  },
  {
   "cell_type": "markdown",
   "metadata": {},
   "source": [
    "Schlüssel: Höchstens ein bestimmter Wert für ein Attribut\n",
    "<br>\n",
    "Bzw. höchstens eine Wertekombination bei mehreren Attributen im Schlüssel\n",
    "<br>\n",
    "Referentielle Integrität: Genau ein bestimmter Wert\n",
    "<br>\n",
    "Bsp. n:1 Relationship zwischen „Filme“ und „Studios“\n",
    "<br>\n",
    "Ein Film kann zu höchsten einem Studio gehören.\n",
    "<br>\n",
    "Aber ein Film muss zu keinem Studio gehören.\n",
    "<br>\n",
    "Auch wenn ein Film zu einem Studio gehört, muss dieses nicht in der DB repräsentiert sein.\n",
    "<br>\n",
    "Referentielle Integrität erzwingt die Existenz und Repräsentation des Studios\n",
    "<br>\n",
    "„Erzwingen“\n",
    "<br>\n",
    "Bei Einfügen/Ändern eines Films muss entsprechendes Studio vorhanden sein.\n",
    "<br>\n",
    "Ein Studio darf nicht gelöscht werden, solange es noch Filme besitzt.\n",
    "<br<\n",
    "Oder: Wenn ein Studio gelöscht wird, werden auch alle entsprechenden Filme gelöscht.\n",
    "<br>\n",
    "Verschiedene Einstellungen im DBMS"
   ]
  }
 ],
 "metadata": {
  "kernelspec": {
   "display_name": "Python 3",
   "language": "python",
   "name": "python3"
  },
  "language_info": {
   "codemirror_mode": {
    "name": "ipython",
    "version": 3
   },
   "file_extension": ".py",
   "mimetype": "text/x-python",
   "name": "python",
   "nbconvert_exporter": "python",
   "pygments_lexer": "ipython3",
   "version": "3.7.3"
  }
 },
 "nbformat": 4,
 "nbformat_minor": 2
}
