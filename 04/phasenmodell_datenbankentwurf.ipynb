{
 "cells": [
  {
   "cell_type": "markdown",
   "metadata": {},
   "source": [
    "# Phasenmodell für den Datenbankentwurf"
   ]
  },
  {
   "cell_type": "markdown",
   "metadata": {},
   "source": [
    "Wenn Datenbanksysteme zum Einsatz kommen sollen, handelt es sich meistens um Anwendungen bei denen Daten für mehrere Nutzer, Anwendungssysteme über mehrere Jahre bereitgestellt werden sollen. Daher ist es ratsam zuvor einen sogenannten Datenbankentwurfsprozess zu durchgehen. Hierbei geht es weniger um das DBMS als um die Modellierung der Datenbank selbst. Es sollen hierbei folgende Anforderungen beachtet werden:\n",
    "\n",
    "- Anwendungsdaten jeder Anwendung sollen aus Daten der Datenbank ableitbar sein.\n",
    "- Die Daten sollen möglichst effizient abrufbar sein.\n",
    "- Nur wirklich benötigte Daten sollen gespeichert werden. Redundante Speicherung soll hierbei möglichst vermieden werden.\n",
    "\n",
    "Ein Datenbankentwurfsprozess ist entsprechend durch den Entwurf mehrerer Entwurfsdokumente gekennzeichnet, wie in der Abbildung unten sehen ist. \n",
    "\n",
    "![title](phasenmodell.jpg)\n",
    "\n",
    "\n",
    "Man beginnt mit einer abstrakten textuellen Beschreibung der Daten und endet mit der Realisierung des finalen Datenschemas in einem DBMS. Wir werden in diesem Kapitel die entsprechenden Formalismen und Modellierungssprachen kennen lernen, die so ein Entwurf durchlaufen wird. Da in jedem Entwurfsschritt unsere Datenbankbeschreibung weiterverfeinert wird, gibt es den Anspruch der Informations- und Konsistenzerhaltung."
   ]
  },
  {
   "cell_type": "markdown",
   "metadata": {},
   "source": [
    "### Anforderungsanalyse"
   ]
  },
  {
   "cell_type": "markdown",
   "metadata": {},
   "source": [
    "Der aller erste Schritt des Datenbankentwurfes besteht in der Anforderungsanalyse. Die Methoden hier sind analog zu den Methoden der Anforderungsanalyse in Software-Engineering-Projekten. Insbesondere werden alle Stakeholder und Anwendungsgebiete der und deren Informationsbedarf identifiziert. Das Ergebnis ist eine informelle Beschreibung des Fachproblems. Der klassische Datenbank-Entwurf befasst sich hauptsächlich mit der Datenanalyse (- nicht mit der Funktionsanalyse, welche das Ergebnisdokument von Anforderungsanalyse von Softwaresystemen ist). "
   ]
  },
  {
   "cell_type": "markdown",
   "metadata": {},
   "source": [
    "### Konzeptioneller Entwurf"
   ]
  },
  {
   "cell_type": "markdown",
   "metadata": {},
   "source": [
    "Im nächsten Entwurfsschritt versucht man die informelle Beschreibung der Datenbank zu formalisieren. \n",
    "Hier wird formal der Diskurswelt (Universe of Discourse) festgegelt. Das heißt es wird bestimmt um was es sich bei den Daten handeln soll und wie diese auf reale Objekte in der Welt abgebildet und abgegrenzt werden können. \n",
    "\n",
    "Das Sprachmittel hierbei ist eine Modellierungssprache, die Semantik von Daten ausdrücken kann. Es hat sich bisher die Entity-Relationship-Modellierung durchgesetzt, in der Objekte der Realen Welt als Entitypen und deren Beziehungen als Relationshiptypen modelliert werden können. \n",
    "\n",
    "Gleichzeitig wird in diesem Modellierungsschritt jegliche Mehrdeutigkeiten und Konflikte sinnvoll behoben um ein Gesamtschema zu erhalten, welche von den verschiedenen Anwendungsgebieten genutzt werden kann. Jegliche Konflikte hinsichtlich der Namensgebung, Typisierung, Bedingungen und Strukturierung von Informationen sollten an dieser Stelle behoben werden. \n",
    "\n",
    "Das Ergebnis ist damit ein konzeptionelles Gesamtschema, in der Form eines ER-Diagramms. Wir werden im nächsten Kapitel diese Modellierungssprache genau kennen lernen. "
   ]
  },
  {
   "cell_type": "markdown",
   "metadata": {},
   "source": [
    "### Verteilungsentwurf (Partitionierung)"
   ]
  },
  {
   "cell_type": "markdown",
   "metadata": {},
   "source": [
    "Falls die Anwendung eine Verteilung der Daten erfordert, wird ein Verteilungsentwurf erstellt, welcher beschreibt, wie die Daten verteilten gespeichert werden sollen. Beispielsweise könnte es sinnvoll sein Daten horizontal oder vertikal auf mehreren Maschinen zu verteilen. Das hängt sehr stark vom Anwendungsgebiet und den erwarteten Anfragebelastungen (query work loads) ab. \n"
   ]
  },
  {
   "cell_type": "markdown",
   "metadata": {},
   "source": [
    "### Logischer Entwurf"
   ]
  },
  {
   "cell_type": "markdown",
   "metadata": {},
   "source": [
    "Mit dem konzeptionellen Entwurf ist man generell in der Lage den finalen auf die DBMS ausgewählte Modellierung des sogenannten konzeptionellen Schemas durchzuführen. Gängige Datenmodelle sind hierbei das relationale Modell, Objekt-Orientierte Modelle, JSON, RDF und Schlüssel-Wert-Paare. Für viele diese Modelle gibt es automatisierte Verfahren für die Umwandlung aus dem ER-Modell. Wir werden konkrete Verfahren für die Umwandlung des ER-Modells in das relationale Modell kennen lernen. Das Ergebnis einer solchen Transformation ist ein logisches Schema, z.B. Sammlung von Relationen-schemata, die uns erlauben die Daten tabellarisch abzuspeichern."
   ]
  },
  {
   "cell_type": "markdown",
   "metadata": {},
   "source": [
    "### Datendefinition"
   ]
  },
  {
   "cell_type": "markdown",
   "metadata": {},
   "source": [
    "Ist das Schema definiert kann man das konkrete Schema und die Speicherung von Daten durch sogenannten Data-Definition-Languages umsetzen. Wir werden hierbei konkret die deklarative Sprache SQL kennen lernen. \n",
    "SQL ist eine DDL (data definition language) und DML (data manipulation language) für relationale DBMS wie z.B. Postgres, DB2, SQL Server, ...\n",
    "Der typische Befehl ist hier bei \n",
    "- CREATE TABLE …\n",
    "Im gleichen Ansatz werden auch Anforderungen an die Integritätssicherung der Daten durch Definition von Schlüssel, Fremdschlüssel, Nebenbedingungen, und Datentypen gewährleistet. \n",
    "Zusätzlich können auch konkret die Anwendungssichten für die konkrete Datenbank definiert werden. Typisches Befehl hierzu ist \n",
    "- CREATE VIEW …"
   ]
  },
  {
   "cell_type": "markdown",
   "metadata": {},
   "source": [
    "### Physischer Entwurf"
   ]
  },
  {
   "cell_type": "markdown",
   "metadata": {},
   "source": [
    "■ DBMS nimmt automatisiert physischen Entwurf vor.\n",
    "<br>\n",
    "<br>\n",
    "■ Ergänzen um Zugriffsunterstützung zur Effizienzverbesserung\n",
    "<br>\n",
    "<br>\n",
    "□ z.B. Definition von Indizes\n",
    "<br>\n",
    "□ CREATE INDEX …\n",
    "<br>\n",
    "■ Index\n",
    "<br>\n",
    "□ Datenstruktur für effizienten, Suchschlüssel-basierten Zugriff auf\n",
    "<br>\n",
    "Datensätze\n",
    "<br>\n",
    "(<Schlüsselattributwert, Tupeladresse>)\n",
    "<br>\n",
    "□ Meist als Baumstruktur oder Hashtabelle realisiert\n",
    "<br>\n",
    "<br>\n",
    "■ Beispiel\n",
    "<br>\n",
    "□ Tabelle mit 10 GB Daten\n",
    "<br>\n",
    "□ Festplattentransferrate ca. 50 MB/s\n",
    "<br>\n",
    "□ Operation: Suchen einer Bestellung (Selektion)\n",
    "<br>\n",
    "□ Implementierung: sequentielles Durchsuchen\n",
    "<br>\n",
    "□ Aufwand: 10.240/50 = 205 sec. = 3,5 min."
   ]
  },
  {
   "cell_type": "markdown",
   "metadata": {},
   "source": [
    "### Implementierung und Wartung"
   ]
  },
  {
   "cell_type": "markdown",
   "metadata": {},
   "source": [
    "■ Wartung des DBMS\n",
    "<br>\n",
    "□ Parameter, Festplatten, etc.\n",
    "<br>\n",
    "<br>\n",
    "■ Datenbank Tuning\n",
    "<br>\n",
    "□ Weitere Optimierung der physischen Ebene\n",
    "<br>\n",
    "<br>\n",
    "■ Anpassung an neue Anforderungen\n",
    "<br>\n",
    "<br>\n",
    "■ Anpassung an neue Systemplattformen\n",
    "<br>\n",
    "<br>\n",
    "■ Portierung auf neue Datenbankmanagementsysteme\n",
    "<br>\n",
    "<br>\n",
    "■ Kostenaufwändigste Phase\n",
    "<br>\n",
    "<br>\n",
    "■ Software Engineering"
   ]
  },
  {
   "cell_type": "markdown",
   "metadata": {},
   "source": [
    "## Integrationskonflikte"
   ]
  },
  {
   "cell_type": "markdown",
   "metadata": {},
   "source": [
    "■ Namenskonflikte\n",
    "<br>\n",
    "□ Homonyme: Schloss, Kunde\n",
    "<br>\n",
    "□ Synonyme: Auto, KFZ, Fahrzeug\n",
    "<br>\n",
    "<br>\n",
    "■ Typkonflikte\n",
    "<br>\n",
    "□ Verschiedene Strukturen für das gleiche Element\n",
    "<br>\n",
    "□ String vs. int vs. date\n",
    "<br>\n",
    "<br>\n",
    "■ Wertebereichskonflikte\n",
    "<br>\n",
    "□ Verschiedene Wertebereiche für ein Element\n",
    "<br>\n",
    "□ KW 1 – 52 vs. Januar, Februar, …, Dezember\n",
    "<br>\n",
    "<br>\n",
    "■ Bedingungskonflikte\n",
    "<br>\n",
    "□ z.B. verschiedene Schlüssel für ein Element\n",
    "<br>\n",
    "□ <\\ISBN> vs. <Titel, Autor>\n",
    "<br>\n",
    "<br>\n",
    "■ Strukturkonflikte\n",
    "<br>\n",
    "□ Gleicher Sachverhalt durch unterschiedliche Konstrukte ausgedrückt"
   ]
  },
  {
   "cell_type": "markdown",
   "metadata": {},
   "source": [
    "NICHT enthalten: S.10"
   ]
  }
 ],
 "metadata": {
  "kernelspec": {
   "display_name": "Python 3 (ipykernel)",
   "language": "python",
   "name": "python3"
  },
  "language_info": {
   "codemirror_mode": {
    "name": "ipython",
    "version": 3
   },
   "file_extension": ".py",
   "mimetype": "text/x-python",
   "name": "python",
   "nbconvert_exporter": "python",
   "pygments_lexer": "ipython3",
   "version": "3.9.7"
  }
 },
 "nbformat": 4,
 "nbformat_minor": 4
}
